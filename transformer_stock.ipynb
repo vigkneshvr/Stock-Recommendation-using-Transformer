{
  "nbformat": 4,
  "nbformat_minor": 0,
  "metadata": {
    "colab": {
      "provenance": [],
      "gpuType": "T4",
      "machine_shape": "hm"
    },
    "kernelspec": {
      "name": "python3",
      "display_name": "Python 3"
    },
    "language_info": {
      "name": "python"
    },
    "accelerator": "GPU"
  },
  "cells": [
    {
      "cell_type": "code",
      "source": [
        "\"\"\"\n",
        "use to install TA-lib library in Google Colab\n",
        "\"\"\"\n",
        "\n",
        "# !wget http://prdownloads.sourceforge.net/ta-lib/ta-lib-0.4.0-src.tar.gz\n",
        "# !tar xvzf ta-lib-0.4.0-src.tar.gz\n",
        "\n",
        "# import os\n",
        "# os.chdir('/content/ta-lib') # Can't use !cd in co-lab\n",
        "# !./configure --prefix=/usr\n",
        "# !make\n",
        "# !make install\n",
        "# !pip install TA-Lib"
      ],
      "metadata": {
        "id": "xqCP67TELU8E",
        "colab": {
          "base_uri": "https://localhost:8080/"
        },
        "outputId": "d866a344-3304-475b-90fb-4a38c7f19616"
      },
      "execution_count": 1,
      "outputs": [
        {
          "output_type": "stream",
          "name": "stdout",
          "text": [
            "--2024-06-26 15:31:35--  http://prdownloads.sourceforge.net/ta-lib/ta-lib-0.4.0-src.tar.gz\n",
            "Resolving prdownloads.sourceforge.net (prdownloads.sourceforge.net)... 204.68.111.105\n",
            "Connecting to prdownloads.sourceforge.net (prdownloads.sourceforge.net)|204.68.111.105|:80... connected.\n",
            "HTTP request sent, awaiting response... 301 Moved Permanently\n",
            "Location: http://downloads.sourceforge.net/project/ta-lib/ta-lib/0.4.0/ta-lib-0.4.0-src.tar.gz [following]\n",
            "--2024-06-26 15:31:36--  http://downloads.sourceforge.net/project/ta-lib/ta-lib/0.4.0/ta-lib-0.4.0-src.tar.gz\n",
            "Resolving downloads.sourceforge.net (downloads.sourceforge.net)... 204.68.111.105\n",
            "Reusing existing connection to prdownloads.sourceforge.net:80.\n",
            "HTTP request sent, awaiting response... 302 Found\n",
            "Location: http://nchc.dl.sourceforge.net/project/ta-lib/ta-lib/0.4.0/ta-lib-0.4.0-src.tar.gz?viasf=1 [following]\n",
            "--2024-06-26 15:31:36--  http://nchc.dl.sourceforge.net/project/ta-lib/ta-lib/0.4.0/ta-lib-0.4.0-src.tar.gz?viasf=1\n",
            "Resolving nchc.dl.sourceforge.net (nchc.dl.sourceforge.net)... 140.110.96.69, 2001:e10:ffff:1f02::17\n",
            "Connecting to nchc.dl.sourceforge.net (nchc.dl.sourceforge.net)|140.110.96.69|:80... connected.\n",
            "HTTP request sent, awaiting response... 200 OK\n",
            "Length: 1330299 (1.3M) [application/x-gzip]\n",
            "Saving to: ‘ta-lib-0.4.0-src.tar.gz’\n",
            "\n",
            "ta-lib-0.4.0-src.ta 100%[===================>]   1.27M  7.17MB/s    in 0.2s    \n",
            "\n",
            "2024-06-26 15:31:36 (7.17 MB/s) - ‘ta-lib-0.4.0-src.tar.gz’ saved [1330299/1330299]\n",
            "\n",
            "ta-lib/\n",
            "ta-lib/config.sub\n",
            "ta-lib/aclocal.m4\n",
            "ta-lib/CHANGELOG.TXT\n",
            "ta-lib/include/\n",
            "ta-lib/include/ta_abstract.h\n",
            "ta-lib/include/ta_func.h\n",
            "ta-lib/include/ta_common.h\n",
            "ta-lib/include/ta_config.h.in\n",
            "ta-lib/include/Makefile.am\n",
            "ta-lib/include/ta_libc.h\n",
            "ta-lib/include/ta_defs.h\n",
            "ta-lib/missing\n",
            "ta-lib/ta-lib.spec.in\n",
            "ta-lib/config.guess\n",
            "ta-lib/Makefile.in\n",
            "ta-lib/ta-lib.dpkg.in\n",
            "ta-lib/Makefile.am\n",
            "ta-lib/autogen.sh\n",
            "ta-lib/install-sh\n",
            "ta-lib/configure\n",
            "ta-lib/depcomp\n",
            "ta-lib/HISTORY.TXT\n",
            "ta-lib/configure.in\n",
            "ta-lib/autom4te.cache/\n",
            "ta-lib/autom4te.cache/output.0\n",
            "ta-lib/autom4te.cache/requests\n",
            "ta-lib/autom4te.cache/output.1\n",
            "ta-lib/autom4te.cache/traces.0\n",
            "ta-lib/autom4te.cache/traces.1\n",
            "ta-lib/ltmain.sh\n",
            "ta-lib/ta-lib-config.in\n",
            "ta-lib/src/\n",
            "ta-lib/src/ta_func/\n",
            "ta-lib/src/ta_func/ta_MACDFIX.c\n",
            "ta-lib/src/ta_func/ta_CDLPIERCING.c\n",
            "ta-lib/src/ta_func/ta_DIV.c\n",
            "ta-lib/src/ta_func/ta_ROCR100.c\n",
            "ta-lib/src/ta_func/ta_ADXR.c\n",
            "ta-lib/src/ta_func/ta_MAVP.c\n",
            "ta-lib/src/ta_func/ta_CDLCLOSINGMARUBOZU.c\n",
            "ta-lib/src/ta_func/ta_COSH.c\n",
            "ta-lib/src/ta_func/ta_EXP.c\n",
            "ta-lib/src/ta_func/ta_MINMAXINDEX.c\n",
            "ta-lib/src/ta_func/ta_SQRT.c\n",
            "ta-lib/src/ta_func/ta_FLOOR.c\n",
            "ta-lib/src/ta_func/ta_CDLCONCEALBABYSWALL.c\n",
            "ta-lib/src/ta_func/ta_NATR.c\n",
            "ta-lib/src/ta_func/ta_CDLHARAMICROSS.c\n",
            "ta-lib/src/ta_func/ta_MINUS_DM.c\n",
            "ta-lib/src/ta_func/ta_LOG10.c\n",
            "ta-lib/src/ta_func/ta_LINEARREG_ANGLE.c\n",
            "ta-lib/src/ta_func/ta_RSI.c\n",
            "ta-lib/src/ta_func/ta_CDLABANDONEDBABY.c\n",
            "ta-lib/src/ta_func/ta_SAR.c\n",
            "ta-lib/src/ta_func/ta_CDLBREAKAWAY.c\n",
            "ta-lib/src/ta_func/ta_CDLDRAGONFLYDOJI.c\n",
            "ta-lib/src/ta_func/ta_CDLHIGHWAVE.c\n",
            "ta-lib/src/ta_func/ta_CDLKICKING.c\n",
            "ta-lib/src/ta_func/ta_CDLDOJISTAR.c\n",
            "ta-lib/src/ta_func/ta_VAR.c\n",
            "ta-lib/src/ta_func/ta_CDLMATCHINGLOW.c\n",
            "ta-lib/src/ta_func/ta_CDLGAPSIDESIDEWHITE.c\n",
            "ta-lib/src/ta_func/ta_CDLMARUBOZU.c\n",
            "ta-lib/src/ta_func/ta_AROONOSC.c\n",
            "ta-lib/src/ta_func/ta_WCLPRICE.c\n",
            "ta-lib/src/ta_func/ta_CDLEVENINGDOJISTAR.c\n",
            "ta-lib/src/ta_func/ta_CDL3INSIDE.c\n",
            "ta-lib/src/ta_func/ta_OBV.c\n",
            "ta-lib/src/ta_func/ta_AROON.c\n",
            "ta-lib/src/ta_func/ta_CDLBELTHOLD.c\n",
            "ta-lib/src/ta_func/ta_CDLSPINNINGTOP.c\n",
            "ta-lib/src/ta_func/ta_AD.c\n",
            "ta-lib/src/ta_func/ta_MAX.c\n",
            "ta-lib/src/ta_func/ta_CDLENGULFING.c\n",
            "ta-lib/src/ta_func/ta_MINMAX.c\n",
            "ta-lib/src/ta_func/ta_CDLINNECK.c\n",
            "ta-lib/src/ta_func/ta_STDDEV.c\n",
            "ta-lib/src/ta_func/ta_NVI.c\n",
            "ta-lib/src/ta_func/ta_CDLHAMMER.c\n",
            "ta-lib/src/ta_func/ta_ASIN.c\n",
            "ta-lib/src/ta_func/ta_SUM.c\n",
            "ta-lib/src/ta_func/ta_STOCH.c\n",
            "ta-lib/src/ta_func/ta_CDLLONGLEGGEDDOJI.c\n",
            "ta-lib/src/ta_func/ta_MEDPRICE.c\n",
            "ta-lib/src/ta_func/ta_CDL3STARSINSOUTH.c\n",
            "ta-lib/src/ta_func/ta_HT_TRENDMODE.c\n",
            "ta-lib/src/ta_func/ta_BBANDS.c\n",
            "ta-lib/src/ta_func/ta_CDLMORNINGSTAR.c\n",
            "ta-lib/src/ta_func/ta_HT_DCPHASE.c\n",
            "ta-lib/src/ta_func/ta_CDLLONGLINE.c\n",
            "ta-lib/src/ta_func/ta_TAN.c\n",
            "ta-lib/src/ta_func/ta_SMA.c\n",
            "ta-lib/src/ta_func/ta_DX.c\n",
            "ta-lib/src/ta_func/ta_MIDPOINT.c\n",
            "ta-lib/src/ta_func/ta_CDL2CROWS.c\n",
            "ta-lib/src/ta_func/ta_CORREL.c\n",
            "ta-lib/src/ta_func/ta_CDL3BLACKCROWS.c\n",
            "ta-lib/src/ta_func/ta_ADD.c\n",
            "ta-lib/src/ta_func/Makefile.in\n",
            "ta-lib/src/ta_func/ta_CDLTHRUSTING.c\n",
            "ta-lib/src/ta_func/ta_SUB.c\n",
            "ta-lib/src/ta_func/ta_CDLSTALLEDPATTERN.c\n",
            "ta-lib/src/ta_func/ta_CDLTRISTAR.c\n",
            "ta-lib/src/ta_func/ta_MA.c\n",
            "ta-lib/src/ta_func/ta_HT_SINE.c\n",
            "ta-lib/src/ta_func/ta_ACOS.c\n",
            "ta-lib/src/ta_func/ta_CDLSTICKSANDWICH.c\n",
            "ta-lib/src/ta_func/ta_SINH.c\n",
            "ta-lib/src/ta_func/ta_utility.h\n",
            "ta-lib/src/ta_func/ta_CDLSHORTLINE.c\n",
            "ta-lib/src/ta_func/ta_ATAN.c\n",
            "ta-lib/src/ta_func/ta_CDLADVANCEBLOCK.c\n",
            "ta-lib/src/ta_func/ta_CDLKICKINGBYLENGTH.c\n",
            "ta-lib/src/ta_func/ta_CDLSHOOTINGSTAR.c\n",
            "ta-lib/src/ta_func/ta_ROCR.c\n",
            "ta-lib/src/ta_func/ta_WMA.c\n",
            "ta-lib/src/ta_func/ta_CDLDARKCLOUDCOVER.c\n",
            "ta-lib/src/ta_func/ta_CDLXSIDEGAP3METHODS.c\n",
            "ta-lib/src/ta_func/ta_TYPPRICE.c\n",
            "ta-lib/src/ta_func/ta_CDL3WHITESOLDIERS.c\n",
            "ta-lib/src/ta_func/Makefile.am\n",
            "ta-lib/src/ta_func/ta_MACDEXT.c\n",
            "ta-lib/src/ta_func/ta_ADX.c\n",
            "ta-lib/src/ta_func/ta_PLUS_DM.c\n",
            "ta-lib/src/ta_func/ta_CDLUPSIDEGAP2CROWS.c\n",
            "ta-lib/src/ta_func/ta_LN.c\n",
            "ta-lib/src/ta_func/ta_DEMA.c\n",
            "ta-lib/src/ta_func/ta_CDL3OUTSIDE.c\n",
            "ta-lib/src/ta_func/ta_CDLTASUKIGAP.c\n",
            "ta-lib/src/ta_func/ta_MAMA.c\n",
            "ta-lib/src/ta_func/ta_CDLMORNINGDOJISTAR.c\n",
            "ta-lib/src/ta_func/ta_PLUS_DI.c\n",
            "ta-lib/src/ta_func/ta_MININDEX.c\n",
            "ta-lib/src/ta_func/ta_COS.c\n",
            "ta-lib/src/ta_func/ta_HT_TRENDLINE.c\n",
            "ta-lib/src/ta_func/ta_MIDPRICE.c\n",
            "ta-lib/src/ta_func/ta_CEIL.c\n",
            "ta-lib/src/ta_func/ta_TRIMA.c\n",
            "ta-lib/src/ta_func/ta_CDLSEPARATINGLINES.c\n",
            "ta-lib/src/ta_func/ta_ROCP.c\n",
            "ta-lib/src/ta_func/ta_CDLHOMINGPIGEON.c\n",
            "ta-lib/src/ta_func/ta_CDLHANGINGMAN.c\n",
            "ta-lib/src/ta_func/ta_AVGPRICE.c\n",
            "ta-lib/src/ta_func/ta_APO.c\n",
            "ta-lib/src/ta_func/ta_CDLRISEFALL3METHODS.c\n",
            "ta-lib/src/ta_func/ta_TRANGE.c\n",
            "ta-lib/src/ta_func/ta_TSF.c\n",
            "ta-lib/src/ta_func/ta_LINEARREG.c\n",
            "ta-lib/src/ta_func/ta_PVI.c\n",
            "ta-lib/src/ta_func/ta_CDLHIKKAKEMOD.c\n",
            "ta-lib/src/ta_func/ta_MFI.c\n",
            "ta-lib/src/ta_func/ta_CDLHARAMI.c\n",
            "ta-lib/src/ta_func/ta_MACD.c\n",
            "ta-lib/src/ta_func/ta_BETA.c\n",
            "ta-lib/src/ta_func/ta_CDLINVERTEDHAMMER.c\n",
            "ta-lib/src/ta_func/ta_LINEARREG_SLOPE.c\n",
            "ta-lib/src/ta_func/ta_STOCHF.c\n",
            "ta-lib/src/ta_func/ta_MIN.c\n",
            "ta-lib/src/ta_func/ta_CDLIDENTICAL3CROWS.c\n",
            "ta-lib/src/ta_func/ta_CDLRICKSHAWMAN.c\n",
            "ta-lib/src/ta_func/ta_T3.c\n",
            "ta-lib/src/ta_func/ta_CDLMATHOLD.c\n",
            "ta-lib/src/ta_func/ta_CDLUNIQUE3RIVER.c\n",
            "ta-lib/src/ta_func/ta_ADOSC.c\n",
            "ta-lib/src/ta_func/ta_MAXINDEX.c\n",
            "ta-lib/src/ta_func/ta_ULTOSC.c\n",
            "ta-lib/src/ta_func/ta_TRIX.c\n",
            "ta-lib/src/ta_func/ta_MOM.c\n",
            "ta-lib/src/ta_func/ta_CDLDOJI.c\n",
            "ta-lib/src/ta_func/ta_EMA.c\n",
            "ta-lib/src/ta_func/ta_STOCHRSI.c\n",
            "ta-lib/src/ta_func/ta_ROC.c\n",
            "ta-lib/src/ta_func/ta_CDLEVENINGSTAR.c\n",
            "ta-lib/src/ta_func/ta_CDLCOUNTERATTACK.c\n",
            "ta-lib/src/ta_func/ta_LINEARREG_INTERCEPT.c\n",
            "ta-lib/src/ta_func/ta_SAREXT.c\n",
            "ta-lib/src/ta_func/ta_WILLR.c\n",
            "ta-lib/src/ta_func/ta_MULT.c\n",
            "ta-lib/src/ta_func/ta_ATR.c\n",
            "ta-lib/src/ta_func/ta_BOP.c\n",
            "ta-lib/src/ta_func/ta_CMO.c\n",
            "ta-lib/src/ta_func/ta_CDLONNECK.c\n",
            "ta-lib/src/ta_func/ta_CCI.c\n",
            "ta-lib/src/ta_func/ta_CDLLADDERBOTTOM.c\n",
            "ta-lib/src/ta_func/ta_HT_PHASOR.c\n",
            "ta-lib/src/ta_func/ta_utility.c\n",
            "ta-lib/src/ta_func/ta_PPO.c\n",
            "ta-lib/src/ta_func/ta_CDLHIKKAKE.c\n",
            "ta-lib/src/ta_func/ta_HT_DCPERIOD.c\n",
            "ta-lib/src/ta_func/ta_CDL3LINESTRIKE.c\n",
            "ta-lib/src/ta_func/ta_TEMA.c\n",
            "ta-lib/src/ta_func/ta_SIN.c\n",
            "ta-lib/src/ta_func/ta_MINUS_DI.c\n",
            "ta-lib/src/ta_func/ta_KAMA.c\n",
            "ta-lib/src/ta_func/ta_TANH.c\n",
            "ta-lib/src/ta_func/ta_CDLTAKURI.c\n",
            "ta-lib/src/ta_func/ta_CDLGRAVESTONEDOJI.c\n",
            "ta-lib/src/ta_common/\n",
            "ta-lib/src/ta_common/ta_pragma.h\n",
            "ta-lib/src/ta_common/ta_magic_nb.h\n",
            "ta-lib/src/ta_common/ta_retcode.csv\n",
            "ta-lib/src/ta_common/Makefile.in\n",
            "ta-lib/src/ta_common/Makefile.am\n",
            "ta-lib/src/ta_common/ta_memory.h\n",
            "ta-lib/src/ta_common/ta_version.c\n",
            "ta-lib/src/ta_common/ta_global.h\n",
            "ta-lib/src/ta_common/ta_global.c\n",
            "ta-lib/src/ta_common/ta_retcode.c\n",
            "ta-lib/src/Makefile.in\n",
            "ta-lib/src/ta_abstract/\n",
            "ta-lib/src/ta_abstract/frames/\n",
            "ta-lib/src/ta_abstract/frames/ta_frame.c\n",
            "ta-lib/src/ta_abstract/frames/ta_frame.h\n",
            "ta-lib/src/ta_abstract/excel_glue.c\n",
            "ta-lib/src/ta_abstract/ta_frame_priv.h\n",
            "ta-lib/src/ta_abstract/ta_func_api.c\n",
            "ta-lib/src/ta_abstract/Makefile.in\n",
            "ta-lib/src/ta_abstract/ta_def_ui.h\n",
            "ta-lib/src/ta_abstract/Makefile.am\n",
            "ta-lib/src/ta_abstract/ta_abstract.c\n",
            "ta-lib/src/ta_abstract/ta_group_idx.c\n",
            "ta-lib/src/ta_abstract/tables/\n",
            "ta-lib/src/ta_abstract/tables/table_u.c\n",
            "ta-lib/src/ta_abstract/tables/table_x.c\n",
            "ta-lib/src/ta_abstract/tables/table_r.c\n",
            "ta-lib/src/ta_abstract/tables/table_f.c\n",
            "ta-lib/src/ta_abstract/tables/table_j.c\n",
            "ta-lib/src/ta_abstract/tables/table_e.c\n",
            "ta-lib/src/ta_abstract/tables/table_t.c\n",
            "ta-lib/src/ta_abstract/tables/table_n.c\n",
            "ta-lib/src/ta_abstract/tables/table_i.c\n",
            "ta-lib/src/ta_abstract/tables/table_c.c\n",
            "ta-lib/src/ta_abstract/tables/table_l.c\n",
            "ta-lib/src/ta_abstract/tables/table_k.c\n",
            "ta-lib/src/ta_abstract/tables/table_g.c\n",
            "ta-lib/src/ta_abstract/tables/table_d.c\n",
            "ta-lib/src/ta_abstract/tables/table_h.c\n",
            "ta-lib/src/ta_abstract/tables/table_o.c\n",
            "ta-lib/src/ta_abstract/tables/table_b.c\n",
            "ta-lib/src/ta_abstract/tables/table_q.c\n",
            "ta-lib/src/ta_abstract/tables/table_v.c\n",
            "ta-lib/src/ta_abstract/tables/table_m.c\n",
            "ta-lib/src/ta_abstract/tables/table_s.c\n",
            "ta-lib/src/ta_abstract/tables/table_y.c\n",
            "ta-lib/src/ta_abstract/tables/table_p.c\n",
            "ta-lib/src/ta_abstract/tables/table_z.c\n",
            "ta-lib/src/ta_abstract/tables/table_a.c\n",
            "ta-lib/src/ta_abstract/tables/table_w.c\n",
            "ta-lib/src/ta_abstract/ta_def_ui.c\n",
            "ta-lib/src/ta_abstract/templates/\n",
            "ta-lib/src/ta_abstract/templates/ta_x.c.template\n",
            "ta-lib/src/ta_abstract/templates/ta_java_defs.h.template\n",
            "ta-lib/src/ta_abstract/templates/excel_glue.c.template\n",
            "ta-lib/src/ta_abstract/templates/ta_group_idx.c.template\n",
            "ta-lib/src/ta_abstract/templates/ta_frame.c.template\n",
            "ta-lib/src/ta_abstract/templates/CoreAnnotated.java.template\n",
            "ta-lib/src/ta_abstract/templates/ta_func.h.template\n",
            "ta-lib/src/ta_abstract/templates/ta_frame.h.template\n",
            "ta-lib/src/ta_abstract/templates/Makefile.am.template\n",
            "ta-lib/src/ta_abstract/templates/ta_func_api.c.template\n",
            "ta-lib/src/ta_abstract/templates/ta_func.swg.template\n",
            "ta-lib/src/ta_abstract/templates/ta_retcode.c.template\n",
            "ta-lib/src/ta_abstract/ta_java_defs.h\n",
            "ta-lib/src/Makefile.am\n",
            "ta-lib/src/tools/\n",
            "ta-lib/src/tools/ta_regtest/\n",
            "ta-lib/src/tools/ta_regtest/test_util.c\n",
            "ta-lib/src/tools/ta_regtest/ta_test_func.h\n",
            "ta-lib/src/tools/ta_regtest/test_data.c\n",
            "ta-lib/src/tools/ta_regtest/ta_gDataHigh.c\n",
            "ta-lib/src/tools/ta_regtest/Makefile.in\n",
            "ta-lib/src/tools/ta_regtest/test_internals.c\n",
            "ta-lib/src/tools/ta_regtest/Makefile.am\n",
            "ta-lib/src/tools/ta_regtest/ta_regtest.c\n",
            "ta-lib/src/tools/ta_regtest/ta_gDataOpen.c\n",
            "ta-lib/src/tools/ta_regtest/ta_gDataClose.c\n",
            "ta-lib/src/tools/ta_regtest/test_abstract.c\n",
            "ta-lib/src/tools/ta_regtest/ta_test_func/\n",
            "ta-lib/src/tools/ta_regtest/ta_test_func/test_bbands.c\n",
            "ta-lib/src/tools/ta_regtest/ta_test_func/test_stddev.c\n",
            "ta-lib/src/tools/ta_regtest/ta_test_func/test_1in_2out.c\n",
            "ta-lib/src/tools/ta_regtest/ta_test_func/test_sar.c\n",
            "ta-lib/src/tools/ta_regtest/ta_test_func/test_1in_1out.c\n",
            "ta-lib/src/tools/ta_regtest/ta_test_func/test_trange.c\n",
            "ta-lib/src/tools/ta_regtest/ta_test_func/test_macd.c\n",
            "ta-lib/src/tools/ta_regtest/ta_test_func/test_po.c\n",
            "ta-lib/src/tools/ta_regtest/ta_test_func/test_per_hlc.c\n",
            "ta-lib/src/tools/ta_regtest/ta_test_func/test_mom.c\n",
            "ta-lib/src/tools/ta_regtest/ta_test_func/test_per_ohlc.c\n",
            "ta-lib/src/tools/ta_regtest/ta_test_func/test_adx.c\n",
            "ta-lib/src/tools/ta_regtest/ta_test_func/test_candlestick.c\n",
            "ta-lib/src/tools/ta_regtest/ta_test_func/test_rsi.c\n",
            "ta-lib/src/tools/ta_regtest/ta_test_func/test_per_ema.c\n",
            "ta-lib/src/tools/ta_regtest/ta_test_func/test_minmax.c\n",
            "ta-lib/src/tools/ta_regtest/ta_test_func/test_per_hlcv.c\n",
            "ta-lib/src/tools/ta_regtest/ta_test_func/test_per_hl.c\n",
            "ta-lib/src/tools/ta_regtest/ta_test_func/test_stoch.c\n",
            "ta-lib/src/tools/ta_regtest/ta_test_func/test_ma.c\n",
            "ta-lib/src/tools/ta_regtest/ta_error_number.h\n",
            "ta-lib/src/tools/ta_regtest/ta_test_priv.h\n",
            "ta-lib/src/tools/ta_regtest/ReadMe.txt\n",
            "ta-lib/src/tools/ta_regtest/ta_gDataLow.c\n",
            "ta-lib/src/tools/Makefile.in\n",
            "ta-lib/src/tools/Makefile.am\n",
            "ta-lib/src/tools/gen_code/\n",
            "ta-lib/src/tools/gen_code/java/\n",
            "ta-lib/src/tools/gen_code/java/PrettyCode.java\n",
            "ta-lib/src/tools/gen_code/java/Main.java\n",
            "ta-lib/src/tools/gen_code/gen_code.c\n",
            "ta-lib/src/tools/gen_code/Makefile.in\n",
            "ta-lib/src/tools/gen_code/Makefile.am\n",
            "ta-lib/src/tools/gen_code/mcpp.exe\n",
            "checking for a BSD-compatible install... /usr/bin/install -c\n",
            "checking whether build environment is sane... yes\n",
            "checking for a thread-safe mkdir -p... /usr/bin/mkdir -p\n",
            "checking for gawk... no\n",
            "checking for mawk... mawk\n",
            "checking whether make sets $(MAKE)... yes\n",
            "checking for gcc... gcc\n",
            "checking for C compiler default output file name... a.out\n",
            "checking whether the C compiler works... yes\n",
            "checking whether we are cross compiling... no\n",
            "checking for suffix of executables... \n",
            "checking for suffix of object files... o\n",
            "checking whether we are using the GNU C compiler... yes\n",
            "checking whether gcc accepts -g... yes\n",
            "checking for gcc option to accept ISO C89... none needed\n",
            "checking for style of include used by make... GNU\n",
            "checking dependency style of gcc... gcc3\n",
            "checking build system type... x86_64-unknown-linux-gnu\n",
            "checking host system type... x86_64-unknown-linux-gnu\n",
            "checking for a sed that does not truncate output... /usr/bin/sed\n",
            "checking for grep that handles long lines and -e... /usr/bin/grep\n",
            "checking for egrep... /usr/bin/grep -E\n",
            "checking for ld used by gcc... /usr/bin/ld\n",
            "checking if the linker (/usr/bin/ld) is GNU ld... yes\n",
            "checking for /usr/bin/ld option to reload object files... -r\n",
            "checking for BSD-compatible nm... /usr/bin/nm -B\n",
            "checking whether ln -s works... yes\n",
            "checking how to recognise dependent libraries... pass_all\n",
            "checking how to run the C preprocessor... gcc -E\n",
            "checking for ANSI C header files... yes\n",
            "checking for sys/types.h... yes\n",
            "checking for sys/stat.h... yes\n",
            "checking for stdlib.h... yes\n",
            "checking for string.h... yes\n",
            "checking for memory.h... yes\n",
            "checking for strings.h... yes\n",
            "checking for inttypes.h... yes\n",
            "checking for stdint.h... yes\n",
            "checking for unistd.h... yes\n",
            "checking dlfcn.h usability... yes\n",
            "checking dlfcn.h presence... yes\n",
            "checking for dlfcn.h... yes\n",
            "checking for g++... g++\n",
            "checking whether we are using the GNU C++ compiler... yes\n",
            "checking whether g++ accepts -g... yes\n",
            "checking dependency style of g++... gcc3\n",
            "checking how to run the C++ preprocessor... g++ -E\n",
            "checking for g77... no\n",
            "checking for xlf... no\n",
            "checking for f77... f77\n",
            "checking whether we are using the GNU Fortran 77 compiler... yes\n",
            "checking whether f77 accepts -g... yes\n",
            "checking the maximum length of command line arguments... 32768\n",
            "checking command to parse /usr/bin/nm -B output from gcc object... ok\n",
            "checking for objdir... .libs\n",
            "checking for ar... ar\n",
            "checking for ranlib... ranlib\n",
            "checking for strip... strip\n",
            "checking if gcc supports -fno-rtti -fno-exceptions... no\n",
            "checking for gcc option to produce PIC... -fPIC\n",
            "checking if gcc PIC flag -fPIC works... yes\n",
            "checking if gcc static flag -static works... yes\n",
            "checking if gcc supports -c -o file.o... yes\n",
            "checking whether the gcc linker (/usr/bin/ld -m elf_x86_64) supports shared libraries... yes\n",
            "checking whether -lc should be explicitly linked in... no\n",
            "checking dynamic linker characteristics... GNU/Linux ld.so\n",
            "checking how to hardcode library paths into programs... immediate\n",
            "checking whether stripping libraries is possible... yes\n",
            "checking if libtool supports shared libraries... yes\n",
            "checking whether to build shared libraries... yes\n",
            "checking whether to build static libraries... yes\n",
            "configure: creating libtool\n",
            "appending configuration tag \"CXX\" to libtool\n",
            "checking for ld used by g++... /usr/bin/ld -m elf_x86_64\n",
            "checking if the linker (/usr/bin/ld -m elf_x86_64) is GNU ld... yes\n",
            "checking whether the g++ linker (/usr/bin/ld -m elf_x86_64) supports shared libraries... yes\n",
            "checking for g++ option to produce PIC... -fPIC\n",
            "checking if g++ PIC flag -fPIC works... yes\n",
            "checking if g++ static flag -static works... yes\n",
            "checking if g++ supports -c -o file.o... yes\n",
            "checking whether the g++ linker (/usr/bin/ld -m elf_x86_64) supports shared libraries... yes\n",
            "checking dynamic linker characteristics... GNU/Linux ld.so\n",
            "checking how to hardcode library paths into programs... immediate\n",
            "appending configuration tag \"F77\" to libtool\n",
            "checking if libtool supports shared libraries... yes\n",
            "checking whether to build shared libraries... yes\n",
            "checking whether to build static libraries... yes\n",
            "checking for f77 option to produce PIC... -fPIC\n",
            "checking if f77 PIC flag -fPIC works... yes\n",
            "checking if f77 static flag -static works... yes\n",
            "checking if f77 supports -c -o file.o... yes\n",
            "checking whether the f77 linker (/usr/bin/ld -m elf_x86_64) supports shared libraries... yes\n",
            "checking dynamic linker characteristics... GNU/Linux ld.so\n",
            "checking how to hardcode library paths into programs... immediate\n",
            "checking for dlopen in -ldl... yes\n",
            "checking for pthread_create in -lpthread... yes\n",
            "checking for ANSI C header files... (cached) yes\n",
            "checking float.h usability... yes\n",
            "checking float.h presence... yes\n",
            "checking for float.h... yes\n",
            "checking for inttypes.h... (cached) yes\n",
            "checking limits.h usability... yes\n",
            "checking limits.h presence... yes\n",
            "checking for limits.h... yes\n",
            "checking locale.h usability... yes\n",
            "checking locale.h presence... yes\n",
            "checking for locale.h... yes\n",
            "checking stddef.h usability... yes\n",
            "checking stddef.h presence... yes\n",
            "checking for stddef.h... yes\n",
            "checking for stdint.h... (cached) yes\n",
            "checking for stdlib.h... (cached) yes\n",
            "checking for string.h... (cached) yes\n",
            "checking for unistd.h... (cached) yes\n",
            "checking wchar.h usability... yes\n",
            "checking wchar.h presence... yes\n",
            "checking for wchar.h... yes\n",
            "checking wctype.h usability... yes\n",
            "checking wctype.h presence... yes\n",
            "checking for wctype.h... yes\n",
            "checking for an ANSI C-conforming const... yes\n",
            "checking for size_t... yes\n",
            "checking whether struct tm is in sys/time.h or time.h... time.h\n",
            "checking for working volatile... yes\n",
            "checking for ptrdiff_t... yes\n",
            "checking return type of signal handlers... void\n",
            "checking for working strcoll... yes\n",
            "checking for strftime... yes\n",
            "checking for working strtod... yes\n",
            "checking for vprintf... yes\n",
            "checking for _doprnt... no\n",
            "checking for floor... no\n",
            "checking for isascii... yes\n",
            "checking for localeconv... yes\n",
            "checking for mblen... yes\n",
            "checking for memmove... yes\n",
            "checking for memset... yes\n",
            "checking for modf... yes\n",
            "checking for pow... no\n",
            "checking for sqrt... no\n",
            "checking for strcasecmp... yes\n",
            "checking for strchr... yes\n",
            "checking for strerror... yes\n",
            "checking for strncasecmp... yes\n",
            "checking for strrchr... yes\n",
            "checking for strstr... yes\n",
            "checking for strtol... yes\n",
            "checking for strtoul... yes\n",
            "configure: creating ./config.status\n",
            "config.status: creating Makefile\n",
            "config.status: creating src/Makefile\n",
            "config.status: creating src/ta_abstract/Makefile\n",
            "config.status: creating src/ta_common/Makefile\n",
            "config.status: creating src/ta_func/Makefile\n",
            "config.status: creating src/tools/Makefile\n",
            "config.status: creating src/tools/gen_code/Makefile\n",
            "config.status: creating src/tools/ta_regtest/Makefile\n",
            "config.status: creating ta-lib-config\n",
            "config.status: creating ta-lib.spec\n",
            "config.status: creating ta-lib.dpkg\n",
            "config.status: creating include/ta_config.h\n",
            "config.status: executing depfiles commands\n",
            "Making all in src\n",
            "make[1]: Entering directory '/content/ta-lib/src'\n",
            "Making all in ta_abstract\n",
            "make[2]: Entering directory '/content/ta-lib/src/ta_abstract'\n",
            "/bin/bash ../../libtool --tag=CC   --mode=compile gcc -DHAVE_CONFIG_H -I. -I../../include  -I../ta_common/ -Iframes/   -g -O2 -MT libta_abstract_la-ta_group_idx.lo -MD -MP -MF .deps/libta_abstract_la-ta_group_idx.Tpo -c -o libta_abstract_la-ta_group_idx.lo `test -f 'ta_group_idx.c' || echo './'`ta_group_idx.c\n",
            "mkdir .libs\n",
            " gcc -DHAVE_CONFIG_H -I. -I../../include -I../ta_common/ -Iframes/ -g -O2 -MT libta_abstract_la-ta_group_idx.lo -MD -MP -MF .deps/libta_abstract_la-ta_group_idx.Tpo -c ta_group_idx.c  -fPIC -DPIC -o .libs/libta_abstract_la-ta_group_idx.o\n",
            " gcc -DHAVE_CONFIG_H -I. -I../../include -I../ta_common/ -Iframes/ -g -O2 -MT libta_abstract_la-ta_group_idx.lo -MD -MP -MF .deps/libta_abstract_la-ta_group_idx.Tpo -c ta_group_idx.c -o libta_abstract_la-ta_group_idx.o >/dev/null 2>&1\n",
            "mv -f .deps/libta_abstract_la-ta_group_idx.Tpo .deps/libta_abstract_la-ta_group_idx.Plo\n",
            "/bin/bash ../../libtool --tag=CC   --mode=compile gcc -DHAVE_CONFIG_H -I. -I../../include  -I../ta_common/ -Iframes/   -g -O2 -MT libta_abstract_la-ta_def_ui.lo -MD -MP -MF .deps/libta_abstract_la-ta_def_ui.Tpo -c -o libta_abstract_la-ta_def_ui.lo `test -f 'ta_def_ui.c' || echo './'`ta_def_ui.c\n",
            " gcc -DHAVE_CONFIG_H -I. -I../../include -I../ta_common/ -Iframes/ -g -O2 -MT libta_abstract_la-ta_def_ui.lo -MD -MP -MF .deps/libta_abstract_la-ta_def_ui.Tpo -c ta_def_ui.c  -fPIC -DPIC -o .libs/libta_abstract_la-ta_def_ui.o\n",
            " gcc -DHAVE_CONFIG_H -I. -I../../include -I../ta_common/ -Iframes/ -g -O2 -MT libta_abstract_la-ta_def_ui.lo -MD -MP -MF .deps/libta_abstract_la-ta_def_ui.Tpo -c ta_def_ui.c -o libta_abstract_la-ta_def_ui.o >/dev/null 2>&1\n",
            "mv -f .deps/libta_abstract_la-ta_def_ui.Tpo .deps/libta_abstract_la-ta_def_ui.Plo\n",
            "/bin/bash ../../libtool --tag=CC   --mode=compile gcc -DHAVE_CONFIG_H -I. -I../../include  -I../ta_common/ -Iframes/   -g -O2 -MT libta_abstract_la-ta_abstract.lo -MD -MP -MF .deps/libta_abstract_la-ta_abstract.Tpo -c -o libta_abstract_la-ta_abstract.lo `test -f 'ta_abstract.c' || echo './'`ta_abstract.c\n",
            " gcc -DHAVE_CONFIG_H -I. -I../../include -I../ta_common/ -Iframes/ -g -O2 -MT libta_abstract_la-ta_abstract.lo -MD -MP -MF .deps/libta_abstract_la-ta_abstract.Tpo -c ta_abstract.c  -fPIC -DPIC -o .libs/libta_abstract_la-ta_abstract.o\n",
            " gcc -DHAVE_CONFIG_H -I. -I../../include -I../ta_common/ -Iframes/ -g -O2 -MT libta_abstract_la-ta_abstract.lo -MD -MP -MF .deps/libta_abstract_la-ta_abstract.Tpo -c ta_abstract.c -o libta_abstract_la-ta_abstract.o >/dev/null 2>&1\n",
            "mv -f .deps/libta_abstract_la-ta_abstract.Tpo .deps/libta_abstract_la-ta_abstract.Plo\n",
            "/bin/bash ../../libtool --tag=CC   --mode=compile gcc -DHAVE_CONFIG_H -I. -I../../include  -I../ta_common/ -Iframes/   -g -O2 -MT libta_abstract_la-ta_func_api.lo -MD -MP -MF .deps/libta_abstract_la-ta_func_api.Tpo -c -o libta_abstract_la-ta_func_api.lo `test -f 'ta_func_api.c' || echo './'`ta_func_api.c\n",
            " gcc -DHAVE_CONFIG_H -I. -I../../include -I../ta_common/ -Iframes/ -g -O2 -MT libta_abstract_la-ta_func_api.lo -MD -MP -MF .deps/libta_abstract_la-ta_func_api.Tpo -c ta_func_api.c  -fPIC -DPIC -o .libs/libta_abstract_la-ta_func_api.o\n",
            " gcc -DHAVE_CONFIG_H -I. -I../../include -I../ta_common/ -Iframes/ -g -O2 -MT libta_abstract_la-ta_func_api.lo -MD -MP -MF .deps/libta_abstract_la-ta_func_api.Tpo -c ta_func_api.c -o libta_abstract_la-ta_func_api.o >/dev/null 2>&1\n",
            "mv -f .deps/libta_abstract_la-ta_func_api.Tpo .deps/libta_abstract_la-ta_func_api.Plo\n",
            "/bin/bash ../../libtool --tag=CC   --mode=compile gcc -DHAVE_CONFIG_H -I. -I../../include  -I../ta_common/ -Iframes/   -g -O2 -MT libta_abstract_la-ta_frame.lo -MD -MP -MF .deps/libta_abstract_la-ta_frame.Tpo -c -o libta_abstract_la-ta_frame.lo `test -f 'frames/ta_frame.c' || echo './'`frames/ta_frame.c\n",
            " gcc -DHAVE_CONFIG_H -I. -I../../include -I../ta_common/ -Iframes/ -g -O2 -MT libta_abstract_la-ta_frame.lo -MD -MP -MF .deps/libta_abstract_la-ta_frame.Tpo -c frames/ta_frame.c  -fPIC -DPIC -o .libs/libta_abstract_la-ta_frame.o\n",
            " gcc -DHAVE_CONFIG_H -I. -I../../include -I../ta_common/ -Iframes/ -g -O2 -MT libta_abstract_la-ta_frame.lo -MD -MP -MF .deps/libta_abstract_la-ta_frame.Tpo -c frames/ta_frame.c -o libta_abstract_la-ta_frame.o >/dev/null 2>&1\n",
            "mv -f .deps/libta_abstract_la-ta_frame.Tpo .deps/libta_abstract_la-ta_frame.Plo\n",
            "/bin/bash ../../libtool --tag=CC   --mode=compile gcc -DHAVE_CONFIG_H -I. -I../../include  -I../ta_common/ -Iframes/   -g -O2 -MT libta_abstract_la-table_a.lo -MD -MP -MF .deps/libta_abstract_la-table_a.Tpo -c -o libta_abstract_la-table_a.lo `test -f 'tables/table_a.c' || echo './'`tables/table_a.c\n",
            " gcc -DHAVE_CONFIG_H -I. -I../../include -I../ta_common/ -Iframes/ -g -O2 -MT libta_abstract_la-table_a.lo -MD -MP -MF .deps/libta_abstract_la-table_a.Tpo -c tables/table_a.c  -fPIC -DPIC -o .libs/libta_abstract_la-table_a.o\n",
            " gcc -DHAVE_CONFIG_H -I. -I../../include -I../ta_common/ -Iframes/ -g -O2 -MT libta_abstract_la-table_a.lo -MD -MP -MF .deps/libta_abstract_la-table_a.Tpo -c tables/table_a.c -o libta_abstract_la-table_a.o >/dev/null 2>&1\n",
            "mv -f .deps/libta_abstract_la-table_a.Tpo .deps/libta_abstract_la-table_a.Plo\n",
            "/bin/bash ../../libtool --tag=CC   --mode=compile gcc -DHAVE_CONFIG_H -I. -I../../include  -I../ta_common/ -Iframes/   -g -O2 -MT libta_abstract_la-table_b.lo -MD -MP -MF .deps/libta_abstract_la-table_b.Tpo -c -o libta_abstract_la-table_b.lo `test -f 'tables/table_b.c' || echo './'`tables/table_b.c\n",
            " gcc -DHAVE_CONFIG_H -I. -I../../include -I../ta_common/ -Iframes/ -g -O2 -MT libta_abstract_la-table_b.lo -MD -MP -MF .deps/libta_abstract_la-table_b.Tpo -c tables/table_b.c  -fPIC -DPIC -o .libs/libta_abstract_la-table_b.o\n",
            " gcc -DHAVE_CONFIG_H -I. -I../../include -I../ta_common/ -Iframes/ -g -O2 -MT libta_abstract_la-table_b.lo -MD -MP -MF .deps/libta_abstract_la-table_b.Tpo -c tables/table_b.c -o libta_abstract_la-table_b.o >/dev/null 2>&1\n",
            "mv -f .deps/libta_abstract_la-table_b.Tpo .deps/libta_abstract_la-table_b.Plo\n",
            "/bin/bash ../../libtool --tag=CC   --mode=compile gcc -DHAVE_CONFIG_H -I. -I../../include  -I../ta_common/ -Iframes/   -g -O2 -MT libta_abstract_la-table_c.lo -MD -MP -MF .deps/libta_abstract_la-table_c.Tpo -c -o libta_abstract_la-table_c.lo `test -f 'tables/table_c.c' || echo './'`tables/table_c.c\n",
            " gcc -DHAVE_CONFIG_H -I. -I../../include -I../ta_common/ -Iframes/ -g -O2 -MT libta_abstract_la-table_c.lo -MD -MP -MF .deps/libta_abstract_la-table_c.Tpo -c tables/table_c.c  -fPIC -DPIC -o .libs/libta_abstract_la-table_c.o\n",
            " gcc -DHAVE_CONFIG_H -I. -I../../include -I../ta_common/ -Iframes/ -g -O2 -MT libta_abstract_la-table_c.lo -MD -MP -MF .deps/libta_abstract_la-table_c.Tpo -c tables/table_c.c -o libta_abstract_la-table_c.o >/dev/null 2>&1\n",
            "mv -f .deps/libta_abstract_la-table_c.Tpo .deps/libta_abstract_la-table_c.Plo\n",
            "/bin/bash ../../libtool --tag=CC   --mode=compile gcc -DHAVE_CONFIG_H -I. -I../../include  -I../ta_common/ -Iframes/   -g -O2 -MT libta_abstract_la-table_d.lo -MD -MP -MF .deps/libta_abstract_la-table_d.Tpo -c -o libta_abstract_la-table_d.lo `test -f 'tables/table_d.c' || echo './'`tables/table_d.c\n",
            " gcc -DHAVE_CONFIG_H -I. -I../../include -I../ta_common/ -Iframes/ -g -O2 -MT libta_abstract_la-table_d.lo -MD -MP -MF .deps/libta_abstract_la-table_d.Tpo -c tables/table_d.c  -fPIC -DPIC -o .libs/libta_abstract_la-table_d.o\n",
            " gcc -DHAVE_CONFIG_H -I. -I../../include -I../ta_common/ -Iframes/ -g -O2 -MT libta_abstract_la-table_d.lo -MD -MP -MF .deps/libta_abstract_la-table_d.Tpo -c tables/table_d.c -o libta_abstract_la-table_d.o >/dev/null 2>&1\n",
            "mv -f .deps/libta_abstract_la-table_d.Tpo .deps/libta_abstract_la-table_d.Plo\n",
            "/bin/bash ../../libtool --tag=CC   --mode=compile gcc -DHAVE_CONFIG_H -I. -I../../include  -I../ta_common/ -Iframes/   -g -O2 -MT libta_abstract_la-table_e.lo -MD -MP -MF .deps/libta_abstract_la-table_e.Tpo -c -o libta_abstract_la-table_e.lo `test -f 'tables/table_e.c' || echo './'`tables/table_e.c\n",
            " gcc -DHAVE_CONFIG_H -I. -I../../include -I../ta_common/ -Iframes/ -g -O2 -MT libta_abstract_la-table_e.lo -MD -MP -MF .deps/libta_abstract_la-table_e.Tpo -c tables/table_e.c  -fPIC -DPIC -o .libs/libta_abstract_la-table_e.o\n",
            " gcc -DHAVE_CONFIG_H -I. -I../../include -I../ta_common/ -Iframes/ -g -O2 -MT libta_abstract_la-table_e.lo -MD -MP -MF .deps/libta_abstract_la-table_e.Tpo -c tables/table_e.c -o libta_abstract_la-table_e.o >/dev/null 2>&1\n",
            "mv -f .deps/libta_abstract_la-table_e.Tpo .deps/libta_abstract_la-table_e.Plo\n",
            "/bin/bash ../../libtool --tag=CC   --mode=compile gcc -DHAVE_CONFIG_H -I. -I../../include  -I../ta_common/ -Iframes/   -g -O2 -MT libta_abstract_la-table_f.lo -MD -MP -MF .deps/libta_abstract_la-table_f.Tpo -c -o libta_abstract_la-table_f.lo `test -f 'tables/table_f.c' || echo './'`tables/table_f.c\n",
            " gcc -DHAVE_CONFIG_H -I. -I../../include -I../ta_common/ -Iframes/ -g -O2 -MT libta_abstract_la-table_f.lo -MD -MP -MF .deps/libta_abstract_la-table_f.Tpo -c tables/table_f.c  -fPIC -DPIC -o .libs/libta_abstract_la-table_f.o\n",
            " gcc -DHAVE_CONFIG_H -I. -I../../include -I../ta_common/ -Iframes/ -g -O2 -MT libta_abstract_la-table_f.lo -MD -MP -MF .deps/libta_abstract_la-table_f.Tpo -c tables/table_f.c -o libta_abstract_la-table_f.o >/dev/null 2>&1\n",
            "mv -f .deps/libta_abstract_la-table_f.Tpo .deps/libta_abstract_la-table_f.Plo\n",
            "/bin/bash ../../libtool --tag=CC   --mode=compile gcc -DHAVE_CONFIG_H -I. -I../../include  -I../ta_common/ -Iframes/   -g -O2 -MT libta_abstract_la-table_g.lo -MD -MP -MF .deps/libta_abstract_la-table_g.Tpo -c -o libta_abstract_la-table_g.lo `test -f 'tables/table_g.c' || echo './'`tables/table_g.c\n",
            " gcc -DHAVE_CONFIG_H -I. -I../../include -I../ta_common/ -Iframes/ -g -O2 -MT libta_abstract_la-table_g.lo -MD -MP -MF .deps/libta_abstract_la-table_g.Tpo -c tables/table_g.c  -fPIC -DPIC -o .libs/libta_abstract_la-table_g.o\n",
            " gcc -DHAVE_CONFIG_H -I. -I../../include -I../ta_common/ -Iframes/ -g -O2 -MT libta_abstract_la-table_g.lo -MD -MP -MF .deps/libta_abstract_la-table_g.Tpo -c tables/table_g.c -o libta_abstract_la-table_g.o >/dev/null 2>&1\n",
            "mv -f .deps/libta_abstract_la-table_g.Tpo .deps/libta_abstract_la-table_g.Plo\n",
            "/bin/bash ../../libtool --tag=CC   --mode=compile gcc -DHAVE_CONFIG_H -I. -I../../include  -I../ta_common/ -Iframes/   -g -O2 -MT libta_abstract_la-table_h.lo -MD -MP -MF .deps/libta_abstract_la-table_h.Tpo -c -o libta_abstract_la-table_h.lo `test -f 'tables/table_h.c' || echo './'`tables/table_h.c\n",
            " gcc -DHAVE_CONFIG_H -I. -I../../include -I../ta_common/ -Iframes/ -g -O2 -MT libta_abstract_la-table_h.lo -MD -MP -MF .deps/libta_abstract_la-table_h.Tpo -c tables/table_h.c  -fPIC -DPIC -o .libs/libta_abstract_la-table_h.o\n",
            " gcc -DHAVE_CONFIG_H -I. -I../../include -I../ta_common/ -Iframes/ -g -O2 -MT libta_abstract_la-table_h.lo -MD -MP -MF .deps/libta_abstract_la-table_h.Tpo -c tables/table_h.c -o libta_abstract_la-table_h.o >/dev/null 2>&1\n",
            "mv -f .deps/libta_abstract_la-table_h.Tpo .deps/libta_abstract_la-table_h.Plo\n",
            "/bin/bash ../../libtool --tag=CC   --mode=compile gcc -DHAVE_CONFIG_H -I. -I../../include  -I../ta_common/ -Iframes/   -g -O2 -MT libta_abstract_la-table_i.lo -MD -MP -MF .deps/libta_abstract_la-table_i.Tpo -c -o libta_abstract_la-table_i.lo `test -f 'tables/table_i.c' || echo './'`tables/table_i.c\n",
            " gcc -DHAVE_CONFIG_H -I. -I../../include -I../ta_common/ -Iframes/ -g -O2 -MT libta_abstract_la-table_i.lo -MD -MP -MF .deps/libta_abstract_la-table_i.Tpo -c tables/table_i.c  -fPIC -DPIC -o .libs/libta_abstract_la-table_i.o\n",
            " gcc -DHAVE_CONFIG_H -I. -I../../include -I../ta_common/ -Iframes/ -g -O2 -MT libta_abstract_la-table_i.lo -MD -MP -MF .deps/libta_abstract_la-table_i.Tpo -c tables/table_i.c -o libta_abstract_la-table_i.o >/dev/null 2>&1\n",
            "mv -f .deps/libta_abstract_la-table_i.Tpo .deps/libta_abstract_la-table_i.Plo\n",
            "/bin/bash ../../libtool --tag=CC   --mode=compile gcc -DHAVE_CONFIG_H -I. -I../../include  -I../ta_common/ -Iframes/   -g -O2 -MT libta_abstract_la-table_j.lo -MD -MP -MF .deps/libta_abstract_la-table_j.Tpo -c -o libta_abstract_la-table_j.lo `test -f 'tables/table_j.c' || echo './'`tables/table_j.c\n",
            " gcc -DHAVE_CONFIG_H -I. -I../../include -I../ta_common/ -Iframes/ -g -O2 -MT libta_abstract_la-table_j.lo -MD -MP -MF .deps/libta_abstract_la-table_j.Tpo -c tables/table_j.c  -fPIC -DPIC -o .libs/libta_abstract_la-table_j.o\n",
            " gcc -DHAVE_CONFIG_H -I. -I../../include -I../ta_common/ -Iframes/ -g -O2 -MT libta_abstract_la-table_j.lo -MD -MP -MF .deps/libta_abstract_la-table_j.Tpo -c tables/table_j.c -o libta_abstract_la-table_j.o >/dev/null 2>&1\n",
            "mv -f .deps/libta_abstract_la-table_j.Tpo .deps/libta_abstract_la-table_j.Plo\n",
            "/bin/bash ../../libtool --tag=CC   --mode=compile gcc -DHAVE_CONFIG_H -I. -I../../include  -I../ta_common/ -Iframes/   -g -O2 -MT libta_abstract_la-table_k.lo -MD -MP -MF .deps/libta_abstract_la-table_k.Tpo -c -o libta_abstract_la-table_k.lo `test -f 'tables/table_k.c' || echo './'`tables/table_k.c\n",
            " gcc -DHAVE_CONFIG_H -I. -I../../include -I../ta_common/ -Iframes/ -g -O2 -MT libta_abstract_la-table_k.lo -MD -MP -MF .deps/libta_abstract_la-table_k.Tpo -c tables/table_k.c  -fPIC -DPIC -o .libs/libta_abstract_la-table_k.o\n",
            " gcc -DHAVE_CONFIG_H -I. -I../../include -I../ta_common/ -Iframes/ -g -O2 -MT libta_abstract_la-table_k.lo -MD -MP -MF .deps/libta_abstract_la-table_k.Tpo -c tables/table_k.c -o libta_abstract_la-table_k.o >/dev/null 2>&1\n",
            "mv -f .deps/libta_abstract_la-table_k.Tpo .deps/libta_abstract_la-table_k.Plo\n",
            "/bin/bash ../../libtool --tag=CC   --mode=compile gcc -DHAVE_CONFIG_H -I. -I../../include  -I../ta_common/ -Iframes/   -g -O2 -MT libta_abstract_la-table_l.lo -MD -MP -MF .deps/libta_abstract_la-table_l.Tpo -c -o libta_abstract_la-table_l.lo `test -f 'tables/table_l.c' || echo './'`tables/table_l.c\n",
            " gcc -DHAVE_CONFIG_H -I. -I../../include -I../ta_common/ -Iframes/ -g -O2 -MT libta_abstract_la-table_l.lo -MD -MP -MF .deps/libta_abstract_la-table_l.Tpo -c tables/table_l.c  -fPIC -DPIC -o .libs/libta_abstract_la-table_l.o\n",
            " gcc -DHAVE_CONFIG_H -I. -I../../include -I../ta_common/ -Iframes/ -g -O2 -MT libta_abstract_la-table_l.lo -MD -MP -MF .deps/libta_abstract_la-table_l.Tpo -c tables/table_l.c -o libta_abstract_la-table_l.o >/dev/null 2>&1\n",
            "mv -f .deps/libta_abstract_la-table_l.Tpo .deps/libta_abstract_la-table_l.Plo\n",
            "/bin/bash ../../libtool --tag=CC   --mode=compile gcc -DHAVE_CONFIG_H -I. -I../../include  -I../ta_common/ -Iframes/   -g -O2 -MT libta_abstract_la-table_m.lo -MD -MP -MF .deps/libta_abstract_la-table_m.Tpo -c -o libta_abstract_la-table_m.lo `test -f 'tables/table_m.c' || echo './'`tables/table_m.c\n",
            " gcc -DHAVE_CONFIG_H -I. -I../../include -I../ta_common/ -Iframes/ -g -O2 -MT libta_abstract_la-table_m.lo -MD -MP -MF .deps/libta_abstract_la-table_m.Tpo -c tables/table_m.c  -fPIC -DPIC -o .libs/libta_abstract_la-table_m.o\n",
            " gcc -DHAVE_CONFIG_H -I. -I../../include -I../ta_common/ -Iframes/ -g -O2 -MT libta_abstract_la-table_m.lo -MD -MP -MF .deps/libta_abstract_la-table_m.Tpo -c tables/table_m.c -o libta_abstract_la-table_m.o >/dev/null 2>&1\n",
            "mv -f .deps/libta_abstract_la-table_m.Tpo .deps/libta_abstract_la-table_m.Plo\n",
            "/bin/bash ../../libtool --tag=CC   --mode=compile gcc -DHAVE_CONFIG_H -I. -I../../include  -I../ta_common/ -Iframes/   -g -O2 -MT libta_abstract_la-table_n.lo -MD -MP -MF .deps/libta_abstract_la-table_n.Tpo -c -o libta_abstract_la-table_n.lo `test -f 'tables/table_n.c' || echo './'`tables/table_n.c\n",
            " gcc -DHAVE_CONFIG_H -I. -I../../include -I../ta_common/ -Iframes/ -g -O2 -MT libta_abstract_la-table_n.lo -MD -MP -MF .deps/libta_abstract_la-table_n.Tpo -c tables/table_n.c  -fPIC -DPIC -o .libs/libta_abstract_la-table_n.o\n",
            " gcc -DHAVE_CONFIG_H -I. -I../../include -I../ta_common/ -Iframes/ -g -O2 -MT libta_abstract_la-table_n.lo -MD -MP -MF .deps/libta_abstract_la-table_n.Tpo -c tables/table_n.c -o libta_abstract_la-table_n.o >/dev/null 2>&1\n",
            "mv -f .deps/libta_abstract_la-table_n.Tpo .deps/libta_abstract_la-table_n.Plo\n",
            "/bin/bash ../../libtool --tag=CC   --mode=compile gcc -DHAVE_CONFIG_H -I. -I../../include  -I../ta_common/ -Iframes/   -g -O2 -MT libta_abstract_la-table_o.lo -MD -MP -MF .deps/libta_abstract_la-table_o.Tpo -c -o libta_abstract_la-table_o.lo `test -f 'tables/table_o.c' || echo './'`tables/table_o.c\n",
            " gcc -DHAVE_CONFIG_H -I. -I../../include -I../ta_common/ -Iframes/ -g -O2 -MT libta_abstract_la-table_o.lo -MD -MP -MF .deps/libta_abstract_la-table_o.Tpo -c tables/table_o.c  -fPIC -DPIC -o .libs/libta_abstract_la-table_o.o\n",
            " gcc -DHAVE_CONFIG_H -I. -I../../include -I../ta_common/ -Iframes/ -g -O2 -MT libta_abstract_la-table_o.lo -MD -MP -MF .deps/libta_abstract_la-table_o.Tpo -c tables/table_o.c -o libta_abstract_la-table_o.o >/dev/null 2>&1\n",
            "mv -f .deps/libta_abstract_la-table_o.Tpo .deps/libta_abstract_la-table_o.Plo\n",
            "/bin/bash ../../libtool --tag=CC   --mode=compile gcc -DHAVE_CONFIG_H -I. -I../../include  -I../ta_common/ -Iframes/   -g -O2 -MT libta_abstract_la-table_p.lo -MD -MP -MF .deps/libta_abstract_la-table_p.Tpo -c -o libta_abstract_la-table_p.lo `test -f 'tables/table_p.c' || echo './'`tables/table_p.c\n",
            " gcc -DHAVE_CONFIG_H -I. -I../../include -I../ta_common/ -Iframes/ -g -O2 -MT libta_abstract_la-table_p.lo -MD -MP -MF .deps/libta_abstract_la-table_p.Tpo -c tables/table_p.c  -fPIC -DPIC -o .libs/libta_abstract_la-table_p.o\n",
            " gcc -DHAVE_CONFIG_H -I. -I../../include -I../ta_common/ -Iframes/ -g -O2 -MT libta_abstract_la-table_p.lo -MD -MP -MF .deps/libta_abstract_la-table_p.Tpo -c tables/table_p.c -o libta_abstract_la-table_p.o >/dev/null 2>&1\n",
            "mv -f .deps/libta_abstract_la-table_p.Tpo .deps/libta_abstract_la-table_p.Plo\n",
            "/bin/bash ../../libtool --tag=CC   --mode=compile gcc -DHAVE_CONFIG_H -I. -I../../include  -I../ta_common/ -Iframes/   -g -O2 -MT libta_abstract_la-table_q.lo -MD -MP -MF .deps/libta_abstract_la-table_q.Tpo -c -o libta_abstract_la-table_q.lo `test -f 'tables/table_q.c' || echo './'`tables/table_q.c\n",
            " gcc -DHAVE_CONFIG_H -I. -I../../include -I../ta_common/ -Iframes/ -g -O2 -MT libta_abstract_la-table_q.lo -MD -MP -MF .deps/libta_abstract_la-table_q.Tpo -c tables/table_q.c  -fPIC -DPIC -o .libs/libta_abstract_la-table_q.o\n",
            " gcc -DHAVE_CONFIG_H -I. -I../../include -I../ta_common/ -Iframes/ -g -O2 -MT libta_abstract_la-table_q.lo -MD -MP -MF .deps/libta_abstract_la-table_q.Tpo -c tables/table_q.c -o libta_abstract_la-table_q.o >/dev/null 2>&1\n",
            "mv -f .deps/libta_abstract_la-table_q.Tpo .deps/libta_abstract_la-table_q.Plo\n",
            "/bin/bash ../../libtool --tag=CC   --mode=compile gcc -DHAVE_CONFIG_H -I. -I../../include  -I../ta_common/ -Iframes/   -g -O2 -MT libta_abstract_la-table_r.lo -MD -MP -MF .deps/libta_abstract_la-table_r.Tpo -c -o libta_abstract_la-table_r.lo `test -f 'tables/table_r.c' || echo './'`tables/table_r.c\n",
            " gcc -DHAVE_CONFIG_H -I. -I../../include -I../ta_common/ -Iframes/ -g -O2 -MT libta_abstract_la-table_r.lo -MD -MP -MF .deps/libta_abstract_la-table_r.Tpo -c tables/table_r.c  -fPIC -DPIC -o .libs/libta_abstract_la-table_r.o\n",
            " gcc -DHAVE_CONFIG_H -I. -I../../include -I../ta_common/ -Iframes/ -g -O2 -MT libta_abstract_la-table_r.lo -MD -MP -MF .deps/libta_abstract_la-table_r.Tpo -c tables/table_r.c -o libta_abstract_la-table_r.o >/dev/null 2>&1\n",
            "mv -f .deps/libta_abstract_la-table_r.Tpo .deps/libta_abstract_la-table_r.Plo\n",
            "/bin/bash ../../libtool --tag=CC   --mode=compile gcc -DHAVE_CONFIG_H -I. -I../../include  -I../ta_common/ -Iframes/   -g -O2 -MT libta_abstract_la-table_s.lo -MD -MP -MF .deps/libta_abstract_la-table_s.Tpo -c -o libta_abstract_la-table_s.lo `test -f 'tables/table_s.c' || echo './'`tables/table_s.c\n",
            " gcc -DHAVE_CONFIG_H -I. -I../../include -I../ta_common/ -Iframes/ -g -O2 -MT libta_abstract_la-table_s.lo -MD -MP -MF .deps/libta_abstract_la-table_s.Tpo -c tables/table_s.c  -fPIC -DPIC -o .libs/libta_abstract_la-table_s.o\n",
            " gcc -DHAVE_CONFIG_H -I. -I../../include -I../ta_common/ -Iframes/ -g -O2 -MT libta_abstract_la-table_s.lo -MD -MP -MF .deps/libta_abstract_la-table_s.Tpo -c tables/table_s.c -o libta_abstract_la-table_s.o >/dev/null 2>&1\n",
            "mv -f .deps/libta_abstract_la-table_s.Tpo .deps/libta_abstract_la-table_s.Plo\n",
            "/bin/bash ../../libtool --tag=CC   --mode=compile gcc -DHAVE_CONFIG_H -I. -I../../include  -I../ta_common/ -Iframes/   -g -O2 -MT libta_abstract_la-table_t.lo -MD -MP -MF .deps/libta_abstract_la-table_t.Tpo -c -o libta_abstract_la-table_t.lo `test -f 'tables/table_t.c' || echo './'`tables/table_t.c\n",
            " gcc -DHAVE_CONFIG_H -I. -I../../include -I../ta_common/ -Iframes/ -g -O2 -MT libta_abstract_la-table_t.lo -MD -MP -MF .deps/libta_abstract_la-table_t.Tpo -c tables/table_t.c  -fPIC -DPIC -o .libs/libta_abstract_la-table_t.o\n",
            " gcc -DHAVE_CONFIG_H -I. -I../../include -I../ta_common/ -Iframes/ -g -O2 -MT libta_abstract_la-table_t.lo -MD -MP -MF .deps/libta_abstract_la-table_t.Tpo -c tables/table_t.c -o libta_abstract_la-table_t.o >/dev/null 2>&1\n",
            "mv -f .deps/libta_abstract_la-table_t.Tpo .deps/libta_abstract_la-table_t.Plo\n",
            "/bin/bash ../../libtool --tag=CC   --mode=compile gcc -DHAVE_CONFIG_H -I. -I../../include  -I../ta_common/ -Iframes/   -g -O2 -MT libta_abstract_la-table_u.lo -MD -MP -MF .deps/libta_abstract_la-table_u.Tpo -c -o libta_abstract_la-table_u.lo `test -f 'tables/table_u.c' || echo './'`tables/table_u.c\n",
            " gcc -DHAVE_CONFIG_H -I. -I../../include -I../ta_common/ -Iframes/ -g -O2 -MT libta_abstract_la-table_u.lo -MD -MP -MF .deps/libta_abstract_la-table_u.Tpo -c tables/table_u.c  -fPIC -DPIC -o .libs/libta_abstract_la-table_u.o\n",
            " gcc -DHAVE_CONFIG_H -I. -I../../include -I../ta_common/ -Iframes/ -g -O2 -MT libta_abstract_la-table_u.lo -MD -MP -MF .deps/libta_abstract_la-table_u.Tpo -c tables/table_u.c -o libta_abstract_la-table_u.o >/dev/null 2>&1\n",
            "mv -f .deps/libta_abstract_la-table_u.Tpo .deps/libta_abstract_la-table_u.Plo\n",
            "/bin/bash ../../libtool --tag=CC   --mode=compile gcc -DHAVE_CONFIG_H -I. -I../../include  -I../ta_common/ -Iframes/   -g -O2 -MT libta_abstract_la-table_v.lo -MD -MP -MF .deps/libta_abstract_la-table_v.Tpo -c -o libta_abstract_la-table_v.lo `test -f 'tables/table_v.c' || echo './'`tables/table_v.c\n",
            " gcc -DHAVE_CONFIG_H -I. -I../../include -I../ta_common/ -Iframes/ -g -O2 -MT libta_abstract_la-table_v.lo -MD -MP -MF .deps/libta_abstract_la-table_v.Tpo -c tables/table_v.c  -fPIC -DPIC -o .libs/libta_abstract_la-table_v.o\n",
            " gcc -DHAVE_CONFIG_H -I. -I../../include -I../ta_common/ -Iframes/ -g -O2 -MT libta_abstract_la-table_v.lo -MD -MP -MF .deps/libta_abstract_la-table_v.Tpo -c tables/table_v.c -o libta_abstract_la-table_v.o >/dev/null 2>&1\n",
            "mv -f .deps/libta_abstract_la-table_v.Tpo .deps/libta_abstract_la-table_v.Plo\n",
            "/bin/bash ../../libtool --tag=CC   --mode=compile gcc -DHAVE_CONFIG_H -I. -I../../include  -I../ta_common/ -Iframes/   -g -O2 -MT libta_abstract_la-table_w.lo -MD -MP -MF .deps/libta_abstract_la-table_w.Tpo -c -o libta_abstract_la-table_w.lo `test -f 'tables/table_w.c' || echo './'`tables/table_w.c\n",
            " gcc -DHAVE_CONFIG_H -I. -I../../include -I../ta_common/ -Iframes/ -g -O2 -MT libta_abstract_la-table_w.lo -MD -MP -MF .deps/libta_abstract_la-table_w.Tpo -c tables/table_w.c  -fPIC -DPIC -o .libs/libta_abstract_la-table_w.o\n",
            " gcc -DHAVE_CONFIG_H -I. -I../../include -I../ta_common/ -Iframes/ -g -O2 -MT libta_abstract_la-table_w.lo -MD -MP -MF .deps/libta_abstract_la-table_w.Tpo -c tables/table_w.c -o libta_abstract_la-table_w.o >/dev/null 2>&1\n",
            "mv -f .deps/libta_abstract_la-table_w.Tpo .deps/libta_abstract_la-table_w.Plo\n",
            "/bin/bash ../../libtool --tag=CC   --mode=compile gcc -DHAVE_CONFIG_H -I. -I../../include  -I../ta_common/ -Iframes/   -g -O2 -MT libta_abstract_la-table_x.lo -MD -MP -MF .deps/libta_abstract_la-table_x.Tpo -c -o libta_abstract_la-table_x.lo `test -f 'tables/table_x.c' || echo './'`tables/table_x.c\n",
            " gcc -DHAVE_CONFIG_H -I. -I../../include -I../ta_common/ -Iframes/ -g -O2 -MT libta_abstract_la-table_x.lo -MD -MP -MF .deps/libta_abstract_la-table_x.Tpo -c tables/table_x.c  -fPIC -DPIC -o .libs/libta_abstract_la-table_x.o\n",
            " gcc -DHAVE_CONFIG_H -I. -I../../include -I../ta_common/ -Iframes/ -g -O2 -MT libta_abstract_la-table_x.lo -MD -MP -MF .deps/libta_abstract_la-table_x.Tpo -c tables/table_x.c -o libta_abstract_la-table_x.o >/dev/null 2>&1\n",
            "mv -f .deps/libta_abstract_la-table_x.Tpo .deps/libta_abstract_la-table_x.Plo\n",
            "/bin/bash ../../libtool --tag=CC   --mode=compile gcc -DHAVE_CONFIG_H -I. -I../../include  -I../ta_common/ -Iframes/   -g -O2 -MT libta_abstract_la-table_y.lo -MD -MP -MF .deps/libta_abstract_la-table_y.Tpo -c -o libta_abstract_la-table_y.lo `test -f 'tables/table_y.c' || echo './'`tables/table_y.c\n",
            " gcc -DHAVE_CONFIG_H -I. -I../../include -I../ta_common/ -Iframes/ -g -O2 -MT libta_abstract_la-table_y.lo -MD -MP -MF .deps/libta_abstract_la-table_y.Tpo -c tables/table_y.c  -fPIC -DPIC -o .libs/libta_abstract_la-table_y.o\n",
            " gcc -DHAVE_CONFIG_H -I. -I../../include -I../ta_common/ -Iframes/ -g -O2 -MT libta_abstract_la-table_y.lo -MD -MP -MF .deps/libta_abstract_la-table_y.Tpo -c tables/table_y.c -o libta_abstract_la-table_y.o >/dev/null 2>&1\n",
            "mv -f .deps/libta_abstract_la-table_y.Tpo .deps/libta_abstract_la-table_y.Plo\n",
            "/bin/bash ../../libtool --tag=CC   --mode=compile gcc -DHAVE_CONFIG_H -I. -I../../include  -I../ta_common/ -Iframes/   -g -O2 -MT libta_abstract_la-table_z.lo -MD -MP -MF .deps/libta_abstract_la-table_z.Tpo -c -o libta_abstract_la-table_z.lo `test -f 'tables/table_z.c' || echo './'`tables/table_z.c\n",
            " gcc -DHAVE_CONFIG_H -I. -I../../include -I../ta_common/ -Iframes/ -g -O2 -MT libta_abstract_la-table_z.lo -MD -MP -MF .deps/libta_abstract_la-table_z.Tpo -c tables/table_z.c  -fPIC -DPIC -o .libs/libta_abstract_la-table_z.o\n",
            " gcc -DHAVE_CONFIG_H -I. -I../../include -I../ta_common/ -Iframes/ -g -O2 -MT libta_abstract_la-table_z.lo -MD -MP -MF .deps/libta_abstract_la-table_z.Tpo -c tables/table_z.c -o libta_abstract_la-table_z.o >/dev/null 2>&1\n",
            "mv -f .deps/libta_abstract_la-table_z.Tpo .deps/libta_abstract_la-table_z.Plo\n",
            "/bin/bash ../../libtool --tag=CC   --mode=link gcc  -g -O2 -version-info 0:0:0  -o libta_abstract.la  libta_abstract_la-ta_group_idx.lo libta_abstract_la-ta_def_ui.lo libta_abstract_la-ta_abstract.lo libta_abstract_la-ta_func_api.lo libta_abstract_la-ta_frame.lo libta_abstract_la-table_a.lo libta_abstract_la-table_b.lo libta_abstract_la-table_c.lo libta_abstract_la-table_d.lo libta_abstract_la-table_e.lo libta_abstract_la-table_f.lo libta_abstract_la-table_g.lo libta_abstract_la-table_h.lo libta_abstract_la-table_i.lo libta_abstract_la-table_j.lo libta_abstract_la-table_k.lo libta_abstract_la-table_l.lo libta_abstract_la-table_m.lo libta_abstract_la-table_n.lo libta_abstract_la-table_o.lo libta_abstract_la-table_p.lo libta_abstract_la-table_q.lo libta_abstract_la-table_r.lo libta_abstract_la-table_s.lo libta_abstract_la-table_t.lo libta_abstract_la-table_u.lo libta_abstract_la-table_v.lo libta_abstract_la-table_w.lo libta_abstract_la-table_x.lo libta_abstract_la-table_y.lo libta_abstract_la-table_z.lo  -lpthread -ldl \n",
            "libtool: link: warning: `-version-info/-version-number' is ignored for convenience libraries\n",
            "ar cru .libs/libta_abstract.a .libs/libta_abstract_la-ta_group_idx.o .libs/libta_abstract_la-ta_def_ui.o .libs/libta_abstract_la-ta_abstract.o .libs/libta_abstract_la-ta_func_api.o .libs/libta_abstract_la-ta_frame.o .libs/libta_abstract_la-table_a.o .libs/libta_abstract_la-table_b.o .libs/libta_abstract_la-table_c.o .libs/libta_abstract_la-table_d.o .libs/libta_abstract_la-table_e.o .libs/libta_abstract_la-table_f.o .libs/libta_abstract_la-table_g.o .libs/libta_abstract_la-table_h.o .libs/libta_abstract_la-table_i.o .libs/libta_abstract_la-table_j.o .libs/libta_abstract_la-table_k.o .libs/libta_abstract_la-table_l.o .libs/libta_abstract_la-table_m.o .libs/libta_abstract_la-table_n.o .libs/libta_abstract_la-table_o.o .libs/libta_abstract_la-table_p.o .libs/libta_abstract_la-table_q.o .libs/libta_abstract_la-table_r.o .libs/libta_abstract_la-table_s.o .libs/libta_abstract_la-table_t.o .libs/libta_abstract_la-table_u.o .libs/libta_abstract_la-table_v.o .libs/libta_abstract_la-table_w.o .libs/libta_abstract_la-table_x.o .libs/libta_abstract_la-table_y.o .libs/libta_abstract_la-table_z.o\n",
            "ar: `u' modifier ignored since `D' is the default (see `U')\n",
            "ranlib .libs/libta_abstract.a\n",
            "creating libta_abstract.la\n",
            "(cd .libs && rm -f libta_abstract.la && ln -s ../libta_abstract.la libta_abstract.la)\n",
            "/bin/bash ../../libtool --tag=CC   --mode=compile gcc -DHAVE_CONFIG_H -I. -I../../include  -DTA_GEN_CODE -I../ta_common/ -Iframes/   -g -O2 -MT libta_abstract_gc_la-ta_group_idx.lo -MD -MP -MF .deps/libta_abstract_gc_la-ta_group_idx.Tpo -c -o libta_abstract_gc_la-ta_group_idx.lo `test -f 'ta_group_idx.c' || echo './'`ta_group_idx.c\n",
            " gcc -DHAVE_CONFIG_H -I. -I../../include -DTA_GEN_CODE -I../ta_common/ -Iframes/ -g -O2 -MT libta_abstract_gc_la-ta_group_idx.lo -MD -MP -MF .deps/libta_abstract_gc_la-ta_group_idx.Tpo -c ta_group_idx.c  -fPIC -DPIC -o .libs/libta_abstract_gc_la-ta_group_idx.o\n",
            " gcc -DHAVE_CONFIG_H -I. -I../../include -DTA_GEN_CODE -I../ta_common/ -Iframes/ -g -O2 -MT libta_abstract_gc_la-ta_group_idx.lo -MD -MP -MF .deps/libta_abstract_gc_la-ta_group_idx.Tpo -c ta_group_idx.c -o libta_abstract_gc_la-ta_group_idx.o >/dev/null 2>&1\n",
            "mv -f .deps/libta_abstract_gc_la-ta_group_idx.Tpo .deps/libta_abstract_gc_la-ta_group_idx.Plo\n",
            "/bin/bash ../../libtool --tag=CC   --mode=compile gcc -DHAVE_CONFIG_H -I. -I../../include  -DTA_GEN_CODE -I../ta_common/ -Iframes/   -g -O2 -MT libta_abstract_gc_la-ta_def_ui.lo -MD -MP -MF .deps/libta_abstract_gc_la-ta_def_ui.Tpo -c -o libta_abstract_gc_la-ta_def_ui.lo `test -f 'ta_def_ui.c' || echo './'`ta_def_ui.c\n",
            " gcc -DHAVE_CONFIG_H -I. -I../../include -DTA_GEN_CODE -I../ta_common/ -Iframes/ -g -O2 -MT libta_abstract_gc_la-ta_def_ui.lo -MD -MP -MF .deps/libta_abstract_gc_la-ta_def_ui.Tpo -c ta_def_ui.c  -fPIC -DPIC -o .libs/libta_abstract_gc_la-ta_def_ui.o\n",
            " gcc -DHAVE_CONFIG_H -I. -I../../include -DTA_GEN_CODE -I../ta_common/ -Iframes/ -g -O2 -MT libta_abstract_gc_la-ta_def_ui.lo -MD -MP -MF .deps/libta_abstract_gc_la-ta_def_ui.Tpo -c ta_def_ui.c -o libta_abstract_gc_la-ta_def_ui.o >/dev/null 2>&1\n",
            "mv -f .deps/libta_abstract_gc_la-ta_def_ui.Tpo .deps/libta_abstract_gc_la-ta_def_ui.Plo\n",
            "/bin/bash ../../libtool --tag=CC   --mode=compile gcc -DHAVE_CONFIG_H -I. -I../../include  -DTA_GEN_CODE -I../ta_common/ -Iframes/   -g -O2 -MT libta_abstract_gc_la-ta_abstract.lo -MD -MP -MF .deps/libta_abstract_gc_la-ta_abstract.Tpo -c -o libta_abstract_gc_la-ta_abstract.lo `test -f 'ta_abstract.c' || echo './'`ta_abstract.c\n",
            " gcc -DHAVE_CONFIG_H -I. -I../../include -DTA_GEN_CODE -I../ta_common/ -Iframes/ -g -O2 -MT libta_abstract_gc_la-ta_abstract.lo -MD -MP -MF .deps/libta_abstract_gc_la-ta_abstract.Tpo -c ta_abstract.c  -fPIC -DPIC -o .libs/libta_abstract_gc_la-ta_abstract.o\n",
            " gcc -DHAVE_CONFIG_H -I. -I../../include -DTA_GEN_CODE -I../ta_common/ -Iframes/ -g -O2 -MT libta_abstract_gc_la-ta_abstract.lo -MD -MP -MF .deps/libta_abstract_gc_la-ta_abstract.Tpo -c ta_abstract.c -o libta_abstract_gc_la-ta_abstract.o >/dev/null 2>&1\n",
            "mv -f .deps/libta_abstract_gc_la-ta_abstract.Tpo .deps/libta_abstract_gc_la-ta_abstract.Plo\n",
            "/bin/bash ../../libtool --tag=CC   --mode=compile gcc -DHAVE_CONFIG_H -I. -I../../include  -DTA_GEN_CODE -I../ta_common/ -Iframes/   -g -O2 -MT libta_abstract_gc_la-ta_func_api.lo -MD -MP -MF .deps/libta_abstract_gc_la-ta_func_api.Tpo -c -o libta_abstract_gc_la-ta_func_api.lo `test -f 'ta_func_api.c' || echo './'`ta_func_api.c\n",
            " gcc -DHAVE_CONFIG_H -I. -I../../include -DTA_GEN_CODE -I../ta_common/ -Iframes/ -g -O2 -MT libta_abstract_gc_la-ta_func_api.lo -MD -MP -MF .deps/libta_abstract_gc_la-ta_func_api.Tpo -c ta_func_api.c  -fPIC -DPIC -o .libs/libta_abstract_gc_la-ta_func_api.o\n",
            " gcc -DHAVE_CONFIG_H -I. -I../../include -DTA_GEN_CODE -I../ta_common/ -Iframes/ -g -O2 -MT libta_abstract_gc_la-ta_func_api.lo -MD -MP -MF .deps/libta_abstract_gc_la-ta_func_api.Tpo -c ta_func_api.c -o libta_abstract_gc_la-ta_func_api.o >/dev/null 2>&1\n",
            "mv -f .deps/libta_abstract_gc_la-ta_func_api.Tpo .deps/libta_abstract_gc_la-ta_func_api.Plo\n",
            "/bin/bash ../../libtool --tag=CC   --mode=compile gcc -DHAVE_CONFIG_H -I. -I../../include  -DTA_GEN_CODE -I../ta_common/ -Iframes/   -g -O2 -MT libta_abstract_gc_la-ta_frame.lo -MD -MP -MF .deps/libta_abstract_gc_la-ta_frame.Tpo -c -o libta_abstract_gc_la-ta_frame.lo `test -f 'frames/ta_frame.c' || echo './'`frames/ta_frame.c\n",
            " gcc -DHAVE_CONFIG_H -I. -I../../include -DTA_GEN_CODE -I../ta_common/ -Iframes/ -g -O2 -MT libta_abstract_gc_la-ta_frame.lo -MD -MP -MF .deps/libta_abstract_gc_la-ta_frame.Tpo -c frames/ta_frame.c  -fPIC -DPIC -o .libs/libta_abstract_gc_la-ta_frame.o\n",
            " gcc -DHAVE_CONFIG_H -I. -I../../include -DTA_GEN_CODE -I../ta_common/ -Iframes/ -g -O2 -MT libta_abstract_gc_la-ta_frame.lo -MD -MP -MF .deps/libta_abstract_gc_la-ta_frame.Tpo -c frames/ta_frame.c -o libta_abstract_gc_la-ta_frame.o >/dev/null 2>&1\n",
            "mv -f .deps/libta_abstract_gc_la-ta_frame.Tpo .deps/libta_abstract_gc_la-ta_frame.Plo\n",
            "/bin/bash ../../libtool --tag=CC   --mode=compile gcc -DHAVE_CONFIG_H -I. -I../../include  -DTA_GEN_CODE -I../ta_common/ -Iframes/   -g -O2 -MT libta_abstract_gc_la-table_a.lo -MD -MP -MF .deps/libta_abstract_gc_la-table_a.Tpo -c -o libta_abstract_gc_la-table_a.lo `test -f 'tables/table_a.c' || echo './'`tables/table_a.c\n",
            " gcc -DHAVE_CONFIG_H -I. -I../../include -DTA_GEN_CODE -I../ta_common/ -Iframes/ -g -O2 -MT libta_abstract_gc_la-table_a.lo -MD -MP -MF .deps/libta_abstract_gc_la-table_a.Tpo -c tables/table_a.c  -fPIC -DPIC -o .libs/libta_abstract_gc_la-table_a.o\n",
            " gcc -DHAVE_CONFIG_H -I. -I../../include -DTA_GEN_CODE -I../ta_common/ -Iframes/ -g -O2 -MT libta_abstract_gc_la-table_a.lo -MD -MP -MF .deps/libta_abstract_gc_la-table_a.Tpo -c tables/table_a.c -o libta_abstract_gc_la-table_a.o >/dev/null 2>&1\n",
            "mv -f .deps/libta_abstract_gc_la-table_a.Tpo .deps/libta_abstract_gc_la-table_a.Plo\n",
            "/bin/bash ../../libtool --tag=CC   --mode=compile gcc -DHAVE_CONFIG_H -I. -I../../include  -DTA_GEN_CODE -I../ta_common/ -Iframes/   -g -O2 -MT libta_abstract_gc_la-table_b.lo -MD -MP -MF .deps/libta_abstract_gc_la-table_b.Tpo -c -o libta_abstract_gc_la-table_b.lo `test -f 'tables/table_b.c' || echo './'`tables/table_b.c\n",
            " gcc -DHAVE_CONFIG_H -I. -I../../include -DTA_GEN_CODE -I../ta_common/ -Iframes/ -g -O2 -MT libta_abstract_gc_la-table_b.lo -MD -MP -MF .deps/libta_abstract_gc_la-table_b.Tpo -c tables/table_b.c  -fPIC -DPIC -o .libs/libta_abstract_gc_la-table_b.o\n",
            " gcc -DHAVE_CONFIG_H -I. -I../../include -DTA_GEN_CODE -I../ta_common/ -Iframes/ -g -O2 -MT libta_abstract_gc_la-table_b.lo -MD -MP -MF .deps/libta_abstract_gc_la-table_b.Tpo -c tables/table_b.c -o libta_abstract_gc_la-table_b.o >/dev/null 2>&1\n",
            "mv -f .deps/libta_abstract_gc_la-table_b.Tpo .deps/libta_abstract_gc_la-table_b.Plo\n",
            "/bin/bash ../../libtool --tag=CC   --mode=compile gcc -DHAVE_CONFIG_H -I. -I../../include  -DTA_GEN_CODE -I../ta_common/ -Iframes/   -g -O2 -MT libta_abstract_gc_la-table_c.lo -MD -MP -MF .deps/libta_abstract_gc_la-table_c.Tpo -c -o libta_abstract_gc_la-table_c.lo `test -f 'tables/table_c.c' || echo './'`tables/table_c.c\n",
            " gcc -DHAVE_CONFIG_H -I. -I../../include -DTA_GEN_CODE -I../ta_common/ -Iframes/ -g -O2 -MT libta_abstract_gc_la-table_c.lo -MD -MP -MF .deps/libta_abstract_gc_la-table_c.Tpo -c tables/table_c.c  -fPIC -DPIC -o .libs/libta_abstract_gc_la-table_c.o\n",
            " gcc -DHAVE_CONFIG_H -I. -I../../include -DTA_GEN_CODE -I../ta_common/ -Iframes/ -g -O2 -MT libta_abstract_gc_la-table_c.lo -MD -MP -MF .deps/libta_abstract_gc_la-table_c.Tpo -c tables/table_c.c -o libta_abstract_gc_la-table_c.o >/dev/null 2>&1\n",
            "mv -f .deps/libta_abstract_gc_la-table_c.Tpo .deps/libta_abstract_gc_la-table_c.Plo\n",
            "/bin/bash ../../libtool --tag=CC   --mode=compile gcc -DHAVE_CONFIG_H -I. -I../../include  -DTA_GEN_CODE -I../ta_common/ -Iframes/   -g -O2 -MT libta_abstract_gc_la-table_d.lo -MD -MP -MF .deps/libta_abstract_gc_la-table_d.Tpo -c -o libta_abstract_gc_la-table_d.lo `test -f 'tables/table_d.c' || echo './'`tables/table_d.c\n",
            " gcc -DHAVE_CONFIG_H -I. -I../../include -DTA_GEN_CODE -I../ta_common/ -Iframes/ -g -O2 -MT libta_abstract_gc_la-table_d.lo -MD -MP -MF .deps/libta_abstract_gc_la-table_d.Tpo -c tables/table_d.c  -fPIC -DPIC -o .libs/libta_abstract_gc_la-table_d.o\n",
            " gcc -DHAVE_CONFIG_H -I. -I../../include -DTA_GEN_CODE -I../ta_common/ -Iframes/ -g -O2 -MT libta_abstract_gc_la-table_d.lo -MD -MP -MF .deps/libta_abstract_gc_la-table_d.Tpo -c tables/table_d.c -o libta_abstract_gc_la-table_d.o >/dev/null 2>&1\n",
            "mv -f .deps/libta_abstract_gc_la-table_d.Tpo .deps/libta_abstract_gc_la-table_d.Plo\n",
            "/bin/bash ../../libtool --tag=CC   --mode=compile gcc -DHAVE_CONFIG_H -I. -I../../include  -DTA_GEN_CODE -I../ta_common/ -Iframes/   -g -O2 -MT libta_abstract_gc_la-table_e.lo -MD -MP -MF .deps/libta_abstract_gc_la-table_e.Tpo -c -o libta_abstract_gc_la-table_e.lo `test -f 'tables/table_e.c' || echo './'`tables/table_e.c\n",
            " gcc -DHAVE_CONFIG_H -I. -I../../include -DTA_GEN_CODE -I../ta_common/ -Iframes/ -g -O2 -MT libta_abstract_gc_la-table_e.lo -MD -MP -MF .deps/libta_abstract_gc_la-table_e.Tpo -c tables/table_e.c  -fPIC -DPIC -o .libs/libta_abstract_gc_la-table_e.o\n",
            " gcc -DHAVE_CONFIG_H -I. -I../../include -DTA_GEN_CODE -I../ta_common/ -Iframes/ -g -O2 -MT libta_abstract_gc_la-table_e.lo -MD -MP -MF .deps/libta_abstract_gc_la-table_e.Tpo -c tables/table_e.c -o libta_abstract_gc_la-table_e.o >/dev/null 2>&1\n",
            "mv -f .deps/libta_abstract_gc_la-table_e.Tpo .deps/libta_abstract_gc_la-table_e.Plo\n",
            "/bin/bash ../../libtool --tag=CC   --mode=compile gcc -DHAVE_CONFIG_H -I. -I../../include  -DTA_GEN_CODE -I../ta_common/ -Iframes/   -g -O2 -MT libta_abstract_gc_la-table_f.lo -MD -MP -MF .deps/libta_abstract_gc_la-table_f.Tpo -c -o libta_abstract_gc_la-table_f.lo `test -f 'tables/table_f.c' || echo './'`tables/table_f.c\n",
            " gcc -DHAVE_CONFIG_H -I. -I../../include -DTA_GEN_CODE -I../ta_common/ -Iframes/ -g -O2 -MT libta_abstract_gc_la-table_f.lo -MD -MP -MF .deps/libta_abstract_gc_la-table_f.Tpo -c tables/table_f.c  -fPIC -DPIC -o .libs/libta_abstract_gc_la-table_f.o\n",
            " gcc -DHAVE_CONFIG_H -I. -I../../include -DTA_GEN_CODE -I../ta_common/ -Iframes/ -g -O2 -MT libta_abstract_gc_la-table_f.lo -MD -MP -MF .deps/libta_abstract_gc_la-table_f.Tpo -c tables/table_f.c -o libta_abstract_gc_la-table_f.o >/dev/null 2>&1\n",
            "mv -f .deps/libta_abstract_gc_la-table_f.Tpo .deps/libta_abstract_gc_la-table_f.Plo\n",
            "/bin/bash ../../libtool --tag=CC   --mode=compile gcc -DHAVE_CONFIG_H -I. -I../../include  -DTA_GEN_CODE -I../ta_common/ -Iframes/   -g -O2 -MT libta_abstract_gc_la-table_g.lo -MD -MP -MF .deps/libta_abstract_gc_la-table_g.Tpo -c -o libta_abstract_gc_la-table_g.lo `test -f 'tables/table_g.c' || echo './'`tables/table_g.c\n",
            " gcc -DHAVE_CONFIG_H -I. -I../../include -DTA_GEN_CODE -I../ta_common/ -Iframes/ -g -O2 -MT libta_abstract_gc_la-table_g.lo -MD -MP -MF .deps/libta_abstract_gc_la-table_g.Tpo -c tables/table_g.c  -fPIC -DPIC -o .libs/libta_abstract_gc_la-table_g.o\n",
            " gcc -DHAVE_CONFIG_H -I. -I../../include -DTA_GEN_CODE -I../ta_common/ -Iframes/ -g -O2 -MT libta_abstract_gc_la-table_g.lo -MD -MP -MF .deps/libta_abstract_gc_la-table_g.Tpo -c tables/table_g.c -o libta_abstract_gc_la-table_g.o >/dev/null 2>&1\n",
            "mv -f .deps/libta_abstract_gc_la-table_g.Tpo .deps/libta_abstract_gc_la-table_g.Plo\n",
            "/bin/bash ../../libtool --tag=CC   --mode=compile gcc -DHAVE_CONFIG_H -I. -I../../include  -DTA_GEN_CODE -I../ta_common/ -Iframes/   -g -O2 -MT libta_abstract_gc_la-table_h.lo -MD -MP -MF .deps/libta_abstract_gc_la-table_h.Tpo -c -o libta_abstract_gc_la-table_h.lo `test -f 'tables/table_h.c' || echo './'`tables/table_h.c\n",
            " gcc -DHAVE_CONFIG_H -I. -I../../include -DTA_GEN_CODE -I../ta_common/ -Iframes/ -g -O2 -MT libta_abstract_gc_la-table_h.lo -MD -MP -MF .deps/libta_abstract_gc_la-table_h.Tpo -c tables/table_h.c  -fPIC -DPIC -o .libs/libta_abstract_gc_la-table_h.o\n",
            " gcc -DHAVE_CONFIG_H -I. -I../../include -DTA_GEN_CODE -I../ta_common/ -Iframes/ -g -O2 -MT libta_abstract_gc_la-table_h.lo -MD -MP -MF .deps/libta_abstract_gc_la-table_h.Tpo -c tables/table_h.c -o libta_abstract_gc_la-table_h.o >/dev/null 2>&1\n",
            "mv -f .deps/libta_abstract_gc_la-table_h.Tpo .deps/libta_abstract_gc_la-table_h.Plo\n",
            "/bin/bash ../../libtool --tag=CC   --mode=compile gcc -DHAVE_CONFIG_H -I. -I../../include  -DTA_GEN_CODE -I../ta_common/ -Iframes/   -g -O2 -MT libta_abstract_gc_la-table_i.lo -MD -MP -MF .deps/libta_abstract_gc_la-table_i.Tpo -c -o libta_abstract_gc_la-table_i.lo `test -f 'tables/table_i.c' || echo './'`tables/table_i.c\n",
            " gcc -DHAVE_CONFIG_H -I. -I../../include -DTA_GEN_CODE -I../ta_common/ -Iframes/ -g -O2 -MT libta_abstract_gc_la-table_i.lo -MD -MP -MF .deps/libta_abstract_gc_la-table_i.Tpo -c tables/table_i.c  -fPIC -DPIC -o .libs/libta_abstract_gc_la-table_i.o\n",
            " gcc -DHAVE_CONFIG_H -I. -I../../include -DTA_GEN_CODE -I../ta_common/ -Iframes/ -g -O2 -MT libta_abstract_gc_la-table_i.lo -MD -MP -MF .deps/libta_abstract_gc_la-table_i.Tpo -c tables/table_i.c -o libta_abstract_gc_la-table_i.o >/dev/null 2>&1\n",
            "mv -f .deps/libta_abstract_gc_la-table_i.Tpo .deps/libta_abstract_gc_la-table_i.Plo\n",
            "/bin/bash ../../libtool --tag=CC   --mode=compile gcc -DHAVE_CONFIG_H -I. -I../../include  -DTA_GEN_CODE -I../ta_common/ -Iframes/   -g -O2 -MT libta_abstract_gc_la-table_j.lo -MD -MP -MF .deps/libta_abstract_gc_la-table_j.Tpo -c -o libta_abstract_gc_la-table_j.lo `test -f 'tables/table_j.c' || echo './'`tables/table_j.c\n",
            " gcc -DHAVE_CONFIG_H -I. -I../../include -DTA_GEN_CODE -I../ta_common/ -Iframes/ -g -O2 -MT libta_abstract_gc_la-table_j.lo -MD -MP -MF .deps/libta_abstract_gc_la-table_j.Tpo -c tables/table_j.c  -fPIC -DPIC -o .libs/libta_abstract_gc_la-table_j.o\n",
            " gcc -DHAVE_CONFIG_H -I. -I../../include -DTA_GEN_CODE -I../ta_common/ -Iframes/ -g -O2 -MT libta_abstract_gc_la-table_j.lo -MD -MP -MF .deps/libta_abstract_gc_la-table_j.Tpo -c tables/table_j.c -o libta_abstract_gc_la-table_j.o >/dev/null 2>&1\n",
            "mv -f .deps/libta_abstract_gc_la-table_j.Tpo .deps/libta_abstract_gc_la-table_j.Plo\n",
            "/bin/bash ../../libtool --tag=CC   --mode=compile gcc -DHAVE_CONFIG_H -I. -I../../include  -DTA_GEN_CODE -I../ta_common/ -Iframes/   -g -O2 -MT libta_abstract_gc_la-table_k.lo -MD -MP -MF .deps/libta_abstract_gc_la-table_k.Tpo -c -o libta_abstract_gc_la-table_k.lo `test -f 'tables/table_k.c' || echo './'`tables/table_k.c\n",
            " gcc -DHAVE_CONFIG_H -I. -I../../include -DTA_GEN_CODE -I../ta_common/ -Iframes/ -g -O2 -MT libta_abstract_gc_la-table_k.lo -MD -MP -MF .deps/libta_abstract_gc_la-table_k.Tpo -c tables/table_k.c  -fPIC -DPIC -o .libs/libta_abstract_gc_la-table_k.o\n",
            " gcc -DHAVE_CONFIG_H -I. -I../../include -DTA_GEN_CODE -I../ta_common/ -Iframes/ -g -O2 -MT libta_abstract_gc_la-table_k.lo -MD -MP -MF .deps/libta_abstract_gc_la-table_k.Tpo -c tables/table_k.c -o libta_abstract_gc_la-table_k.o >/dev/null 2>&1\n",
            "mv -f .deps/libta_abstract_gc_la-table_k.Tpo .deps/libta_abstract_gc_la-table_k.Plo\n",
            "/bin/bash ../../libtool --tag=CC   --mode=compile gcc -DHAVE_CONFIG_H -I. -I../../include  -DTA_GEN_CODE -I../ta_common/ -Iframes/   -g -O2 -MT libta_abstract_gc_la-table_l.lo -MD -MP -MF .deps/libta_abstract_gc_la-table_l.Tpo -c -o libta_abstract_gc_la-table_l.lo `test -f 'tables/table_l.c' || echo './'`tables/table_l.c\n",
            " gcc -DHAVE_CONFIG_H -I. -I../../include -DTA_GEN_CODE -I../ta_common/ -Iframes/ -g -O2 -MT libta_abstract_gc_la-table_l.lo -MD -MP -MF .deps/libta_abstract_gc_la-table_l.Tpo -c tables/table_l.c  -fPIC -DPIC -o .libs/libta_abstract_gc_la-table_l.o\n",
            " gcc -DHAVE_CONFIG_H -I. -I../../include -DTA_GEN_CODE -I../ta_common/ -Iframes/ -g -O2 -MT libta_abstract_gc_la-table_l.lo -MD -MP -MF .deps/libta_abstract_gc_la-table_l.Tpo -c tables/table_l.c -o libta_abstract_gc_la-table_l.o >/dev/null 2>&1\n",
            "mv -f .deps/libta_abstract_gc_la-table_l.Tpo .deps/libta_abstract_gc_la-table_l.Plo\n",
            "/bin/bash ../../libtool --tag=CC   --mode=compile gcc -DHAVE_CONFIG_H -I. -I../../include  -DTA_GEN_CODE -I../ta_common/ -Iframes/   -g -O2 -MT libta_abstract_gc_la-table_m.lo -MD -MP -MF .deps/libta_abstract_gc_la-table_m.Tpo -c -o libta_abstract_gc_la-table_m.lo `test -f 'tables/table_m.c' || echo './'`tables/table_m.c\n",
            " gcc -DHAVE_CONFIG_H -I. -I../../include -DTA_GEN_CODE -I../ta_common/ -Iframes/ -g -O2 -MT libta_abstract_gc_la-table_m.lo -MD -MP -MF .deps/libta_abstract_gc_la-table_m.Tpo -c tables/table_m.c  -fPIC -DPIC -o .libs/libta_abstract_gc_la-table_m.o\n",
            " gcc -DHAVE_CONFIG_H -I. -I../../include -DTA_GEN_CODE -I../ta_common/ -Iframes/ -g -O2 -MT libta_abstract_gc_la-table_m.lo -MD -MP -MF .deps/libta_abstract_gc_la-table_m.Tpo -c tables/table_m.c -o libta_abstract_gc_la-table_m.o >/dev/null 2>&1\n",
            "mv -f .deps/libta_abstract_gc_la-table_m.Tpo .deps/libta_abstract_gc_la-table_m.Plo\n",
            "/bin/bash ../../libtool --tag=CC   --mode=compile gcc -DHAVE_CONFIG_H -I. -I../../include  -DTA_GEN_CODE -I../ta_common/ -Iframes/   -g -O2 -MT libta_abstract_gc_la-table_n.lo -MD -MP -MF .deps/libta_abstract_gc_la-table_n.Tpo -c -o libta_abstract_gc_la-table_n.lo `test -f 'tables/table_n.c' || echo './'`tables/table_n.c\n",
            " gcc -DHAVE_CONFIG_H -I. -I../../include -DTA_GEN_CODE -I../ta_common/ -Iframes/ -g -O2 -MT libta_abstract_gc_la-table_n.lo -MD -MP -MF .deps/libta_abstract_gc_la-table_n.Tpo -c tables/table_n.c  -fPIC -DPIC -o .libs/libta_abstract_gc_la-table_n.o\n",
            " gcc -DHAVE_CONFIG_H -I. -I../../include -DTA_GEN_CODE -I../ta_common/ -Iframes/ -g -O2 -MT libta_abstract_gc_la-table_n.lo -MD -MP -MF .deps/libta_abstract_gc_la-table_n.Tpo -c tables/table_n.c -o libta_abstract_gc_la-table_n.o >/dev/null 2>&1\n",
            "mv -f .deps/libta_abstract_gc_la-table_n.Tpo .deps/libta_abstract_gc_la-table_n.Plo\n",
            "/bin/bash ../../libtool --tag=CC   --mode=compile gcc -DHAVE_CONFIG_H -I. -I../../include  -DTA_GEN_CODE -I../ta_common/ -Iframes/   -g -O2 -MT libta_abstract_gc_la-table_o.lo -MD -MP -MF .deps/libta_abstract_gc_la-table_o.Tpo -c -o libta_abstract_gc_la-table_o.lo `test -f 'tables/table_o.c' || echo './'`tables/table_o.c\n",
            " gcc -DHAVE_CONFIG_H -I. -I../../include -DTA_GEN_CODE -I../ta_common/ -Iframes/ -g -O2 -MT libta_abstract_gc_la-table_o.lo -MD -MP -MF .deps/libta_abstract_gc_la-table_o.Tpo -c tables/table_o.c  -fPIC -DPIC -o .libs/libta_abstract_gc_la-table_o.o\n",
            " gcc -DHAVE_CONFIG_H -I. -I../../include -DTA_GEN_CODE -I../ta_common/ -Iframes/ -g -O2 -MT libta_abstract_gc_la-table_o.lo -MD -MP -MF .deps/libta_abstract_gc_la-table_o.Tpo -c tables/table_o.c -o libta_abstract_gc_la-table_o.o >/dev/null 2>&1\n",
            "mv -f .deps/libta_abstract_gc_la-table_o.Tpo .deps/libta_abstract_gc_la-table_o.Plo\n",
            "/bin/bash ../../libtool --tag=CC   --mode=compile gcc -DHAVE_CONFIG_H -I. -I../../include  -DTA_GEN_CODE -I../ta_common/ -Iframes/   -g -O2 -MT libta_abstract_gc_la-table_p.lo -MD -MP -MF .deps/libta_abstract_gc_la-table_p.Tpo -c -o libta_abstract_gc_la-table_p.lo `test -f 'tables/table_p.c' || echo './'`tables/table_p.c\n",
            " gcc -DHAVE_CONFIG_H -I. -I../../include -DTA_GEN_CODE -I../ta_common/ -Iframes/ -g -O2 -MT libta_abstract_gc_la-table_p.lo -MD -MP -MF .deps/libta_abstract_gc_la-table_p.Tpo -c tables/table_p.c  -fPIC -DPIC -o .libs/libta_abstract_gc_la-table_p.o\n",
            " gcc -DHAVE_CONFIG_H -I. -I../../include -DTA_GEN_CODE -I../ta_common/ -Iframes/ -g -O2 -MT libta_abstract_gc_la-table_p.lo -MD -MP -MF .deps/libta_abstract_gc_la-table_p.Tpo -c tables/table_p.c -o libta_abstract_gc_la-table_p.o >/dev/null 2>&1\n",
            "mv -f .deps/libta_abstract_gc_la-table_p.Tpo .deps/libta_abstract_gc_la-table_p.Plo\n",
            "/bin/bash ../../libtool --tag=CC   --mode=compile gcc -DHAVE_CONFIG_H -I. -I../../include  -DTA_GEN_CODE -I../ta_common/ -Iframes/   -g -O2 -MT libta_abstract_gc_la-table_q.lo -MD -MP -MF .deps/libta_abstract_gc_la-table_q.Tpo -c -o libta_abstract_gc_la-table_q.lo `test -f 'tables/table_q.c' || echo './'`tables/table_q.c\n",
            " gcc -DHAVE_CONFIG_H -I. -I../../include -DTA_GEN_CODE -I../ta_common/ -Iframes/ -g -O2 -MT libta_abstract_gc_la-table_q.lo -MD -MP -MF .deps/libta_abstract_gc_la-table_q.Tpo -c tables/table_q.c  -fPIC -DPIC -o .libs/libta_abstract_gc_la-table_q.o\n",
            " gcc -DHAVE_CONFIG_H -I. -I../../include -DTA_GEN_CODE -I../ta_common/ -Iframes/ -g -O2 -MT libta_abstract_gc_la-table_q.lo -MD -MP -MF .deps/libta_abstract_gc_la-table_q.Tpo -c tables/table_q.c -o libta_abstract_gc_la-table_q.o >/dev/null 2>&1\n",
            "mv -f .deps/libta_abstract_gc_la-table_q.Tpo .deps/libta_abstract_gc_la-table_q.Plo\n",
            "/bin/bash ../../libtool --tag=CC   --mode=compile gcc -DHAVE_CONFIG_H -I. -I../../include  -DTA_GEN_CODE -I../ta_common/ -Iframes/   -g -O2 -MT libta_abstract_gc_la-table_r.lo -MD -MP -MF .deps/libta_abstract_gc_la-table_r.Tpo -c -o libta_abstract_gc_la-table_r.lo `test -f 'tables/table_r.c' || echo './'`tables/table_r.c\n",
            " gcc -DHAVE_CONFIG_H -I. -I../../include -DTA_GEN_CODE -I../ta_common/ -Iframes/ -g -O2 -MT libta_abstract_gc_la-table_r.lo -MD -MP -MF .deps/libta_abstract_gc_la-table_r.Tpo -c tables/table_r.c  -fPIC -DPIC -o .libs/libta_abstract_gc_la-table_r.o\n",
            " gcc -DHAVE_CONFIG_H -I. -I../../include -DTA_GEN_CODE -I../ta_common/ -Iframes/ -g -O2 -MT libta_abstract_gc_la-table_r.lo -MD -MP -MF .deps/libta_abstract_gc_la-table_r.Tpo -c tables/table_r.c -o libta_abstract_gc_la-table_r.o >/dev/null 2>&1\n",
            "mv -f .deps/libta_abstract_gc_la-table_r.Tpo .deps/libta_abstract_gc_la-table_r.Plo\n",
            "/bin/bash ../../libtool --tag=CC   --mode=compile gcc -DHAVE_CONFIG_H -I. -I../../include  -DTA_GEN_CODE -I../ta_common/ -Iframes/   -g -O2 -MT libta_abstract_gc_la-table_s.lo -MD -MP -MF .deps/libta_abstract_gc_la-table_s.Tpo -c -o libta_abstract_gc_la-table_s.lo `test -f 'tables/table_s.c' || echo './'`tables/table_s.c\n",
            " gcc -DHAVE_CONFIG_H -I. -I../../include -DTA_GEN_CODE -I../ta_common/ -Iframes/ -g -O2 -MT libta_abstract_gc_la-table_s.lo -MD -MP -MF .deps/libta_abstract_gc_la-table_s.Tpo -c tables/table_s.c  -fPIC -DPIC -o .libs/libta_abstract_gc_la-table_s.o\n",
            " gcc -DHAVE_CONFIG_H -I. -I../../include -DTA_GEN_CODE -I../ta_common/ -Iframes/ -g -O2 -MT libta_abstract_gc_la-table_s.lo -MD -MP -MF .deps/libta_abstract_gc_la-table_s.Tpo -c tables/table_s.c -o libta_abstract_gc_la-table_s.o >/dev/null 2>&1\n",
            "mv -f .deps/libta_abstract_gc_la-table_s.Tpo .deps/libta_abstract_gc_la-table_s.Plo\n",
            "/bin/bash ../../libtool --tag=CC   --mode=compile gcc -DHAVE_CONFIG_H -I. -I../../include  -DTA_GEN_CODE -I../ta_common/ -Iframes/   -g -O2 -MT libta_abstract_gc_la-table_t.lo -MD -MP -MF .deps/libta_abstract_gc_la-table_t.Tpo -c -o libta_abstract_gc_la-table_t.lo `test -f 'tables/table_t.c' || echo './'`tables/table_t.c\n",
            " gcc -DHAVE_CONFIG_H -I. -I../../include -DTA_GEN_CODE -I../ta_common/ -Iframes/ -g -O2 -MT libta_abstract_gc_la-table_t.lo -MD -MP -MF .deps/libta_abstract_gc_la-table_t.Tpo -c tables/table_t.c  -fPIC -DPIC -o .libs/libta_abstract_gc_la-table_t.o\n",
            " gcc -DHAVE_CONFIG_H -I. -I../../include -DTA_GEN_CODE -I../ta_common/ -Iframes/ -g -O2 -MT libta_abstract_gc_la-table_t.lo -MD -MP -MF .deps/libta_abstract_gc_la-table_t.Tpo -c tables/table_t.c -o libta_abstract_gc_la-table_t.o >/dev/null 2>&1\n",
            "mv -f .deps/libta_abstract_gc_la-table_t.Tpo .deps/libta_abstract_gc_la-table_t.Plo\n",
            "/bin/bash ../../libtool --tag=CC   --mode=compile gcc -DHAVE_CONFIG_H -I. -I../../include  -DTA_GEN_CODE -I../ta_common/ -Iframes/   -g -O2 -MT libta_abstract_gc_la-table_u.lo -MD -MP -MF .deps/libta_abstract_gc_la-table_u.Tpo -c -o libta_abstract_gc_la-table_u.lo `test -f 'tables/table_u.c' || echo './'`tables/table_u.c\n",
            " gcc -DHAVE_CONFIG_H -I. -I../../include -DTA_GEN_CODE -I../ta_common/ -Iframes/ -g -O2 -MT libta_abstract_gc_la-table_u.lo -MD -MP -MF .deps/libta_abstract_gc_la-table_u.Tpo -c tables/table_u.c  -fPIC -DPIC -o .libs/libta_abstract_gc_la-table_u.o\n",
            " gcc -DHAVE_CONFIG_H -I. -I../../include -DTA_GEN_CODE -I../ta_common/ -Iframes/ -g -O2 -MT libta_abstract_gc_la-table_u.lo -MD -MP -MF .deps/libta_abstract_gc_la-table_u.Tpo -c tables/table_u.c -o libta_abstract_gc_la-table_u.o >/dev/null 2>&1\n",
            "mv -f .deps/libta_abstract_gc_la-table_u.Tpo .deps/libta_abstract_gc_la-table_u.Plo\n",
            "/bin/bash ../../libtool --tag=CC   --mode=compile gcc -DHAVE_CONFIG_H -I. -I../../include  -DTA_GEN_CODE -I../ta_common/ -Iframes/   -g -O2 -MT libta_abstract_gc_la-table_v.lo -MD -MP -MF .deps/libta_abstract_gc_la-table_v.Tpo -c -o libta_abstract_gc_la-table_v.lo `test -f 'tables/table_v.c' || echo './'`tables/table_v.c\n",
            " gcc -DHAVE_CONFIG_H -I. -I../../include -DTA_GEN_CODE -I../ta_common/ -Iframes/ -g -O2 -MT libta_abstract_gc_la-table_v.lo -MD -MP -MF .deps/libta_abstract_gc_la-table_v.Tpo -c tables/table_v.c  -fPIC -DPIC -o .libs/libta_abstract_gc_la-table_v.o\n",
            " gcc -DHAVE_CONFIG_H -I. -I../../include -DTA_GEN_CODE -I../ta_common/ -Iframes/ -g -O2 -MT libta_abstract_gc_la-table_v.lo -MD -MP -MF .deps/libta_abstract_gc_la-table_v.Tpo -c tables/table_v.c -o libta_abstract_gc_la-table_v.o >/dev/null 2>&1\n",
            "mv -f .deps/libta_abstract_gc_la-table_v.Tpo .deps/libta_abstract_gc_la-table_v.Plo\n",
            "/bin/bash ../../libtool --tag=CC   --mode=compile gcc -DHAVE_CONFIG_H -I. -I../../include  -DTA_GEN_CODE -I../ta_common/ -Iframes/   -g -O2 -MT libta_abstract_gc_la-table_w.lo -MD -MP -MF .deps/libta_abstract_gc_la-table_w.Tpo -c -o libta_abstract_gc_la-table_w.lo `test -f 'tables/table_w.c' || echo './'`tables/table_w.c\n",
            " gcc -DHAVE_CONFIG_H -I. -I../../include -DTA_GEN_CODE -I../ta_common/ -Iframes/ -g -O2 -MT libta_abstract_gc_la-table_w.lo -MD -MP -MF .deps/libta_abstract_gc_la-table_w.Tpo -c tables/table_w.c  -fPIC -DPIC -o .libs/libta_abstract_gc_la-table_w.o\n",
            " gcc -DHAVE_CONFIG_H -I. -I../../include -DTA_GEN_CODE -I../ta_common/ -Iframes/ -g -O2 -MT libta_abstract_gc_la-table_w.lo -MD -MP -MF .deps/libta_abstract_gc_la-table_w.Tpo -c tables/table_w.c -o libta_abstract_gc_la-table_w.o >/dev/null 2>&1\n",
            "mv -f .deps/libta_abstract_gc_la-table_w.Tpo .deps/libta_abstract_gc_la-table_w.Plo\n",
            "/bin/bash ../../libtool --tag=CC   --mode=compile gcc -DHAVE_CONFIG_H -I. -I../../include  -DTA_GEN_CODE -I../ta_common/ -Iframes/   -g -O2 -MT libta_abstract_gc_la-table_x.lo -MD -MP -MF .deps/libta_abstract_gc_la-table_x.Tpo -c -o libta_abstract_gc_la-table_x.lo `test -f 'tables/table_x.c' || echo './'`tables/table_x.c\n",
            " gcc -DHAVE_CONFIG_H -I. -I../../include -DTA_GEN_CODE -I../ta_common/ -Iframes/ -g -O2 -MT libta_abstract_gc_la-table_x.lo -MD -MP -MF .deps/libta_abstract_gc_la-table_x.Tpo -c tables/table_x.c  -fPIC -DPIC -o .libs/libta_abstract_gc_la-table_x.o\n",
            " gcc -DHAVE_CONFIG_H -I. -I../../include -DTA_GEN_CODE -I../ta_common/ -Iframes/ -g -O2 -MT libta_abstract_gc_la-table_x.lo -MD -MP -MF .deps/libta_abstract_gc_la-table_x.Tpo -c tables/table_x.c -o libta_abstract_gc_la-table_x.o >/dev/null 2>&1\n",
            "mv -f .deps/libta_abstract_gc_la-table_x.Tpo .deps/libta_abstract_gc_la-table_x.Plo\n",
            "/bin/bash ../../libtool --tag=CC   --mode=compile gcc -DHAVE_CONFIG_H -I. -I../../include  -DTA_GEN_CODE -I../ta_common/ -Iframes/   -g -O2 -MT libta_abstract_gc_la-table_y.lo -MD -MP -MF .deps/libta_abstract_gc_la-table_y.Tpo -c -o libta_abstract_gc_la-table_y.lo `test -f 'tables/table_y.c' || echo './'`tables/table_y.c\n",
            " gcc -DHAVE_CONFIG_H -I. -I../../include -DTA_GEN_CODE -I../ta_common/ -Iframes/ -g -O2 -MT libta_abstract_gc_la-table_y.lo -MD -MP -MF .deps/libta_abstract_gc_la-table_y.Tpo -c tables/table_y.c  -fPIC -DPIC -o .libs/libta_abstract_gc_la-table_y.o\n",
            " gcc -DHAVE_CONFIG_H -I. -I../../include -DTA_GEN_CODE -I../ta_common/ -Iframes/ -g -O2 -MT libta_abstract_gc_la-table_y.lo -MD -MP -MF .deps/libta_abstract_gc_la-table_y.Tpo -c tables/table_y.c -o libta_abstract_gc_la-table_y.o >/dev/null 2>&1\n",
            "mv -f .deps/libta_abstract_gc_la-table_y.Tpo .deps/libta_abstract_gc_la-table_y.Plo\n",
            "/bin/bash ../../libtool --tag=CC   --mode=compile gcc -DHAVE_CONFIG_H -I. -I../../include  -DTA_GEN_CODE -I../ta_common/ -Iframes/   -g -O2 -MT libta_abstract_gc_la-table_z.lo -MD -MP -MF .deps/libta_abstract_gc_la-table_z.Tpo -c -o libta_abstract_gc_la-table_z.lo `test -f 'tables/table_z.c' || echo './'`tables/table_z.c\n",
            " gcc -DHAVE_CONFIG_H -I. -I../../include -DTA_GEN_CODE -I../ta_common/ -Iframes/ -g -O2 -MT libta_abstract_gc_la-table_z.lo -MD -MP -MF .deps/libta_abstract_gc_la-table_z.Tpo -c tables/table_z.c  -fPIC -DPIC -o .libs/libta_abstract_gc_la-table_z.o\n",
            " gcc -DHAVE_CONFIG_H -I. -I../../include -DTA_GEN_CODE -I../ta_common/ -Iframes/ -g -O2 -MT libta_abstract_gc_la-table_z.lo -MD -MP -MF .deps/libta_abstract_gc_la-table_z.Tpo -c tables/table_z.c -o libta_abstract_gc_la-table_z.o >/dev/null 2>&1\n",
            "mv -f .deps/libta_abstract_gc_la-table_z.Tpo .deps/libta_abstract_gc_la-table_z.Plo\n",
            "/bin/bash ../../libtool --tag=CC   --mode=link gcc  -g -O2 -version-info 0:0:0  -o libta_abstract_gc.la  libta_abstract_gc_la-ta_group_idx.lo libta_abstract_gc_la-ta_def_ui.lo libta_abstract_gc_la-ta_abstract.lo libta_abstract_gc_la-ta_func_api.lo libta_abstract_gc_la-ta_frame.lo libta_abstract_gc_la-table_a.lo libta_abstract_gc_la-table_b.lo libta_abstract_gc_la-table_c.lo libta_abstract_gc_la-table_d.lo libta_abstract_gc_la-table_e.lo libta_abstract_gc_la-table_f.lo libta_abstract_gc_la-table_g.lo libta_abstract_gc_la-table_h.lo libta_abstract_gc_la-table_i.lo libta_abstract_gc_la-table_j.lo libta_abstract_gc_la-table_k.lo libta_abstract_gc_la-table_l.lo libta_abstract_gc_la-table_m.lo libta_abstract_gc_la-table_n.lo libta_abstract_gc_la-table_o.lo libta_abstract_gc_la-table_p.lo libta_abstract_gc_la-table_q.lo libta_abstract_gc_la-table_r.lo libta_abstract_gc_la-table_s.lo libta_abstract_gc_la-table_t.lo libta_abstract_gc_la-table_u.lo libta_abstract_gc_la-table_v.lo libta_abstract_gc_la-table_w.lo libta_abstract_gc_la-table_x.lo libta_abstract_gc_la-table_y.lo libta_abstract_gc_la-table_z.lo  -lpthread -ldl \n",
            "libtool: link: warning: `-version-info/-version-number' is ignored for convenience libraries\n",
            "ar cru .libs/libta_abstract_gc.a .libs/libta_abstract_gc_la-ta_group_idx.o .libs/libta_abstract_gc_la-ta_def_ui.o .libs/libta_abstract_gc_la-ta_abstract.o .libs/libta_abstract_gc_la-ta_func_api.o .libs/libta_abstract_gc_la-ta_frame.o .libs/libta_abstract_gc_la-table_a.o .libs/libta_abstract_gc_la-table_b.o .libs/libta_abstract_gc_la-table_c.o .libs/libta_abstract_gc_la-table_d.o .libs/libta_abstract_gc_la-table_e.o .libs/libta_abstract_gc_la-table_f.o .libs/libta_abstract_gc_la-table_g.o .libs/libta_abstract_gc_la-table_h.o .libs/libta_abstract_gc_la-table_i.o .libs/libta_abstract_gc_la-table_j.o .libs/libta_abstract_gc_la-table_k.o .libs/libta_abstract_gc_la-table_l.o .libs/libta_abstract_gc_la-table_m.o .libs/libta_abstract_gc_la-table_n.o .libs/libta_abstract_gc_la-table_o.o .libs/libta_abstract_gc_la-table_p.o .libs/libta_abstract_gc_la-table_q.o .libs/libta_abstract_gc_la-table_r.o .libs/libta_abstract_gc_la-table_s.o .libs/libta_abstract_gc_la-table_t.o .libs/libta_abstract_gc_la-table_u.o .libs/libta_abstract_gc_la-table_v.o .libs/libta_abstract_gc_la-table_w.o .libs/libta_abstract_gc_la-table_x.o .libs/libta_abstract_gc_la-table_y.o .libs/libta_abstract_gc_la-table_z.o\n",
            "ar: `u' modifier ignored since `D' is the default (see `U')\n",
            "ranlib .libs/libta_abstract_gc.a\n",
            "creating libta_abstract_gc.la\n",
            "(cd .libs && rm -f libta_abstract_gc.la && ln -s ../libta_abstract_gc.la libta_abstract_gc.la)\n",
            "make[2]: Leaving directory '/content/ta-lib/src/ta_abstract'\n",
            "Making all in ta_common\n",
            "make[2]: Entering directory '/content/ta-lib/src/ta_common'\n",
            "/bin/bash ../../libtool --tag=CC   --mode=compile gcc -DHAVE_CONFIG_H -I. -I../../include  -I../ta_common/   -g -O2 -MT ta_global.lo -MD -MP -MF .deps/ta_global.Tpo -c -o ta_global.lo ta_global.c\n",
            "mkdir .libs\n",
            " gcc -DHAVE_CONFIG_H -I. -I../../include -I../ta_common/ -g -O2 -MT ta_global.lo -MD -MP -MF .deps/ta_global.Tpo -c ta_global.c  -fPIC -DPIC -o .libs/ta_global.o\n",
            " gcc -DHAVE_CONFIG_H -I. -I../../include -I../ta_common/ -g -O2 -MT ta_global.lo -MD -MP -MF .deps/ta_global.Tpo -c ta_global.c -o ta_global.o >/dev/null 2>&1\n",
            "mv -f .deps/ta_global.Tpo .deps/ta_global.Plo\n",
            "/bin/bash ../../libtool --tag=CC   --mode=compile gcc -DHAVE_CONFIG_H -I. -I../../include  -I../ta_common/   -g -O2 -MT ta_retcode.lo -MD -MP -MF .deps/ta_retcode.Tpo -c -o ta_retcode.lo ta_retcode.c\n",
            " gcc -DHAVE_CONFIG_H -I. -I../../include -I../ta_common/ -g -O2 -MT ta_retcode.lo -MD -MP -MF .deps/ta_retcode.Tpo -c ta_retcode.c  -fPIC -DPIC -o .libs/ta_retcode.o\n",
            " gcc -DHAVE_CONFIG_H -I. -I../../include -I../ta_common/ -g -O2 -MT ta_retcode.lo -MD -MP -MF .deps/ta_retcode.Tpo -c ta_retcode.c -o ta_retcode.o >/dev/null 2>&1\n",
            "mv -f .deps/ta_retcode.Tpo .deps/ta_retcode.Plo\n",
            "/bin/bash ../../libtool --tag=CC   --mode=compile gcc -DHAVE_CONFIG_H -I. -I../../include  -I../ta_common/   -g -O2 -MT ta_version.lo -MD -MP -MF .deps/ta_version.Tpo -c -o ta_version.lo ta_version.c\n",
            " gcc -DHAVE_CONFIG_H -I. -I../../include -I../ta_common/ -g -O2 -MT ta_version.lo -MD -MP -MF .deps/ta_version.Tpo -c ta_version.c  -fPIC -DPIC -o .libs/ta_version.o\n",
            " gcc -DHAVE_CONFIG_H -I. -I../../include -I../ta_common/ -g -O2 -MT ta_version.lo -MD -MP -MF .deps/ta_version.Tpo -c ta_version.c -o ta_version.o >/dev/null 2>&1\n",
            "mv -f .deps/ta_version.Tpo .deps/ta_version.Plo\n",
            "/bin/bash ../../libtool --tag=CC   --mode=link gcc  -g -O2 -version-info 0:0:0  -o libta_common.la  ta_global.lo ta_retcode.lo ta_version.lo  -lpthread -ldl \n",
            "libtool: link: warning: `-version-info/-version-number' is ignored for convenience libraries\n",
            "ar cru .libs/libta_common.a .libs/ta_global.o .libs/ta_retcode.o .libs/ta_version.o\n",
            "ar: `u' modifier ignored since `D' is the default (see `U')\n",
            "ranlib .libs/libta_common.a\n",
            "creating libta_common.la\n",
            "(cd .libs && rm -f libta_common.la && ln -s ../libta_common.la libta_common.la)\n",
            "make[2]: Leaving directory '/content/ta-lib/src/ta_common'\n",
            "Making all in ta_func\n",
            "make[2]: Entering directory '/content/ta-lib/src/ta_func'\n",
            "/bin/bash ../../libtool --tag=CC   --mode=compile gcc -DHAVE_CONFIG_H -I. -I../../include  -I../ta_common/   -g -O2 -MT ta_utility.lo -MD -MP -MF .deps/ta_utility.Tpo -c -o ta_utility.lo ta_utility.c\n",
            "mkdir .libs\n",
            " gcc -DHAVE_CONFIG_H -I. -I../../include -I../ta_common/ -g -O2 -MT ta_utility.lo -MD -MP -MF .deps/ta_utility.Tpo -c ta_utility.c  -fPIC -DPIC -o .libs/ta_utility.o\n",
            " gcc -DHAVE_CONFIG_H -I. -I../../include -I../ta_common/ -g -O2 -MT ta_utility.lo -MD -MP -MF .deps/ta_utility.Tpo -c ta_utility.c -o ta_utility.o >/dev/null 2>&1\n",
            "mv -f .deps/ta_utility.Tpo .deps/ta_utility.Plo\n",
            "/bin/bash ../../libtool --tag=CC   --mode=compile gcc -DHAVE_CONFIG_H -I. -I../../include  -I../ta_common/   -g -O2 -MT ta_ACOS.lo -MD -MP -MF .deps/ta_ACOS.Tpo -c -o ta_ACOS.lo ta_ACOS.c\n",
            " gcc -DHAVE_CONFIG_H -I. -I../../include -I../ta_common/ -g -O2 -MT ta_ACOS.lo -MD -MP -MF .deps/ta_ACOS.Tpo -c ta_ACOS.c  -fPIC -DPIC -o .libs/ta_ACOS.o\n",
            " gcc -DHAVE_CONFIG_H -I. -I../../include -I../ta_common/ -g -O2 -MT ta_ACOS.lo -MD -MP -MF .deps/ta_ACOS.Tpo -c ta_ACOS.c -o ta_ACOS.o >/dev/null 2>&1\n",
            "mv -f .deps/ta_ACOS.Tpo .deps/ta_ACOS.Plo\n",
            "/bin/bash ../../libtool --tag=CC   --mode=compile gcc -DHAVE_CONFIG_H -I. -I../../include  -I../ta_common/   -g -O2 -MT ta_AD.lo -MD -MP -MF .deps/ta_AD.Tpo -c -o ta_AD.lo ta_AD.c\n",
            " gcc -DHAVE_CONFIG_H -I. -I../../include -I../ta_common/ -g -O2 -MT ta_AD.lo -MD -MP -MF .deps/ta_AD.Tpo -c ta_AD.c  -fPIC -DPIC -o .libs/ta_AD.o\n",
            " gcc -DHAVE_CONFIG_H -I. -I../../include -I../ta_common/ -g -O2 -MT ta_AD.lo -MD -MP -MF .deps/ta_AD.Tpo -c ta_AD.c -o ta_AD.o >/dev/null 2>&1\n",
            "mv -f .deps/ta_AD.Tpo .deps/ta_AD.Plo\n",
            "/bin/bash ../../libtool --tag=CC   --mode=compile gcc -DHAVE_CONFIG_H -I. -I../../include  -I../ta_common/   -g -O2 -MT ta_ADD.lo -MD -MP -MF .deps/ta_ADD.Tpo -c -o ta_ADD.lo ta_ADD.c\n",
            " gcc -DHAVE_CONFIG_H -I. -I../../include -I../ta_common/ -g -O2 -MT ta_ADD.lo -MD -MP -MF .deps/ta_ADD.Tpo -c ta_ADD.c  -fPIC -DPIC -o .libs/ta_ADD.o\n",
            " gcc -DHAVE_CONFIG_H -I. -I../../include -I../ta_common/ -g -O2 -MT ta_ADD.lo -MD -MP -MF .deps/ta_ADD.Tpo -c ta_ADD.c -o ta_ADD.o >/dev/null 2>&1\n",
            "mv -f .deps/ta_ADD.Tpo .deps/ta_ADD.Plo\n",
            "/bin/bash ../../libtool --tag=CC   --mode=compile gcc -DHAVE_CONFIG_H -I. -I../../include  -I../ta_common/   -g -O2 -MT ta_ADOSC.lo -MD -MP -MF .deps/ta_ADOSC.Tpo -c -o ta_ADOSC.lo ta_ADOSC.c\n",
            " gcc -DHAVE_CONFIG_H -I. -I../../include -I../ta_common/ -g -O2 -MT ta_ADOSC.lo -MD -MP -MF .deps/ta_ADOSC.Tpo -c ta_ADOSC.c  -fPIC -DPIC -o .libs/ta_ADOSC.o\n",
            " gcc -DHAVE_CONFIG_H -I. -I../../include -I../ta_common/ -g -O2 -MT ta_ADOSC.lo -MD -MP -MF .deps/ta_ADOSC.Tpo -c ta_ADOSC.c -o ta_ADOSC.o >/dev/null 2>&1\n",
            "mv -f .deps/ta_ADOSC.Tpo .deps/ta_ADOSC.Plo\n",
            "/bin/bash ../../libtool --tag=CC   --mode=compile gcc -DHAVE_CONFIG_H -I. -I../../include  -I../ta_common/   -g -O2 -MT ta_ADX.lo -MD -MP -MF .deps/ta_ADX.Tpo -c -o ta_ADX.lo ta_ADX.c\n",
            " gcc -DHAVE_CONFIG_H -I. -I../../include -I../ta_common/ -g -O2 -MT ta_ADX.lo -MD -MP -MF .deps/ta_ADX.Tpo -c ta_ADX.c  -fPIC -DPIC -o .libs/ta_ADX.o\n",
            " gcc -DHAVE_CONFIG_H -I. -I../../include -I../ta_common/ -g -O2 -MT ta_ADX.lo -MD -MP -MF .deps/ta_ADX.Tpo -c ta_ADX.c -o ta_ADX.o >/dev/null 2>&1\n",
            "mv -f .deps/ta_ADX.Tpo .deps/ta_ADX.Plo\n",
            "/bin/bash ../../libtool --tag=CC   --mode=compile gcc -DHAVE_CONFIG_H -I. -I../../include  -I../ta_common/   -g -O2 -MT ta_ADXR.lo -MD -MP -MF .deps/ta_ADXR.Tpo -c -o ta_ADXR.lo ta_ADXR.c\n",
            " gcc -DHAVE_CONFIG_H -I. -I../../include -I../ta_common/ -g -O2 -MT ta_ADXR.lo -MD -MP -MF .deps/ta_ADXR.Tpo -c ta_ADXR.c  -fPIC -DPIC -o .libs/ta_ADXR.o\n",
            " gcc -DHAVE_CONFIG_H -I. -I../../include -I../ta_common/ -g -O2 -MT ta_ADXR.lo -MD -MP -MF .deps/ta_ADXR.Tpo -c ta_ADXR.c -o ta_ADXR.o >/dev/null 2>&1\n",
            "mv -f .deps/ta_ADXR.Tpo .deps/ta_ADXR.Plo\n",
            "/bin/bash ../../libtool --tag=CC   --mode=compile gcc -DHAVE_CONFIG_H -I. -I../../include  -I../ta_common/   -g -O2 -MT ta_APO.lo -MD -MP -MF .deps/ta_APO.Tpo -c -o ta_APO.lo ta_APO.c\n",
            " gcc -DHAVE_CONFIG_H -I. -I../../include -I../ta_common/ -g -O2 -MT ta_APO.lo -MD -MP -MF .deps/ta_APO.Tpo -c ta_APO.c  -fPIC -DPIC -o .libs/ta_APO.o\n",
            " gcc -DHAVE_CONFIG_H -I. -I../../include -I../ta_common/ -g -O2 -MT ta_APO.lo -MD -MP -MF .deps/ta_APO.Tpo -c ta_APO.c -o ta_APO.o >/dev/null 2>&1\n",
            "mv -f .deps/ta_APO.Tpo .deps/ta_APO.Plo\n",
            "/bin/bash ../../libtool --tag=CC   --mode=compile gcc -DHAVE_CONFIG_H -I. -I../../include  -I../ta_common/   -g -O2 -MT ta_AROON.lo -MD -MP -MF .deps/ta_AROON.Tpo -c -o ta_AROON.lo ta_AROON.c\n",
            " gcc -DHAVE_CONFIG_H -I. -I../../include -I../ta_common/ -g -O2 -MT ta_AROON.lo -MD -MP -MF .deps/ta_AROON.Tpo -c ta_AROON.c  -fPIC -DPIC -o .libs/ta_AROON.o\n",
            " gcc -DHAVE_CONFIG_H -I. -I../../include -I../ta_common/ -g -O2 -MT ta_AROON.lo -MD -MP -MF .deps/ta_AROON.Tpo -c ta_AROON.c -o ta_AROON.o >/dev/null 2>&1\n",
            "mv -f .deps/ta_AROON.Tpo .deps/ta_AROON.Plo\n",
            "/bin/bash ../../libtool --tag=CC   --mode=compile gcc -DHAVE_CONFIG_H -I. -I../../include  -I../ta_common/   -g -O2 -MT ta_AROONOSC.lo -MD -MP -MF .deps/ta_AROONOSC.Tpo -c -o ta_AROONOSC.lo ta_AROONOSC.c\n",
            " gcc -DHAVE_CONFIG_H -I. -I../../include -I../ta_common/ -g -O2 -MT ta_AROONOSC.lo -MD -MP -MF .deps/ta_AROONOSC.Tpo -c ta_AROONOSC.c  -fPIC -DPIC -o .libs/ta_AROONOSC.o\n",
            " gcc -DHAVE_CONFIG_H -I. -I../../include -I../ta_common/ -g -O2 -MT ta_AROONOSC.lo -MD -MP -MF .deps/ta_AROONOSC.Tpo -c ta_AROONOSC.c -o ta_AROONOSC.o >/dev/null 2>&1\n",
            "mv -f .deps/ta_AROONOSC.Tpo .deps/ta_AROONOSC.Plo\n",
            "/bin/bash ../../libtool --tag=CC   --mode=compile gcc -DHAVE_CONFIG_H -I. -I../../include  -I../ta_common/   -g -O2 -MT ta_ASIN.lo -MD -MP -MF .deps/ta_ASIN.Tpo -c -o ta_ASIN.lo ta_ASIN.c\n",
            " gcc -DHAVE_CONFIG_H -I. -I../../include -I../ta_common/ -g -O2 -MT ta_ASIN.lo -MD -MP -MF .deps/ta_ASIN.Tpo -c ta_ASIN.c  -fPIC -DPIC -o .libs/ta_ASIN.o\n",
            " gcc -DHAVE_CONFIG_H -I. -I../../include -I../ta_common/ -g -O2 -MT ta_ASIN.lo -MD -MP -MF .deps/ta_ASIN.Tpo -c ta_ASIN.c -o ta_ASIN.o >/dev/null 2>&1\n",
            "mv -f .deps/ta_ASIN.Tpo .deps/ta_ASIN.Plo\n",
            "/bin/bash ../../libtool --tag=CC   --mode=compile gcc -DHAVE_CONFIG_H -I. -I../../include  -I../ta_common/   -g -O2 -MT ta_ATAN.lo -MD -MP -MF .deps/ta_ATAN.Tpo -c -o ta_ATAN.lo ta_ATAN.c\n",
            " gcc -DHAVE_CONFIG_H -I. -I../../include -I../ta_common/ -g -O2 -MT ta_ATAN.lo -MD -MP -MF .deps/ta_ATAN.Tpo -c ta_ATAN.c  -fPIC -DPIC -o .libs/ta_ATAN.o\n",
            " gcc -DHAVE_CONFIG_H -I. -I../../include -I../ta_common/ -g -O2 -MT ta_ATAN.lo -MD -MP -MF .deps/ta_ATAN.Tpo -c ta_ATAN.c -o ta_ATAN.o >/dev/null 2>&1\n",
            "mv -f .deps/ta_ATAN.Tpo .deps/ta_ATAN.Plo\n",
            "/bin/bash ../../libtool --tag=CC   --mode=compile gcc -DHAVE_CONFIG_H -I. -I../../include  -I../ta_common/   -g -O2 -MT ta_ATR.lo -MD -MP -MF .deps/ta_ATR.Tpo -c -o ta_ATR.lo ta_ATR.c\n",
            " gcc -DHAVE_CONFIG_H -I. -I../../include -I../ta_common/ -g -O2 -MT ta_ATR.lo -MD -MP -MF .deps/ta_ATR.Tpo -c ta_ATR.c  -fPIC -DPIC -o .libs/ta_ATR.o\n",
            " gcc -DHAVE_CONFIG_H -I. -I../../include -I../ta_common/ -g -O2 -MT ta_ATR.lo -MD -MP -MF .deps/ta_ATR.Tpo -c ta_ATR.c -o ta_ATR.o >/dev/null 2>&1\n",
            "mv -f .deps/ta_ATR.Tpo .deps/ta_ATR.Plo\n",
            "/bin/bash ../../libtool --tag=CC   --mode=compile gcc -DHAVE_CONFIG_H -I. -I../../include  -I../ta_common/   -g -O2 -MT ta_AVGPRICE.lo -MD -MP -MF .deps/ta_AVGPRICE.Tpo -c -o ta_AVGPRICE.lo ta_AVGPRICE.c\n",
            " gcc -DHAVE_CONFIG_H -I. -I../../include -I../ta_common/ -g -O2 -MT ta_AVGPRICE.lo -MD -MP -MF .deps/ta_AVGPRICE.Tpo -c ta_AVGPRICE.c  -fPIC -DPIC -o .libs/ta_AVGPRICE.o\n",
            " gcc -DHAVE_CONFIG_H -I. -I../../include -I../ta_common/ -g -O2 -MT ta_AVGPRICE.lo -MD -MP -MF .deps/ta_AVGPRICE.Tpo -c ta_AVGPRICE.c -o ta_AVGPRICE.o >/dev/null 2>&1\n",
            "mv -f .deps/ta_AVGPRICE.Tpo .deps/ta_AVGPRICE.Plo\n",
            "/bin/bash ../../libtool --tag=CC   --mode=compile gcc -DHAVE_CONFIG_H -I. -I../../include  -I../ta_common/   -g -O2 -MT ta_BBANDS.lo -MD -MP -MF .deps/ta_BBANDS.Tpo -c -o ta_BBANDS.lo ta_BBANDS.c\n",
            " gcc -DHAVE_CONFIG_H -I. -I../../include -I../ta_common/ -g -O2 -MT ta_BBANDS.lo -MD -MP -MF .deps/ta_BBANDS.Tpo -c ta_BBANDS.c  -fPIC -DPIC -o .libs/ta_BBANDS.o\n",
            " gcc -DHAVE_CONFIG_H -I. -I../../include -I../ta_common/ -g -O2 -MT ta_BBANDS.lo -MD -MP -MF .deps/ta_BBANDS.Tpo -c ta_BBANDS.c -o ta_BBANDS.o >/dev/null 2>&1\n",
            "mv -f .deps/ta_BBANDS.Tpo .deps/ta_BBANDS.Plo\n",
            "/bin/bash ../../libtool --tag=CC   --mode=compile gcc -DHAVE_CONFIG_H -I. -I../../include  -I../ta_common/   -g -O2 -MT ta_BETA.lo -MD -MP -MF .deps/ta_BETA.Tpo -c -o ta_BETA.lo ta_BETA.c\n",
            " gcc -DHAVE_CONFIG_H -I. -I../../include -I../ta_common/ -g -O2 -MT ta_BETA.lo -MD -MP -MF .deps/ta_BETA.Tpo -c ta_BETA.c  -fPIC -DPIC -o .libs/ta_BETA.o\n",
            " gcc -DHAVE_CONFIG_H -I. -I../../include -I../ta_common/ -g -O2 -MT ta_BETA.lo -MD -MP -MF .deps/ta_BETA.Tpo -c ta_BETA.c -o ta_BETA.o >/dev/null 2>&1\n",
            "mv -f .deps/ta_BETA.Tpo .deps/ta_BETA.Plo\n",
            "/bin/bash ../../libtool --tag=CC   --mode=compile gcc -DHAVE_CONFIG_H -I. -I../../include  -I../ta_common/   -g -O2 -MT ta_BOP.lo -MD -MP -MF .deps/ta_BOP.Tpo -c -o ta_BOP.lo ta_BOP.c\n",
            " gcc -DHAVE_CONFIG_H -I. -I../../include -I../ta_common/ -g -O2 -MT ta_BOP.lo -MD -MP -MF .deps/ta_BOP.Tpo -c ta_BOP.c  -fPIC -DPIC -o .libs/ta_BOP.o\n",
            " gcc -DHAVE_CONFIG_H -I. -I../../include -I../ta_common/ -g -O2 -MT ta_BOP.lo -MD -MP -MF .deps/ta_BOP.Tpo -c ta_BOP.c -o ta_BOP.o >/dev/null 2>&1\n",
            "mv -f .deps/ta_BOP.Tpo .deps/ta_BOP.Plo\n",
            "/bin/bash ../../libtool --tag=CC   --mode=compile gcc -DHAVE_CONFIG_H -I. -I../../include  -I../ta_common/   -g -O2 -MT ta_CCI.lo -MD -MP -MF .deps/ta_CCI.Tpo -c -o ta_CCI.lo ta_CCI.c\n",
            " gcc -DHAVE_CONFIG_H -I. -I../../include -I../ta_common/ -g -O2 -MT ta_CCI.lo -MD -MP -MF .deps/ta_CCI.Tpo -c ta_CCI.c  -fPIC -DPIC -o .libs/ta_CCI.o\n",
            " gcc -DHAVE_CONFIG_H -I. -I../../include -I../ta_common/ -g -O2 -MT ta_CCI.lo -MD -MP -MF .deps/ta_CCI.Tpo -c ta_CCI.c -o ta_CCI.o >/dev/null 2>&1\n",
            "mv -f .deps/ta_CCI.Tpo .deps/ta_CCI.Plo\n",
            "/bin/bash ../../libtool --tag=CC   --mode=compile gcc -DHAVE_CONFIG_H -I. -I../../include  -I../ta_common/   -g -O2 -MT ta_CDL2CROWS.lo -MD -MP -MF .deps/ta_CDL2CROWS.Tpo -c -o ta_CDL2CROWS.lo ta_CDL2CROWS.c\n",
            " gcc -DHAVE_CONFIG_H -I. -I../../include -I../ta_common/ -g -O2 -MT ta_CDL2CROWS.lo -MD -MP -MF .deps/ta_CDL2CROWS.Tpo -c ta_CDL2CROWS.c  -fPIC -DPIC -o .libs/ta_CDL2CROWS.o\n",
            " gcc -DHAVE_CONFIG_H -I. -I../../include -I../ta_common/ -g -O2 -MT ta_CDL2CROWS.lo -MD -MP -MF .deps/ta_CDL2CROWS.Tpo -c ta_CDL2CROWS.c -o ta_CDL2CROWS.o >/dev/null 2>&1\n",
            "mv -f .deps/ta_CDL2CROWS.Tpo .deps/ta_CDL2CROWS.Plo\n",
            "/bin/bash ../../libtool --tag=CC   --mode=compile gcc -DHAVE_CONFIG_H -I. -I../../include  -I../ta_common/   -g -O2 -MT ta_CDL3BLACKCROWS.lo -MD -MP -MF .deps/ta_CDL3BLACKCROWS.Tpo -c -o ta_CDL3BLACKCROWS.lo ta_CDL3BLACKCROWS.c\n",
            " gcc -DHAVE_CONFIG_H -I. -I../../include -I../ta_common/ -g -O2 -MT ta_CDL3BLACKCROWS.lo -MD -MP -MF .deps/ta_CDL3BLACKCROWS.Tpo -c ta_CDL3BLACKCROWS.c  -fPIC -DPIC -o .libs/ta_CDL3BLACKCROWS.o\n",
            " gcc -DHAVE_CONFIG_H -I. -I../../include -I../ta_common/ -g -O2 -MT ta_CDL3BLACKCROWS.lo -MD -MP -MF .deps/ta_CDL3BLACKCROWS.Tpo -c ta_CDL3BLACKCROWS.c -o ta_CDL3BLACKCROWS.o >/dev/null 2>&1\n",
            "mv -f .deps/ta_CDL3BLACKCROWS.Tpo .deps/ta_CDL3BLACKCROWS.Plo\n",
            "/bin/bash ../../libtool --tag=CC   --mode=compile gcc -DHAVE_CONFIG_H -I. -I../../include  -I../ta_common/   -g -O2 -MT ta_CDL3INSIDE.lo -MD -MP -MF .deps/ta_CDL3INSIDE.Tpo -c -o ta_CDL3INSIDE.lo ta_CDL3INSIDE.c\n",
            " gcc -DHAVE_CONFIG_H -I. -I../../include -I../ta_common/ -g -O2 -MT ta_CDL3INSIDE.lo -MD -MP -MF .deps/ta_CDL3INSIDE.Tpo -c ta_CDL3INSIDE.c  -fPIC -DPIC -o .libs/ta_CDL3INSIDE.o\n",
            " gcc -DHAVE_CONFIG_H -I. -I../../include -I../ta_common/ -g -O2 -MT ta_CDL3INSIDE.lo -MD -MP -MF .deps/ta_CDL3INSIDE.Tpo -c ta_CDL3INSIDE.c -o ta_CDL3INSIDE.o >/dev/null 2>&1\n",
            "mv -f .deps/ta_CDL3INSIDE.Tpo .deps/ta_CDL3INSIDE.Plo\n",
            "/bin/bash ../../libtool --tag=CC   --mode=compile gcc -DHAVE_CONFIG_H -I. -I../../include  -I../ta_common/   -g -O2 -MT ta_CDL3LINESTRIKE.lo -MD -MP -MF .deps/ta_CDL3LINESTRIKE.Tpo -c -o ta_CDL3LINESTRIKE.lo ta_CDL3LINESTRIKE.c\n",
            " gcc -DHAVE_CONFIG_H -I. -I../../include -I../ta_common/ -g -O2 -MT ta_CDL3LINESTRIKE.lo -MD -MP -MF .deps/ta_CDL3LINESTRIKE.Tpo -c ta_CDL3LINESTRIKE.c  -fPIC -DPIC -o .libs/ta_CDL3LINESTRIKE.o\n",
            " gcc -DHAVE_CONFIG_H -I. -I../../include -I../ta_common/ -g -O2 -MT ta_CDL3LINESTRIKE.lo -MD -MP -MF .deps/ta_CDL3LINESTRIKE.Tpo -c ta_CDL3LINESTRIKE.c -o ta_CDL3LINESTRIKE.o >/dev/null 2>&1\n",
            "mv -f .deps/ta_CDL3LINESTRIKE.Tpo .deps/ta_CDL3LINESTRIKE.Plo\n",
            "/bin/bash ../../libtool --tag=CC   --mode=compile gcc -DHAVE_CONFIG_H -I. -I../../include  -I../ta_common/   -g -O2 -MT ta_CDL3OUTSIDE.lo -MD -MP -MF .deps/ta_CDL3OUTSIDE.Tpo -c -o ta_CDL3OUTSIDE.lo ta_CDL3OUTSIDE.c\n",
            " gcc -DHAVE_CONFIG_H -I. -I../../include -I../ta_common/ -g -O2 -MT ta_CDL3OUTSIDE.lo -MD -MP -MF .deps/ta_CDL3OUTSIDE.Tpo -c ta_CDL3OUTSIDE.c  -fPIC -DPIC -o .libs/ta_CDL3OUTSIDE.o\n",
            " gcc -DHAVE_CONFIG_H -I. -I../../include -I../ta_common/ -g -O2 -MT ta_CDL3OUTSIDE.lo -MD -MP -MF .deps/ta_CDL3OUTSIDE.Tpo -c ta_CDL3OUTSIDE.c -o ta_CDL3OUTSIDE.o >/dev/null 2>&1\n",
            "mv -f .deps/ta_CDL3OUTSIDE.Tpo .deps/ta_CDL3OUTSIDE.Plo\n",
            "/bin/bash ../../libtool --tag=CC   --mode=compile gcc -DHAVE_CONFIG_H -I. -I../../include  -I../ta_common/   -g -O2 -MT ta_CDL3STARSINSOUTH.lo -MD -MP -MF .deps/ta_CDL3STARSINSOUTH.Tpo -c -o ta_CDL3STARSINSOUTH.lo ta_CDL3STARSINSOUTH.c\n",
            " gcc -DHAVE_CONFIG_H -I. -I../../include -I../ta_common/ -g -O2 -MT ta_CDL3STARSINSOUTH.lo -MD -MP -MF .deps/ta_CDL3STARSINSOUTH.Tpo -c ta_CDL3STARSINSOUTH.c  -fPIC -DPIC -o .libs/ta_CDL3STARSINSOUTH.o\n",
            " gcc -DHAVE_CONFIG_H -I. -I../../include -I../ta_common/ -g -O2 -MT ta_CDL3STARSINSOUTH.lo -MD -MP -MF .deps/ta_CDL3STARSINSOUTH.Tpo -c ta_CDL3STARSINSOUTH.c -o ta_CDL3STARSINSOUTH.o >/dev/null 2>&1\n",
            "mv -f .deps/ta_CDL3STARSINSOUTH.Tpo .deps/ta_CDL3STARSINSOUTH.Plo\n",
            "/bin/bash ../../libtool --tag=CC   --mode=compile gcc -DHAVE_CONFIG_H -I. -I../../include  -I../ta_common/   -g -O2 -MT ta_CDL3WHITESOLDIERS.lo -MD -MP -MF .deps/ta_CDL3WHITESOLDIERS.Tpo -c -o ta_CDL3WHITESOLDIERS.lo ta_CDL3WHITESOLDIERS.c\n",
            " gcc -DHAVE_CONFIG_H -I. -I../../include -I../ta_common/ -g -O2 -MT ta_CDL3WHITESOLDIERS.lo -MD -MP -MF .deps/ta_CDL3WHITESOLDIERS.Tpo -c ta_CDL3WHITESOLDIERS.c  -fPIC -DPIC -o .libs/ta_CDL3WHITESOLDIERS.o\n",
            " gcc -DHAVE_CONFIG_H -I. -I../../include -I../ta_common/ -g -O2 -MT ta_CDL3WHITESOLDIERS.lo -MD -MP -MF .deps/ta_CDL3WHITESOLDIERS.Tpo -c ta_CDL3WHITESOLDIERS.c -o ta_CDL3WHITESOLDIERS.o >/dev/null 2>&1\n",
            "mv -f .deps/ta_CDL3WHITESOLDIERS.Tpo .deps/ta_CDL3WHITESOLDIERS.Plo\n",
            "/bin/bash ../../libtool --tag=CC   --mode=compile gcc -DHAVE_CONFIG_H -I. -I../../include  -I../ta_common/   -g -O2 -MT ta_CDLABANDONEDBABY.lo -MD -MP -MF .deps/ta_CDLABANDONEDBABY.Tpo -c -o ta_CDLABANDONEDBABY.lo ta_CDLABANDONEDBABY.c\n",
            " gcc -DHAVE_CONFIG_H -I. -I../../include -I../ta_common/ -g -O2 -MT ta_CDLABANDONEDBABY.lo -MD -MP -MF .deps/ta_CDLABANDONEDBABY.Tpo -c ta_CDLABANDONEDBABY.c  -fPIC -DPIC -o .libs/ta_CDLABANDONEDBABY.o\n",
            " gcc -DHAVE_CONFIG_H -I. -I../../include -I../ta_common/ -g -O2 -MT ta_CDLABANDONEDBABY.lo -MD -MP -MF .deps/ta_CDLABANDONEDBABY.Tpo -c ta_CDLABANDONEDBABY.c -o ta_CDLABANDONEDBABY.o >/dev/null 2>&1\n",
            "mv -f .deps/ta_CDLABANDONEDBABY.Tpo .deps/ta_CDLABANDONEDBABY.Plo\n",
            "/bin/bash ../../libtool --tag=CC   --mode=compile gcc -DHAVE_CONFIG_H -I. -I../../include  -I../ta_common/   -g -O2 -MT ta_CDLADVANCEBLOCK.lo -MD -MP -MF .deps/ta_CDLADVANCEBLOCK.Tpo -c -o ta_CDLADVANCEBLOCK.lo ta_CDLADVANCEBLOCK.c\n",
            " gcc -DHAVE_CONFIG_H -I. -I../../include -I../ta_common/ -g -O2 -MT ta_CDLADVANCEBLOCK.lo -MD -MP -MF .deps/ta_CDLADVANCEBLOCK.Tpo -c ta_CDLADVANCEBLOCK.c  -fPIC -DPIC -o .libs/ta_CDLADVANCEBLOCK.o\n",
            " gcc -DHAVE_CONFIG_H -I. -I../../include -I../ta_common/ -g -O2 -MT ta_CDLADVANCEBLOCK.lo -MD -MP -MF .deps/ta_CDLADVANCEBLOCK.Tpo -c ta_CDLADVANCEBLOCK.c -o ta_CDLADVANCEBLOCK.o >/dev/null 2>&1\n",
            "mv -f .deps/ta_CDLADVANCEBLOCK.Tpo .deps/ta_CDLADVANCEBLOCK.Plo\n",
            "/bin/bash ../../libtool --tag=CC   --mode=compile gcc -DHAVE_CONFIG_H -I. -I../../include  -I../ta_common/   -g -O2 -MT ta_CDLBELTHOLD.lo -MD -MP -MF .deps/ta_CDLBELTHOLD.Tpo -c -o ta_CDLBELTHOLD.lo ta_CDLBELTHOLD.c\n",
            " gcc -DHAVE_CONFIG_H -I. -I../../include -I../ta_common/ -g -O2 -MT ta_CDLBELTHOLD.lo -MD -MP -MF .deps/ta_CDLBELTHOLD.Tpo -c ta_CDLBELTHOLD.c  -fPIC -DPIC -o .libs/ta_CDLBELTHOLD.o\n",
            " gcc -DHAVE_CONFIG_H -I. -I../../include -I../ta_common/ -g -O2 -MT ta_CDLBELTHOLD.lo -MD -MP -MF .deps/ta_CDLBELTHOLD.Tpo -c ta_CDLBELTHOLD.c -o ta_CDLBELTHOLD.o >/dev/null 2>&1\n",
            "mv -f .deps/ta_CDLBELTHOLD.Tpo .deps/ta_CDLBELTHOLD.Plo\n",
            "/bin/bash ../../libtool --tag=CC   --mode=compile gcc -DHAVE_CONFIG_H -I. -I../../include  -I../ta_common/   -g -O2 -MT ta_CDLBREAKAWAY.lo -MD -MP -MF .deps/ta_CDLBREAKAWAY.Tpo -c -o ta_CDLBREAKAWAY.lo ta_CDLBREAKAWAY.c\n",
            " gcc -DHAVE_CONFIG_H -I. -I../../include -I../ta_common/ -g -O2 -MT ta_CDLBREAKAWAY.lo -MD -MP -MF .deps/ta_CDLBREAKAWAY.Tpo -c ta_CDLBREAKAWAY.c  -fPIC -DPIC -o .libs/ta_CDLBREAKAWAY.o\n",
            " gcc -DHAVE_CONFIG_H -I. -I../../include -I../ta_common/ -g -O2 -MT ta_CDLBREAKAWAY.lo -MD -MP -MF .deps/ta_CDLBREAKAWAY.Tpo -c ta_CDLBREAKAWAY.c -o ta_CDLBREAKAWAY.o >/dev/null 2>&1\n",
            "mv -f .deps/ta_CDLBREAKAWAY.Tpo .deps/ta_CDLBREAKAWAY.Plo\n",
            "/bin/bash ../../libtool --tag=CC   --mode=compile gcc -DHAVE_CONFIG_H -I. -I../../include  -I../ta_common/   -g -O2 -MT ta_CDLCLOSINGMARUBOZU.lo -MD -MP -MF .deps/ta_CDLCLOSINGMARUBOZU.Tpo -c -o ta_CDLCLOSINGMARUBOZU.lo ta_CDLCLOSINGMARUBOZU.c\n",
            " gcc -DHAVE_CONFIG_H -I. -I../../include -I../ta_common/ -g -O2 -MT ta_CDLCLOSINGMARUBOZU.lo -MD -MP -MF .deps/ta_CDLCLOSINGMARUBOZU.Tpo -c ta_CDLCLOSINGMARUBOZU.c  -fPIC -DPIC -o .libs/ta_CDLCLOSINGMARUBOZU.o\n",
            " gcc -DHAVE_CONFIG_H -I. -I../../include -I../ta_common/ -g -O2 -MT ta_CDLCLOSINGMARUBOZU.lo -MD -MP -MF .deps/ta_CDLCLOSINGMARUBOZU.Tpo -c ta_CDLCLOSINGMARUBOZU.c -o ta_CDLCLOSINGMARUBOZU.o >/dev/null 2>&1\n",
            "mv -f .deps/ta_CDLCLOSINGMARUBOZU.Tpo .deps/ta_CDLCLOSINGMARUBOZU.Plo\n",
            "/bin/bash ../../libtool --tag=CC   --mode=compile gcc -DHAVE_CONFIG_H -I. -I../../include  -I../ta_common/   -g -O2 -MT ta_CDLCONCEALBABYSWALL.lo -MD -MP -MF .deps/ta_CDLCONCEALBABYSWALL.Tpo -c -o ta_CDLCONCEALBABYSWALL.lo ta_CDLCONCEALBABYSWALL.c\n",
            " gcc -DHAVE_CONFIG_H -I. -I../../include -I../ta_common/ -g -O2 -MT ta_CDLCONCEALBABYSWALL.lo -MD -MP -MF .deps/ta_CDLCONCEALBABYSWALL.Tpo -c ta_CDLCONCEALBABYSWALL.c  -fPIC -DPIC -o .libs/ta_CDLCONCEALBABYSWALL.o\n",
            " gcc -DHAVE_CONFIG_H -I. -I../../include -I../ta_common/ -g -O2 -MT ta_CDLCONCEALBABYSWALL.lo -MD -MP -MF .deps/ta_CDLCONCEALBABYSWALL.Tpo -c ta_CDLCONCEALBABYSWALL.c -o ta_CDLCONCEALBABYSWALL.o >/dev/null 2>&1\n",
            "mv -f .deps/ta_CDLCONCEALBABYSWALL.Tpo .deps/ta_CDLCONCEALBABYSWALL.Plo\n",
            "/bin/bash ../../libtool --tag=CC   --mode=compile gcc -DHAVE_CONFIG_H -I. -I../../include  -I../ta_common/   -g -O2 -MT ta_CDLCOUNTERATTACK.lo -MD -MP -MF .deps/ta_CDLCOUNTERATTACK.Tpo -c -o ta_CDLCOUNTERATTACK.lo ta_CDLCOUNTERATTACK.c\n",
            " gcc -DHAVE_CONFIG_H -I. -I../../include -I../ta_common/ -g -O2 -MT ta_CDLCOUNTERATTACK.lo -MD -MP -MF .deps/ta_CDLCOUNTERATTACK.Tpo -c ta_CDLCOUNTERATTACK.c  -fPIC -DPIC -o .libs/ta_CDLCOUNTERATTACK.o\n",
            " gcc -DHAVE_CONFIG_H -I. -I../../include -I../ta_common/ -g -O2 -MT ta_CDLCOUNTERATTACK.lo -MD -MP -MF .deps/ta_CDLCOUNTERATTACK.Tpo -c ta_CDLCOUNTERATTACK.c -o ta_CDLCOUNTERATTACK.o >/dev/null 2>&1\n",
            "mv -f .deps/ta_CDLCOUNTERATTACK.Tpo .deps/ta_CDLCOUNTERATTACK.Plo\n",
            "/bin/bash ../../libtool --tag=CC   --mode=compile gcc -DHAVE_CONFIG_H -I. -I../../include  -I../ta_common/   -g -O2 -MT ta_CDLDARKCLOUDCOVER.lo -MD -MP -MF .deps/ta_CDLDARKCLOUDCOVER.Tpo -c -o ta_CDLDARKCLOUDCOVER.lo ta_CDLDARKCLOUDCOVER.c\n",
            " gcc -DHAVE_CONFIG_H -I. -I../../include -I../ta_common/ -g -O2 -MT ta_CDLDARKCLOUDCOVER.lo -MD -MP -MF .deps/ta_CDLDARKCLOUDCOVER.Tpo -c ta_CDLDARKCLOUDCOVER.c  -fPIC -DPIC -o .libs/ta_CDLDARKCLOUDCOVER.o\n",
            " gcc -DHAVE_CONFIG_H -I. -I../../include -I../ta_common/ -g -O2 -MT ta_CDLDARKCLOUDCOVER.lo -MD -MP -MF .deps/ta_CDLDARKCLOUDCOVER.Tpo -c ta_CDLDARKCLOUDCOVER.c -o ta_CDLDARKCLOUDCOVER.o >/dev/null 2>&1\n",
            "mv -f .deps/ta_CDLDARKCLOUDCOVER.Tpo .deps/ta_CDLDARKCLOUDCOVER.Plo\n",
            "/bin/bash ../../libtool --tag=CC   --mode=compile gcc -DHAVE_CONFIG_H -I. -I../../include  -I../ta_common/   -g -O2 -MT ta_CDLDOJI.lo -MD -MP -MF .deps/ta_CDLDOJI.Tpo -c -o ta_CDLDOJI.lo ta_CDLDOJI.c\n",
            " gcc -DHAVE_CONFIG_H -I. -I../../include -I../ta_common/ -g -O2 -MT ta_CDLDOJI.lo -MD -MP -MF .deps/ta_CDLDOJI.Tpo -c ta_CDLDOJI.c  -fPIC -DPIC -o .libs/ta_CDLDOJI.o\n",
            " gcc -DHAVE_CONFIG_H -I. -I../../include -I../ta_common/ -g -O2 -MT ta_CDLDOJI.lo -MD -MP -MF .deps/ta_CDLDOJI.Tpo -c ta_CDLDOJI.c -o ta_CDLDOJI.o >/dev/null 2>&1\n",
            "mv -f .deps/ta_CDLDOJI.Tpo .deps/ta_CDLDOJI.Plo\n",
            "/bin/bash ../../libtool --tag=CC   --mode=compile gcc -DHAVE_CONFIG_H -I. -I../../include  -I../ta_common/   -g -O2 -MT ta_CDLDOJISTAR.lo -MD -MP -MF .deps/ta_CDLDOJISTAR.Tpo -c -o ta_CDLDOJISTAR.lo ta_CDLDOJISTAR.c\n",
            " gcc -DHAVE_CONFIG_H -I. -I../../include -I../ta_common/ -g -O2 -MT ta_CDLDOJISTAR.lo -MD -MP -MF .deps/ta_CDLDOJISTAR.Tpo -c ta_CDLDOJISTAR.c  -fPIC -DPIC -o .libs/ta_CDLDOJISTAR.o\n",
            " gcc -DHAVE_CONFIG_H -I. -I../../include -I../ta_common/ -g -O2 -MT ta_CDLDOJISTAR.lo -MD -MP -MF .deps/ta_CDLDOJISTAR.Tpo -c ta_CDLDOJISTAR.c -o ta_CDLDOJISTAR.o >/dev/null 2>&1\n",
            "mv -f .deps/ta_CDLDOJISTAR.Tpo .deps/ta_CDLDOJISTAR.Plo\n",
            "/bin/bash ../../libtool --tag=CC   --mode=compile gcc -DHAVE_CONFIG_H -I. -I../../include  -I../ta_common/   -g -O2 -MT ta_CDLDRAGONFLYDOJI.lo -MD -MP -MF .deps/ta_CDLDRAGONFLYDOJI.Tpo -c -o ta_CDLDRAGONFLYDOJI.lo ta_CDLDRAGONFLYDOJI.c\n",
            " gcc -DHAVE_CONFIG_H -I. -I../../include -I../ta_common/ -g -O2 -MT ta_CDLDRAGONFLYDOJI.lo -MD -MP -MF .deps/ta_CDLDRAGONFLYDOJI.Tpo -c ta_CDLDRAGONFLYDOJI.c  -fPIC -DPIC -o .libs/ta_CDLDRAGONFLYDOJI.o\n",
            " gcc -DHAVE_CONFIG_H -I. -I../../include -I../ta_common/ -g -O2 -MT ta_CDLDRAGONFLYDOJI.lo -MD -MP -MF .deps/ta_CDLDRAGONFLYDOJI.Tpo -c ta_CDLDRAGONFLYDOJI.c -o ta_CDLDRAGONFLYDOJI.o >/dev/null 2>&1\n",
            "mv -f .deps/ta_CDLDRAGONFLYDOJI.Tpo .deps/ta_CDLDRAGONFLYDOJI.Plo\n",
            "/bin/bash ../../libtool --tag=CC   --mode=compile gcc -DHAVE_CONFIG_H -I. -I../../include  -I../ta_common/   -g -O2 -MT ta_CDLENGULFING.lo -MD -MP -MF .deps/ta_CDLENGULFING.Tpo -c -o ta_CDLENGULFING.lo ta_CDLENGULFING.c\n",
            " gcc -DHAVE_CONFIG_H -I. -I../../include -I../ta_common/ -g -O2 -MT ta_CDLENGULFING.lo -MD -MP -MF .deps/ta_CDLENGULFING.Tpo -c ta_CDLENGULFING.c  -fPIC -DPIC -o .libs/ta_CDLENGULFING.o\n",
            " gcc -DHAVE_CONFIG_H -I. -I../../include -I../ta_common/ -g -O2 -MT ta_CDLENGULFING.lo -MD -MP -MF .deps/ta_CDLENGULFING.Tpo -c ta_CDLENGULFING.c -o ta_CDLENGULFING.o >/dev/null 2>&1\n",
            "mv -f .deps/ta_CDLENGULFING.Tpo .deps/ta_CDLENGULFING.Plo\n",
            "/bin/bash ../../libtool --tag=CC   --mode=compile gcc -DHAVE_CONFIG_H -I. -I../../include  -I../ta_common/   -g -O2 -MT ta_CDLEVENINGDOJISTAR.lo -MD -MP -MF .deps/ta_CDLEVENINGDOJISTAR.Tpo -c -o ta_CDLEVENINGDOJISTAR.lo ta_CDLEVENINGDOJISTAR.c\n",
            " gcc -DHAVE_CONFIG_H -I. -I../../include -I../ta_common/ -g -O2 -MT ta_CDLEVENINGDOJISTAR.lo -MD -MP -MF .deps/ta_CDLEVENINGDOJISTAR.Tpo -c ta_CDLEVENINGDOJISTAR.c  -fPIC -DPIC -o .libs/ta_CDLEVENINGDOJISTAR.o\n",
            " gcc -DHAVE_CONFIG_H -I. -I../../include -I../ta_common/ -g -O2 -MT ta_CDLEVENINGDOJISTAR.lo -MD -MP -MF .deps/ta_CDLEVENINGDOJISTAR.Tpo -c ta_CDLEVENINGDOJISTAR.c -o ta_CDLEVENINGDOJISTAR.o >/dev/null 2>&1\n",
            "mv -f .deps/ta_CDLEVENINGDOJISTAR.Tpo .deps/ta_CDLEVENINGDOJISTAR.Plo\n",
            "/bin/bash ../../libtool --tag=CC   --mode=compile gcc -DHAVE_CONFIG_H -I. -I../../include  -I../ta_common/   -g -O2 -MT ta_CDLEVENINGSTAR.lo -MD -MP -MF .deps/ta_CDLEVENINGSTAR.Tpo -c -o ta_CDLEVENINGSTAR.lo ta_CDLEVENINGSTAR.c\n",
            " gcc -DHAVE_CONFIG_H -I. -I../../include -I../ta_common/ -g -O2 -MT ta_CDLEVENINGSTAR.lo -MD -MP -MF .deps/ta_CDLEVENINGSTAR.Tpo -c ta_CDLEVENINGSTAR.c  -fPIC -DPIC -o .libs/ta_CDLEVENINGSTAR.o\n",
            " gcc -DHAVE_CONFIG_H -I. -I../../include -I../ta_common/ -g -O2 -MT ta_CDLEVENINGSTAR.lo -MD -MP -MF .deps/ta_CDLEVENINGSTAR.Tpo -c ta_CDLEVENINGSTAR.c -o ta_CDLEVENINGSTAR.o >/dev/null 2>&1\n",
            "mv -f .deps/ta_CDLEVENINGSTAR.Tpo .deps/ta_CDLEVENINGSTAR.Plo\n",
            "/bin/bash ../../libtool --tag=CC   --mode=compile gcc -DHAVE_CONFIG_H -I. -I../../include  -I../ta_common/   -g -O2 -MT ta_CDLGAPSIDESIDEWHITE.lo -MD -MP -MF .deps/ta_CDLGAPSIDESIDEWHITE.Tpo -c -o ta_CDLGAPSIDESIDEWHITE.lo ta_CDLGAPSIDESIDEWHITE.c\n",
            " gcc -DHAVE_CONFIG_H -I. -I../../include -I../ta_common/ -g -O2 -MT ta_CDLGAPSIDESIDEWHITE.lo -MD -MP -MF .deps/ta_CDLGAPSIDESIDEWHITE.Tpo -c ta_CDLGAPSIDESIDEWHITE.c  -fPIC -DPIC -o .libs/ta_CDLGAPSIDESIDEWHITE.o\n",
            " gcc -DHAVE_CONFIG_H -I. -I../../include -I../ta_common/ -g -O2 -MT ta_CDLGAPSIDESIDEWHITE.lo -MD -MP -MF .deps/ta_CDLGAPSIDESIDEWHITE.Tpo -c ta_CDLGAPSIDESIDEWHITE.c -o ta_CDLGAPSIDESIDEWHITE.o >/dev/null 2>&1\n",
            "mv -f .deps/ta_CDLGAPSIDESIDEWHITE.Tpo .deps/ta_CDLGAPSIDESIDEWHITE.Plo\n",
            "/bin/bash ../../libtool --tag=CC   --mode=compile gcc -DHAVE_CONFIG_H -I. -I../../include  -I../ta_common/   -g -O2 -MT ta_CDLGRAVESTONEDOJI.lo -MD -MP -MF .deps/ta_CDLGRAVESTONEDOJI.Tpo -c -o ta_CDLGRAVESTONEDOJI.lo ta_CDLGRAVESTONEDOJI.c\n",
            " gcc -DHAVE_CONFIG_H -I. -I../../include -I../ta_common/ -g -O2 -MT ta_CDLGRAVESTONEDOJI.lo -MD -MP -MF .deps/ta_CDLGRAVESTONEDOJI.Tpo -c ta_CDLGRAVESTONEDOJI.c  -fPIC -DPIC -o .libs/ta_CDLGRAVESTONEDOJI.o\n",
            " gcc -DHAVE_CONFIG_H -I. -I../../include -I../ta_common/ -g -O2 -MT ta_CDLGRAVESTONEDOJI.lo -MD -MP -MF .deps/ta_CDLGRAVESTONEDOJI.Tpo -c ta_CDLGRAVESTONEDOJI.c -o ta_CDLGRAVESTONEDOJI.o >/dev/null 2>&1\n",
            "mv -f .deps/ta_CDLGRAVESTONEDOJI.Tpo .deps/ta_CDLGRAVESTONEDOJI.Plo\n",
            "/bin/bash ../../libtool --tag=CC   --mode=compile gcc -DHAVE_CONFIG_H -I. -I../../include  -I../ta_common/   -g -O2 -MT ta_CDLHAMMER.lo -MD -MP -MF .deps/ta_CDLHAMMER.Tpo -c -o ta_CDLHAMMER.lo ta_CDLHAMMER.c\n",
            " gcc -DHAVE_CONFIG_H -I. -I../../include -I../ta_common/ -g -O2 -MT ta_CDLHAMMER.lo -MD -MP -MF .deps/ta_CDLHAMMER.Tpo -c ta_CDLHAMMER.c  -fPIC -DPIC -o .libs/ta_CDLHAMMER.o\n",
            " gcc -DHAVE_CONFIG_H -I. -I../../include -I../ta_common/ -g -O2 -MT ta_CDLHAMMER.lo -MD -MP -MF .deps/ta_CDLHAMMER.Tpo -c ta_CDLHAMMER.c -o ta_CDLHAMMER.o >/dev/null 2>&1\n",
            "mv -f .deps/ta_CDLHAMMER.Tpo .deps/ta_CDLHAMMER.Plo\n",
            "/bin/bash ../../libtool --tag=CC   --mode=compile gcc -DHAVE_CONFIG_H -I. -I../../include  -I../ta_common/   -g -O2 -MT ta_CDLHANGINGMAN.lo -MD -MP -MF .deps/ta_CDLHANGINGMAN.Tpo -c -o ta_CDLHANGINGMAN.lo ta_CDLHANGINGMAN.c\n",
            " gcc -DHAVE_CONFIG_H -I. -I../../include -I../ta_common/ -g -O2 -MT ta_CDLHANGINGMAN.lo -MD -MP -MF .deps/ta_CDLHANGINGMAN.Tpo -c ta_CDLHANGINGMAN.c  -fPIC -DPIC -o .libs/ta_CDLHANGINGMAN.o\n",
            " gcc -DHAVE_CONFIG_H -I. -I../../include -I../ta_common/ -g -O2 -MT ta_CDLHANGINGMAN.lo -MD -MP -MF .deps/ta_CDLHANGINGMAN.Tpo -c ta_CDLHANGINGMAN.c -o ta_CDLHANGINGMAN.o >/dev/null 2>&1\n",
            "mv -f .deps/ta_CDLHANGINGMAN.Tpo .deps/ta_CDLHANGINGMAN.Plo\n",
            "/bin/bash ../../libtool --tag=CC   --mode=compile gcc -DHAVE_CONFIG_H -I. -I../../include  -I../ta_common/   -g -O2 -MT ta_CDLHARAMI.lo -MD -MP -MF .deps/ta_CDLHARAMI.Tpo -c -o ta_CDLHARAMI.lo ta_CDLHARAMI.c\n",
            " gcc -DHAVE_CONFIG_H -I. -I../../include -I../ta_common/ -g -O2 -MT ta_CDLHARAMI.lo -MD -MP -MF .deps/ta_CDLHARAMI.Tpo -c ta_CDLHARAMI.c  -fPIC -DPIC -o .libs/ta_CDLHARAMI.o\n",
            " gcc -DHAVE_CONFIG_H -I. -I../../include -I../ta_common/ -g -O2 -MT ta_CDLHARAMI.lo -MD -MP -MF .deps/ta_CDLHARAMI.Tpo -c ta_CDLHARAMI.c -o ta_CDLHARAMI.o >/dev/null 2>&1\n",
            "mv -f .deps/ta_CDLHARAMI.Tpo .deps/ta_CDLHARAMI.Plo\n",
            "/bin/bash ../../libtool --tag=CC   --mode=compile gcc -DHAVE_CONFIG_H -I. -I../../include  -I../ta_common/   -g -O2 -MT ta_CDLHARAMICROSS.lo -MD -MP -MF .deps/ta_CDLHARAMICROSS.Tpo -c -o ta_CDLHARAMICROSS.lo ta_CDLHARAMICROSS.c\n",
            " gcc -DHAVE_CONFIG_H -I. -I../../include -I../ta_common/ -g -O2 -MT ta_CDLHARAMICROSS.lo -MD -MP -MF .deps/ta_CDLHARAMICROSS.Tpo -c ta_CDLHARAMICROSS.c  -fPIC -DPIC -o .libs/ta_CDLHARAMICROSS.o\n",
            " gcc -DHAVE_CONFIG_H -I. -I../../include -I../ta_common/ -g -O2 -MT ta_CDLHARAMICROSS.lo -MD -MP -MF .deps/ta_CDLHARAMICROSS.Tpo -c ta_CDLHARAMICROSS.c -o ta_CDLHARAMICROSS.o >/dev/null 2>&1\n",
            "mv -f .deps/ta_CDLHARAMICROSS.Tpo .deps/ta_CDLHARAMICROSS.Plo\n",
            "/bin/bash ../../libtool --tag=CC   --mode=compile gcc -DHAVE_CONFIG_H -I. -I../../include  -I../ta_common/   -g -O2 -MT ta_CDLHIGHWAVE.lo -MD -MP -MF .deps/ta_CDLHIGHWAVE.Tpo -c -o ta_CDLHIGHWAVE.lo ta_CDLHIGHWAVE.c\n",
            " gcc -DHAVE_CONFIG_H -I. -I../../include -I../ta_common/ -g -O2 -MT ta_CDLHIGHWAVE.lo -MD -MP -MF .deps/ta_CDLHIGHWAVE.Tpo -c ta_CDLHIGHWAVE.c  -fPIC -DPIC -o .libs/ta_CDLHIGHWAVE.o\n",
            " gcc -DHAVE_CONFIG_H -I. -I../../include -I../ta_common/ -g -O2 -MT ta_CDLHIGHWAVE.lo -MD -MP -MF .deps/ta_CDLHIGHWAVE.Tpo -c ta_CDLHIGHWAVE.c -o ta_CDLHIGHWAVE.o >/dev/null 2>&1\n",
            "mv -f .deps/ta_CDLHIGHWAVE.Tpo .deps/ta_CDLHIGHWAVE.Plo\n",
            "/bin/bash ../../libtool --tag=CC   --mode=compile gcc -DHAVE_CONFIG_H -I. -I../../include  -I../ta_common/   -g -O2 -MT ta_CDLHIKKAKE.lo -MD -MP -MF .deps/ta_CDLHIKKAKE.Tpo -c -o ta_CDLHIKKAKE.lo ta_CDLHIKKAKE.c\n",
            " gcc -DHAVE_CONFIG_H -I. -I../../include -I../ta_common/ -g -O2 -MT ta_CDLHIKKAKE.lo -MD -MP -MF .deps/ta_CDLHIKKAKE.Tpo -c ta_CDLHIKKAKE.c  -fPIC -DPIC -o .libs/ta_CDLHIKKAKE.o\n",
            " gcc -DHAVE_CONFIG_H -I. -I../../include -I../ta_common/ -g -O2 -MT ta_CDLHIKKAKE.lo -MD -MP -MF .deps/ta_CDLHIKKAKE.Tpo -c ta_CDLHIKKAKE.c -o ta_CDLHIKKAKE.o >/dev/null 2>&1\n",
            "mv -f .deps/ta_CDLHIKKAKE.Tpo .deps/ta_CDLHIKKAKE.Plo\n",
            "/bin/bash ../../libtool --tag=CC   --mode=compile gcc -DHAVE_CONFIG_H -I. -I../../include  -I../ta_common/   -g -O2 -MT ta_CDLHIKKAKEMOD.lo -MD -MP -MF .deps/ta_CDLHIKKAKEMOD.Tpo -c -o ta_CDLHIKKAKEMOD.lo ta_CDLHIKKAKEMOD.c\n",
            " gcc -DHAVE_CONFIG_H -I. -I../../include -I../ta_common/ -g -O2 -MT ta_CDLHIKKAKEMOD.lo -MD -MP -MF .deps/ta_CDLHIKKAKEMOD.Tpo -c ta_CDLHIKKAKEMOD.c  -fPIC -DPIC -o .libs/ta_CDLHIKKAKEMOD.o\n",
            " gcc -DHAVE_CONFIG_H -I. -I../../include -I../ta_common/ -g -O2 -MT ta_CDLHIKKAKEMOD.lo -MD -MP -MF .deps/ta_CDLHIKKAKEMOD.Tpo -c ta_CDLHIKKAKEMOD.c -o ta_CDLHIKKAKEMOD.o >/dev/null 2>&1\n",
            "mv -f .deps/ta_CDLHIKKAKEMOD.Tpo .deps/ta_CDLHIKKAKEMOD.Plo\n",
            "/bin/bash ../../libtool --tag=CC   --mode=compile gcc -DHAVE_CONFIG_H -I. -I../../include  -I../ta_common/   -g -O2 -MT ta_CDLHOMINGPIGEON.lo -MD -MP -MF .deps/ta_CDLHOMINGPIGEON.Tpo -c -o ta_CDLHOMINGPIGEON.lo ta_CDLHOMINGPIGEON.c\n",
            " gcc -DHAVE_CONFIG_H -I. -I../../include -I../ta_common/ -g -O2 -MT ta_CDLHOMINGPIGEON.lo -MD -MP -MF .deps/ta_CDLHOMINGPIGEON.Tpo -c ta_CDLHOMINGPIGEON.c  -fPIC -DPIC -o .libs/ta_CDLHOMINGPIGEON.o\n",
            " gcc -DHAVE_CONFIG_H -I. -I../../include -I../ta_common/ -g -O2 -MT ta_CDLHOMINGPIGEON.lo -MD -MP -MF .deps/ta_CDLHOMINGPIGEON.Tpo -c ta_CDLHOMINGPIGEON.c -o ta_CDLHOMINGPIGEON.o >/dev/null 2>&1\n",
            "mv -f .deps/ta_CDLHOMINGPIGEON.Tpo .deps/ta_CDLHOMINGPIGEON.Plo\n",
            "/bin/bash ../../libtool --tag=CC   --mode=compile gcc -DHAVE_CONFIG_H -I. -I../../include  -I../ta_common/   -g -O2 -MT ta_CDLIDENTICAL3CROWS.lo -MD -MP -MF .deps/ta_CDLIDENTICAL3CROWS.Tpo -c -o ta_CDLIDENTICAL3CROWS.lo ta_CDLIDENTICAL3CROWS.c\n",
            " gcc -DHAVE_CONFIG_H -I. -I../../include -I../ta_common/ -g -O2 -MT ta_CDLIDENTICAL3CROWS.lo -MD -MP -MF .deps/ta_CDLIDENTICAL3CROWS.Tpo -c ta_CDLIDENTICAL3CROWS.c  -fPIC -DPIC -o .libs/ta_CDLIDENTICAL3CROWS.o\n",
            " gcc -DHAVE_CONFIG_H -I. -I../../include -I../ta_common/ -g -O2 -MT ta_CDLIDENTICAL3CROWS.lo -MD -MP -MF .deps/ta_CDLIDENTICAL3CROWS.Tpo -c ta_CDLIDENTICAL3CROWS.c -o ta_CDLIDENTICAL3CROWS.o >/dev/null 2>&1\n",
            "mv -f .deps/ta_CDLIDENTICAL3CROWS.Tpo .deps/ta_CDLIDENTICAL3CROWS.Plo\n",
            "/bin/bash ../../libtool --tag=CC   --mode=compile gcc -DHAVE_CONFIG_H -I. -I../../include  -I../ta_common/   -g -O2 -MT ta_CDLINNECK.lo -MD -MP -MF .deps/ta_CDLINNECK.Tpo -c -o ta_CDLINNECK.lo ta_CDLINNECK.c\n",
            " gcc -DHAVE_CONFIG_H -I. -I../../include -I../ta_common/ -g -O2 -MT ta_CDLINNECK.lo -MD -MP -MF .deps/ta_CDLINNECK.Tpo -c ta_CDLINNECK.c  -fPIC -DPIC -o .libs/ta_CDLINNECK.o\n",
            " gcc -DHAVE_CONFIG_H -I. -I../../include -I../ta_common/ -g -O2 -MT ta_CDLINNECK.lo -MD -MP -MF .deps/ta_CDLINNECK.Tpo -c ta_CDLINNECK.c -o ta_CDLINNECK.o >/dev/null 2>&1\n",
            "mv -f .deps/ta_CDLINNECK.Tpo .deps/ta_CDLINNECK.Plo\n",
            "/bin/bash ../../libtool --tag=CC   --mode=compile gcc -DHAVE_CONFIG_H -I. -I../../include  -I../ta_common/   -g -O2 -MT ta_CDLINVERTEDHAMMER.lo -MD -MP -MF .deps/ta_CDLINVERTEDHAMMER.Tpo -c -o ta_CDLINVERTEDHAMMER.lo ta_CDLINVERTEDHAMMER.c\n",
            " gcc -DHAVE_CONFIG_H -I. -I../../include -I../ta_common/ -g -O2 -MT ta_CDLINVERTEDHAMMER.lo -MD -MP -MF .deps/ta_CDLINVERTEDHAMMER.Tpo -c ta_CDLINVERTEDHAMMER.c  -fPIC -DPIC -o .libs/ta_CDLINVERTEDHAMMER.o\n",
            " gcc -DHAVE_CONFIG_H -I. -I../../include -I../ta_common/ -g -O2 -MT ta_CDLINVERTEDHAMMER.lo -MD -MP -MF .deps/ta_CDLINVERTEDHAMMER.Tpo -c ta_CDLINVERTEDHAMMER.c -o ta_CDLINVERTEDHAMMER.o >/dev/null 2>&1\n",
            "mv -f .deps/ta_CDLINVERTEDHAMMER.Tpo .deps/ta_CDLINVERTEDHAMMER.Plo\n",
            "/bin/bash ../../libtool --tag=CC   --mode=compile gcc -DHAVE_CONFIG_H -I. -I../../include  -I../ta_common/   -g -O2 -MT ta_CDLKICKING.lo -MD -MP -MF .deps/ta_CDLKICKING.Tpo -c -o ta_CDLKICKING.lo ta_CDLKICKING.c\n",
            " gcc -DHAVE_CONFIG_H -I. -I../../include -I../ta_common/ -g -O2 -MT ta_CDLKICKING.lo -MD -MP -MF .deps/ta_CDLKICKING.Tpo -c ta_CDLKICKING.c  -fPIC -DPIC -o .libs/ta_CDLKICKING.o\n",
            " gcc -DHAVE_CONFIG_H -I. -I../../include -I../ta_common/ -g -O2 -MT ta_CDLKICKING.lo -MD -MP -MF .deps/ta_CDLKICKING.Tpo -c ta_CDLKICKING.c -o ta_CDLKICKING.o >/dev/null 2>&1\n",
            "mv -f .deps/ta_CDLKICKING.Tpo .deps/ta_CDLKICKING.Plo\n",
            "/bin/bash ../../libtool --tag=CC   --mode=compile gcc -DHAVE_CONFIG_H -I. -I../../include  -I../ta_common/   -g -O2 -MT ta_CDLKICKINGBYLENGTH.lo -MD -MP -MF .deps/ta_CDLKICKINGBYLENGTH.Tpo -c -o ta_CDLKICKINGBYLENGTH.lo ta_CDLKICKINGBYLENGTH.c\n",
            " gcc -DHAVE_CONFIG_H -I. -I../../include -I../ta_common/ -g -O2 -MT ta_CDLKICKINGBYLENGTH.lo -MD -MP -MF .deps/ta_CDLKICKINGBYLENGTH.Tpo -c ta_CDLKICKINGBYLENGTH.c  -fPIC -DPIC -o .libs/ta_CDLKICKINGBYLENGTH.o\n",
            " gcc -DHAVE_CONFIG_H -I. -I../../include -I../ta_common/ -g -O2 -MT ta_CDLKICKINGBYLENGTH.lo -MD -MP -MF .deps/ta_CDLKICKINGBYLENGTH.Tpo -c ta_CDLKICKINGBYLENGTH.c -o ta_CDLKICKINGBYLENGTH.o >/dev/null 2>&1\n",
            "mv -f .deps/ta_CDLKICKINGBYLENGTH.Tpo .deps/ta_CDLKICKINGBYLENGTH.Plo\n",
            "/bin/bash ../../libtool --tag=CC   --mode=compile gcc -DHAVE_CONFIG_H -I. -I../../include  -I../ta_common/   -g -O2 -MT ta_CDLLADDERBOTTOM.lo -MD -MP -MF .deps/ta_CDLLADDERBOTTOM.Tpo -c -o ta_CDLLADDERBOTTOM.lo ta_CDLLADDERBOTTOM.c\n",
            " gcc -DHAVE_CONFIG_H -I. -I../../include -I../ta_common/ -g -O2 -MT ta_CDLLADDERBOTTOM.lo -MD -MP -MF .deps/ta_CDLLADDERBOTTOM.Tpo -c ta_CDLLADDERBOTTOM.c  -fPIC -DPIC -o .libs/ta_CDLLADDERBOTTOM.o\n",
            " gcc -DHAVE_CONFIG_H -I. -I../../include -I../ta_common/ -g -O2 -MT ta_CDLLADDERBOTTOM.lo -MD -MP -MF .deps/ta_CDLLADDERBOTTOM.Tpo -c ta_CDLLADDERBOTTOM.c -o ta_CDLLADDERBOTTOM.o >/dev/null 2>&1\n",
            "mv -f .deps/ta_CDLLADDERBOTTOM.Tpo .deps/ta_CDLLADDERBOTTOM.Plo\n",
            "/bin/bash ../../libtool --tag=CC   --mode=compile gcc -DHAVE_CONFIG_H -I. -I../../include  -I../ta_common/   -g -O2 -MT ta_CDLLONGLEGGEDDOJI.lo -MD -MP -MF .deps/ta_CDLLONGLEGGEDDOJI.Tpo -c -o ta_CDLLONGLEGGEDDOJI.lo ta_CDLLONGLEGGEDDOJI.c\n",
            " gcc -DHAVE_CONFIG_H -I. -I../../include -I../ta_common/ -g -O2 -MT ta_CDLLONGLEGGEDDOJI.lo -MD -MP -MF .deps/ta_CDLLONGLEGGEDDOJI.Tpo -c ta_CDLLONGLEGGEDDOJI.c  -fPIC -DPIC -o .libs/ta_CDLLONGLEGGEDDOJI.o\n",
            " gcc -DHAVE_CONFIG_H -I. -I../../include -I../ta_common/ -g -O2 -MT ta_CDLLONGLEGGEDDOJI.lo -MD -MP -MF .deps/ta_CDLLONGLEGGEDDOJI.Tpo -c ta_CDLLONGLEGGEDDOJI.c -o ta_CDLLONGLEGGEDDOJI.o >/dev/null 2>&1\n",
            "mv -f .deps/ta_CDLLONGLEGGEDDOJI.Tpo .deps/ta_CDLLONGLEGGEDDOJI.Plo\n",
            "/bin/bash ../../libtool --tag=CC   --mode=compile gcc -DHAVE_CONFIG_H -I. -I../../include  -I../ta_common/   -g -O2 -MT ta_CDLLONGLINE.lo -MD -MP -MF .deps/ta_CDLLONGLINE.Tpo -c -o ta_CDLLONGLINE.lo ta_CDLLONGLINE.c\n",
            " gcc -DHAVE_CONFIG_H -I. -I../../include -I../ta_common/ -g -O2 -MT ta_CDLLONGLINE.lo -MD -MP -MF .deps/ta_CDLLONGLINE.Tpo -c ta_CDLLONGLINE.c  -fPIC -DPIC -o .libs/ta_CDLLONGLINE.o\n",
            " gcc -DHAVE_CONFIG_H -I. -I../../include -I../ta_common/ -g -O2 -MT ta_CDLLONGLINE.lo -MD -MP -MF .deps/ta_CDLLONGLINE.Tpo -c ta_CDLLONGLINE.c -o ta_CDLLONGLINE.o >/dev/null 2>&1\n",
            "mv -f .deps/ta_CDLLONGLINE.Tpo .deps/ta_CDLLONGLINE.Plo\n",
            "/bin/bash ../../libtool --tag=CC   --mode=compile gcc -DHAVE_CONFIG_H -I. -I../../include  -I../ta_common/   -g -O2 -MT ta_CDLMARUBOZU.lo -MD -MP -MF .deps/ta_CDLMARUBOZU.Tpo -c -o ta_CDLMARUBOZU.lo ta_CDLMARUBOZU.c\n",
            " gcc -DHAVE_CONFIG_H -I. -I../../include -I../ta_common/ -g -O2 -MT ta_CDLMARUBOZU.lo -MD -MP -MF .deps/ta_CDLMARUBOZU.Tpo -c ta_CDLMARUBOZU.c  -fPIC -DPIC -o .libs/ta_CDLMARUBOZU.o\n",
            " gcc -DHAVE_CONFIG_H -I. -I../../include -I../ta_common/ -g -O2 -MT ta_CDLMARUBOZU.lo -MD -MP -MF .deps/ta_CDLMARUBOZU.Tpo -c ta_CDLMARUBOZU.c -o ta_CDLMARUBOZU.o >/dev/null 2>&1\n",
            "mv -f .deps/ta_CDLMARUBOZU.Tpo .deps/ta_CDLMARUBOZU.Plo\n",
            "/bin/bash ../../libtool --tag=CC   --mode=compile gcc -DHAVE_CONFIG_H -I. -I../../include  -I../ta_common/   -g -O2 -MT ta_CDLMATCHINGLOW.lo -MD -MP -MF .deps/ta_CDLMATCHINGLOW.Tpo -c -o ta_CDLMATCHINGLOW.lo ta_CDLMATCHINGLOW.c\n",
            " gcc -DHAVE_CONFIG_H -I. -I../../include -I../ta_common/ -g -O2 -MT ta_CDLMATCHINGLOW.lo -MD -MP -MF .deps/ta_CDLMATCHINGLOW.Tpo -c ta_CDLMATCHINGLOW.c  -fPIC -DPIC -o .libs/ta_CDLMATCHINGLOW.o\n",
            " gcc -DHAVE_CONFIG_H -I. -I../../include -I../ta_common/ -g -O2 -MT ta_CDLMATCHINGLOW.lo -MD -MP -MF .deps/ta_CDLMATCHINGLOW.Tpo -c ta_CDLMATCHINGLOW.c -o ta_CDLMATCHINGLOW.o >/dev/null 2>&1\n",
            "mv -f .deps/ta_CDLMATCHINGLOW.Tpo .deps/ta_CDLMATCHINGLOW.Plo\n",
            "/bin/bash ../../libtool --tag=CC   --mode=compile gcc -DHAVE_CONFIG_H -I. -I../../include  -I../ta_common/   -g -O2 -MT ta_CDLMATHOLD.lo -MD -MP -MF .deps/ta_CDLMATHOLD.Tpo -c -o ta_CDLMATHOLD.lo ta_CDLMATHOLD.c\n",
            " gcc -DHAVE_CONFIG_H -I. -I../../include -I../ta_common/ -g -O2 -MT ta_CDLMATHOLD.lo -MD -MP -MF .deps/ta_CDLMATHOLD.Tpo -c ta_CDLMATHOLD.c  -fPIC -DPIC -o .libs/ta_CDLMATHOLD.o\n",
            " gcc -DHAVE_CONFIG_H -I. -I../../include -I../ta_common/ -g -O2 -MT ta_CDLMATHOLD.lo -MD -MP -MF .deps/ta_CDLMATHOLD.Tpo -c ta_CDLMATHOLD.c -o ta_CDLMATHOLD.o >/dev/null 2>&1\n",
            "mv -f .deps/ta_CDLMATHOLD.Tpo .deps/ta_CDLMATHOLD.Plo\n",
            "/bin/bash ../../libtool --tag=CC   --mode=compile gcc -DHAVE_CONFIG_H -I. -I../../include  -I../ta_common/   -g -O2 -MT ta_CDLMORNINGDOJISTAR.lo -MD -MP -MF .deps/ta_CDLMORNINGDOJISTAR.Tpo -c -o ta_CDLMORNINGDOJISTAR.lo ta_CDLMORNINGDOJISTAR.c\n",
            " gcc -DHAVE_CONFIG_H -I. -I../../include -I../ta_common/ -g -O2 -MT ta_CDLMORNINGDOJISTAR.lo -MD -MP -MF .deps/ta_CDLMORNINGDOJISTAR.Tpo -c ta_CDLMORNINGDOJISTAR.c  -fPIC -DPIC -o .libs/ta_CDLMORNINGDOJISTAR.o\n",
            " gcc -DHAVE_CONFIG_H -I. -I../../include -I../ta_common/ -g -O2 -MT ta_CDLMORNINGDOJISTAR.lo -MD -MP -MF .deps/ta_CDLMORNINGDOJISTAR.Tpo -c ta_CDLMORNINGDOJISTAR.c -o ta_CDLMORNINGDOJISTAR.o >/dev/null 2>&1\n",
            "mv -f .deps/ta_CDLMORNINGDOJISTAR.Tpo .deps/ta_CDLMORNINGDOJISTAR.Plo\n",
            "/bin/bash ../../libtool --tag=CC   --mode=compile gcc -DHAVE_CONFIG_H -I. -I../../include  -I../ta_common/   -g -O2 -MT ta_CDLMORNINGSTAR.lo -MD -MP -MF .deps/ta_CDLMORNINGSTAR.Tpo -c -o ta_CDLMORNINGSTAR.lo ta_CDLMORNINGSTAR.c\n",
            " gcc -DHAVE_CONFIG_H -I. -I../../include -I../ta_common/ -g -O2 -MT ta_CDLMORNINGSTAR.lo -MD -MP -MF .deps/ta_CDLMORNINGSTAR.Tpo -c ta_CDLMORNINGSTAR.c  -fPIC -DPIC -o .libs/ta_CDLMORNINGSTAR.o\n",
            " gcc -DHAVE_CONFIG_H -I. -I../../include -I../ta_common/ -g -O2 -MT ta_CDLMORNINGSTAR.lo -MD -MP -MF .deps/ta_CDLMORNINGSTAR.Tpo -c ta_CDLMORNINGSTAR.c -o ta_CDLMORNINGSTAR.o >/dev/null 2>&1\n",
            "mv -f .deps/ta_CDLMORNINGSTAR.Tpo .deps/ta_CDLMORNINGSTAR.Plo\n",
            "/bin/bash ../../libtool --tag=CC   --mode=compile gcc -DHAVE_CONFIG_H -I. -I../../include  -I../ta_common/   -g -O2 -MT ta_CDLONNECK.lo -MD -MP -MF .deps/ta_CDLONNECK.Tpo -c -o ta_CDLONNECK.lo ta_CDLONNECK.c\n",
            " gcc -DHAVE_CONFIG_H -I. -I../../include -I../ta_common/ -g -O2 -MT ta_CDLONNECK.lo -MD -MP -MF .deps/ta_CDLONNECK.Tpo -c ta_CDLONNECK.c  -fPIC -DPIC -o .libs/ta_CDLONNECK.o\n",
            " gcc -DHAVE_CONFIG_H -I. -I../../include -I../ta_common/ -g -O2 -MT ta_CDLONNECK.lo -MD -MP -MF .deps/ta_CDLONNECK.Tpo -c ta_CDLONNECK.c -o ta_CDLONNECK.o >/dev/null 2>&1\n",
            "mv -f .deps/ta_CDLONNECK.Tpo .deps/ta_CDLONNECK.Plo\n",
            "/bin/bash ../../libtool --tag=CC   --mode=compile gcc -DHAVE_CONFIG_H -I. -I../../include  -I../ta_common/   -g -O2 -MT ta_CDLPIERCING.lo -MD -MP -MF .deps/ta_CDLPIERCING.Tpo -c -o ta_CDLPIERCING.lo ta_CDLPIERCING.c\n",
            " gcc -DHAVE_CONFIG_H -I. -I../../include -I../ta_common/ -g -O2 -MT ta_CDLPIERCING.lo -MD -MP -MF .deps/ta_CDLPIERCING.Tpo -c ta_CDLPIERCING.c  -fPIC -DPIC -o .libs/ta_CDLPIERCING.o\n",
            " gcc -DHAVE_CONFIG_H -I. -I../../include -I../ta_common/ -g -O2 -MT ta_CDLPIERCING.lo -MD -MP -MF .deps/ta_CDLPIERCING.Tpo -c ta_CDLPIERCING.c -o ta_CDLPIERCING.o >/dev/null 2>&1\n",
            "mv -f .deps/ta_CDLPIERCING.Tpo .deps/ta_CDLPIERCING.Plo\n",
            "/bin/bash ../../libtool --tag=CC   --mode=compile gcc -DHAVE_CONFIG_H -I. -I../../include  -I../ta_common/   -g -O2 -MT ta_CDLRICKSHAWMAN.lo -MD -MP -MF .deps/ta_CDLRICKSHAWMAN.Tpo -c -o ta_CDLRICKSHAWMAN.lo ta_CDLRICKSHAWMAN.c\n",
            " gcc -DHAVE_CONFIG_H -I. -I../../include -I../ta_common/ -g -O2 -MT ta_CDLRICKSHAWMAN.lo -MD -MP -MF .deps/ta_CDLRICKSHAWMAN.Tpo -c ta_CDLRICKSHAWMAN.c  -fPIC -DPIC -o .libs/ta_CDLRICKSHAWMAN.o\n",
            " gcc -DHAVE_CONFIG_H -I. -I../../include -I../ta_common/ -g -O2 -MT ta_CDLRICKSHAWMAN.lo -MD -MP -MF .deps/ta_CDLRICKSHAWMAN.Tpo -c ta_CDLRICKSHAWMAN.c -o ta_CDLRICKSHAWMAN.o >/dev/null 2>&1\n",
            "mv -f .deps/ta_CDLRICKSHAWMAN.Tpo .deps/ta_CDLRICKSHAWMAN.Plo\n",
            "/bin/bash ../../libtool --tag=CC   --mode=compile gcc -DHAVE_CONFIG_H -I. -I../../include  -I../ta_common/   -g -O2 -MT ta_CDLRISEFALL3METHODS.lo -MD -MP -MF .deps/ta_CDLRISEFALL3METHODS.Tpo -c -o ta_CDLRISEFALL3METHODS.lo ta_CDLRISEFALL3METHODS.c\n",
            " gcc -DHAVE_CONFIG_H -I. -I../../include -I../ta_common/ -g -O2 -MT ta_CDLRISEFALL3METHODS.lo -MD -MP -MF .deps/ta_CDLRISEFALL3METHODS.Tpo -c ta_CDLRISEFALL3METHODS.c  -fPIC -DPIC -o .libs/ta_CDLRISEFALL3METHODS.o\n",
            " gcc -DHAVE_CONFIG_H -I. -I../../include -I../ta_common/ -g -O2 -MT ta_CDLRISEFALL3METHODS.lo -MD -MP -MF .deps/ta_CDLRISEFALL3METHODS.Tpo -c ta_CDLRISEFALL3METHODS.c -o ta_CDLRISEFALL3METHODS.o >/dev/null 2>&1\n",
            "mv -f .deps/ta_CDLRISEFALL3METHODS.Tpo .deps/ta_CDLRISEFALL3METHODS.Plo\n",
            "/bin/bash ../../libtool --tag=CC   --mode=compile gcc -DHAVE_CONFIG_H -I. -I../../include  -I../ta_common/   -g -O2 -MT ta_CDLSEPARATINGLINES.lo -MD -MP -MF .deps/ta_CDLSEPARATINGLINES.Tpo -c -o ta_CDLSEPARATINGLINES.lo ta_CDLSEPARATINGLINES.c\n",
            " gcc -DHAVE_CONFIG_H -I. -I../../include -I../ta_common/ -g -O2 -MT ta_CDLSEPARATINGLINES.lo -MD -MP -MF .deps/ta_CDLSEPARATINGLINES.Tpo -c ta_CDLSEPARATINGLINES.c  -fPIC -DPIC -o .libs/ta_CDLSEPARATINGLINES.o\n",
            " gcc -DHAVE_CONFIG_H -I. -I../../include -I../ta_common/ -g -O2 -MT ta_CDLSEPARATINGLINES.lo -MD -MP -MF .deps/ta_CDLSEPARATINGLINES.Tpo -c ta_CDLSEPARATINGLINES.c -o ta_CDLSEPARATINGLINES.o >/dev/null 2>&1\n",
            "mv -f .deps/ta_CDLSEPARATINGLINES.Tpo .deps/ta_CDLSEPARATINGLINES.Plo\n",
            "/bin/bash ../../libtool --tag=CC   --mode=compile gcc -DHAVE_CONFIG_H -I. -I../../include  -I../ta_common/   -g -O2 -MT ta_CDLSHOOTINGSTAR.lo -MD -MP -MF .deps/ta_CDLSHOOTINGSTAR.Tpo -c -o ta_CDLSHOOTINGSTAR.lo ta_CDLSHOOTINGSTAR.c\n",
            " gcc -DHAVE_CONFIG_H -I. -I../../include -I../ta_common/ -g -O2 -MT ta_CDLSHOOTINGSTAR.lo -MD -MP -MF .deps/ta_CDLSHOOTINGSTAR.Tpo -c ta_CDLSHOOTINGSTAR.c  -fPIC -DPIC -o .libs/ta_CDLSHOOTINGSTAR.o\n",
            " gcc -DHAVE_CONFIG_H -I. -I../../include -I../ta_common/ -g -O2 -MT ta_CDLSHOOTINGSTAR.lo -MD -MP -MF .deps/ta_CDLSHOOTINGSTAR.Tpo -c ta_CDLSHOOTINGSTAR.c -o ta_CDLSHOOTINGSTAR.o >/dev/null 2>&1\n",
            "mv -f .deps/ta_CDLSHOOTINGSTAR.Tpo .deps/ta_CDLSHOOTINGSTAR.Plo\n",
            "/bin/bash ../../libtool --tag=CC   --mode=compile gcc -DHAVE_CONFIG_H -I. -I../../include  -I../ta_common/   -g -O2 -MT ta_CDLSHORTLINE.lo -MD -MP -MF .deps/ta_CDLSHORTLINE.Tpo -c -o ta_CDLSHORTLINE.lo ta_CDLSHORTLINE.c\n",
            " gcc -DHAVE_CONFIG_H -I. -I../../include -I../ta_common/ -g -O2 -MT ta_CDLSHORTLINE.lo -MD -MP -MF .deps/ta_CDLSHORTLINE.Tpo -c ta_CDLSHORTLINE.c  -fPIC -DPIC -o .libs/ta_CDLSHORTLINE.o\n",
            " gcc -DHAVE_CONFIG_H -I. -I../../include -I../ta_common/ -g -O2 -MT ta_CDLSHORTLINE.lo -MD -MP -MF .deps/ta_CDLSHORTLINE.Tpo -c ta_CDLSHORTLINE.c -o ta_CDLSHORTLINE.o >/dev/null 2>&1\n",
            "mv -f .deps/ta_CDLSHORTLINE.Tpo .deps/ta_CDLSHORTLINE.Plo\n",
            "/bin/bash ../../libtool --tag=CC   --mode=compile gcc -DHAVE_CONFIG_H -I. -I../../include  -I../ta_common/   -g -O2 -MT ta_CDLSPINNINGTOP.lo -MD -MP -MF .deps/ta_CDLSPINNINGTOP.Tpo -c -o ta_CDLSPINNINGTOP.lo ta_CDLSPINNINGTOP.c\n",
            " gcc -DHAVE_CONFIG_H -I. -I../../include -I../ta_common/ -g -O2 -MT ta_CDLSPINNINGTOP.lo -MD -MP -MF .deps/ta_CDLSPINNINGTOP.Tpo -c ta_CDLSPINNINGTOP.c  -fPIC -DPIC -o .libs/ta_CDLSPINNINGTOP.o\n",
            " gcc -DHAVE_CONFIG_H -I. -I../../include -I../ta_common/ -g -O2 -MT ta_CDLSPINNINGTOP.lo -MD -MP -MF .deps/ta_CDLSPINNINGTOP.Tpo -c ta_CDLSPINNINGTOP.c -o ta_CDLSPINNINGTOP.o >/dev/null 2>&1\n",
            "mv -f .deps/ta_CDLSPINNINGTOP.Tpo .deps/ta_CDLSPINNINGTOP.Plo\n",
            "/bin/bash ../../libtool --tag=CC   --mode=compile gcc -DHAVE_CONFIG_H -I. -I../../include  -I../ta_common/   -g -O2 -MT ta_CDLSTALLEDPATTERN.lo -MD -MP -MF .deps/ta_CDLSTALLEDPATTERN.Tpo -c -o ta_CDLSTALLEDPATTERN.lo ta_CDLSTALLEDPATTERN.c\n",
            " gcc -DHAVE_CONFIG_H -I. -I../../include -I../ta_common/ -g -O2 -MT ta_CDLSTALLEDPATTERN.lo -MD -MP -MF .deps/ta_CDLSTALLEDPATTERN.Tpo -c ta_CDLSTALLEDPATTERN.c  -fPIC -DPIC -o .libs/ta_CDLSTALLEDPATTERN.o\n",
            " gcc -DHAVE_CONFIG_H -I. -I../../include -I../ta_common/ -g -O2 -MT ta_CDLSTALLEDPATTERN.lo -MD -MP -MF .deps/ta_CDLSTALLEDPATTERN.Tpo -c ta_CDLSTALLEDPATTERN.c -o ta_CDLSTALLEDPATTERN.o >/dev/null 2>&1\n",
            "mv -f .deps/ta_CDLSTALLEDPATTERN.Tpo .deps/ta_CDLSTALLEDPATTERN.Plo\n",
            "/bin/bash ../../libtool --tag=CC   --mode=compile gcc -DHAVE_CONFIG_H -I. -I../../include  -I../ta_common/   -g -O2 -MT ta_CDLSTICKSANDWICH.lo -MD -MP -MF .deps/ta_CDLSTICKSANDWICH.Tpo -c -o ta_CDLSTICKSANDWICH.lo ta_CDLSTICKSANDWICH.c\n",
            " gcc -DHAVE_CONFIG_H -I. -I../../include -I../ta_common/ -g -O2 -MT ta_CDLSTICKSANDWICH.lo -MD -MP -MF .deps/ta_CDLSTICKSANDWICH.Tpo -c ta_CDLSTICKSANDWICH.c  -fPIC -DPIC -o .libs/ta_CDLSTICKSANDWICH.o\n",
            " gcc -DHAVE_CONFIG_H -I. -I../../include -I../ta_common/ -g -O2 -MT ta_CDLSTICKSANDWICH.lo -MD -MP -MF .deps/ta_CDLSTICKSANDWICH.Tpo -c ta_CDLSTICKSANDWICH.c -o ta_CDLSTICKSANDWICH.o >/dev/null 2>&1\n",
            "mv -f .deps/ta_CDLSTICKSANDWICH.Tpo .deps/ta_CDLSTICKSANDWICH.Plo\n",
            "/bin/bash ../../libtool --tag=CC   --mode=compile gcc -DHAVE_CONFIG_H -I. -I../../include  -I../ta_common/   -g -O2 -MT ta_CDLTAKURI.lo -MD -MP -MF .deps/ta_CDLTAKURI.Tpo -c -o ta_CDLTAKURI.lo ta_CDLTAKURI.c\n",
            " gcc -DHAVE_CONFIG_H -I. -I../../include -I../ta_common/ -g -O2 -MT ta_CDLTAKURI.lo -MD -MP -MF .deps/ta_CDLTAKURI.Tpo -c ta_CDLTAKURI.c  -fPIC -DPIC -o .libs/ta_CDLTAKURI.o\n",
            " gcc -DHAVE_CONFIG_H -I. -I../../include -I../ta_common/ -g -O2 -MT ta_CDLTAKURI.lo -MD -MP -MF .deps/ta_CDLTAKURI.Tpo -c ta_CDLTAKURI.c -o ta_CDLTAKURI.o >/dev/null 2>&1\n",
            "mv -f .deps/ta_CDLTAKURI.Tpo .deps/ta_CDLTAKURI.Plo\n",
            "/bin/bash ../../libtool --tag=CC   --mode=compile gcc -DHAVE_CONFIG_H -I. -I../../include  -I../ta_common/   -g -O2 -MT ta_CDLTASUKIGAP.lo -MD -MP -MF .deps/ta_CDLTASUKIGAP.Tpo -c -o ta_CDLTASUKIGAP.lo ta_CDLTASUKIGAP.c\n",
            " gcc -DHAVE_CONFIG_H -I. -I../../include -I../ta_common/ -g -O2 -MT ta_CDLTASUKIGAP.lo -MD -MP -MF .deps/ta_CDLTASUKIGAP.Tpo -c ta_CDLTASUKIGAP.c  -fPIC -DPIC -o .libs/ta_CDLTASUKIGAP.o\n",
            " gcc -DHAVE_CONFIG_H -I. -I../../include -I../ta_common/ -g -O2 -MT ta_CDLTASUKIGAP.lo -MD -MP -MF .deps/ta_CDLTASUKIGAP.Tpo -c ta_CDLTASUKIGAP.c -o ta_CDLTASUKIGAP.o >/dev/null 2>&1\n",
            "mv -f .deps/ta_CDLTASUKIGAP.Tpo .deps/ta_CDLTASUKIGAP.Plo\n",
            "/bin/bash ../../libtool --tag=CC   --mode=compile gcc -DHAVE_CONFIG_H -I. -I../../include  -I../ta_common/   -g -O2 -MT ta_CDLTHRUSTING.lo -MD -MP -MF .deps/ta_CDLTHRUSTING.Tpo -c -o ta_CDLTHRUSTING.lo ta_CDLTHRUSTING.c\n",
            " gcc -DHAVE_CONFIG_H -I. -I../../include -I../ta_common/ -g -O2 -MT ta_CDLTHRUSTING.lo -MD -MP -MF .deps/ta_CDLTHRUSTING.Tpo -c ta_CDLTHRUSTING.c  -fPIC -DPIC -o .libs/ta_CDLTHRUSTING.o\n",
            " gcc -DHAVE_CONFIG_H -I. -I../../include -I../ta_common/ -g -O2 -MT ta_CDLTHRUSTING.lo -MD -MP -MF .deps/ta_CDLTHRUSTING.Tpo -c ta_CDLTHRUSTING.c -o ta_CDLTHRUSTING.o >/dev/null 2>&1\n",
            "mv -f .deps/ta_CDLTHRUSTING.Tpo .deps/ta_CDLTHRUSTING.Plo\n",
            "/bin/bash ../../libtool --tag=CC   --mode=compile gcc -DHAVE_CONFIG_H -I. -I../../include  -I../ta_common/   -g -O2 -MT ta_CDLTRISTAR.lo -MD -MP -MF .deps/ta_CDLTRISTAR.Tpo -c -o ta_CDLTRISTAR.lo ta_CDLTRISTAR.c\n",
            " gcc -DHAVE_CONFIG_H -I. -I../../include -I../ta_common/ -g -O2 -MT ta_CDLTRISTAR.lo -MD -MP -MF .deps/ta_CDLTRISTAR.Tpo -c ta_CDLTRISTAR.c  -fPIC -DPIC -o .libs/ta_CDLTRISTAR.o\n",
            " gcc -DHAVE_CONFIG_H -I. -I../../include -I../ta_common/ -g -O2 -MT ta_CDLTRISTAR.lo -MD -MP -MF .deps/ta_CDLTRISTAR.Tpo -c ta_CDLTRISTAR.c -o ta_CDLTRISTAR.o >/dev/null 2>&1\n",
            "mv -f .deps/ta_CDLTRISTAR.Tpo .deps/ta_CDLTRISTAR.Plo\n",
            "/bin/bash ../../libtool --tag=CC   --mode=compile gcc -DHAVE_CONFIG_H -I. -I../../include  -I../ta_common/   -g -O2 -MT ta_CDLUNIQUE3RIVER.lo -MD -MP -MF .deps/ta_CDLUNIQUE3RIVER.Tpo -c -o ta_CDLUNIQUE3RIVER.lo ta_CDLUNIQUE3RIVER.c\n",
            " gcc -DHAVE_CONFIG_H -I. -I../../include -I../ta_common/ -g -O2 -MT ta_CDLUNIQUE3RIVER.lo -MD -MP -MF .deps/ta_CDLUNIQUE3RIVER.Tpo -c ta_CDLUNIQUE3RIVER.c  -fPIC -DPIC -o .libs/ta_CDLUNIQUE3RIVER.o\n",
            " gcc -DHAVE_CONFIG_H -I. -I../../include -I../ta_common/ -g -O2 -MT ta_CDLUNIQUE3RIVER.lo -MD -MP -MF .deps/ta_CDLUNIQUE3RIVER.Tpo -c ta_CDLUNIQUE3RIVER.c -o ta_CDLUNIQUE3RIVER.o >/dev/null 2>&1\n",
            "mv -f .deps/ta_CDLUNIQUE3RIVER.Tpo .deps/ta_CDLUNIQUE3RIVER.Plo\n",
            "/bin/bash ../../libtool --tag=CC   --mode=compile gcc -DHAVE_CONFIG_H -I. -I../../include  -I../ta_common/   -g -O2 -MT ta_CDLUPSIDEGAP2CROWS.lo -MD -MP -MF .deps/ta_CDLUPSIDEGAP2CROWS.Tpo -c -o ta_CDLUPSIDEGAP2CROWS.lo ta_CDLUPSIDEGAP2CROWS.c\n",
            " gcc -DHAVE_CONFIG_H -I. -I../../include -I../ta_common/ -g -O2 -MT ta_CDLUPSIDEGAP2CROWS.lo -MD -MP -MF .deps/ta_CDLUPSIDEGAP2CROWS.Tpo -c ta_CDLUPSIDEGAP2CROWS.c  -fPIC -DPIC -o .libs/ta_CDLUPSIDEGAP2CROWS.o\n",
            " gcc -DHAVE_CONFIG_H -I. -I../../include -I../ta_common/ -g -O2 -MT ta_CDLUPSIDEGAP2CROWS.lo -MD -MP -MF .deps/ta_CDLUPSIDEGAP2CROWS.Tpo -c ta_CDLUPSIDEGAP2CROWS.c -o ta_CDLUPSIDEGAP2CROWS.o >/dev/null 2>&1\n",
            "mv -f .deps/ta_CDLUPSIDEGAP2CROWS.Tpo .deps/ta_CDLUPSIDEGAP2CROWS.Plo\n",
            "/bin/bash ../../libtool --tag=CC   --mode=compile gcc -DHAVE_CONFIG_H -I. -I../../include  -I../ta_common/   -g -O2 -MT ta_CDLXSIDEGAP3METHODS.lo -MD -MP -MF .deps/ta_CDLXSIDEGAP3METHODS.Tpo -c -o ta_CDLXSIDEGAP3METHODS.lo ta_CDLXSIDEGAP3METHODS.c\n",
            " gcc -DHAVE_CONFIG_H -I. -I../../include -I../ta_common/ -g -O2 -MT ta_CDLXSIDEGAP3METHODS.lo -MD -MP -MF .deps/ta_CDLXSIDEGAP3METHODS.Tpo -c ta_CDLXSIDEGAP3METHODS.c  -fPIC -DPIC -o .libs/ta_CDLXSIDEGAP3METHODS.o\n",
            " gcc -DHAVE_CONFIG_H -I. -I../../include -I../ta_common/ -g -O2 -MT ta_CDLXSIDEGAP3METHODS.lo -MD -MP -MF .deps/ta_CDLXSIDEGAP3METHODS.Tpo -c ta_CDLXSIDEGAP3METHODS.c -o ta_CDLXSIDEGAP3METHODS.o >/dev/null 2>&1\n",
            "mv -f .deps/ta_CDLXSIDEGAP3METHODS.Tpo .deps/ta_CDLXSIDEGAP3METHODS.Plo\n",
            "/bin/bash ../../libtool --tag=CC   --mode=compile gcc -DHAVE_CONFIG_H -I. -I../../include  -I../ta_common/   -g -O2 -MT ta_CEIL.lo -MD -MP -MF .deps/ta_CEIL.Tpo -c -o ta_CEIL.lo ta_CEIL.c\n",
            " gcc -DHAVE_CONFIG_H -I. -I../../include -I../ta_common/ -g -O2 -MT ta_CEIL.lo -MD -MP -MF .deps/ta_CEIL.Tpo -c ta_CEIL.c  -fPIC -DPIC -o .libs/ta_CEIL.o\n",
            " gcc -DHAVE_CONFIG_H -I. -I../../include -I../ta_common/ -g -O2 -MT ta_CEIL.lo -MD -MP -MF .deps/ta_CEIL.Tpo -c ta_CEIL.c -o ta_CEIL.o >/dev/null 2>&1\n",
            "mv -f .deps/ta_CEIL.Tpo .deps/ta_CEIL.Plo\n",
            "/bin/bash ../../libtool --tag=CC   --mode=compile gcc -DHAVE_CONFIG_H -I. -I../../include  -I../ta_common/   -g -O2 -MT ta_CMO.lo -MD -MP -MF .deps/ta_CMO.Tpo -c -o ta_CMO.lo ta_CMO.c\n",
            " gcc -DHAVE_CONFIG_H -I. -I../../include -I../ta_common/ -g -O2 -MT ta_CMO.lo -MD -MP -MF .deps/ta_CMO.Tpo -c ta_CMO.c  -fPIC -DPIC -o .libs/ta_CMO.o\n",
            " gcc -DHAVE_CONFIG_H -I. -I../../include -I../ta_common/ -g -O2 -MT ta_CMO.lo -MD -MP -MF .deps/ta_CMO.Tpo -c ta_CMO.c -o ta_CMO.o >/dev/null 2>&1\n",
            "mv -f .deps/ta_CMO.Tpo .deps/ta_CMO.Plo\n",
            "/bin/bash ../../libtool --tag=CC   --mode=compile gcc -DHAVE_CONFIG_H -I. -I../../include  -I../ta_common/   -g -O2 -MT ta_CORREL.lo -MD -MP -MF .deps/ta_CORREL.Tpo -c -o ta_CORREL.lo ta_CORREL.c\n",
            " gcc -DHAVE_CONFIG_H -I. -I../../include -I../ta_common/ -g -O2 -MT ta_CORREL.lo -MD -MP -MF .deps/ta_CORREL.Tpo -c ta_CORREL.c  -fPIC -DPIC -o .libs/ta_CORREL.o\n",
            " gcc -DHAVE_CONFIG_H -I. -I../../include -I../ta_common/ -g -O2 -MT ta_CORREL.lo -MD -MP -MF .deps/ta_CORREL.Tpo -c ta_CORREL.c -o ta_CORREL.o >/dev/null 2>&1\n",
            "mv -f .deps/ta_CORREL.Tpo .deps/ta_CORREL.Plo\n",
            "/bin/bash ../../libtool --tag=CC   --mode=compile gcc -DHAVE_CONFIG_H -I. -I../../include  -I../ta_common/   -g -O2 -MT ta_COS.lo -MD -MP -MF .deps/ta_COS.Tpo -c -o ta_COS.lo ta_COS.c\n",
            " gcc -DHAVE_CONFIG_H -I. -I../../include -I../ta_common/ -g -O2 -MT ta_COS.lo -MD -MP -MF .deps/ta_COS.Tpo -c ta_COS.c  -fPIC -DPIC -o .libs/ta_COS.o\n",
            " gcc -DHAVE_CONFIG_H -I. -I../../include -I../ta_common/ -g -O2 -MT ta_COS.lo -MD -MP -MF .deps/ta_COS.Tpo -c ta_COS.c -o ta_COS.o >/dev/null 2>&1\n",
            "mv -f .deps/ta_COS.Tpo .deps/ta_COS.Plo\n",
            "/bin/bash ../../libtool --tag=CC   --mode=compile gcc -DHAVE_CONFIG_H -I. -I../../include  -I../ta_common/   -g -O2 -MT ta_COSH.lo -MD -MP -MF .deps/ta_COSH.Tpo -c -o ta_COSH.lo ta_COSH.c\n",
            " gcc -DHAVE_CONFIG_H -I. -I../../include -I../ta_common/ -g -O2 -MT ta_COSH.lo -MD -MP -MF .deps/ta_COSH.Tpo -c ta_COSH.c  -fPIC -DPIC -o .libs/ta_COSH.o\n",
            " gcc -DHAVE_CONFIG_H -I. -I../../include -I../ta_common/ -g -O2 -MT ta_COSH.lo -MD -MP -MF .deps/ta_COSH.Tpo -c ta_COSH.c -o ta_COSH.o >/dev/null 2>&1\n",
            "mv -f .deps/ta_COSH.Tpo .deps/ta_COSH.Plo\n",
            "/bin/bash ../../libtool --tag=CC   --mode=compile gcc -DHAVE_CONFIG_H -I. -I../../include  -I../ta_common/   -g -O2 -MT ta_DEMA.lo -MD -MP -MF .deps/ta_DEMA.Tpo -c -o ta_DEMA.lo ta_DEMA.c\n",
            " gcc -DHAVE_CONFIG_H -I. -I../../include -I../ta_common/ -g -O2 -MT ta_DEMA.lo -MD -MP -MF .deps/ta_DEMA.Tpo -c ta_DEMA.c  -fPIC -DPIC -o .libs/ta_DEMA.o\n",
            " gcc -DHAVE_CONFIG_H -I. -I../../include -I../ta_common/ -g -O2 -MT ta_DEMA.lo -MD -MP -MF .deps/ta_DEMA.Tpo -c ta_DEMA.c -o ta_DEMA.o >/dev/null 2>&1\n",
            "mv -f .deps/ta_DEMA.Tpo .deps/ta_DEMA.Plo\n",
            "/bin/bash ../../libtool --tag=CC   --mode=compile gcc -DHAVE_CONFIG_H -I. -I../../include  -I../ta_common/   -g -O2 -MT ta_DIV.lo -MD -MP -MF .deps/ta_DIV.Tpo -c -o ta_DIV.lo ta_DIV.c\n",
            " gcc -DHAVE_CONFIG_H -I. -I../../include -I../ta_common/ -g -O2 -MT ta_DIV.lo -MD -MP -MF .deps/ta_DIV.Tpo -c ta_DIV.c  -fPIC -DPIC -o .libs/ta_DIV.o\n",
            " gcc -DHAVE_CONFIG_H -I. -I../../include -I../ta_common/ -g -O2 -MT ta_DIV.lo -MD -MP -MF .deps/ta_DIV.Tpo -c ta_DIV.c -o ta_DIV.o >/dev/null 2>&1\n",
            "mv -f .deps/ta_DIV.Tpo .deps/ta_DIV.Plo\n",
            "/bin/bash ../../libtool --tag=CC   --mode=compile gcc -DHAVE_CONFIG_H -I. -I../../include  -I../ta_common/   -g -O2 -MT ta_DX.lo -MD -MP -MF .deps/ta_DX.Tpo -c -o ta_DX.lo ta_DX.c\n",
            " gcc -DHAVE_CONFIG_H -I. -I../../include -I../ta_common/ -g -O2 -MT ta_DX.lo -MD -MP -MF .deps/ta_DX.Tpo -c ta_DX.c  -fPIC -DPIC -o .libs/ta_DX.o\n",
            " gcc -DHAVE_CONFIG_H -I. -I../../include -I../ta_common/ -g -O2 -MT ta_DX.lo -MD -MP -MF .deps/ta_DX.Tpo -c ta_DX.c -o ta_DX.o >/dev/null 2>&1\n",
            "mv -f .deps/ta_DX.Tpo .deps/ta_DX.Plo\n",
            "/bin/bash ../../libtool --tag=CC   --mode=compile gcc -DHAVE_CONFIG_H -I. -I../../include  -I../ta_common/   -g -O2 -MT ta_EMA.lo -MD -MP -MF .deps/ta_EMA.Tpo -c -o ta_EMA.lo ta_EMA.c\n",
            " gcc -DHAVE_CONFIG_H -I. -I../../include -I../ta_common/ -g -O2 -MT ta_EMA.lo -MD -MP -MF .deps/ta_EMA.Tpo -c ta_EMA.c  -fPIC -DPIC -o .libs/ta_EMA.o\n",
            " gcc -DHAVE_CONFIG_H -I. -I../../include -I../ta_common/ -g -O2 -MT ta_EMA.lo -MD -MP -MF .deps/ta_EMA.Tpo -c ta_EMA.c -o ta_EMA.o >/dev/null 2>&1\n",
            "mv -f .deps/ta_EMA.Tpo .deps/ta_EMA.Plo\n",
            "/bin/bash ../../libtool --tag=CC   --mode=compile gcc -DHAVE_CONFIG_H -I. -I../../include  -I../ta_common/   -g -O2 -MT ta_EXP.lo -MD -MP -MF .deps/ta_EXP.Tpo -c -o ta_EXP.lo ta_EXP.c\n",
            " gcc -DHAVE_CONFIG_H -I. -I../../include -I../ta_common/ -g -O2 -MT ta_EXP.lo -MD -MP -MF .deps/ta_EXP.Tpo -c ta_EXP.c  -fPIC -DPIC -o .libs/ta_EXP.o\n",
            " gcc -DHAVE_CONFIG_H -I. -I../../include -I../ta_common/ -g -O2 -MT ta_EXP.lo -MD -MP -MF .deps/ta_EXP.Tpo -c ta_EXP.c -o ta_EXP.o >/dev/null 2>&1\n",
            "mv -f .deps/ta_EXP.Tpo .deps/ta_EXP.Plo\n",
            "/bin/bash ../../libtool --tag=CC   --mode=compile gcc -DHAVE_CONFIG_H -I. -I../../include  -I../ta_common/   -g -O2 -MT ta_FLOOR.lo -MD -MP -MF .deps/ta_FLOOR.Tpo -c -o ta_FLOOR.lo ta_FLOOR.c\n",
            " gcc -DHAVE_CONFIG_H -I. -I../../include -I../ta_common/ -g -O2 -MT ta_FLOOR.lo -MD -MP -MF .deps/ta_FLOOR.Tpo -c ta_FLOOR.c  -fPIC -DPIC -o .libs/ta_FLOOR.o\n",
            " gcc -DHAVE_CONFIG_H -I. -I../../include -I../ta_common/ -g -O2 -MT ta_FLOOR.lo -MD -MP -MF .deps/ta_FLOOR.Tpo -c ta_FLOOR.c -o ta_FLOOR.o >/dev/null 2>&1\n",
            "mv -f .deps/ta_FLOOR.Tpo .deps/ta_FLOOR.Plo\n",
            "/bin/bash ../../libtool --tag=CC   --mode=compile gcc -DHAVE_CONFIG_H -I. -I../../include  -I../ta_common/   -g -O2 -MT ta_HT_DCPERIOD.lo -MD -MP -MF .deps/ta_HT_DCPERIOD.Tpo -c -o ta_HT_DCPERIOD.lo ta_HT_DCPERIOD.c\n",
            " gcc -DHAVE_CONFIG_H -I. -I../../include -I../ta_common/ -g -O2 -MT ta_HT_DCPERIOD.lo -MD -MP -MF .deps/ta_HT_DCPERIOD.Tpo -c ta_HT_DCPERIOD.c  -fPIC -DPIC -o .libs/ta_HT_DCPERIOD.o\n",
            " gcc -DHAVE_CONFIG_H -I. -I../../include -I../ta_common/ -g -O2 -MT ta_HT_DCPERIOD.lo -MD -MP -MF .deps/ta_HT_DCPERIOD.Tpo -c ta_HT_DCPERIOD.c -o ta_HT_DCPERIOD.o >/dev/null 2>&1\n",
            "mv -f .deps/ta_HT_DCPERIOD.Tpo .deps/ta_HT_DCPERIOD.Plo\n",
            "/bin/bash ../../libtool --tag=CC   --mode=compile gcc -DHAVE_CONFIG_H -I. -I../../include  -I../ta_common/   -g -O2 -MT ta_HT_DCPHASE.lo -MD -MP -MF .deps/ta_HT_DCPHASE.Tpo -c -o ta_HT_DCPHASE.lo ta_HT_DCPHASE.c\n",
            " gcc -DHAVE_CONFIG_H -I. -I../../include -I../ta_common/ -g -O2 -MT ta_HT_DCPHASE.lo -MD -MP -MF .deps/ta_HT_DCPHASE.Tpo -c ta_HT_DCPHASE.c  -fPIC -DPIC -o .libs/ta_HT_DCPHASE.o\n",
            " gcc -DHAVE_CONFIG_H -I. -I../../include -I../ta_common/ -g -O2 -MT ta_HT_DCPHASE.lo -MD -MP -MF .deps/ta_HT_DCPHASE.Tpo -c ta_HT_DCPHASE.c -o ta_HT_DCPHASE.o >/dev/null 2>&1\n",
            "mv -f .deps/ta_HT_DCPHASE.Tpo .deps/ta_HT_DCPHASE.Plo\n",
            "/bin/bash ../../libtool --tag=CC   --mode=compile gcc -DHAVE_CONFIG_H -I. -I../../include  -I../ta_common/   -g -O2 -MT ta_HT_PHASOR.lo -MD -MP -MF .deps/ta_HT_PHASOR.Tpo -c -o ta_HT_PHASOR.lo ta_HT_PHASOR.c\n",
            " gcc -DHAVE_CONFIG_H -I. -I../../include -I../ta_common/ -g -O2 -MT ta_HT_PHASOR.lo -MD -MP -MF .deps/ta_HT_PHASOR.Tpo -c ta_HT_PHASOR.c  -fPIC -DPIC -o .libs/ta_HT_PHASOR.o\n",
            " gcc -DHAVE_CONFIG_H -I. -I../../include -I../ta_common/ -g -O2 -MT ta_HT_PHASOR.lo -MD -MP -MF .deps/ta_HT_PHASOR.Tpo -c ta_HT_PHASOR.c -o ta_HT_PHASOR.o >/dev/null 2>&1\n",
            "mv -f .deps/ta_HT_PHASOR.Tpo .deps/ta_HT_PHASOR.Plo\n",
            "/bin/bash ../../libtool --tag=CC   --mode=compile gcc -DHAVE_CONFIG_H -I. -I../../include  -I../ta_common/   -g -O2 -MT ta_HT_SINE.lo -MD -MP -MF .deps/ta_HT_SINE.Tpo -c -o ta_HT_SINE.lo ta_HT_SINE.c\n",
            " gcc -DHAVE_CONFIG_H -I. -I../../include -I../ta_common/ -g -O2 -MT ta_HT_SINE.lo -MD -MP -MF .deps/ta_HT_SINE.Tpo -c ta_HT_SINE.c  -fPIC -DPIC -o .libs/ta_HT_SINE.o\n",
            " gcc -DHAVE_CONFIG_H -I. -I../../include -I../ta_common/ -g -O2 -MT ta_HT_SINE.lo -MD -MP -MF .deps/ta_HT_SINE.Tpo -c ta_HT_SINE.c -o ta_HT_SINE.o >/dev/null 2>&1\n",
            "mv -f .deps/ta_HT_SINE.Tpo .deps/ta_HT_SINE.Plo\n",
            "/bin/bash ../../libtool --tag=CC   --mode=compile gcc -DHAVE_CONFIG_H -I. -I../../include  -I../ta_common/   -g -O2 -MT ta_HT_TRENDLINE.lo -MD -MP -MF .deps/ta_HT_TRENDLINE.Tpo -c -o ta_HT_TRENDLINE.lo ta_HT_TRENDLINE.c\n",
            " gcc -DHAVE_CONFIG_H -I. -I../../include -I../ta_common/ -g -O2 -MT ta_HT_TRENDLINE.lo -MD -MP -MF .deps/ta_HT_TRENDLINE.Tpo -c ta_HT_TRENDLINE.c  -fPIC -DPIC -o .libs/ta_HT_TRENDLINE.o\n",
            " gcc -DHAVE_CONFIG_H -I. -I../../include -I../ta_common/ -g -O2 -MT ta_HT_TRENDLINE.lo -MD -MP -MF .deps/ta_HT_TRENDLINE.Tpo -c ta_HT_TRENDLINE.c -o ta_HT_TRENDLINE.o >/dev/null 2>&1\n",
            "mv -f .deps/ta_HT_TRENDLINE.Tpo .deps/ta_HT_TRENDLINE.Plo\n",
            "/bin/bash ../../libtool --tag=CC   --mode=compile gcc -DHAVE_CONFIG_H -I. -I../../include  -I../ta_common/   -g -O2 -MT ta_HT_TRENDMODE.lo -MD -MP -MF .deps/ta_HT_TRENDMODE.Tpo -c -o ta_HT_TRENDMODE.lo ta_HT_TRENDMODE.c\n",
            " gcc -DHAVE_CONFIG_H -I. -I../../include -I../ta_common/ -g -O2 -MT ta_HT_TRENDMODE.lo -MD -MP -MF .deps/ta_HT_TRENDMODE.Tpo -c ta_HT_TRENDMODE.c  -fPIC -DPIC -o .libs/ta_HT_TRENDMODE.o\n",
            " gcc -DHAVE_CONFIG_H -I. -I../../include -I../ta_common/ -g -O2 -MT ta_HT_TRENDMODE.lo -MD -MP -MF .deps/ta_HT_TRENDMODE.Tpo -c ta_HT_TRENDMODE.c -o ta_HT_TRENDMODE.o >/dev/null 2>&1\n",
            "mv -f .deps/ta_HT_TRENDMODE.Tpo .deps/ta_HT_TRENDMODE.Plo\n",
            "/bin/bash ../../libtool --tag=CC   --mode=compile gcc -DHAVE_CONFIG_H -I. -I../../include  -I../ta_common/   -g -O2 -MT ta_KAMA.lo -MD -MP -MF .deps/ta_KAMA.Tpo -c -o ta_KAMA.lo ta_KAMA.c\n",
            " gcc -DHAVE_CONFIG_H -I. -I../../include -I../ta_common/ -g -O2 -MT ta_KAMA.lo -MD -MP -MF .deps/ta_KAMA.Tpo -c ta_KAMA.c  -fPIC -DPIC -o .libs/ta_KAMA.o\n",
            " gcc -DHAVE_CONFIG_H -I. -I../../include -I../ta_common/ -g -O2 -MT ta_KAMA.lo -MD -MP -MF .deps/ta_KAMA.Tpo -c ta_KAMA.c -o ta_KAMA.o >/dev/null 2>&1\n",
            "mv -f .deps/ta_KAMA.Tpo .deps/ta_KAMA.Plo\n",
            "/bin/bash ../../libtool --tag=CC   --mode=compile gcc -DHAVE_CONFIG_H -I. -I../../include  -I../ta_common/   -g -O2 -MT ta_LINEARREG.lo -MD -MP -MF .deps/ta_LINEARREG.Tpo -c -o ta_LINEARREG.lo ta_LINEARREG.c\n",
            " gcc -DHAVE_CONFIG_H -I. -I../../include -I../ta_common/ -g -O2 -MT ta_LINEARREG.lo -MD -MP -MF .deps/ta_LINEARREG.Tpo -c ta_LINEARREG.c  -fPIC -DPIC -o .libs/ta_LINEARREG.o\n",
            " gcc -DHAVE_CONFIG_H -I. -I../../include -I../ta_common/ -g -O2 -MT ta_LINEARREG.lo -MD -MP -MF .deps/ta_LINEARREG.Tpo -c ta_LINEARREG.c -o ta_LINEARREG.o >/dev/null 2>&1\n",
            "mv -f .deps/ta_LINEARREG.Tpo .deps/ta_LINEARREG.Plo\n",
            "/bin/bash ../../libtool --tag=CC   --mode=compile gcc -DHAVE_CONFIG_H -I. -I../../include  -I../ta_common/   -g -O2 -MT ta_LINEARREG_ANGLE.lo -MD -MP -MF .deps/ta_LINEARREG_ANGLE.Tpo -c -o ta_LINEARREG_ANGLE.lo ta_LINEARREG_ANGLE.c\n",
            " gcc -DHAVE_CONFIG_H -I. -I../../include -I../ta_common/ -g -O2 -MT ta_LINEARREG_ANGLE.lo -MD -MP -MF .deps/ta_LINEARREG_ANGLE.Tpo -c ta_LINEARREG_ANGLE.c  -fPIC -DPIC -o .libs/ta_LINEARREG_ANGLE.o\n",
            " gcc -DHAVE_CONFIG_H -I. -I../../include -I../ta_common/ -g -O2 -MT ta_LINEARREG_ANGLE.lo -MD -MP -MF .deps/ta_LINEARREG_ANGLE.Tpo -c ta_LINEARREG_ANGLE.c -o ta_LINEARREG_ANGLE.o >/dev/null 2>&1\n",
            "mv -f .deps/ta_LINEARREG_ANGLE.Tpo .deps/ta_LINEARREG_ANGLE.Plo\n",
            "/bin/bash ../../libtool --tag=CC   --mode=compile gcc -DHAVE_CONFIG_H -I. -I../../include  -I../ta_common/   -g -O2 -MT ta_LINEARREG_INTERCEPT.lo -MD -MP -MF .deps/ta_LINEARREG_INTERCEPT.Tpo -c -o ta_LINEARREG_INTERCEPT.lo ta_LINEARREG_INTERCEPT.c\n",
            " gcc -DHAVE_CONFIG_H -I. -I../../include -I../ta_common/ -g -O2 -MT ta_LINEARREG_INTERCEPT.lo -MD -MP -MF .deps/ta_LINEARREG_INTERCEPT.Tpo -c ta_LINEARREG_INTERCEPT.c  -fPIC -DPIC -o .libs/ta_LINEARREG_INTERCEPT.o\n",
            " gcc -DHAVE_CONFIG_H -I. -I../../include -I../ta_common/ -g -O2 -MT ta_LINEARREG_INTERCEPT.lo -MD -MP -MF .deps/ta_LINEARREG_INTERCEPT.Tpo -c ta_LINEARREG_INTERCEPT.c -o ta_LINEARREG_INTERCEPT.o >/dev/null 2>&1\n",
            "mv -f .deps/ta_LINEARREG_INTERCEPT.Tpo .deps/ta_LINEARREG_INTERCEPT.Plo\n",
            "/bin/bash ../../libtool --tag=CC   --mode=compile gcc -DHAVE_CONFIG_H -I. -I../../include  -I../ta_common/   -g -O2 -MT ta_LINEARREG_SLOPE.lo -MD -MP -MF .deps/ta_LINEARREG_SLOPE.Tpo -c -o ta_LINEARREG_SLOPE.lo ta_LINEARREG_SLOPE.c\n",
            " gcc -DHAVE_CONFIG_H -I. -I../../include -I../ta_common/ -g -O2 -MT ta_LINEARREG_SLOPE.lo -MD -MP -MF .deps/ta_LINEARREG_SLOPE.Tpo -c ta_LINEARREG_SLOPE.c  -fPIC -DPIC -o .libs/ta_LINEARREG_SLOPE.o\n",
            " gcc -DHAVE_CONFIG_H -I. -I../../include -I../ta_common/ -g -O2 -MT ta_LINEARREG_SLOPE.lo -MD -MP -MF .deps/ta_LINEARREG_SLOPE.Tpo -c ta_LINEARREG_SLOPE.c -o ta_LINEARREG_SLOPE.o >/dev/null 2>&1\n",
            "mv -f .deps/ta_LINEARREG_SLOPE.Tpo .deps/ta_LINEARREG_SLOPE.Plo\n",
            "/bin/bash ../../libtool --tag=CC   --mode=compile gcc -DHAVE_CONFIG_H -I. -I../../include  -I../ta_common/   -g -O2 -MT ta_LN.lo -MD -MP -MF .deps/ta_LN.Tpo -c -o ta_LN.lo ta_LN.c\n",
            " gcc -DHAVE_CONFIG_H -I. -I../../include -I../ta_common/ -g -O2 -MT ta_LN.lo -MD -MP -MF .deps/ta_LN.Tpo -c ta_LN.c  -fPIC -DPIC -o .libs/ta_LN.o\n",
            " gcc -DHAVE_CONFIG_H -I. -I../../include -I../ta_common/ -g -O2 -MT ta_LN.lo -MD -MP -MF .deps/ta_LN.Tpo -c ta_LN.c -o ta_LN.o >/dev/null 2>&1\n",
            "mv -f .deps/ta_LN.Tpo .deps/ta_LN.Plo\n",
            "/bin/bash ../../libtool --tag=CC   --mode=compile gcc -DHAVE_CONFIG_H -I. -I../../include  -I../ta_common/   -g -O2 -MT ta_LOG10.lo -MD -MP -MF .deps/ta_LOG10.Tpo -c -o ta_LOG10.lo ta_LOG10.c\n",
            " gcc -DHAVE_CONFIG_H -I. -I../../include -I../ta_common/ -g -O2 -MT ta_LOG10.lo -MD -MP -MF .deps/ta_LOG10.Tpo -c ta_LOG10.c  -fPIC -DPIC -o .libs/ta_LOG10.o\n",
            " gcc -DHAVE_CONFIG_H -I. -I../../include -I../ta_common/ -g -O2 -MT ta_LOG10.lo -MD -MP -MF .deps/ta_LOG10.Tpo -c ta_LOG10.c -o ta_LOG10.o >/dev/null 2>&1\n",
            "mv -f .deps/ta_LOG10.Tpo .deps/ta_LOG10.Plo\n",
            "/bin/bash ../../libtool --tag=CC   --mode=compile gcc -DHAVE_CONFIG_H -I. -I../../include  -I../ta_common/   -g -O2 -MT ta_MA.lo -MD -MP -MF .deps/ta_MA.Tpo -c -o ta_MA.lo ta_MA.c\n",
            " gcc -DHAVE_CONFIG_H -I. -I../../include -I../ta_common/ -g -O2 -MT ta_MA.lo -MD -MP -MF .deps/ta_MA.Tpo -c ta_MA.c  -fPIC -DPIC -o .libs/ta_MA.o\n",
            " gcc -DHAVE_CONFIG_H -I. -I../../include -I../ta_common/ -g -O2 -MT ta_MA.lo -MD -MP -MF .deps/ta_MA.Tpo -c ta_MA.c -o ta_MA.o >/dev/null 2>&1\n",
            "mv -f .deps/ta_MA.Tpo .deps/ta_MA.Plo\n",
            "/bin/bash ../../libtool --tag=CC   --mode=compile gcc -DHAVE_CONFIG_H -I. -I../../include  -I../ta_common/   -g -O2 -MT ta_MACD.lo -MD -MP -MF .deps/ta_MACD.Tpo -c -o ta_MACD.lo ta_MACD.c\n",
            " gcc -DHAVE_CONFIG_H -I. -I../../include -I../ta_common/ -g -O2 -MT ta_MACD.lo -MD -MP -MF .deps/ta_MACD.Tpo -c ta_MACD.c  -fPIC -DPIC -o .libs/ta_MACD.o\n",
            " gcc -DHAVE_CONFIG_H -I. -I../../include -I../ta_common/ -g -O2 -MT ta_MACD.lo -MD -MP -MF .deps/ta_MACD.Tpo -c ta_MACD.c -o ta_MACD.o >/dev/null 2>&1\n",
            "mv -f .deps/ta_MACD.Tpo .deps/ta_MACD.Plo\n",
            "/bin/bash ../../libtool --tag=CC   --mode=compile gcc -DHAVE_CONFIG_H -I. -I../../include  -I../ta_common/   -g -O2 -MT ta_MACDEXT.lo -MD -MP -MF .deps/ta_MACDEXT.Tpo -c -o ta_MACDEXT.lo ta_MACDEXT.c\n",
            " gcc -DHAVE_CONFIG_H -I. -I../../include -I../ta_common/ -g -O2 -MT ta_MACDEXT.lo -MD -MP -MF .deps/ta_MACDEXT.Tpo -c ta_MACDEXT.c  -fPIC -DPIC -o .libs/ta_MACDEXT.o\n",
            " gcc -DHAVE_CONFIG_H -I. -I../../include -I../ta_common/ -g -O2 -MT ta_MACDEXT.lo -MD -MP -MF .deps/ta_MACDEXT.Tpo -c ta_MACDEXT.c -o ta_MACDEXT.o >/dev/null 2>&1\n",
            "mv -f .deps/ta_MACDEXT.Tpo .deps/ta_MACDEXT.Plo\n",
            "/bin/bash ../../libtool --tag=CC   --mode=compile gcc -DHAVE_CONFIG_H -I. -I../../include  -I../ta_common/   -g -O2 -MT ta_MACDFIX.lo -MD -MP -MF .deps/ta_MACDFIX.Tpo -c -o ta_MACDFIX.lo ta_MACDFIX.c\n",
            " gcc -DHAVE_CONFIG_H -I. -I../../include -I../ta_common/ -g -O2 -MT ta_MACDFIX.lo -MD -MP -MF .deps/ta_MACDFIX.Tpo -c ta_MACDFIX.c  -fPIC -DPIC -o .libs/ta_MACDFIX.o\n",
            " gcc -DHAVE_CONFIG_H -I. -I../../include -I../ta_common/ -g -O2 -MT ta_MACDFIX.lo -MD -MP -MF .deps/ta_MACDFIX.Tpo -c ta_MACDFIX.c -o ta_MACDFIX.o >/dev/null 2>&1\n",
            "mv -f .deps/ta_MACDFIX.Tpo .deps/ta_MACDFIX.Plo\n",
            "/bin/bash ../../libtool --tag=CC   --mode=compile gcc -DHAVE_CONFIG_H -I. -I../../include  -I../ta_common/   -g -O2 -MT ta_MAMA.lo -MD -MP -MF .deps/ta_MAMA.Tpo -c -o ta_MAMA.lo ta_MAMA.c\n",
            " gcc -DHAVE_CONFIG_H -I. -I../../include -I../ta_common/ -g -O2 -MT ta_MAMA.lo -MD -MP -MF .deps/ta_MAMA.Tpo -c ta_MAMA.c  -fPIC -DPIC -o .libs/ta_MAMA.o\n",
            " gcc -DHAVE_CONFIG_H -I. -I../../include -I../ta_common/ -g -O2 -MT ta_MAMA.lo -MD -MP -MF .deps/ta_MAMA.Tpo -c ta_MAMA.c -o ta_MAMA.o >/dev/null 2>&1\n",
            "mv -f .deps/ta_MAMA.Tpo .deps/ta_MAMA.Plo\n",
            "/bin/bash ../../libtool --tag=CC   --mode=compile gcc -DHAVE_CONFIG_H -I. -I../../include  -I../ta_common/   -g -O2 -MT ta_MAVP.lo -MD -MP -MF .deps/ta_MAVP.Tpo -c -o ta_MAVP.lo ta_MAVP.c\n",
            " gcc -DHAVE_CONFIG_H -I. -I../../include -I../ta_common/ -g -O2 -MT ta_MAVP.lo -MD -MP -MF .deps/ta_MAVP.Tpo -c ta_MAVP.c  -fPIC -DPIC -o .libs/ta_MAVP.o\n",
            " gcc -DHAVE_CONFIG_H -I. -I../../include -I../ta_common/ -g -O2 -MT ta_MAVP.lo -MD -MP -MF .deps/ta_MAVP.Tpo -c ta_MAVP.c -o ta_MAVP.o >/dev/null 2>&1\n",
            "mv -f .deps/ta_MAVP.Tpo .deps/ta_MAVP.Plo\n",
            "/bin/bash ../../libtool --tag=CC   --mode=compile gcc -DHAVE_CONFIG_H -I. -I../../include  -I../ta_common/   -g -O2 -MT ta_MAX.lo -MD -MP -MF .deps/ta_MAX.Tpo -c -o ta_MAX.lo ta_MAX.c\n",
            " gcc -DHAVE_CONFIG_H -I. -I../../include -I../ta_common/ -g -O2 -MT ta_MAX.lo -MD -MP -MF .deps/ta_MAX.Tpo -c ta_MAX.c  -fPIC -DPIC -o .libs/ta_MAX.o\n",
            " gcc -DHAVE_CONFIG_H -I. -I../../include -I../ta_common/ -g -O2 -MT ta_MAX.lo -MD -MP -MF .deps/ta_MAX.Tpo -c ta_MAX.c -o ta_MAX.o >/dev/null 2>&1\n",
            "mv -f .deps/ta_MAX.Tpo .deps/ta_MAX.Plo\n",
            "/bin/bash ../../libtool --tag=CC   --mode=compile gcc -DHAVE_CONFIG_H -I. -I../../include  -I../ta_common/   -g -O2 -MT ta_MAXINDEX.lo -MD -MP -MF .deps/ta_MAXINDEX.Tpo -c -o ta_MAXINDEX.lo ta_MAXINDEX.c\n",
            " gcc -DHAVE_CONFIG_H -I. -I../../include -I../ta_common/ -g -O2 -MT ta_MAXINDEX.lo -MD -MP -MF .deps/ta_MAXINDEX.Tpo -c ta_MAXINDEX.c  -fPIC -DPIC -o .libs/ta_MAXINDEX.o\n",
            " gcc -DHAVE_CONFIG_H -I. -I../../include -I../ta_common/ -g -O2 -MT ta_MAXINDEX.lo -MD -MP -MF .deps/ta_MAXINDEX.Tpo -c ta_MAXINDEX.c -o ta_MAXINDEX.o >/dev/null 2>&1\n",
            "mv -f .deps/ta_MAXINDEX.Tpo .deps/ta_MAXINDEX.Plo\n",
            "/bin/bash ../../libtool --tag=CC   --mode=compile gcc -DHAVE_CONFIG_H -I. -I../../include  -I../ta_common/   -g -O2 -MT ta_MEDPRICE.lo -MD -MP -MF .deps/ta_MEDPRICE.Tpo -c -o ta_MEDPRICE.lo ta_MEDPRICE.c\n",
            " gcc -DHAVE_CONFIG_H -I. -I../../include -I../ta_common/ -g -O2 -MT ta_MEDPRICE.lo -MD -MP -MF .deps/ta_MEDPRICE.Tpo -c ta_MEDPRICE.c  -fPIC -DPIC -o .libs/ta_MEDPRICE.o\n",
            " gcc -DHAVE_CONFIG_H -I. -I../../include -I../ta_common/ -g -O2 -MT ta_MEDPRICE.lo -MD -MP -MF .deps/ta_MEDPRICE.Tpo -c ta_MEDPRICE.c -o ta_MEDPRICE.o >/dev/null 2>&1\n",
            "mv -f .deps/ta_MEDPRICE.Tpo .deps/ta_MEDPRICE.Plo\n",
            "/bin/bash ../../libtool --tag=CC   --mode=compile gcc -DHAVE_CONFIG_H -I. -I../../include  -I../ta_common/   -g -O2 -MT ta_MFI.lo -MD -MP -MF .deps/ta_MFI.Tpo -c -o ta_MFI.lo ta_MFI.c\n",
            " gcc -DHAVE_CONFIG_H -I. -I../../include -I../ta_common/ -g -O2 -MT ta_MFI.lo -MD -MP -MF .deps/ta_MFI.Tpo -c ta_MFI.c  -fPIC -DPIC -o .libs/ta_MFI.o\n",
            " gcc -DHAVE_CONFIG_H -I. -I../../include -I../ta_common/ -g -O2 -MT ta_MFI.lo -MD -MP -MF .deps/ta_MFI.Tpo -c ta_MFI.c -o ta_MFI.o >/dev/null 2>&1\n",
            "mv -f .deps/ta_MFI.Tpo .deps/ta_MFI.Plo\n",
            "/bin/bash ../../libtool --tag=CC   --mode=compile gcc -DHAVE_CONFIG_H -I. -I../../include  -I../ta_common/   -g -O2 -MT ta_MIDPOINT.lo -MD -MP -MF .deps/ta_MIDPOINT.Tpo -c -o ta_MIDPOINT.lo ta_MIDPOINT.c\n",
            " gcc -DHAVE_CONFIG_H -I. -I../../include -I../ta_common/ -g -O2 -MT ta_MIDPOINT.lo -MD -MP -MF .deps/ta_MIDPOINT.Tpo -c ta_MIDPOINT.c  -fPIC -DPIC -o .libs/ta_MIDPOINT.o\n",
            " gcc -DHAVE_CONFIG_H -I. -I../../include -I../ta_common/ -g -O2 -MT ta_MIDPOINT.lo -MD -MP -MF .deps/ta_MIDPOINT.Tpo -c ta_MIDPOINT.c -o ta_MIDPOINT.o >/dev/null 2>&1\n",
            "mv -f .deps/ta_MIDPOINT.Tpo .deps/ta_MIDPOINT.Plo\n",
            "/bin/bash ../../libtool --tag=CC   --mode=compile gcc -DHAVE_CONFIG_H -I. -I../../include  -I../ta_common/   -g -O2 -MT ta_MIDPRICE.lo -MD -MP -MF .deps/ta_MIDPRICE.Tpo -c -o ta_MIDPRICE.lo ta_MIDPRICE.c\n",
            " gcc -DHAVE_CONFIG_H -I. -I../../include -I../ta_common/ -g -O2 -MT ta_MIDPRICE.lo -MD -MP -MF .deps/ta_MIDPRICE.Tpo -c ta_MIDPRICE.c  -fPIC -DPIC -o .libs/ta_MIDPRICE.o\n",
            " gcc -DHAVE_CONFIG_H -I. -I../../include -I../ta_common/ -g -O2 -MT ta_MIDPRICE.lo -MD -MP -MF .deps/ta_MIDPRICE.Tpo -c ta_MIDPRICE.c -o ta_MIDPRICE.o >/dev/null 2>&1\n",
            "mv -f .deps/ta_MIDPRICE.Tpo .deps/ta_MIDPRICE.Plo\n",
            "/bin/bash ../../libtool --tag=CC   --mode=compile gcc -DHAVE_CONFIG_H -I. -I../../include  -I../ta_common/   -g -O2 -MT ta_MIN.lo -MD -MP -MF .deps/ta_MIN.Tpo -c -o ta_MIN.lo ta_MIN.c\n",
            " gcc -DHAVE_CONFIG_H -I. -I../../include -I../ta_common/ -g -O2 -MT ta_MIN.lo -MD -MP -MF .deps/ta_MIN.Tpo -c ta_MIN.c  -fPIC -DPIC -o .libs/ta_MIN.o\n",
            " gcc -DHAVE_CONFIG_H -I. -I../../include -I../ta_common/ -g -O2 -MT ta_MIN.lo -MD -MP -MF .deps/ta_MIN.Tpo -c ta_MIN.c -o ta_MIN.o >/dev/null 2>&1\n",
            "mv -f .deps/ta_MIN.Tpo .deps/ta_MIN.Plo\n",
            "/bin/bash ../../libtool --tag=CC   --mode=compile gcc -DHAVE_CONFIG_H -I. -I../../include  -I../ta_common/   -g -O2 -MT ta_MININDEX.lo -MD -MP -MF .deps/ta_MININDEX.Tpo -c -o ta_MININDEX.lo ta_MININDEX.c\n",
            " gcc -DHAVE_CONFIG_H -I. -I../../include -I../ta_common/ -g -O2 -MT ta_MININDEX.lo -MD -MP -MF .deps/ta_MININDEX.Tpo -c ta_MININDEX.c  -fPIC -DPIC -o .libs/ta_MININDEX.o\n",
            " gcc -DHAVE_CONFIG_H -I. -I../../include -I../ta_common/ -g -O2 -MT ta_MININDEX.lo -MD -MP -MF .deps/ta_MININDEX.Tpo -c ta_MININDEX.c -o ta_MININDEX.o >/dev/null 2>&1\n",
            "mv -f .deps/ta_MININDEX.Tpo .deps/ta_MININDEX.Plo\n",
            "/bin/bash ../../libtool --tag=CC   --mode=compile gcc -DHAVE_CONFIG_H -I. -I../../include  -I../ta_common/   -g -O2 -MT ta_MINMAX.lo -MD -MP -MF .deps/ta_MINMAX.Tpo -c -o ta_MINMAX.lo ta_MINMAX.c\n",
            " gcc -DHAVE_CONFIG_H -I. -I../../include -I../ta_common/ -g -O2 -MT ta_MINMAX.lo -MD -MP -MF .deps/ta_MINMAX.Tpo -c ta_MINMAX.c  -fPIC -DPIC -o .libs/ta_MINMAX.o\n",
            " gcc -DHAVE_CONFIG_H -I. -I../../include -I../ta_common/ -g -O2 -MT ta_MINMAX.lo -MD -MP -MF .deps/ta_MINMAX.Tpo -c ta_MINMAX.c -o ta_MINMAX.o >/dev/null 2>&1\n",
            "mv -f .deps/ta_MINMAX.Tpo .deps/ta_MINMAX.Plo\n",
            "/bin/bash ../../libtool --tag=CC   --mode=compile gcc -DHAVE_CONFIG_H -I. -I../../include  -I../ta_common/   -g -O2 -MT ta_MINMAXINDEX.lo -MD -MP -MF .deps/ta_MINMAXINDEX.Tpo -c -o ta_MINMAXINDEX.lo ta_MINMAXINDEX.c\n",
            " gcc -DHAVE_CONFIG_H -I. -I../../include -I../ta_common/ -g -O2 -MT ta_MINMAXINDEX.lo -MD -MP -MF .deps/ta_MINMAXINDEX.Tpo -c ta_MINMAXINDEX.c  -fPIC -DPIC -o .libs/ta_MINMAXINDEX.o\n",
            " gcc -DHAVE_CONFIG_H -I. -I../../include -I../ta_common/ -g -O2 -MT ta_MINMAXINDEX.lo -MD -MP -MF .deps/ta_MINMAXINDEX.Tpo -c ta_MINMAXINDEX.c -o ta_MINMAXINDEX.o >/dev/null 2>&1\n",
            "mv -f .deps/ta_MINMAXINDEX.Tpo .deps/ta_MINMAXINDEX.Plo\n",
            "/bin/bash ../../libtool --tag=CC   --mode=compile gcc -DHAVE_CONFIG_H -I. -I../../include  -I../ta_common/   -g -O2 -MT ta_MINUS_DI.lo -MD -MP -MF .deps/ta_MINUS_DI.Tpo -c -o ta_MINUS_DI.lo ta_MINUS_DI.c\n",
            " gcc -DHAVE_CONFIG_H -I. -I../../include -I../ta_common/ -g -O2 -MT ta_MINUS_DI.lo -MD -MP -MF .deps/ta_MINUS_DI.Tpo -c ta_MINUS_DI.c  -fPIC -DPIC -o .libs/ta_MINUS_DI.o\n",
            " gcc -DHAVE_CONFIG_H -I. -I../../include -I../ta_common/ -g -O2 -MT ta_MINUS_DI.lo -MD -MP -MF .deps/ta_MINUS_DI.Tpo -c ta_MINUS_DI.c -o ta_MINUS_DI.o >/dev/null 2>&1\n",
            "mv -f .deps/ta_MINUS_DI.Tpo .deps/ta_MINUS_DI.Plo\n",
            "/bin/bash ../../libtool --tag=CC   --mode=compile gcc -DHAVE_CONFIG_H -I. -I../../include  -I../ta_common/   -g -O2 -MT ta_MINUS_DM.lo -MD -MP -MF .deps/ta_MINUS_DM.Tpo -c -o ta_MINUS_DM.lo ta_MINUS_DM.c\n",
            " gcc -DHAVE_CONFIG_H -I. -I../../include -I../ta_common/ -g -O2 -MT ta_MINUS_DM.lo -MD -MP -MF .deps/ta_MINUS_DM.Tpo -c ta_MINUS_DM.c  -fPIC -DPIC -o .libs/ta_MINUS_DM.o\n",
            " gcc -DHAVE_CONFIG_H -I. -I../../include -I../ta_common/ -g -O2 -MT ta_MINUS_DM.lo -MD -MP -MF .deps/ta_MINUS_DM.Tpo -c ta_MINUS_DM.c -o ta_MINUS_DM.o >/dev/null 2>&1\n",
            "mv -f .deps/ta_MINUS_DM.Tpo .deps/ta_MINUS_DM.Plo\n",
            "/bin/bash ../../libtool --tag=CC   --mode=compile gcc -DHAVE_CONFIG_H -I. -I../../include  -I../ta_common/   -g -O2 -MT ta_MOM.lo -MD -MP -MF .deps/ta_MOM.Tpo -c -o ta_MOM.lo ta_MOM.c\n",
            " gcc -DHAVE_CONFIG_H -I. -I../../include -I../ta_common/ -g -O2 -MT ta_MOM.lo -MD -MP -MF .deps/ta_MOM.Tpo -c ta_MOM.c  -fPIC -DPIC -o .libs/ta_MOM.o\n",
            " gcc -DHAVE_CONFIG_H -I. -I../../include -I../ta_common/ -g -O2 -MT ta_MOM.lo -MD -MP -MF .deps/ta_MOM.Tpo -c ta_MOM.c -o ta_MOM.o >/dev/null 2>&1\n",
            "mv -f .deps/ta_MOM.Tpo .deps/ta_MOM.Plo\n",
            "/bin/bash ../../libtool --tag=CC   --mode=compile gcc -DHAVE_CONFIG_H -I. -I../../include  -I../ta_common/   -g -O2 -MT ta_MULT.lo -MD -MP -MF .deps/ta_MULT.Tpo -c -o ta_MULT.lo ta_MULT.c\n",
            " gcc -DHAVE_CONFIG_H -I. -I../../include -I../ta_common/ -g -O2 -MT ta_MULT.lo -MD -MP -MF .deps/ta_MULT.Tpo -c ta_MULT.c  -fPIC -DPIC -o .libs/ta_MULT.o\n",
            " gcc -DHAVE_CONFIG_H -I. -I../../include -I../ta_common/ -g -O2 -MT ta_MULT.lo -MD -MP -MF .deps/ta_MULT.Tpo -c ta_MULT.c -o ta_MULT.o >/dev/null 2>&1\n",
            "mv -f .deps/ta_MULT.Tpo .deps/ta_MULT.Plo\n",
            "/bin/bash ../../libtool --tag=CC   --mode=compile gcc -DHAVE_CONFIG_H -I. -I../../include  -I../ta_common/   -g -O2 -MT ta_NATR.lo -MD -MP -MF .deps/ta_NATR.Tpo -c -o ta_NATR.lo ta_NATR.c\n",
            " gcc -DHAVE_CONFIG_H -I. -I../../include -I../ta_common/ -g -O2 -MT ta_NATR.lo -MD -MP -MF .deps/ta_NATR.Tpo -c ta_NATR.c  -fPIC -DPIC -o .libs/ta_NATR.o\n",
            " gcc -DHAVE_CONFIG_H -I. -I../../include -I../ta_common/ -g -O2 -MT ta_NATR.lo -MD -MP -MF .deps/ta_NATR.Tpo -c ta_NATR.c -o ta_NATR.o >/dev/null 2>&1\n",
            "mv -f .deps/ta_NATR.Tpo .deps/ta_NATR.Plo\n",
            "/bin/bash ../../libtool --tag=CC   --mode=compile gcc -DHAVE_CONFIG_H -I. -I../../include  -I../ta_common/   -g -O2 -MT ta_OBV.lo -MD -MP -MF .deps/ta_OBV.Tpo -c -o ta_OBV.lo ta_OBV.c\n",
            " gcc -DHAVE_CONFIG_H -I. -I../../include -I../ta_common/ -g -O2 -MT ta_OBV.lo -MD -MP -MF .deps/ta_OBV.Tpo -c ta_OBV.c  -fPIC -DPIC -o .libs/ta_OBV.o\n",
            " gcc -DHAVE_CONFIG_H -I. -I../../include -I../ta_common/ -g -O2 -MT ta_OBV.lo -MD -MP -MF .deps/ta_OBV.Tpo -c ta_OBV.c -o ta_OBV.o >/dev/null 2>&1\n",
            "mv -f .deps/ta_OBV.Tpo .deps/ta_OBV.Plo\n",
            "/bin/bash ../../libtool --tag=CC   --mode=compile gcc -DHAVE_CONFIG_H -I. -I../../include  -I../ta_common/   -g -O2 -MT ta_PLUS_DI.lo -MD -MP -MF .deps/ta_PLUS_DI.Tpo -c -o ta_PLUS_DI.lo ta_PLUS_DI.c\n",
            " gcc -DHAVE_CONFIG_H -I. -I../../include -I../ta_common/ -g -O2 -MT ta_PLUS_DI.lo -MD -MP -MF .deps/ta_PLUS_DI.Tpo -c ta_PLUS_DI.c  -fPIC -DPIC -o .libs/ta_PLUS_DI.o\n",
            " gcc -DHAVE_CONFIG_H -I. -I../../include -I../ta_common/ -g -O2 -MT ta_PLUS_DI.lo -MD -MP -MF .deps/ta_PLUS_DI.Tpo -c ta_PLUS_DI.c -o ta_PLUS_DI.o >/dev/null 2>&1\n",
            "mv -f .deps/ta_PLUS_DI.Tpo .deps/ta_PLUS_DI.Plo\n",
            "/bin/bash ../../libtool --tag=CC   --mode=compile gcc -DHAVE_CONFIG_H -I. -I../../include  -I../ta_common/   -g -O2 -MT ta_PLUS_DM.lo -MD -MP -MF .deps/ta_PLUS_DM.Tpo -c -o ta_PLUS_DM.lo ta_PLUS_DM.c\n",
            " gcc -DHAVE_CONFIG_H -I. -I../../include -I../ta_common/ -g -O2 -MT ta_PLUS_DM.lo -MD -MP -MF .deps/ta_PLUS_DM.Tpo -c ta_PLUS_DM.c  -fPIC -DPIC -o .libs/ta_PLUS_DM.o\n",
            " gcc -DHAVE_CONFIG_H -I. -I../../include -I../ta_common/ -g -O2 -MT ta_PLUS_DM.lo -MD -MP -MF .deps/ta_PLUS_DM.Tpo -c ta_PLUS_DM.c -o ta_PLUS_DM.o >/dev/null 2>&1\n",
            "mv -f .deps/ta_PLUS_DM.Tpo .deps/ta_PLUS_DM.Plo\n",
            "/bin/bash ../../libtool --tag=CC   --mode=compile gcc -DHAVE_CONFIG_H -I. -I../../include  -I../ta_common/   -g -O2 -MT ta_PPO.lo -MD -MP -MF .deps/ta_PPO.Tpo -c -o ta_PPO.lo ta_PPO.c\n",
            " gcc -DHAVE_CONFIG_H -I. -I../../include -I../ta_common/ -g -O2 -MT ta_PPO.lo -MD -MP -MF .deps/ta_PPO.Tpo -c ta_PPO.c  -fPIC -DPIC -o .libs/ta_PPO.o\n",
            " gcc -DHAVE_CONFIG_H -I. -I../../include -I../ta_common/ -g -O2 -MT ta_PPO.lo -MD -MP -MF .deps/ta_PPO.Tpo -c ta_PPO.c -o ta_PPO.o >/dev/null 2>&1\n",
            "mv -f .deps/ta_PPO.Tpo .deps/ta_PPO.Plo\n",
            "/bin/bash ../../libtool --tag=CC   --mode=compile gcc -DHAVE_CONFIG_H -I. -I../../include  -I../ta_common/   -g -O2 -MT ta_ROC.lo -MD -MP -MF .deps/ta_ROC.Tpo -c -o ta_ROC.lo ta_ROC.c\n",
            " gcc -DHAVE_CONFIG_H -I. -I../../include -I../ta_common/ -g -O2 -MT ta_ROC.lo -MD -MP -MF .deps/ta_ROC.Tpo -c ta_ROC.c  -fPIC -DPIC -o .libs/ta_ROC.o\n",
            " gcc -DHAVE_CONFIG_H -I. -I../../include -I../ta_common/ -g -O2 -MT ta_ROC.lo -MD -MP -MF .deps/ta_ROC.Tpo -c ta_ROC.c -o ta_ROC.o >/dev/null 2>&1\n",
            "mv -f .deps/ta_ROC.Tpo .deps/ta_ROC.Plo\n",
            "/bin/bash ../../libtool --tag=CC   --mode=compile gcc -DHAVE_CONFIG_H -I. -I../../include  -I../ta_common/   -g -O2 -MT ta_ROCP.lo -MD -MP -MF .deps/ta_ROCP.Tpo -c -o ta_ROCP.lo ta_ROCP.c\n",
            " gcc -DHAVE_CONFIG_H -I. -I../../include -I../ta_common/ -g -O2 -MT ta_ROCP.lo -MD -MP -MF .deps/ta_ROCP.Tpo -c ta_ROCP.c  -fPIC -DPIC -o .libs/ta_ROCP.o\n",
            " gcc -DHAVE_CONFIG_H -I. -I../../include -I../ta_common/ -g -O2 -MT ta_ROCP.lo -MD -MP -MF .deps/ta_ROCP.Tpo -c ta_ROCP.c -o ta_ROCP.o >/dev/null 2>&1\n",
            "mv -f .deps/ta_ROCP.Tpo .deps/ta_ROCP.Plo\n",
            "/bin/bash ../../libtool --tag=CC   --mode=compile gcc -DHAVE_CONFIG_H -I. -I../../include  -I../ta_common/   -g -O2 -MT ta_ROCR.lo -MD -MP -MF .deps/ta_ROCR.Tpo -c -o ta_ROCR.lo ta_ROCR.c\n",
            " gcc -DHAVE_CONFIG_H -I. -I../../include -I../ta_common/ -g -O2 -MT ta_ROCR.lo -MD -MP -MF .deps/ta_ROCR.Tpo -c ta_ROCR.c  -fPIC -DPIC -o .libs/ta_ROCR.o\n",
            " gcc -DHAVE_CONFIG_H -I. -I../../include -I../ta_common/ -g -O2 -MT ta_ROCR.lo -MD -MP -MF .deps/ta_ROCR.Tpo -c ta_ROCR.c -o ta_ROCR.o >/dev/null 2>&1\n",
            "mv -f .deps/ta_ROCR.Tpo .deps/ta_ROCR.Plo\n",
            "/bin/bash ../../libtool --tag=CC   --mode=compile gcc -DHAVE_CONFIG_H -I. -I../../include  -I../ta_common/   -g -O2 -MT ta_ROCR100.lo -MD -MP -MF .deps/ta_ROCR100.Tpo -c -o ta_ROCR100.lo ta_ROCR100.c\n",
            " gcc -DHAVE_CONFIG_H -I. -I../../include -I../ta_common/ -g -O2 -MT ta_ROCR100.lo -MD -MP -MF .deps/ta_ROCR100.Tpo -c ta_ROCR100.c  -fPIC -DPIC -o .libs/ta_ROCR100.o\n",
            " gcc -DHAVE_CONFIG_H -I. -I../../include -I../ta_common/ -g -O2 -MT ta_ROCR100.lo -MD -MP -MF .deps/ta_ROCR100.Tpo -c ta_ROCR100.c -o ta_ROCR100.o >/dev/null 2>&1\n",
            "mv -f .deps/ta_ROCR100.Tpo .deps/ta_ROCR100.Plo\n",
            "/bin/bash ../../libtool --tag=CC   --mode=compile gcc -DHAVE_CONFIG_H -I. -I../../include  -I../ta_common/   -g -O2 -MT ta_RSI.lo -MD -MP -MF .deps/ta_RSI.Tpo -c -o ta_RSI.lo ta_RSI.c\n",
            " gcc -DHAVE_CONFIG_H -I. -I../../include -I../ta_common/ -g -O2 -MT ta_RSI.lo -MD -MP -MF .deps/ta_RSI.Tpo -c ta_RSI.c  -fPIC -DPIC -o .libs/ta_RSI.o\n",
            " gcc -DHAVE_CONFIG_H -I. -I../../include -I../ta_common/ -g -O2 -MT ta_RSI.lo -MD -MP -MF .deps/ta_RSI.Tpo -c ta_RSI.c -o ta_RSI.o >/dev/null 2>&1\n",
            "mv -f .deps/ta_RSI.Tpo .deps/ta_RSI.Plo\n",
            "/bin/bash ../../libtool --tag=CC   --mode=compile gcc -DHAVE_CONFIG_H -I. -I../../include  -I../ta_common/   -g -O2 -MT ta_SAR.lo -MD -MP -MF .deps/ta_SAR.Tpo -c -o ta_SAR.lo ta_SAR.c\n",
            " gcc -DHAVE_CONFIG_H -I. -I../../include -I../ta_common/ -g -O2 -MT ta_SAR.lo -MD -MP -MF .deps/ta_SAR.Tpo -c ta_SAR.c  -fPIC -DPIC -o .libs/ta_SAR.o\n",
            " gcc -DHAVE_CONFIG_H -I. -I../../include -I../ta_common/ -g -O2 -MT ta_SAR.lo -MD -MP -MF .deps/ta_SAR.Tpo -c ta_SAR.c -o ta_SAR.o >/dev/null 2>&1\n",
            "mv -f .deps/ta_SAR.Tpo .deps/ta_SAR.Plo\n",
            "/bin/bash ../../libtool --tag=CC   --mode=compile gcc -DHAVE_CONFIG_H -I. -I../../include  -I../ta_common/   -g -O2 -MT ta_SAREXT.lo -MD -MP -MF .deps/ta_SAREXT.Tpo -c -o ta_SAREXT.lo ta_SAREXT.c\n",
            " gcc -DHAVE_CONFIG_H -I. -I../../include -I../ta_common/ -g -O2 -MT ta_SAREXT.lo -MD -MP -MF .deps/ta_SAREXT.Tpo -c ta_SAREXT.c  -fPIC -DPIC -o .libs/ta_SAREXT.o\n",
            " gcc -DHAVE_CONFIG_H -I. -I../../include -I../ta_common/ -g -O2 -MT ta_SAREXT.lo -MD -MP -MF .deps/ta_SAREXT.Tpo -c ta_SAREXT.c -o ta_SAREXT.o >/dev/null 2>&1\n",
            "mv -f .deps/ta_SAREXT.Tpo .deps/ta_SAREXT.Plo\n",
            "/bin/bash ../../libtool --tag=CC   --mode=compile gcc -DHAVE_CONFIG_H -I. -I../../include  -I../ta_common/   -g -O2 -MT ta_SIN.lo -MD -MP -MF .deps/ta_SIN.Tpo -c -o ta_SIN.lo ta_SIN.c\n",
            " gcc -DHAVE_CONFIG_H -I. -I../../include -I../ta_common/ -g -O2 -MT ta_SIN.lo -MD -MP -MF .deps/ta_SIN.Tpo -c ta_SIN.c  -fPIC -DPIC -o .libs/ta_SIN.o\n",
            " gcc -DHAVE_CONFIG_H -I. -I../../include -I../ta_common/ -g -O2 -MT ta_SIN.lo -MD -MP -MF .deps/ta_SIN.Tpo -c ta_SIN.c -o ta_SIN.o >/dev/null 2>&1\n",
            "mv -f .deps/ta_SIN.Tpo .deps/ta_SIN.Plo\n",
            "/bin/bash ../../libtool --tag=CC   --mode=compile gcc -DHAVE_CONFIG_H -I. -I../../include  -I../ta_common/   -g -O2 -MT ta_SINH.lo -MD -MP -MF .deps/ta_SINH.Tpo -c -o ta_SINH.lo ta_SINH.c\n",
            " gcc -DHAVE_CONFIG_H -I. -I../../include -I../ta_common/ -g -O2 -MT ta_SINH.lo -MD -MP -MF .deps/ta_SINH.Tpo -c ta_SINH.c  -fPIC -DPIC -o .libs/ta_SINH.o\n",
            " gcc -DHAVE_CONFIG_H -I. -I../../include -I../ta_common/ -g -O2 -MT ta_SINH.lo -MD -MP -MF .deps/ta_SINH.Tpo -c ta_SINH.c -o ta_SINH.o >/dev/null 2>&1\n",
            "mv -f .deps/ta_SINH.Tpo .deps/ta_SINH.Plo\n",
            "/bin/bash ../../libtool --tag=CC   --mode=compile gcc -DHAVE_CONFIG_H -I. -I../../include  -I../ta_common/   -g -O2 -MT ta_SMA.lo -MD -MP -MF .deps/ta_SMA.Tpo -c -o ta_SMA.lo ta_SMA.c\n",
            " gcc -DHAVE_CONFIG_H -I. -I../../include -I../ta_common/ -g -O2 -MT ta_SMA.lo -MD -MP -MF .deps/ta_SMA.Tpo -c ta_SMA.c  -fPIC -DPIC -o .libs/ta_SMA.o\n",
            " gcc -DHAVE_CONFIG_H -I. -I../../include -I../ta_common/ -g -O2 -MT ta_SMA.lo -MD -MP -MF .deps/ta_SMA.Tpo -c ta_SMA.c -o ta_SMA.o >/dev/null 2>&1\n",
            "mv -f .deps/ta_SMA.Tpo .deps/ta_SMA.Plo\n",
            "/bin/bash ../../libtool --tag=CC   --mode=compile gcc -DHAVE_CONFIG_H -I. -I../../include  -I../ta_common/   -g -O2 -MT ta_SQRT.lo -MD -MP -MF .deps/ta_SQRT.Tpo -c -o ta_SQRT.lo ta_SQRT.c\n",
            " gcc -DHAVE_CONFIG_H -I. -I../../include -I../ta_common/ -g -O2 -MT ta_SQRT.lo -MD -MP -MF .deps/ta_SQRT.Tpo -c ta_SQRT.c  -fPIC -DPIC -o .libs/ta_SQRT.o\n",
            " gcc -DHAVE_CONFIG_H -I. -I../../include -I../ta_common/ -g -O2 -MT ta_SQRT.lo -MD -MP -MF .deps/ta_SQRT.Tpo -c ta_SQRT.c -o ta_SQRT.o >/dev/null 2>&1\n",
            "mv -f .deps/ta_SQRT.Tpo .deps/ta_SQRT.Plo\n",
            "/bin/bash ../../libtool --tag=CC   --mode=compile gcc -DHAVE_CONFIG_H -I. -I../../include  -I../ta_common/   -g -O2 -MT ta_STDDEV.lo -MD -MP -MF .deps/ta_STDDEV.Tpo -c -o ta_STDDEV.lo ta_STDDEV.c\n",
            " gcc -DHAVE_CONFIG_H -I. -I../../include -I../ta_common/ -g -O2 -MT ta_STDDEV.lo -MD -MP -MF .deps/ta_STDDEV.Tpo -c ta_STDDEV.c  -fPIC -DPIC -o .libs/ta_STDDEV.o\n",
            " gcc -DHAVE_CONFIG_H -I. -I../../include -I../ta_common/ -g -O2 -MT ta_STDDEV.lo -MD -MP -MF .deps/ta_STDDEV.Tpo -c ta_STDDEV.c -o ta_STDDEV.o >/dev/null 2>&1\n",
            "mv -f .deps/ta_STDDEV.Tpo .deps/ta_STDDEV.Plo\n",
            "/bin/bash ../../libtool --tag=CC   --mode=compile gcc -DHAVE_CONFIG_H -I. -I../../include  -I../ta_common/   -g -O2 -MT ta_STOCH.lo -MD -MP -MF .deps/ta_STOCH.Tpo -c -o ta_STOCH.lo ta_STOCH.c\n",
            " gcc -DHAVE_CONFIG_H -I. -I../../include -I../ta_common/ -g -O2 -MT ta_STOCH.lo -MD -MP -MF .deps/ta_STOCH.Tpo -c ta_STOCH.c  -fPIC -DPIC -o .libs/ta_STOCH.o\n",
            " gcc -DHAVE_CONFIG_H -I. -I../../include -I../ta_common/ -g -O2 -MT ta_STOCH.lo -MD -MP -MF .deps/ta_STOCH.Tpo -c ta_STOCH.c -o ta_STOCH.o >/dev/null 2>&1\n",
            "mv -f .deps/ta_STOCH.Tpo .deps/ta_STOCH.Plo\n",
            "/bin/bash ../../libtool --tag=CC   --mode=compile gcc -DHAVE_CONFIG_H -I. -I../../include  -I../ta_common/   -g -O2 -MT ta_STOCHF.lo -MD -MP -MF .deps/ta_STOCHF.Tpo -c -o ta_STOCHF.lo ta_STOCHF.c\n",
            " gcc -DHAVE_CONFIG_H -I. -I../../include -I../ta_common/ -g -O2 -MT ta_STOCHF.lo -MD -MP -MF .deps/ta_STOCHF.Tpo -c ta_STOCHF.c  -fPIC -DPIC -o .libs/ta_STOCHF.o\n",
            " gcc -DHAVE_CONFIG_H -I. -I../../include -I../ta_common/ -g -O2 -MT ta_STOCHF.lo -MD -MP -MF .deps/ta_STOCHF.Tpo -c ta_STOCHF.c -o ta_STOCHF.o >/dev/null 2>&1\n",
            "mv -f .deps/ta_STOCHF.Tpo .deps/ta_STOCHF.Plo\n",
            "/bin/bash ../../libtool --tag=CC   --mode=compile gcc -DHAVE_CONFIG_H -I. -I../../include  -I../ta_common/   -g -O2 -MT ta_STOCHRSI.lo -MD -MP -MF .deps/ta_STOCHRSI.Tpo -c -o ta_STOCHRSI.lo ta_STOCHRSI.c\n",
            " gcc -DHAVE_CONFIG_H -I. -I../../include -I../ta_common/ -g -O2 -MT ta_STOCHRSI.lo -MD -MP -MF .deps/ta_STOCHRSI.Tpo -c ta_STOCHRSI.c  -fPIC -DPIC -o .libs/ta_STOCHRSI.o\n",
            " gcc -DHAVE_CONFIG_H -I. -I../../include -I../ta_common/ -g -O2 -MT ta_STOCHRSI.lo -MD -MP -MF .deps/ta_STOCHRSI.Tpo -c ta_STOCHRSI.c -o ta_STOCHRSI.o >/dev/null 2>&1\n",
            "mv -f .deps/ta_STOCHRSI.Tpo .deps/ta_STOCHRSI.Plo\n",
            "/bin/bash ../../libtool --tag=CC   --mode=compile gcc -DHAVE_CONFIG_H -I. -I../../include  -I../ta_common/   -g -O2 -MT ta_SUB.lo -MD -MP -MF .deps/ta_SUB.Tpo -c -o ta_SUB.lo ta_SUB.c\n",
            " gcc -DHAVE_CONFIG_H -I. -I../../include -I../ta_common/ -g -O2 -MT ta_SUB.lo -MD -MP -MF .deps/ta_SUB.Tpo -c ta_SUB.c  -fPIC -DPIC -o .libs/ta_SUB.o\n",
            " gcc -DHAVE_CONFIG_H -I. -I../../include -I../ta_common/ -g -O2 -MT ta_SUB.lo -MD -MP -MF .deps/ta_SUB.Tpo -c ta_SUB.c -o ta_SUB.o >/dev/null 2>&1\n",
            "mv -f .deps/ta_SUB.Tpo .deps/ta_SUB.Plo\n",
            "/bin/bash ../../libtool --tag=CC   --mode=compile gcc -DHAVE_CONFIG_H -I. -I../../include  -I../ta_common/   -g -O2 -MT ta_SUM.lo -MD -MP -MF .deps/ta_SUM.Tpo -c -o ta_SUM.lo ta_SUM.c\n",
            " gcc -DHAVE_CONFIG_H -I. -I../../include -I../ta_common/ -g -O2 -MT ta_SUM.lo -MD -MP -MF .deps/ta_SUM.Tpo -c ta_SUM.c  -fPIC -DPIC -o .libs/ta_SUM.o\n",
            " gcc -DHAVE_CONFIG_H -I. -I../../include -I../ta_common/ -g -O2 -MT ta_SUM.lo -MD -MP -MF .deps/ta_SUM.Tpo -c ta_SUM.c -o ta_SUM.o >/dev/null 2>&1\n",
            "mv -f .deps/ta_SUM.Tpo .deps/ta_SUM.Plo\n",
            "/bin/bash ../../libtool --tag=CC   --mode=compile gcc -DHAVE_CONFIG_H -I. -I../../include  -I../ta_common/   -g -O2 -MT ta_T3.lo -MD -MP -MF .deps/ta_T3.Tpo -c -o ta_T3.lo ta_T3.c\n",
            " gcc -DHAVE_CONFIG_H -I. -I../../include -I../ta_common/ -g -O2 -MT ta_T3.lo -MD -MP -MF .deps/ta_T3.Tpo -c ta_T3.c  -fPIC -DPIC -o .libs/ta_T3.o\n",
            " gcc -DHAVE_CONFIG_H -I. -I../../include -I../ta_common/ -g -O2 -MT ta_T3.lo -MD -MP -MF .deps/ta_T3.Tpo -c ta_T3.c -o ta_T3.o >/dev/null 2>&1\n",
            "mv -f .deps/ta_T3.Tpo .deps/ta_T3.Plo\n",
            "/bin/bash ../../libtool --tag=CC   --mode=compile gcc -DHAVE_CONFIG_H -I. -I../../include  -I../ta_common/   -g -O2 -MT ta_TAN.lo -MD -MP -MF .deps/ta_TAN.Tpo -c -o ta_TAN.lo ta_TAN.c\n",
            " gcc -DHAVE_CONFIG_H -I. -I../../include -I../ta_common/ -g -O2 -MT ta_TAN.lo -MD -MP -MF .deps/ta_TAN.Tpo -c ta_TAN.c  -fPIC -DPIC -o .libs/ta_TAN.o\n",
            " gcc -DHAVE_CONFIG_H -I. -I../../include -I../ta_common/ -g -O2 -MT ta_TAN.lo -MD -MP -MF .deps/ta_TAN.Tpo -c ta_TAN.c -o ta_TAN.o >/dev/null 2>&1\n",
            "mv -f .deps/ta_TAN.Tpo .deps/ta_TAN.Plo\n",
            "/bin/bash ../../libtool --tag=CC   --mode=compile gcc -DHAVE_CONFIG_H -I. -I../../include  -I../ta_common/   -g -O2 -MT ta_TANH.lo -MD -MP -MF .deps/ta_TANH.Tpo -c -o ta_TANH.lo ta_TANH.c\n",
            " gcc -DHAVE_CONFIG_H -I. -I../../include -I../ta_common/ -g -O2 -MT ta_TANH.lo -MD -MP -MF .deps/ta_TANH.Tpo -c ta_TANH.c  -fPIC -DPIC -o .libs/ta_TANH.o\n",
            " gcc -DHAVE_CONFIG_H -I. -I../../include -I../ta_common/ -g -O2 -MT ta_TANH.lo -MD -MP -MF .deps/ta_TANH.Tpo -c ta_TANH.c -o ta_TANH.o >/dev/null 2>&1\n",
            "mv -f .deps/ta_TANH.Tpo .deps/ta_TANH.Plo\n",
            "/bin/bash ../../libtool --tag=CC   --mode=compile gcc -DHAVE_CONFIG_H -I. -I../../include  -I../ta_common/   -g -O2 -MT ta_TEMA.lo -MD -MP -MF .deps/ta_TEMA.Tpo -c -o ta_TEMA.lo ta_TEMA.c\n",
            " gcc -DHAVE_CONFIG_H -I. -I../../include -I../ta_common/ -g -O2 -MT ta_TEMA.lo -MD -MP -MF .deps/ta_TEMA.Tpo -c ta_TEMA.c  -fPIC -DPIC -o .libs/ta_TEMA.o\n",
            " gcc -DHAVE_CONFIG_H -I. -I../../include -I../ta_common/ -g -O2 -MT ta_TEMA.lo -MD -MP -MF .deps/ta_TEMA.Tpo -c ta_TEMA.c -o ta_TEMA.o >/dev/null 2>&1\n",
            "mv -f .deps/ta_TEMA.Tpo .deps/ta_TEMA.Plo\n",
            "/bin/bash ../../libtool --tag=CC   --mode=compile gcc -DHAVE_CONFIG_H -I. -I../../include  -I../ta_common/   -g -O2 -MT ta_TRANGE.lo -MD -MP -MF .deps/ta_TRANGE.Tpo -c -o ta_TRANGE.lo ta_TRANGE.c\n",
            " gcc -DHAVE_CONFIG_H -I. -I../../include -I../ta_common/ -g -O2 -MT ta_TRANGE.lo -MD -MP -MF .deps/ta_TRANGE.Tpo -c ta_TRANGE.c  -fPIC -DPIC -o .libs/ta_TRANGE.o\n",
            " gcc -DHAVE_CONFIG_H -I. -I../../include -I../ta_common/ -g -O2 -MT ta_TRANGE.lo -MD -MP -MF .deps/ta_TRANGE.Tpo -c ta_TRANGE.c -o ta_TRANGE.o >/dev/null 2>&1\n",
            "mv -f .deps/ta_TRANGE.Tpo .deps/ta_TRANGE.Plo\n",
            "/bin/bash ../../libtool --tag=CC   --mode=compile gcc -DHAVE_CONFIG_H -I. -I../../include  -I../ta_common/   -g -O2 -MT ta_TRIMA.lo -MD -MP -MF .deps/ta_TRIMA.Tpo -c -o ta_TRIMA.lo ta_TRIMA.c\n",
            " gcc -DHAVE_CONFIG_H -I. -I../../include -I../ta_common/ -g -O2 -MT ta_TRIMA.lo -MD -MP -MF .deps/ta_TRIMA.Tpo -c ta_TRIMA.c  -fPIC -DPIC -o .libs/ta_TRIMA.o\n",
            " gcc -DHAVE_CONFIG_H -I. -I../../include -I../ta_common/ -g -O2 -MT ta_TRIMA.lo -MD -MP -MF .deps/ta_TRIMA.Tpo -c ta_TRIMA.c -o ta_TRIMA.o >/dev/null 2>&1\n",
            "mv -f .deps/ta_TRIMA.Tpo .deps/ta_TRIMA.Plo\n",
            "/bin/bash ../../libtool --tag=CC   --mode=compile gcc -DHAVE_CONFIG_H -I. -I../../include  -I../ta_common/   -g -O2 -MT ta_TRIX.lo -MD -MP -MF .deps/ta_TRIX.Tpo -c -o ta_TRIX.lo ta_TRIX.c\n",
            " gcc -DHAVE_CONFIG_H -I. -I../../include -I../ta_common/ -g -O2 -MT ta_TRIX.lo -MD -MP -MF .deps/ta_TRIX.Tpo -c ta_TRIX.c  -fPIC -DPIC -o .libs/ta_TRIX.o\n",
            " gcc -DHAVE_CONFIG_H -I. -I../../include -I../ta_common/ -g -O2 -MT ta_TRIX.lo -MD -MP -MF .deps/ta_TRIX.Tpo -c ta_TRIX.c -o ta_TRIX.o >/dev/null 2>&1\n",
            "mv -f .deps/ta_TRIX.Tpo .deps/ta_TRIX.Plo\n",
            "/bin/bash ../../libtool --tag=CC   --mode=compile gcc -DHAVE_CONFIG_H -I. -I../../include  -I../ta_common/   -g -O2 -MT ta_TSF.lo -MD -MP -MF .deps/ta_TSF.Tpo -c -o ta_TSF.lo ta_TSF.c\n",
            " gcc -DHAVE_CONFIG_H -I. -I../../include -I../ta_common/ -g -O2 -MT ta_TSF.lo -MD -MP -MF .deps/ta_TSF.Tpo -c ta_TSF.c  -fPIC -DPIC -o .libs/ta_TSF.o\n",
            " gcc -DHAVE_CONFIG_H -I. -I../../include -I../ta_common/ -g -O2 -MT ta_TSF.lo -MD -MP -MF .deps/ta_TSF.Tpo -c ta_TSF.c -o ta_TSF.o >/dev/null 2>&1\n",
            "mv -f .deps/ta_TSF.Tpo .deps/ta_TSF.Plo\n",
            "/bin/bash ../../libtool --tag=CC   --mode=compile gcc -DHAVE_CONFIG_H -I. -I../../include  -I../ta_common/   -g -O2 -MT ta_TYPPRICE.lo -MD -MP -MF .deps/ta_TYPPRICE.Tpo -c -o ta_TYPPRICE.lo ta_TYPPRICE.c\n",
            " gcc -DHAVE_CONFIG_H -I. -I../../include -I../ta_common/ -g -O2 -MT ta_TYPPRICE.lo -MD -MP -MF .deps/ta_TYPPRICE.Tpo -c ta_TYPPRICE.c  -fPIC -DPIC -o .libs/ta_TYPPRICE.o\n",
            " gcc -DHAVE_CONFIG_H -I. -I../../include -I../ta_common/ -g -O2 -MT ta_TYPPRICE.lo -MD -MP -MF .deps/ta_TYPPRICE.Tpo -c ta_TYPPRICE.c -o ta_TYPPRICE.o >/dev/null 2>&1\n",
            "mv -f .deps/ta_TYPPRICE.Tpo .deps/ta_TYPPRICE.Plo\n",
            "/bin/bash ../../libtool --tag=CC   --mode=compile gcc -DHAVE_CONFIG_H -I. -I../../include  -I../ta_common/   -g -O2 -MT ta_ULTOSC.lo -MD -MP -MF .deps/ta_ULTOSC.Tpo -c -o ta_ULTOSC.lo ta_ULTOSC.c\n",
            " gcc -DHAVE_CONFIG_H -I. -I../../include -I../ta_common/ -g -O2 -MT ta_ULTOSC.lo -MD -MP -MF .deps/ta_ULTOSC.Tpo -c ta_ULTOSC.c  -fPIC -DPIC -o .libs/ta_ULTOSC.o\n",
            " gcc -DHAVE_CONFIG_H -I. -I../../include -I../ta_common/ -g -O2 -MT ta_ULTOSC.lo -MD -MP -MF .deps/ta_ULTOSC.Tpo -c ta_ULTOSC.c -o ta_ULTOSC.o >/dev/null 2>&1\n",
            "mv -f .deps/ta_ULTOSC.Tpo .deps/ta_ULTOSC.Plo\n",
            "/bin/bash ../../libtool --tag=CC   --mode=compile gcc -DHAVE_CONFIG_H -I. -I../../include  -I../ta_common/   -g -O2 -MT ta_VAR.lo -MD -MP -MF .deps/ta_VAR.Tpo -c -o ta_VAR.lo ta_VAR.c\n",
            " gcc -DHAVE_CONFIG_H -I. -I../../include -I../ta_common/ -g -O2 -MT ta_VAR.lo -MD -MP -MF .deps/ta_VAR.Tpo -c ta_VAR.c  -fPIC -DPIC -o .libs/ta_VAR.o\n",
            " gcc -DHAVE_CONFIG_H -I. -I../../include -I../ta_common/ -g -O2 -MT ta_VAR.lo -MD -MP -MF .deps/ta_VAR.Tpo -c ta_VAR.c -o ta_VAR.o >/dev/null 2>&1\n",
            "mv -f .deps/ta_VAR.Tpo .deps/ta_VAR.Plo\n",
            "/bin/bash ../../libtool --tag=CC   --mode=compile gcc -DHAVE_CONFIG_H -I. -I../../include  -I../ta_common/   -g -O2 -MT ta_WCLPRICE.lo -MD -MP -MF .deps/ta_WCLPRICE.Tpo -c -o ta_WCLPRICE.lo ta_WCLPRICE.c\n",
            " gcc -DHAVE_CONFIG_H -I. -I../../include -I../ta_common/ -g -O2 -MT ta_WCLPRICE.lo -MD -MP -MF .deps/ta_WCLPRICE.Tpo -c ta_WCLPRICE.c  -fPIC -DPIC -o .libs/ta_WCLPRICE.o\n",
            " gcc -DHAVE_CONFIG_H -I. -I../../include -I../ta_common/ -g -O2 -MT ta_WCLPRICE.lo -MD -MP -MF .deps/ta_WCLPRICE.Tpo -c ta_WCLPRICE.c -o ta_WCLPRICE.o >/dev/null 2>&1\n",
            "mv -f .deps/ta_WCLPRICE.Tpo .deps/ta_WCLPRICE.Plo\n",
            "/bin/bash ../../libtool --tag=CC   --mode=compile gcc -DHAVE_CONFIG_H -I. -I../../include  -I../ta_common/   -g -O2 -MT ta_WILLR.lo -MD -MP -MF .deps/ta_WILLR.Tpo -c -o ta_WILLR.lo ta_WILLR.c\n",
            " gcc -DHAVE_CONFIG_H -I. -I../../include -I../ta_common/ -g -O2 -MT ta_WILLR.lo -MD -MP -MF .deps/ta_WILLR.Tpo -c ta_WILLR.c  -fPIC -DPIC -o .libs/ta_WILLR.o\n",
            " gcc -DHAVE_CONFIG_H -I. -I../../include -I../ta_common/ -g -O2 -MT ta_WILLR.lo -MD -MP -MF .deps/ta_WILLR.Tpo -c ta_WILLR.c -o ta_WILLR.o >/dev/null 2>&1\n",
            "mv -f .deps/ta_WILLR.Tpo .deps/ta_WILLR.Plo\n",
            "/bin/bash ../../libtool --tag=CC   --mode=compile gcc -DHAVE_CONFIG_H -I. -I../../include  -I../ta_common/   -g -O2 -MT ta_WMA.lo -MD -MP -MF .deps/ta_WMA.Tpo -c -o ta_WMA.lo ta_WMA.c\n",
            " gcc -DHAVE_CONFIG_H -I. -I../../include -I../ta_common/ -g -O2 -MT ta_WMA.lo -MD -MP -MF .deps/ta_WMA.Tpo -c ta_WMA.c  -fPIC -DPIC -o .libs/ta_WMA.o\n",
            " gcc -DHAVE_CONFIG_H -I. -I../../include -I../ta_common/ -g -O2 -MT ta_WMA.lo -MD -MP -MF .deps/ta_WMA.Tpo -c ta_WMA.c -o ta_WMA.o >/dev/null 2>&1\n",
            "mv -f .deps/ta_WMA.Tpo .deps/ta_WMA.Plo\n",
            "/bin/bash ../../libtool --tag=CC   --mode=link gcc  -g -O2 -version-info 0:0:0  -o libta_func.la  ta_utility.lo ta_ACOS.lo ta_AD.lo ta_ADD.lo ta_ADOSC.lo ta_ADX.lo ta_ADXR.lo ta_APO.lo ta_AROON.lo ta_AROONOSC.lo ta_ASIN.lo ta_ATAN.lo ta_ATR.lo ta_AVGPRICE.lo ta_BBANDS.lo ta_BETA.lo ta_BOP.lo ta_CCI.lo ta_CDL2CROWS.lo ta_CDL3BLACKCROWS.lo ta_CDL3INSIDE.lo ta_CDL3LINESTRIKE.lo ta_CDL3OUTSIDE.lo ta_CDL3STARSINSOUTH.lo ta_CDL3WHITESOLDIERS.lo ta_CDLABANDONEDBABY.lo ta_CDLADVANCEBLOCK.lo ta_CDLBELTHOLD.lo ta_CDLBREAKAWAY.lo ta_CDLCLOSINGMARUBOZU.lo ta_CDLCONCEALBABYSWALL.lo ta_CDLCOUNTERATTACK.lo ta_CDLDARKCLOUDCOVER.lo ta_CDLDOJI.lo ta_CDLDOJISTAR.lo ta_CDLDRAGONFLYDOJI.lo ta_CDLENGULFING.lo ta_CDLEVENINGDOJISTAR.lo ta_CDLEVENINGSTAR.lo ta_CDLGAPSIDESIDEWHITE.lo ta_CDLGRAVESTONEDOJI.lo ta_CDLHAMMER.lo ta_CDLHANGINGMAN.lo ta_CDLHARAMI.lo ta_CDLHARAMICROSS.lo ta_CDLHIGHWAVE.lo ta_CDLHIKKAKE.lo ta_CDLHIKKAKEMOD.lo ta_CDLHOMINGPIGEON.lo ta_CDLIDENTICAL3CROWS.lo ta_CDLINNECK.lo ta_CDLINVERTEDHAMMER.lo ta_CDLKICKING.lo ta_CDLKICKINGBYLENGTH.lo ta_CDLLADDERBOTTOM.lo ta_CDLLONGLEGGEDDOJI.lo ta_CDLLONGLINE.lo ta_CDLMARUBOZU.lo ta_CDLMATCHINGLOW.lo ta_CDLMATHOLD.lo ta_CDLMORNINGDOJISTAR.lo ta_CDLMORNINGSTAR.lo ta_CDLONNECK.lo ta_CDLPIERCING.lo ta_CDLRICKSHAWMAN.lo ta_CDLRISEFALL3METHODS.lo ta_CDLSEPARATINGLINES.lo ta_CDLSHOOTINGSTAR.lo ta_CDLSHORTLINE.lo ta_CDLSPINNINGTOP.lo ta_CDLSTALLEDPATTERN.lo ta_CDLSTICKSANDWICH.lo ta_CDLTAKURI.lo ta_CDLTASUKIGAP.lo ta_CDLTHRUSTING.lo ta_CDLTRISTAR.lo ta_CDLUNIQUE3RIVER.lo ta_CDLUPSIDEGAP2CROWS.lo ta_CDLXSIDEGAP3METHODS.lo ta_CEIL.lo ta_CMO.lo ta_CORREL.lo ta_COS.lo ta_COSH.lo ta_DEMA.lo ta_DIV.lo ta_DX.lo ta_EMA.lo ta_EXP.lo ta_FLOOR.lo ta_HT_DCPERIOD.lo ta_HT_DCPHASE.lo ta_HT_PHASOR.lo ta_HT_SINE.lo ta_HT_TRENDLINE.lo ta_HT_TRENDMODE.lo ta_KAMA.lo ta_LINEARREG.lo ta_LINEARREG_ANGLE.lo ta_LINEARREG_INTERCEPT.lo ta_LINEARREG_SLOPE.lo ta_LN.lo ta_LOG10.lo ta_MA.lo ta_MACD.lo ta_MACDEXT.lo ta_MACDFIX.lo ta_MAMA.lo ta_MAVP.lo ta_MAX.lo ta_MAXINDEX.lo ta_MEDPRICE.lo ta_MFI.lo ta_MIDPOINT.lo ta_MIDPRICE.lo ta_MIN.lo ta_MININDEX.lo ta_MINMAX.lo ta_MINMAXINDEX.lo ta_MINUS_DI.lo ta_MINUS_DM.lo ta_MOM.lo ta_MULT.lo ta_NATR.lo ta_OBV.lo ta_PLUS_DI.lo ta_PLUS_DM.lo ta_PPO.lo ta_ROC.lo ta_ROCP.lo ta_ROCR.lo ta_ROCR100.lo ta_RSI.lo ta_SAR.lo ta_SAREXT.lo ta_SIN.lo ta_SINH.lo ta_SMA.lo ta_SQRT.lo ta_STDDEV.lo ta_STOCH.lo ta_STOCHF.lo ta_STOCHRSI.lo ta_SUB.lo ta_SUM.lo ta_T3.lo ta_TAN.lo ta_TANH.lo ta_TEMA.lo ta_TRANGE.lo ta_TRIMA.lo ta_TRIX.lo ta_TSF.lo ta_TYPPRICE.lo ta_ULTOSC.lo ta_VAR.lo ta_WCLPRICE.lo ta_WILLR.lo ta_WMA.lo  -lpthread -ldl \n",
            "libtool: link: warning: `-version-info/-version-number' is ignored for convenience libraries\n",
            "ar cru .libs/libta_func.a .libs/ta_utility.o .libs/ta_ACOS.o .libs/ta_AD.o .libs/ta_ADD.o .libs/ta_ADOSC.o .libs/ta_ADX.o .libs/ta_ADXR.o .libs/ta_APO.o .libs/ta_AROON.o .libs/ta_AROONOSC.o .libs/ta_ASIN.o .libs/ta_ATAN.o .libs/ta_ATR.o .libs/ta_AVGPRICE.o .libs/ta_BBANDS.o .libs/ta_BETA.o .libs/ta_BOP.o .libs/ta_CCI.o .libs/ta_CDL2CROWS.o .libs/ta_CDL3BLACKCROWS.o .libs/ta_CDL3INSIDE.o .libs/ta_CDL3LINESTRIKE.o .libs/ta_CDL3OUTSIDE.o .libs/ta_CDL3STARSINSOUTH.o .libs/ta_CDL3WHITESOLDIERS.o .libs/ta_CDLABANDONEDBABY.o .libs/ta_CDLADVANCEBLOCK.o .libs/ta_CDLBELTHOLD.o .libs/ta_CDLBREAKAWAY.o .libs/ta_CDLCLOSINGMARUBOZU.o .libs/ta_CDLCONCEALBABYSWALL.o .libs/ta_CDLCOUNTERATTACK.o .libs/ta_CDLDARKCLOUDCOVER.o .libs/ta_CDLDOJI.o .libs/ta_CDLDOJISTAR.o .libs/ta_CDLDRAGONFLYDOJI.o .libs/ta_CDLENGULFING.o .libs/ta_CDLEVENINGDOJISTAR.o .libs/ta_CDLEVENINGSTAR.o .libs/ta_CDLGAPSIDESIDEWHITE.o .libs/ta_CDLGRAVESTONEDOJI.o .libs/ta_CDLHAMMER.o .libs/ta_CDLHANGINGMAN.o .libs/ta_CDLHARAMI.o .libs/ta_CDLHARAMICROSS.o .libs/ta_CDLHIGHWAVE.o .libs/ta_CDLHIKKAKE.o .libs/ta_CDLHIKKAKEMOD.o .libs/ta_CDLHOMINGPIGEON.o .libs/ta_CDLIDENTICAL3CROWS.o .libs/ta_CDLINNECK.o .libs/ta_CDLINVERTEDHAMMER.o .libs/ta_CDLKICKING.o .libs/ta_CDLKICKINGBYLENGTH.o .libs/ta_CDLLADDERBOTTOM.o .libs/ta_CDLLONGLEGGEDDOJI.o .libs/ta_CDLLONGLINE.o .libs/ta_CDLMARUBOZU.o .libs/ta_CDLMATCHINGLOW.o .libs/ta_CDLMATHOLD.o .libs/ta_CDLMORNINGDOJISTAR.o .libs/ta_CDLMORNINGSTAR.o .libs/ta_CDLONNECK.o .libs/ta_CDLPIERCING.o .libs/ta_CDLRICKSHAWMAN.o .libs/ta_CDLRISEFALL3METHODS.o .libs/ta_CDLSEPARATINGLINES.o .libs/ta_CDLSHOOTINGSTAR.o .libs/ta_CDLSHORTLINE.o .libs/ta_CDLSPINNINGTOP.o .libs/ta_CDLSTALLEDPATTERN.o .libs/ta_CDLSTICKSANDWICH.o .libs/ta_CDLTAKURI.o .libs/ta_CDLTASUKIGAP.o .libs/ta_CDLTHRUSTING.o .libs/ta_CDLTRISTAR.o .libs/ta_CDLUNIQUE3RIVER.o .libs/ta_CDLUPSIDEGAP2CROWS.o .libs/ta_CDLXSIDEGAP3METHODS.o .libs/ta_CEIL.o .libs/ta_CMO.o .libs/ta_CORREL.o .libs/ta_COS.o .libs/ta_COSH.o .libs/ta_DEMA.o .libs/ta_DIV.o .libs/ta_DX.o .libs/ta_EMA.o .libs/ta_EXP.o .libs/ta_FLOOR.o .libs/ta_HT_DCPERIOD.o .libs/ta_HT_DCPHASE.o .libs/ta_HT_PHASOR.o .libs/ta_HT_SINE.o .libs/ta_HT_TRENDLINE.o .libs/ta_HT_TRENDMODE.o .libs/ta_KAMA.o .libs/ta_LINEARREG.o .libs/ta_LINEARREG_ANGLE.o .libs/ta_LINEARREG_INTERCEPT.o .libs/ta_LINEARREG_SLOPE.o .libs/ta_LN.o .libs/ta_LOG10.o .libs/ta_MA.o .libs/ta_MACD.o .libs/ta_MACDEXT.o .libs/ta_MACDFIX.o .libs/ta_MAMA.o .libs/ta_MAVP.o .libs/ta_MAX.o .libs/ta_MAXINDEX.o .libs/ta_MEDPRICE.o .libs/ta_MFI.o .libs/ta_MIDPOINT.o .libs/ta_MIDPRICE.o .libs/ta_MIN.o .libs/ta_MININDEX.o .libs/ta_MINMAX.o .libs/ta_MINMAXINDEX.o .libs/ta_MINUS_DI.o .libs/ta_MINUS_DM.o .libs/ta_MOM.o .libs/ta_MULT.o .libs/ta_NATR.o .libs/ta_OBV.o .libs/ta_PLUS_DI.o .libs/ta_PLUS_DM.o .libs/ta_PPO.o .libs/ta_ROC.o .libs/ta_ROCP.o .libs/ta_ROCR.o .libs/ta_ROCR100.o .libs/ta_RSI.o .libs/ta_SAR.o .libs/ta_SAREXT.o .libs/ta_SIN.o .libs/ta_SINH.o .libs/ta_SMA.o .libs/ta_SQRT.o .libs/ta_STDDEV.o .libs/ta_STOCH.o .libs/ta_STOCHF.o .libs/ta_STOCHRSI.o .libs/ta_SUB.o .libs/ta_SUM.o .libs/ta_T3.o .libs/ta_TAN.o .libs/ta_TANH.o .libs/ta_TEMA.o .libs/ta_TRANGE.o .libs/ta_TRIMA.o .libs/ta_TRIX.o .libs/ta_TSF.o .libs/ta_TYPPRICE.o .libs/ta_ULTOSC.o .libs/ta_VAR.o .libs/ta_WCLPRICE.o .libs/ta_WILLR.o .libs/ta_WMA.o\n",
            "ar: `u' modifier ignored since `D' is the default (see `U')\n",
            "ranlib .libs/libta_func.a\n",
            "creating libta_func.la\n",
            "(cd .libs && rm -f libta_func.la && ln -s ../libta_func.la libta_func.la)\n",
            "make[2]: Leaving directory '/content/ta-lib/src/ta_func'\n",
            "make[2]: Entering directory '/content/ta-lib/src'\n",
            "/bin/bash ../libtool --tag=CC   --mode=link gcc  -g -O2 -version-info 0:0:0  -o libta_lib.la -rpath /usr/lib  ta_abstract/libta_abstract.la ta_func/libta_func.la ta_common/libta_common.la -lpthread -ldl \n",
            "mkdir .libs\n",
            "gcc -shared  -Wl,--whole-archive ta_abstract/.libs/libta_abstract.a ta_func/.libs/libta_func.a ta_common/.libs/libta_common.a -Wl,--no-whole-archive  -lpthread -ldl  -Wl,-soname -Wl,libta_lib.so.0 -o .libs/libta_lib.so.0.0.0\n",
            "(cd .libs && rm -f libta_lib.so.0 && ln -s libta_lib.so.0.0.0 libta_lib.so.0)\n",
            "(cd .libs && rm -f libta_lib.so && ln -s libta_lib.so.0.0.0 libta_lib.so)\n",
            "rm -fr .libs/libta_lib.lax\n",
            "mkdir .libs/libta_lib.lax\n",
            "rm -fr .libs/libta_lib.lax/libta_abstract.a\n",
            "mkdir .libs/libta_lib.lax/libta_abstract.a\n",
            "(cd .libs/libta_lib.lax/libta_abstract.a && ar x /content/ta-lib/src/ta_abstract/.libs/libta_abstract.a)\n",
            "rm -fr .libs/libta_lib.lax/libta_func.a\n",
            "mkdir .libs/libta_lib.lax/libta_func.a\n",
            "(cd .libs/libta_lib.lax/libta_func.a && ar x /content/ta-lib/src/ta_func/.libs/libta_func.a)\n",
            "rm -fr .libs/libta_lib.lax/libta_common.a\n",
            "mkdir .libs/libta_lib.lax/libta_common.a\n",
            "(cd .libs/libta_lib.lax/libta_common.a && ar x /content/ta-lib/src/ta_common/.libs/libta_common.a)\n",
            "ar cru .libs/libta_lib.a   .libs/libta_lib.lax/libta_abstract.a/libta_abstract_la-table_i.o .libs/libta_lib.lax/libta_abstract.a/libta_abstract_la-table_b.o .libs/libta_lib.lax/libta_abstract.a/libta_abstract_la-table_a.o .libs/libta_lib.lax/libta_abstract.a/libta_abstract_la-table_r.o .libs/libta_lib.lax/libta_abstract.a/libta_abstract_la-table_m.o .libs/libta_lib.lax/libta_abstract.a/libta_abstract_la-table_p.o .libs/libta_lib.lax/libta_abstract.a/libta_abstract_la-ta_abstract.o .libs/libta_lib.lax/libta_abstract.a/libta_abstract_la-table_x.o .libs/libta_lib.lax/libta_abstract.a/libta_abstract_la-table_u.o .libs/libta_lib.lax/libta_abstract.a/libta_abstract_la-table_q.o .libs/libta_lib.lax/libta_abstract.a/libta_abstract_la-table_j.o .libs/libta_lib.lax/libta_abstract.a/libta_abstract_la-table_w.o .libs/libta_lib.lax/libta_abstract.a/libta_abstract_la-table_o.o .libs/libta_lib.lax/libta_abstract.a/libta_abstract_la-table_n.o .libs/libta_lib.lax/libta_abstract.a/libta_abstract_la-ta_frame.o .libs/libta_lib.lax/libta_abstract.a/libta_abstract_la-table_y.o .libs/libta_lib.lax/libta_abstract.a/libta_abstract_la-table_d.o .libs/libta_lib.lax/libta_abstract.a/libta_abstract_la-table_k.o .libs/libta_lib.lax/libta_abstract.a/libta_abstract_la-ta_def_ui.o .libs/libta_lib.lax/libta_abstract.a/libta_abstract_la-table_f.o .libs/libta_lib.lax/libta_abstract.a/libta_abstract_la-table_z.o .libs/libta_lib.lax/libta_abstract.a/libta_abstract_la-table_v.o .libs/libta_lib.lax/libta_abstract.a/libta_abstract_la-table_g.o .libs/libta_lib.lax/libta_abstract.a/libta_abstract_la-table_t.o .libs/libta_lib.lax/libta_abstract.a/libta_abstract_la-table_c.o .libs/libta_lib.lax/libta_abstract.a/libta_abstract_la-table_h.o .libs/libta_lib.lax/libta_abstract.a/libta_abstract_la-table_e.o .libs/libta_lib.lax/libta_abstract.a/libta_abstract_la-table_l.o .libs/libta_lib.lax/libta_abstract.a/libta_abstract_la-ta_func_api.o .libs/libta_lib.lax/libta_abstract.a/libta_abstract_la-table_s.o .libs/libta_lib.lax/libta_abstract.a/libta_abstract_la-ta_group_idx.o  .libs/libta_lib.lax/libta_func.a/ta_ATAN.o .libs/libta_lib.lax/libta_func.a/ta_TANH.o .libs/libta_lib.lax/libta_func.a/ta_CDLEVENINGSTAR.o .libs/libta_lib.lax/libta_func.a/ta_CCI.o .libs/libta_lib.lax/libta_func.a/ta_NATR.o .libs/libta_lib.lax/libta_func.a/ta_AVGPRICE.o .libs/libta_lib.lax/libta_func.a/ta_CDLSTICKSANDWICH.o .libs/libta_lib.lax/libta_func.a/ta_CDLRICKSHAWMAN.o .libs/libta_lib.lax/libta_func.a/ta_CDLBELTHOLD.o .libs/libta_lib.lax/libta_func.a/ta_TYPPRICE.o .libs/libta_lib.lax/libta_func.a/ta_BOP.o .libs/libta_lib.lax/libta_func.a/ta_BETA.o .libs/libta_lib.lax/libta_func.a/ta_CORREL.o .libs/libta_lib.lax/libta_func.a/ta_MA.o .libs/libta_lib.lax/libta_func.a/ta_WCLPRICE.o .libs/libta_lib.lax/libta_func.a/ta_CDLSPINNINGTOP.o .libs/libta_lib.lax/libta_func.a/ta_CDLDOJISTAR.o .libs/libta_lib.lax/libta_func.a/ta_VAR.o .libs/libta_lib.lax/libta_func.a/ta_MULT.o .libs/libta_lib.lax/libta_func.a/ta_PLUS_DI.o .libs/libta_lib.lax/libta_func.a/ta_DEMA.o .libs/libta_lib.lax/libta_func.a/ta_CDL3LINESTRIKE.o .libs/libta_lib.lax/libta_func.a/ta_COSH.o .libs/libta_lib.lax/libta_func.a/ta_COS.o .libs/libta_lib.lax/libta_func.a/ta_CDLTHRUSTING.o .libs/libta_lib.lax/libta_func.a/ta_CMO.o .libs/libta_lib.lax/libta_func.a/ta_AD.o .libs/libta_lib.lax/libta_func.a/ta_STDDEV.o .libs/libta_lib.lax/libta_func.a/ta_HT_TRENDLINE.o .libs/libta_lib.lax/libta_func.a/ta_ROC.o .libs/libta_lib.lax/libta_func.a/ta_PLUS_DM.o .libs/libta_lib.lax/libta_func.a/ta_MACD.o .libs/libta_lib.lax/libta_func.a/ta_CDLIDENTICAL3CROWS.o .libs/libta_lib.lax/libta_func.a/ta_CDLONNECK.o .libs/libta_lib.lax/libta_func.a/ta_CDL2CROWS.o .libs/libta_lib.lax/libta_func.a/ta_T3.o .libs/libta_lib.lax/libta_func.a/ta_HT_DCPERIOD.o .libs/libta_lib.lax/libta_func.a/ta_CDLCOUNTERATTACK.o .libs/libta_lib.lax/libta_func.a/ta_EMA.o .libs/libta_lib.lax/libta_func.a/ta_CDLCLOSINGMARUBOZU.o .libs/libta_lib.lax/libta_func.a/ta_CDLMATHOLD.o .libs/libta_lib.lax/libta_func.a/ta_CDLUPSIDEGAP2CROWS.o .libs/libta_lib.lax/libta_func.a/ta_CDLHIKKAKE.o .libs/libta_lib.lax/libta_func.a/ta_ACOS.o .libs/libta_lib.lax/libta_func.a/ta_ASIN.o .libs/libta_lib.lax/libta_func.a/ta_CDLPIERCING.o .libs/libta_lib.lax/libta_func.a/ta_HT_DCPHASE.o .libs/libta_lib.lax/libta_func.a/ta_BBANDS.o .libs/libta_lib.lax/libta_func.a/ta_FLOOR.o .libs/libta_lib.lax/libta_func.a/ta_MIN.o .libs/libta_lib.lax/libta_func.a/ta_ADD.o .libs/libta_lib.lax/libta_func.a/ta_MIDPOINT.o .libs/libta_lib.lax/libta_func.a/ta_CDLHANGINGMAN.o .libs/libta_lib.lax/libta_func.a/ta_CDLHARAMI.o .libs/libta_lib.lax/libta_func.a/ta_MINMAXINDEX.o .libs/libta_lib.lax/libta_func.a/ta_CDLLADDERBOTTOM.o .libs/libta_lib.lax/libta_func.a/ta_CDLSHOOTINGSTAR.o .libs/libta_lib.lax/libta_func.a/ta_CDLHIGHWAVE.o .libs/libta_lib.lax/libta_func.a/ta_MFI.o .libs/libta_lib.lax/libta_func.a/ta_CDLMATCHINGLOW.o .libs/libta_lib.lax/libta_func.a/ta_MACDEXT.o .libs/libta_lib.lax/libta_func.a/ta_MEDPRICE.o .libs/libta_lib.lax/libta_func.a/ta_CDLHOMINGPIGEON.o .libs/libta_lib.lax/libta_func.a/ta_STOCHF.o .libs/libta_lib.lax/libta_func.a/ta_MINMAX.o .libs/libta_lib.lax/libta_func.a/ta_TEMA.o .libs/libta_lib.lax/libta_func.a/ta_SAR.o .libs/libta_lib.lax/libta_func.a/ta_AROON.o .libs/libta_lib.lax/libta_func.a/ta_CDLCONCEALBABYSWALL.o .libs/libta_lib.lax/libta_func.a/ta_CDLMORNINGSTAR.o .libs/libta_lib.lax/libta_func.a/ta_TRANGE.o .libs/libta_lib.lax/libta_func.a/ta_CDLSTALLEDPATTERN.o .libs/libta_lib.lax/libta_func.a/ta_WILLR.o .libs/libta_lib.lax/libta_func.a/ta_CDLBREAKAWAY.o .libs/libta_lib.lax/libta_func.a/ta_CDLXSIDEGAP3METHODS.o .libs/libta_lib.lax/libta_func.a/ta_ROCR100.o .libs/libta_lib.lax/libta_func.a/ta_CDLGRAVESTONEDOJI.o .libs/libta_lib.lax/libta_func.a/ta_HT_PHASOR.o .libs/libta_lib.lax/libta_func.a/ta_MAMA.o .libs/libta_lib.lax/libta_func.a/ta_RSI.o .libs/libta_lib.lax/libta_func.a/ta_CDLMORNINGDOJISTAR.o .libs/libta_lib.lax/libta_func.a/ta_CDLLONGLEGGEDDOJI.o .libs/libta_lib.lax/libta_func.a/ta_LN.o .libs/libta_lib.lax/libta_func.a/ta_MINUS_DM.o .libs/libta_lib.lax/libta_func.a/ta_CDL3WHITESOLDIERS.o .libs/libta_lib.lax/libta_func.a/ta_CDLEVENINGDOJISTAR.o .libs/libta_lib.lax/libta_func.a/ta_TRIMA.o .libs/libta_lib.lax/libta_func.a/ta_CDL3BLACKCROWS.o .libs/libta_lib.lax/libta_func.a/ta_MIDPRICE.o .libs/libta_lib.lax/libta_func.a/ta_ROCR.o .libs/libta_lib.lax/libta_func.a/ta_MININDEX.o .libs/libta_lib.lax/libta_func.a/ta_STOCH.o .libs/libta_lib.lax/libta_func.a/ta_DIV.o .libs/libta_lib.lax/libta_func.a/ta_AROONOSC.o .libs/libta_lib.lax/libta_func.a/ta_EXP.o .libs/libta_lib.lax/libta_func.a/ta_LINEARREG.o .libs/libta_lib.lax/libta_func.a/ta_PPO.o .libs/libta_lib.lax/libta_func.a/ta_OBV.o .libs/libta_lib.lax/libta_func.a/ta_MAX.o .libs/libta_lib.lax/libta_func.a/ta_CDLADVANCEBLOCK.o .libs/libta_lib.lax/libta_func.a/ta_LOG10.o .libs/libta_lib.lax/libta_func.a/ta_CDLDOJI.o .libs/libta_lib.lax/libta_func.a/ta_CDLTAKURI.o .libs/libta_lib.lax/libta_func.a/ta_SUM.o .libs/libta_lib.lax/libta_func.a/ta_SINH.o .libs/libta_lib.lax/libta_func.a/ta_LINEARREG_SLOPE.o .libs/libta_lib.lax/libta_func.a/ta_CDLTASUKIGAP.o .libs/libta_lib.lax/libta_func.a/ta_CDLUNIQUE3RIVER.o .libs/libta_lib.lax/libta_func.a/ta_CDLTRISTAR.o .libs/libta_lib.lax/libta_func.a/ta_SIN.o .libs/libta_lib.lax/libta_func.a/ta_ADOSC.o .libs/libta_lib.lax/libta_func.a/ta_CDLGAPSIDESIDEWHITE.o .libs/libta_lib.lax/libta_func.a/ta_utility.o .libs/libta_lib.lax/libta_func.a/ta_CDLHIKKAKEMOD.o .libs/libta_lib.lax/libta_func.a/ta_SUB.o .libs/libta_lib.lax/libta_func.a/ta_KAMA.o .libs/libta_lib.lax/libta_func.a/ta_CDL3INSIDE.o .libs/libta_lib.lax/libta_func.a/ta_ADX.o .libs/libta_lib.lax/libta_func.a/ta_CDLDARKCLOUDCOVER.o .libs/libta_lib.lax/libta_func.a/ta_CDLKICKING.o .libs/libta_lib.lax/libta_func.a/ta_CDLSEPARATINGLINES.o .libs/libta_lib.lax/libta_func.a/ta_MAVP.o .libs/libta_lib.lax/libta_func.a/ta_DX.o .libs/libta_lib.lax/libta_func.a/ta_MOM.o .libs/libta_lib.lax/libta_func.a/ta_ATR.o .libs/libta_lib.lax/libta_func.a/ta_TAN.o .libs/libta_lib.lax/libta_func.a/ta_CDLRISEFALL3METHODS.o .libs/libta_lib.lax/libta_func.a/ta_CDLINNECK.o .libs/libta_lib.lax/libta_func.a/ta_HT_SINE.o .libs/libta_lib.lax/libta_func.a/ta_CDLKICKINGBYLENGTH.o .libs/libta_lib.lax/libta_func.a/ta_TSF.o .libs/libta_lib.lax/libta_func.a/ta_CDLMARUBOZU.o .libs/libta_lib.lax/libta_func.a/ta_CDLABANDONEDBABY.o .libs/libta_lib.lax/libta_func.a/ta_CDL3STARSINSOUTH.o .libs/libta_lib.lax/libta_func.a/ta_MAXINDEX.o .libs/libta_lib.lax/libta_func.a/ta_ROCP.o .libs/libta_lib.lax/libta_func.a/ta_LINEARREG_INTERCEPT.o .libs/libta_lib.lax/libta_func.a/ta_MACDFIX.o .libs/libta_lib.lax/libta_func.a/ta_MINUS_DI.o .libs/libta_lib.lax/libta_func.a/ta_CDLLONGLINE.o .libs/libta_lib.lax/libta_func.a/ta_CDLDRAGONFLYDOJI.o .libs/libta_lib.lax/libta_func.a/ta_SAREXT.o .libs/libta_lib.lax/libta_func.a/ta_STOCHRSI.o .libs/libta_lib.lax/libta_func.a/ta_APO.o .libs/libta_lib.lax/libta_func.a/ta_SMA.o .libs/libta_lib.lax/libta_func.a/ta_HT_TRENDMODE.o .libs/libta_lib.lax/libta_func.a/ta_WMA.o .libs/libta_lib.lax/libta_func.a/ta_ULTOSC.o .libs/libta_lib.lax/libta_func.a/ta_CEIL.o .libs/libta_lib.lax/libta_func.a/ta_LINEARREG_ANGLE.o .libs/libta_lib.lax/libta_func.a/ta_ADXR.o .libs/libta_lib.lax/libta_func.a/ta_CDL3OUTSIDE.o .libs/libta_lib.lax/libta_func.a/ta_TRIX.o .libs/libta_lib.lax/libta_func.a/ta_CDLHAMMER.o .libs/libta_lib.lax/libta_func.a/ta_CDLINVERTEDHAMMER.o .libs/libta_lib.lax/libta_func.a/ta_CDLENGULFING.o .libs/libta_lib.lax/libta_func.a/ta_CDLHARAMICROSS.o .libs/libta_lib.lax/libta_func.a/ta_SQRT.o .libs/libta_lib.lax/libta_func.a/ta_CDLSHORTLINE.o  .libs/libta_lib.lax/libta_common.a/ta_global.o .libs/libta_lib.lax/libta_common.a/ta_retcode.o .libs/libta_lib.lax/libta_common.a/ta_version.o \n",
            "ar: `u' modifier ignored since `D' is the default (see `U')\n",
            "ranlib .libs/libta_lib.a\n",
            "rm -fr .libs/libta_lib.lax\n",
            "creating libta_lib.la\n",
            "(cd .libs && rm -f libta_lib.la && ln -s ../libta_lib.la libta_lib.la)\n",
            "make[2]: Leaving directory '/content/ta-lib/src'\n",
            "make[1]: Leaving directory '/content/ta-lib/src'\n",
            "Making all in src/tools\n",
            "make[1]: Entering directory '/content/ta-lib/src/tools'\n",
            "Making all in gen_code\n",
            "make[2]: Entering directory '/content/ta-lib/src/tools/gen_code'\n",
            "gcc -DHAVE_CONFIG_H -I. -I../../../include  -I../../ta_common   -g -O2 -MT gen_code-gen_code.o -MD -MP -MF .deps/gen_code-gen_code.Tpo -c -o gen_code-gen_code.o `test -f 'gen_code.c' || echo './'`gen_code.c\n",
            "\u001b[01m\u001b[Kgen_code.c:\u001b[m\u001b[K In function ‘\u001b[01m\u001b[KprintFuncHeaderDoc\u001b[m\u001b[K’:\n",
            "\u001b[01m\u001b[Kgen_code.c:3456:4:\u001b[m\u001b[K \u001b[01;35m\u001b[Kwarning: \u001b[m\u001b[Kformat not a string literal and no format arguments [\u001b[01;35m\u001b[K\u001b]8;;https://gcc.gnu.org/onlinedocs/gcc/Warning-Options.html#index-Wformat-security\u0007-Wformat-security\u001b]8;;\u0007\u001b[m\u001b[K]\n",
            " 3456 |    \u001b[01;35m\u001b[Kfprintf\u001b[m\u001b[K( out, prefix );\n",
            "      |    \u001b[01;35m\u001b[K^~~~~~~\u001b[m\u001b[K\n",
            "mv -f .deps/gen_code-gen_code.Tpo .deps/gen_code-gen_code.Po\n",
            "/bin/bash ../../../libtool --tag=CC   --mode=link gcc  -g -O2 -L../../ta_common -L../../ta_abstract -L../../ta_func  -o gen_code gen_code-gen_code.o -lta_common -lta_abstract_gc -lta_func -lm -lpthread -ldl \n",
            "mkdir .libs\n",
            "gcc -g -O2 -o gen_code gen_code-gen_code.o  -L/content/ta-lib/src/ta_common -L/content/ta-lib/src/ta_abstract -L/content/ta-lib/src/ta_func /content/ta-lib/src/ta_common/.libs/libta_common.a /content/ta-lib/src/ta_abstract/.libs/libta_abstract_gc.a /content/ta-lib/src/ta_func/.libs/libta_func.a -lm -lpthread -ldl\n",
            "make  gen_code\n",
            "make[3]: Entering directory '/content/ta-lib/src/tools/gen_code'\n",
            "make[3]: 'gen_code' is up to date.\n",
            "make[3]: Leaving directory '/content/ta-lib/src/tools/gen_code'\n",
            "cp gen_code ../../../bin\n",
            "make[2]: Leaving directory '/content/ta-lib/src/tools/gen_code'\n",
            "Making all in ta_regtest\n",
            "make[2]: Entering directory '/content/ta-lib/src/tools/ta_regtest'\n",
            "gcc -DHAVE_CONFIG_H -I. -I../../../include  -I../../ta_func -I../../ta_common/trio -I../../ta_common/mt -I../../ta_common -I../../ta_abstract   -g -O2 -MT ta_regtest-ta_regtest.o -MD -MP -MF .deps/ta_regtest-ta_regtest.Tpo -c -o ta_regtest-ta_regtest.o `test -f 'ta_regtest.c' || echo './'`ta_regtest.c\n",
            "mv -f .deps/ta_regtest-ta_regtest.Tpo .deps/ta_regtest-ta_regtest.Po\n",
            "gcc -DHAVE_CONFIG_H -I. -I../../../include  -I../../ta_func -I../../ta_common/trio -I../../ta_common/mt -I../../ta_common -I../../ta_abstract   -g -O2 -MT ta_regtest-test_data.o -MD -MP -MF .deps/ta_regtest-test_data.Tpo -c -o ta_regtest-test_data.o `test -f 'test_data.c' || echo './'`test_data.c\n",
            "mv -f .deps/ta_regtest-test_data.Tpo .deps/ta_regtest-test_data.Po\n",
            "gcc -DHAVE_CONFIG_H -I. -I../../../include  -I../../ta_func -I../../ta_common/trio -I../../ta_common/mt -I../../ta_common -I../../ta_abstract   -g -O2 -MT ta_regtest-test_util.o -MD -MP -MF .deps/ta_regtest-test_util.Tpo -c -o ta_regtest-test_util.o `test -f 'test_util.c' || echo './'`test_util.c\n",
            "mv -f .deps/ta_regtest-test_util.Tpo .deps/ta_regtest-test_util.Po\n",
            "gcc -DHAVE_CONFIG_H -I. -I../../../include  -I../../ta_func -I../../ta_common/trio -I../../ta_common/mt -I../../ta_common -I../../ta_abstract   -g -O2 -MT ta_regtest-test_abstract.o -MD -MP -MF .deps/ta_regtest-test_abstract.Tpo -c -o ta_regtest-test_abstract.o `test -f 'test_abstract.c' || echo './'`test_abstract.c\n",
            "mv -f .deps/ta_regtest-test_abstract.Tpo .deps/ta_regtest-test_abstract.Po\n",
            "gcc -DHAVE_CONFIG_H -I. -I../../../include  -I../../ta_func -I../../ta_common/trio -I../../ta_common/mt -I../../ta_common -I../../ta_abstract   -g -O2 -MT ta_regtest-test_adx.o -MD -MP -MF .deps/ta_regtest-test_adx.Tpo -c -o ta_regtest-test_adx.o `test -f 'ta_test_func/test_adx.c' || echo './'`ta_test_func/test_adx.c\n",
            "mv -f .deps/ta_regtest-test_adx.Tpo .deps/ta_regtest-test_adx.Po\n",
            "gcc -DHAVE_CONFIG_H -I. -I../../../include  -I../../ta_func -I../../ta_common/trio -I../../ta_common/mt -I../../ta_common -I../../ta_abstract   -g -O2 -MT ta_regtest-test_mom.o -MD -MP -MF .deps/ta_regtest-test_mom.Tpo -c -o ta_regtest-test_mom.o `test -f 'ta_test_func/test_mom.c' || echo './'`ta_test_func/test_mom.c\n",
            "mv -f .deps/ta_regtest-test_mom.Tpo .deps/ta_regtest-test_mom.Po\n",
            "gcc -DHAVE_CONFIG_H -I. -I../../../include  -I../../ta_func -I../../ta_common/trio -I../../ta_common/mt -I../../ta_common -I../../ta_abstract   -g -O2 -MT ta_regtest-test_sar.o -MD -MP -MF .deps/ta_regtest-test_sar.Tpo -c -o ta_regtest-test_sar.o `test -f 'ta_test_func/test_sar.c' || echo './'`ta_test_func/test_sar.c\n",
            "mv -f .deps/ta_regtest-test_sar.Tpo .deps/ta_regtest-test_sar.Po\n",
            "gcc -DHAVE_CONFIG_H -I. -I../../../include  -I../../ta_func -I../../ta_common/trio -I../../ta_common/mt -I../../ta_common -I../../ta_abstract   -g -O2 -MT ta_regtest-test_rsi.o -MD -MP -MF .deps/ta_regtest-test_rsi.Tpo -c -o ta_regtest-test_rsi.o `test -f 'ta_test_func/test_rsi.c' || echo './'`ta_test_func/test_rsi.c\n",
            "mv -f .deps/ta_regtest-test_rsi.Tpo .deps/ta_regtest-test_rsi.Po\n",
            "gcc -DHAVE_CONFIG_H -I. -I../../../include  -I../../ta_func -I../../ta_common/trio -I../../ta_common/mt -I../../ta_common -I../../ta_abstract   -g -O2 -MT ta_regtest-test_candlestick.o -MD -MP -MF .deps/ta_regtest-test_candlestick.Tpo -c -o ta_regtest-test_candlestick.o `test -f 'ta_test_func/test_candlestick.c' || echo './'`ta_test_func/test_candlestick.c\n",
            "mv -f .deps/ta_regtest-test_candlestick.Tpo .deps/ta_regtest-test_candlestick.Po\n",
            "gcc -DHAVE_CONFIG_H -I. -I../../../include  -I../../ta_func -I../../ta_common/trio -I../../ta_common/mt -I../../ta_common -I../../ta_abstract   -g -O2 -MT ta_regtest-test_per_ema.o -MD -MP -MF .deps/ta_regtest-test_per_ema.Tpo -c -o ta_regtest-test_per_ema.o `test -f 'ta_test_func/test_per_ema.c' || echo './'`ta_test_func/test_per_ema.c\n",
            "mv -f .deps/ta_regtest-test_per_ema.Tpo .deps/ta_regtest-test_per_ema.Po\n",
            "gcc -DHAVE_CONFIG_H -I. -I../../../include  -I../../ta_func -I../../ta_common/trio -I../../ta_common/mt -I../../ta_common -I../../ta_abstract   -g -O2 -MT ta_regtest-test_per_hlc.o -MD -MP -MF .deps/ta_regtest-test_per_hlc.Tpo -c -o ta_regtest-test_per_hlc.o `test -f 'ta_test_func/test_per_hlc.c' || echo './'`ta_test_func/test_per_hlc.c\n",
            "mv -f .deps/ta_regtest-test_per_hlc.Tpo .deps/ta_regtest-test_per_hlc.Po\n",
            "gcc -DHAVE_CONFIG_H -I. -I../../../include  -I../../ta_func -I../../ta_common/trio -I../../ta_common/mt -I../../ta_common -I../../ta_abstract   -g -O2 -MT ta_regtest-test_stoch.o -MD -MP -MF .deps/ta_regtest-test_stoch.Tpo -c -o ta_regtest-test_stoch.o `test -f 'ta_test_func/test_stoch.c' || echo './'`ta_test_func/test_stoch.c\n",
            "mv -f .deps/ta_regtest-test_stoch.Tpo .deps/ta_regtest-test_stoch.Po\n",
            "gcc -DHAVE_CONFIG_H -I. -I../../../include  -I../../ta_func -I../../ta_common/trio -I../../ta_common/mt -I../../ta_common -I../../ta_abstract   -g -O2 -MT ta_regtest-test_macd.o -MD -MP -MF .deps/ta_regtest-test_macd.Tpo -c -o ta_regtest-test_macd.o `test -f 'ta_test_func/test_macd.c' || echo './'`ta_test_func/test_macd.c\n",
            "mv -f .deps/ta_regtest-test_macd.Tpo .deps/ta_regtest-test_macd.Po\n",
            "gcc -DHAVE_CONFIG_H -I. -I../../../include  -I../../ta_func -I../../ta_common/trio -I../../ta_common/mt -I../../ta_common -I../../ta_abstract   -g -O2 -MT ta_regtest-test_minmax.o -MD -MP -MF .deps/ta_regtest-test_minmax.Tpo -c -o ta_regtest-test_minmax.o `test -f 'ta_test_func/test_minmax.c' || echo './'`ta_test_func/test_minmax.c\n",
            "mv -f .deps/ta_regtest-test_minmax.Tpo .deps/ta_regtest-test_minmax.Po\n",
            "gcc -DHAVE_CONFIG_H -I. -I../../../include  -I../../ta_func -I../../ta_common/trio -I../../ta_common/mt -I../../ta_common -I../../ta_abstract   -g -O2 -MT ta_regtest-test_per_hlcv.o -MD -MP -MF .deps/ta_regtest-test_per_hlcv.Tpo -c -o ta_regtest-test_per_hlcv.o `test -f 'ta_test_func/test_per_hlcv.c' || echo './'`ta_test_func/test_per_hlcv.c\n",
            "mv -f .deps/ta_regtest-test_per_hlcv.Tpo .deps/ta_regtest-test_per_hlcv.Po\n",
            "gcc -DHAVE_CONFIG_H -I. -I../../../include  -I../../ta_func -I../../ta_common/trio -I../../ta_common/mt -I../../ta_common -I../../ta_abstract   -g -O2 -MT ta_regtest-test_1in_1out.o -MD -MP -MF .deps/ta_regtest-test_1in_1out.Tpo -c -o ta_regtest-test_1in_1out.o `test -f 'ta_test_func/test_1in_1out.c' || echo './'`ta_test_func/test_1in_1out.c\n",
            "mv -f .deps/ta_regtest-test_1in_1out.Tpo .deps/ta_regtest-test_1in_1out.Po\n",
            "gcc -DHAVE_CONFIG_H -I. -I../../../include  -I../../ta_func -I../../ta_common/trio -I../../ta_common/mt -I../../ta_common -I../../ta_abstract   -g -O2 -MT ta_regtest-test_1in_2out.o -MD -MP -MF .deps/ta_regtest-test_1in_2out.Tpo -c -o ta_regtest-test_1in_2out.o `test -f 'ta_test_func/test_1in_2out.c' || echo './'`ta_test_func/test_1in_2out.c\n",
            "mv -f .deps/ta_regtest-test_1in_2out.Tpo .deps/ta_regtest-test_1in_2out.Po\n",
            "gcc -DHAVE_CONFIG_H -I. -I../../../include  -I../../ta_func -I../../ta_common/trio -I../../ta_common/mt -I../../ta_common -I../../ta_abstract   -g -O2 -MT ta_regtest-test_per_ohlc.o -MD -MP -MF .deps/ta_regtest-test_per_ohlc.Tpo -c -o ta_regtest-test_per_ohlc.o `test -f 'ta_test_func/test_per_ohlc.c' || echo './'`ta_test_func/test_per_ohlc.c\n",
            "mv -f .deps/ta_regtest-test_per_ohlc.Tpo .deps/ta_regtest-test_per_ohlc.Po\n",
            "gcc -DHAVE_CONFIG_H -I. -I../../../include  -I../../ta_func -I../../ta_common/trio -I../../ta_common/mt -I../../ta_common -I../../ta_abstract   -g -O2 -MT ta_regtest-test_stddev.o -MD -MP -MF .deps/ta_regtest-test_stddev.Tpo -c -o ta_regtest-test_stddev.o `test -f 'ta_test_func/test_stddev.c' || echo './'`ta_test_func/test_stddev.c\n",
            "mv -f .deps/ta_regtest-test_stddev.Tpo .deps/ta_regtest-test_stddev.Po\n",
            "gcc -DHAVE_CONFIG_H -I. -I../../../include  -I../../ta_func -I../../ta_common/trio -I../../ta_common/mt -I../../ta_common -I../../ta_abstract   -g -O2 -MT ta_regtest-test_bbands.o -MD -MP -MF .deps/ta_regtest-test_bbands.Tpo -c -o ta_regtest-test_bbands.o `test -f 'ta_test_func/test_bbands.c' || echo './'`ta_test_func/test_bbands.c\n",
            "mv -f .deps/ta_regtest-test_bbands.Tpo .deps/ta_regtest-test_bbands.Po\n",
            "gcc -DHAVE_CONFIG_H -I. -I../../../include  -I../../ta_func -I../../ta_common/trio -I../../ta_common/mt -I../../ta_common -I../../ta_abstract   -g -O2 -MT ta_regtest-test_ma.o -MD -MP -MF .deps/ta_regtest-test_ma.Tpo -c -o ta_regtest-test_ma.o `test -f 'ta_test_func/test_ma.c' || echo './'`ta_test_func/test_ma.c\n",
            "mv -f .deps/ta_regtest-test_ma.Tpo .deps/ta_regtest-test_ma.Po\n",
            "gcc -DHAVE_CONFIG_H -I. -I../../../include  -I../../ta_func -I../../ta_common/trio -I../../ta_common/mt -I../../ta_common -I../../ta_abstract   -g -O2 -MT ta_regtest-test_po.o -MD -MP -MF .deps/ta_regtest-test_po.Tpo -c -o ta_regtest-test_po.o `test -f 'ta_test_func/test_po.c' || echo './'`ta_test_func/test_po.c\n",
            "mv -f .deps/ta_regtest-test_po.Tpo .deps/ta_regtest-test_po.Po\n",
            "gcc -DHAVE_CONFIG_H -I. -I../../../include  -I../../ta_func -I../../ta_common/trio -I../../ta_common/mt -I../../ta_common -I../../ta_abstract   -g -O2 -MT ta_regtest-test_per_hl.o -MD -MP -MF .deps/ta_regtest-test_per_hl.Tpo -c -o ta_regtest-test_per_hl.o `test -f 'ta_test_func/test_per_hl.c' || echo './'`ta_test_func/test_per_hl.c\n",
            "mv -f .deps/ta_regtest-test_per_hl.Tpo .deps/ta_regtest-test_per_hl.Po\n",
            "gcc -DHAVE_CONFIG_H -I. -I../../../include  -I../../ta_func -I../../ta_common/trio -I../../ta_common/mt -I../../ta_common -I../../ta_abstract   -g -O2 -MT ta_regtest-test_trange.o -MD -MP -MF .deps/ta_regtest-test_trange.Tpo -c -o ta_regtest-test_trange.o `test -f 'ta_test_func/test_trange.c' || echo './'`ta_test_func/test_trange.c\n",
            "mv -f .deps/ta_regtest-test_trange.Tpo .deps/ta_regtest-test_trange.Po\n",
            "gcc -DHAVE_CONFIG_H -I. -I../../../include  -I../../ta_func -I../../ta_common/trio -I../../ta_common/mt -I../../ta_common -I../../ta_abstract   -g -O2 -MT ta_regtest-test_internals.o -MD -MP -MF .deps/ta_regtest-test_internals.Tpo -c -o ta_regtest-test_internals.o `test -f 'test_internals.c' || echo './'`test_internals.c\n",
            "mv -f .deps/ta_regtest-test_internals.Tpo .deps/ta_regtest-test_internals.Po\n",
            "/bin/bash ../../../libtool --tag=CC   --mode=link gcc  -g -O2 -L../.. -lta_lib -lm  -o ta_regtest ta_regtest-ta_regtest.o ta_regtest-test_data.o ta_regtest-test_util.o ta_regtest-test_abstract.o ta_regtest-test_adx.o ta_regtest-test_mom.o ta_regtest-test_sar.o ta_regtest-test_rsi.o ta_regtest-test_candlestick.o ta_regtest-test_per_ema.o ta_regtest-test_per_hlc.o ta_regtest-test_stoch.o ta_regtest-test_macd.o ta_regtest-test_minmax.o ta_regtest-test_per_hlcv.o ta_regtest-test_1in_1out.o ta_regtest-test_1in_2out.o ta_regtest-test_per_ohlc.o ta_regtest-test_stddev.o ta_regtest-test_bbands.o ta_regtest-test_ma.o ta_regtest-test_po.o ta_regtest-test_per_hl.o ta_regtest-test_trange.o ta_regtest-test_internals.o  -lpthread -ldl \n",
            "mkdir .libs\n",
            "gcc -g -O2 -o .libs/ta_regtest ta_regtest-ta_regtest.o ta_regtest-test_data.o ta_regtest-test_util.o ta_regtest-test_abstract.o ta_regtest-test_adx.o ta_regtest-test_mom.o ta_regtest-test_sar.o ta_regtest-test_rsi.o ta_regtest-test_candlestick.o ta_regtest-test_per_ema.o ta_regtest-test_per_hlc.o ta_regtest-test_stoch.o ta_regtest-test_macd.o ta_regtest-test_minmax.o ta_regtest-test_per_hlcv.o ta_regtest-test_1in_1out.o ta_regtest-test_1in_2out.o ta_regtest-test_per_ohlc.o ta_regtest-test_stddev.o ta_regtest-test_bbands.o ta_regtest-test_ma.o ta_regtest-test_po.o ta_regtest-test_per_hl.o ta_regtest-test_trange.o ta_regtest-test_internals.o  -L/content/ta-lib/src /content/ta-lib/src/.libs/libta_lib.so -lm -lpthread -ldl\n",
            "creating ta_regtest\n",
            "make[2]: Leaving directory '/content/ta-lib/src/tools/ta_regtest'\n",
            "make[2]: Entering directory '/content/ta-lib/src/tools'\n",
            "make[2]: Nothing to be done for 'all-am'.\n",
            "make[2]: Leaving directory '/content/ta-lib/src/tools'\n",
            "make[1]: Leaving directory '/content/ta-lib/src/tools'\n",
            "make[1]: Entering directory '/content/ta-lib'\n",
            "make[1]: Nothing to be done for 'all-am'.\n",
            "make[1]: Leaving directory '/content/ta-lib'\n",
            "Making install in src\n",
            "make[1]: Entering directory '/content/ta-lib/src'\n",
            "Making install in ta_abstract\n",
            "make[2]: Entering directory '/content/ta-lib/src/ta_abstract'\n",
            "make[3]: Entering directory '/content/ta-lib/src/ta_abstract'\n",
            "make[3]: Nothing to be done for 'install-exec-am'.\n",
            "test -z \"/usr/include/ta-lib/\" || /usr/bin/mkdir -p \"/usr/include/ta-lib/\"\n",
            " /usr/bin/install -c -m 644 '../../include/ta_defs.h' '/usr/include/ta-lib//ta_defs.h'\n",
            " /usr/bin/install -c -m 644 '../../include/ta_libc.h' '/usr/include/ta-lib//ta_libc.h'\n",
            " /usr/bin/install -c -m 644 '../../include/ta_abstract.h' '/usr/include/ta-lib//ta_abstract.h'\n",
            "make[3]: Leaving directory '/content/ta-lib/src/ta_abstract'\n",
            "make[2]: Leaving directory '/content/ta-lib/src/ta_abstract'\n",
            "Making install in ta_common\n",
            "make[2]: Entering directory '/content/ta-lib/src/ta_common'\n",
            "make[3]: Entering directory '/content/ta-lib/src/ta_common'\n",
            "make[3]: Nothing to be done for 'install-exec-am'.\n",
            "test -z \"/usr/include/ta-lib/\" || /usr/bin/mkdir -p \"/usr/include/ta-lib/\"\n",
            " /usr/bin/install -c -m 644 '../../include/ta_defs.h' '/usr/include/ta-lib//ta_defs.h'\n",
            " /usr/bin/install -c -m 644 '../../include/ta_libc.h' '/usr/include/ta-lib//ta_libc.h'\n",
            " /usr/bin/install -c -m 644 '../../include/ta_common.h' '/usr/include/ta-lib//ta_common.h'\n",
            "make[3]: Leaving directory '/content/ta-lib/src/ta_common'\n",
            "make[2]: Leaving directory '/content/ta-lib/src/ta_common'\n",
            "Making install in ta_func\n",
            "make[2]: Entering directory '/content/ta-lib/src/ta_func'\n",
            "make[3]: Entering directory '/content/ta-lib/src/ta_func'\n",
            "make[3]: Nothing to be done for 'install-exec-am'.\n",
            "test -z \"/usr/include/ta-lib/\" || /usr/bin/mkdir -p \"/usr/include/ta-lib/\"\n",
            " /usr/bin/install -c -m 644 '../../include/ta_defs.h' '/usr/include/ta-lib//ta_defs.h'\n",
            " /usr/bin/install -c -m 644 '../../include/ta_libc.h' '/usr/include/ta-lib//ta_libc.h'\n",
            " /usr/bin/install -c -m 644 '../../include/ta_func.h' '/usr/include/ta-lib//ta_func.h'\n",
            "make[3]: Leaving directory '/content/ta-lib/src/ta_func'\n",
            "make[2]: Leaving directory '/content/ta-lib/src/ta_func'\n",
            "make[2]: Entering directory '/content/ta-lib/src'\n",
            "make[3]: Entering directory '/content/ta-lib/src'\n",
            "test -z \"/usr/lib\" || /usr/bin/mkdir -p \"/usr/lib\"\n",
            " /bin/bash ../libtool --mode=install /usr/bin/install -c  'libta_lib.la' '/usr/lib/libta_lib.la'\n",
            "/usr/bin/install -c .libs/libta_lib.so.0.0.0 /usr/lib/libta_lib.so.0.0.0\n",
            "(cd /usr/lib && { ln -s -f libta_lib.so.0.0.0 libta_lib.so.0 || { rm -f libta_lib.so.0 && ln -s libta_lib.so.0.0.0 libta_lib.so.0; }; })\n",
            "(cd /usr/lib && { ln -s -f libta_lib.so.0.0.0 libta_lib.so || { rm -f libta_lib.so && ln -s libta_lib.so.0.0.0 libta_lib.so; }; })\n",
            "/usr/bin/install -c .libs/libta_lib.lai /usr/lib/libta_lib.la\n",
            "/usr/bin/install -c .libs/libta_lib.a /usr/lib/libta_lib.a\n",
            "chmod 644 /usr/lib/libta_lib.a\n",
            "ranlib /usr/lib/libta_lib.a\n",
            "PATH=\"$PATH:/sbin\" ldconfig -n /usr/lib\n",
            "----------------------------------------------------------------------\n",
            "Libraries have been installed in:\n",
            "   /usr/lib\n",
            "\n",
            "If you ever happen to want to link against installed libraries\n",
            "in a given directory, LIBDIR, you must either use libtool, and\n",
            "specify the full pathname of the library, or use the `-LLIBDIR'\n",
            "flag during linking and do at least one of the following:\n",
            "   - add LIBDIR to the `LD_LIBRARY_PATH' environment variable\n",
            "     during execution\n",
            "   - add LIBDIR to the `LD_RUN_PATH' environment variable\n",
            "     during linking\n",
            "   - use the `-Wl,--rpath -Wl,LIBDIR' linker flag\n",
            "   - have your system administrator add LIBDIR to `/etc/ld.so.conf'\n",
            "\n",
            "See any operating system documentation about shared libraries for\n",
            "more information, such as the ld(1) and ld.so(8) manual pages.\n",
            "----------------------------------------------------------------------\n",
            "make[3]: Nothing to be done for 'install-data-am'.\n",
            "make[3]: Leaving directory '/content/ta-lib/src'\n",
            "make[2]: Leaving directory '/content/ta-lib/src'\n",
            "make[1]: Leaving directory '/content/ta-lib/src'\n",
            "Making install in src/tools\n",
            "make[1]: Entering directory '/content/ta-lib/src/tools'\n",
            "Making install in gen_code\n",
            "make[2]: Entering directory '/content/ta-lib/src/tools/gen_code'\n",
            "make  gen_code\n",
            "make[3]: Entering directory '/content/ta-lib/src/tools/gen_code'\n",
            "make[3]: 'gen_code' is up to date.\n",
            "make[3]: Leaving directory '/content/ta-lib/src/tools/gen_code'\n",
            "cp gen_code ../../../bin\n",
            "make[3]: Entering directory '/content/ta-lib/src/tools/gen_code'\n",
            "make[3]: Nothing to be done for 'install-exec-am'.\n",
            "make[3]: Nothing to be done for 'install-data-am'.\n",
            "make[3]: Leaving directory '/content/ta-lib/src/tools/gen_code'\n",
            "make[2]: Leaving directory '/content/ta-lib/src/tools/gen_code'\n",
            "Making install in ta_regtest\n",
            "make[2]: Entering directory '/content/ta-lib/src/tools/ta_regtest'\n",
            "make[3]: Entering directory '/content/ta-lib/src/tools/ta_regtest'\n",
            "make[3]: Nothing to be done for 'install-exec-am'.\n",
            "make[3]: Nothing to be done for 'install-data-am'.\n",
            "make[3]: Leaving directory '/content/ta-lib/src/tools/ta_regtest'\n",
            "make[2]: Leaving directory '/content/ta-lib/src/tools/ta_regtest'\n",
            "make[2]: Entering directory '/content/ta-lib/src/tools'\n",
            "make[3]: Entering directory '/content/ta-lib/src/tools'\n",
            "make[3]: Nothing to be done for 'install-exec-am'.\n",
            "make[3]: Nothing to be done for 'install-data-am'.\n",
            "make[3]: Leaving directory '/content/ta-lib/src/tools'\n",
            "make[2]: Leaving directory '/content/ta-lib/src/tools'\n",
            "make[1]: Leaving directory '/content/ta-lib/src/tools'\n",
            "make[1]: Entering directory '/content/ta-lib'\n",
            "make[2]: Entering directory '/content/ta-lib'\n",
            "test -z \"/usr/bin\" || /usr/bin/mkdir -p \"/usr/bin\"\n",
            " /usr/bin/install -c 'ta-lib-config' '/usr/bin/ta-lib-config'\n",
            "make[2]: Nothing to be done for 'install-data-am'.\n",
            "make[2]: Leaving directory '/content/ta-lib'\n",
            "make[1]: Leaving directory '/content/ta-lib'\n",
            "Collecting TA-Lib\n",
            "  Downloading TA-Lib-0.4.31.tar.gz (368 kB)\n",
            "\u001b[2K     \u001b[90m━━━━━━━━━━━━━━━━━━━━━━━━━━━━━━━━━━━━━━━━\u001b[0m \u001b[32m368.5/368.5 kB\u001b[0m \u001b[31m6.6 MB/s\u001b[0m eta \u001b[36m0:00:00\u001b[0m\n",
            "\u001b[?25h  Installing build dependencies ... \u001b[?25l\u001b[?25hdone\n",
            "  Getting requirements to build wheel ... \u001b[?25l\u001b[?25hdone\n",
            "  Preparing metadata (pyproject.toml) ... \u001b[?25l\u001b[?25hdone\n",
            "Requirement already satisfied: numpy in /usr/local/lib/python3.10/dist-packages (from TA-Lib) (1.25.2)\n",
            "Building wheels for collected packages: TA-Lib\n",
            "  Building wheel for TA-Lib (pyproject.toml) ... \u001b[?25l\u001b[?25hdone\n",
            "  Created wheel for TA-Lib: filename=TA_Lib-0.4.31-cp310-cp310-linux_x86_64.whl size=2063334 sha256=a614044c71c96119d8c2b4890c27f90e815f98814e2bbf5599b98b6b0236ce5d\n",
            "  Stored in directory: /root/.cache/pip/wheels/a4/dc/b0/8860882f03d5b3498c7f640840c037569ed2285a30ff3a48e9\n",
            "Successfully built TA-Lib\n",
            "Installing collected packages: TA-Lib\n",
            "Successfully installed TA-Lib-0.4.31\n"
          ]
        }
      ]
    },
    {
      "cell_type": "code",
      "execution_count": 4,
      "metadata": {
        "id": "umYr0SdkJoXA"
      },
      "outputs": [],
      "source": [
        "import torch\n",
        "import torch.nn as nn\n",
        "import torch.nn.functional as F\n",
        "import torch.optim as optim\n",
        "from torch.utils.data import Dataset, DataLoader\n",
        "\n",
        "import numpy as np\n",
        "import pandas as pd\n",
        "import matplotlib.pyplot as plt\n",
        "import seaborn as sns\n",
        "from tqdm import tqdm\n",
        "import talib as ta\n",
        "import math\n",
        "\n",
        "import warnings\n",
        "warnings.filterwarnings('ignore')"
      ]
    },
    {
      "cell_type": "markdown",
      "source": [
        "Preprocessing data"
      ],
      "metadata": {
        "id": "SOucqcwdM1qF"
      }
    },
    {
      "cell_type": "code",
      "source": [
        "class TechnicalIndicators:\n",
        "    def __init__(self, data):\n",
        "        self.data = data\n",
        "\n",
        "    def add_momentum_indicators(self):\n",
        "        self.data['RSI'] = ta.RSI(self.data['Close'], timeperiod=14)\n",
        "\n",
        "    def add_volume_indicators(self):\n",
        "        self.data['OBV'] = ta.OBV(self.data['Close'], self.data['Volume'])\n",
        "\n",
        "    def add_volatility_indicators(self):\n",
        "        self.data['Upper_BB'], self.data['Middle_BB'], self.data['Lower_BB'] = ta.BBANDS(self.data['Close'], timeperiod=20)\n",
        "\n",
        "    def add_trend_indicators(self):\n",
        "        self.data['ADX'] = ta.ADX(self.data['High'], self.data['Low'], self.data['Close'], timeperiod=14)\n",
        "\n",
        "    def add_other_indicators(self):\n",
        "        self.data['DLR'] = np.log(self.data['Close'] / self.data['Close'].shift(1))\n",
        "\n",
        "    def add_all_indicators(self):\n",
        "        self.add_momentum_indicators()\n",
        "        self.add_volume_indicators()\n",
        "        self.add_volatility_indicators()\n",
        "        self.add_trend_indicators()\n",
        "        self.add_other_indicators()\n",
        "        return self.data"
      ],
      "metadata": {
        "id": "Rp3Q9q3abFOi"
      },
      "execution_count": 2,
      "outputs": []
    },
    {
      "cell_type": "markdown",
      "source": [
        "Data Loading/Preprocessing"
      ],
      "metadata": {
        "id": "TGiS5DfAh3Tb"
      }
    },
    {
      "cell_type": "code",
      "source": [
        "data = pd.read_csv('/content/xnas-itch-20230703.tbbo.csv')\n",
        "\n",
        "# Preprocessing to create necessary columns\n",
        "data['price']=data['price']/1e9\n",
        "data['bid_px_00']=data['bid_px_00']/1e9\n",
        "data['ask_px_00']=data['ask_px_00']/1e9\n",
        "\n",
        "data['Close'] = data['price']\n",
        "data['Volume'] = data['size']\n",
        "data['High'] = data[['bid_px_00', 'ask_px_00']].max(axis=1)\n",
        "data['Low'] = data[['bid_px_00', 'ask_px_00']].min(axis=1)\n",
        "data['Open'] = data['Close'].shift(1).fillna(data['Close'])\n",
        "\n",
        "data['ts_recv']= pd.to_datetime(data['ts_recv'], unit='ns')\n",
        "\n",
        "ti = TechnicalIndicators(data)\n",
        "df_with_indicators = ti.add_all_indicators()\n",
        "df_with_indicators= df_with_indicators[35:]"
      ],
      "metadata": {
        "id": "ny_lYVUtK0Q4"
      },
      "execution_count": 6,
      "outputs": []
    },
    {
      "cell_type": "code",
      "source": [
        "df= df_with_indicators[[\"ts_recv\", \"price\", \"Close\", \"Volume\", \"High\", \"Low\", 'RSI', 'OBV', 'Upper_BB', 'ADX', 'DLR']]\n",
        "df.rename(columns={'ts_recv': 'timestamp'}, inplace=True)\n",
        "df.set_index(\"timestamp\", inplace=True)"
      ],
      "metadata": {
        "id": "hPs1AeSPLCYu"
      },
      "execution_count": 7,
      "outputs": []
    },
    {
      "cell_type": "code",
      "source": [
        "resampled_df = df.resample('S').mean()\n",
        "resampled_df.fillna(method='ffill', inplace=True)\n",
        "resampled_df['target'] = resampled_df['Close'].shift(-60)\n",
        "resampled_df['direction'] = resampled_df.apply(lambda row: 1 if (row['target'] - row['Close']) > 0 else -1, axis=1)\n",
        "resampled_df.dropna(inplace=True)\n"
      ],
      "metadata": {
        "id": "1qHowerhLEnO"
      },
      "execution_count": 8,
      "outputs": []
    },
    {
      "cell_type": "code",
      "source": [
        "TARGET_MEAN= resampled_df['target'].mean()\n",
        "TARGET_STD= resampled_df['target'].std()"
      ],
      "metadata": {
        "id": "15yHT7e5fgq8"
      },
      "execution_count": 9,
      "outputs": []
    },
    {
      "cell_type": "code",
      "source": [
        "\"\"\"\n",
        "Normalizing data (doesn't give good results)\n",
        "\"\"\"\n",
        "# for column in resampled_df.columns:\n",
        "#     if column != 'direction':\n",
        "#         resampled_df[column] = (resampled_df[column] - resampled_df[column].mean()) / resampled_df[column].std()"
      ],
      "metadata": {
        "id": "b9eDYXAsfZ9c"
      },
      "execution_count": 163,
      "outputs": []
    },
    {
      "cell_type": "code",
      "source": [
        "resampled_df.head()"
      ],
      "metadata": {
        "colab": {
          "base_uri": "https://localhost:8080/",
          "height": 237
        },
        "id": "607AXNR9gANl",
        "outputId": "4d740065-c8bf-42a7-aa79-48761f17bcba"
      },
      "execution_count": 10,
      "outputs": [
        {
          "output_type": "execute_result",
          "data": {
            "text/plain": [
              "                      price   Close  Volume    High    Low        RSI    OBV  \\\n",
              "timestamp                                                                      \n",
              "2023-07-03 08:00:14  194.05  194.05    50.0  194.30  194.0  54.544543 -266.0   \n",
              "2023-07-03 08:00:15  194.21  194.21    10.0  194.21  194.0  85.890753 -256.0   \n",
              "2023-07-03 08:00:16  194.21  194.21    10.0  194.21  194.0  85.890753 -256.0   \n",
              "2023-07-03 08:00:17  194.21  194.21    10.0  194.21  194.0  85.890753 -256.0   \n",
              "2023-07-03 08:00:18  194.21  194.21    10.0  194.21  194.0  85.890753 -256.0   \n",
              "\n",
              "                       Upper_BB        ADX       DLR      target  direction  \n",
              "timestamp                                                                    \n",
              "2023-07-03 08:00:14  194.067305  97.309559  0.000000  194.268333          1  \n",
              "2023-07-03 08:00:15  194.125889  97.458593  0.000824  194.280000          1  \n",
              "2023-07-03 08:00:16  194.125889  97.458593  0.000824  194.280000          1  \n",
              "2023-07-03 08:00:17  194.125889  97.458593  0.000824  194.280000          1  \n",
              "2023-07-03 08:00:18  194.125889  97.458593  0.000824  194.280000          1  "
            ],
            "text/html": [
              "\n",
              "  <div id=\"df-ebe4c3e6-8b2a-4eea-b11f-646b1628272e\" class=\"colab-df-container\">\n",
              "    <div>\n",
              "<style scoped>\n",
              "    .dataframe tbody tr th:only-of-type {\n",
              "        vertical-align: middle;\n",
              "    }\n",
              "\n",
              "    .dataframe tbody tr th {\n",
              "        vertical-align: top;\n",
              "    }\n",
              "\n",
              "    .dataframe thead th {\n",
              "        text-align: right;\n",
              "    }\n",
              "</style>\n",
              "<table border=\"1\" class=\"dataframe\">\n",
              "  <thead>\n",
              "    <tr style=\"text-align: right;\">\n",
              "      <th></th>\n",
              "      <th>price</th>\n",
              "      <th>Close</th>\n",
              "      <th>Volume</th>\n",
              "      <th>High</th>\n",
              "      <th>Low</th>\n",
              "      <th>RSI</th>\n",
              "      <th>OBV</th>\n",
              "      <th>Upper_BB</th>\n",
              "      <th>ADX</th>\n",
              "      <th>DLR</th>\n",
              "      <th>target</th>\n",
              "      <th>direction</th>\n",
              "    </tr>\n",
              "    <tr>\n",
              "      <th>timestamp</th>\n",
              "      <th></th>\n",
              "      <th></th>\n",
              "      <th></th>\n",
              "      <th></th>\n",
              "      <th></th>\n",
              "      <th></th>\n",
              "      <th></th>\n",
              "      <th></th>\n",
              "      <th></th>\n",
              "      <th></th>\n",
              "      <th></th>\n",
              "      <th></th>\n",
              "    </tr>\n",
              "  </thead>\n",
              "  <tbody>\n",
              "    <tr>\n",
              "      <th>2023-07-03 08:00:14</th>\n",
              "      <td>194.05</td>\n",
              "      <td>194.05</td>\n",
              "      <td>50.0</td>\n",
              "      <td>194.30</td>\n",
              "      <td>194.0</td>\n",
              "      <td>54.544543</td>\n",
              "      <td>-266.0</td>\n",
              "      <td>194.067305</td>\n",
              "      <td>97.309559</td>\n",
              "      <td>0.000000</td>\n",
              "      <td>194.268333</td>\n",
              "      <td>1</td>\n",
              "    </tr>\n",
              "    <tr>\n",
              "      <th>2023-07-03 08:00:15</th>\n",
              "      <td>194.21</td>\n",
              "      <td>194.21</td>\n",
              "      <td>10.0</td>\n",
              "      <td>194.21</td>\n",
              "      <td>194.0</td>\n",
              "      <td>85.890753</td>\n",
              "      <td>-256.0</td>\n",
              "      <td>194.125889</td>\n",
              "      <td>97.458593</td>\n",
              "      <td>0.000824</td>\n",
              "      <td>194.280000</td>\n",
              "      <td>1</td>\n",
              "    </tr>\n",
              "    <tr>\n",
              "      <th>2023-07-03 08:00:16</th>\n",
              "      <td>194.21</td>\n",
              "      <td>194.21</td>\n",
              "      <td>10.0</td>\n",
              "      <td>194.21</td>\n",
              "      <td>194.0</td>\n",
              "      <td>85.890753</td>\n",
              "      <td>-256.0</td>\n",
              "      <td>194.125889</td>\n",
              "      <td>97.458593</td>\n",
              "      <td>0.000824</td>\n",
              "      <td>194.280000</td>\n",
              "      <td>1</td>\n",
              "    </tr>\n",
              "    <tr>\n",
              "      <th>2023-07-03 08:00:17</th>\n",
              "      <td>194.21</td>\n",
              "      <td>194.21</td>\n",
              "      <td>10.0</td>\n",
              "      <td>194.21</td>\n",
              "      <td>194.0</td>\n",
              "      <td>85.890753</td>\n",
              "      <td>-256.0</td>\n",
              "      <td>194.125889</td>\n",
              "      <td>97.458593</td>\n",
              "      <td>0.000824</td>\n",
              "      <td>194.280000</td>\n",
              "      <td>1</td>\n",
              "    </tr>\n",
              "    <tr>\n",
              "      <th>2023-07-03 08:00:18</th>\n",
              "      <td>194.21</td>\n",
              "      <td>194.21</td>\n",
              "      <td>10.0</td>\n",
              "      <td>194.21</td>\n",
              "      <td>194.0</td>\n",
              "      <td>85.890753</td>\n",
              "      <td>-256.0</td>\n",
              "      <td>194.125889</td>\n",
              "      <td>97.458593</td>\n",
              "      <td>0.000824</td>\n",
              "      <td>194.280000</td>\n",
              "      <td>1</td>\n",
              "    </tr>\n",
              "  </tbody>\n",
              "</table>\n",
              "</div>\n",
              "    <div class=\"colab-df-buttons\">\n",
              "\n",
              "  <div class=\"colab-df-container\">\n",
              "    <button class=\"colab-df-convert\" onclick=\"convertToInteractive('df-ebe4c3e6-8b2a-4eea-b11f-646b1628272e')\"\n",
              "            title=\"Convert this dataframe to an interactive table.\"\n",
              "            style=\"display:none;\">\n",
              "\n",
              "  <svg xmlns=\"http://www.w3.org/2000/svg\" height=\"24px\" viewBox=\"0 -960 960 960\">\n",
              "    <path d=\"M120-120v-720h720v720H120Zm60-500h600v-160H180v160Zm220 220h160v-160H400v160Zm0 220h160v-160H400v160ZM180-400h160v-160H180v160Zm440 0h160v-160H620v160ZM180-180h160v-160H180v160Zm440 0h160v-160H620v160Z\"/>\n",
              "  </svg>\n",
              "    </button>\n",
              "\n",
              "  <style>\n",
              "    .colab-df-container {\n",
              "      display:flex;\n",
              "      gap: 12px;\n",
              "    }\n",
              "\n",
              "    .colab-df-convert {\n",
              "      background-color: #E8F0FE;\n",
              "      border: none;\n",
              "      border-radius: 50%;\n",
              "      cursor: pointer;\n",
              "      display: none;\n",
              "      fill: #1967D2;\n",
              "      height: 32px;\n",
              "      padding: 0 0 0 0;\n",
              "      width: 32px;\n",
              "    }\n",
              "\n",
              "    .colab-df-convert:hover {\n",
              "      background-color: #E2EBFA;\n",
              "      box-shadow: 0px 1px 2px rgba(60, 64, 67, 0.3), 0px 1px 3px 1px rgba(60, 64, 67, 0.15);\n",
              "      fill: #174EA6;\n",
              "    }\n",
              "\n",
              "    .colab-df-buttons div {\n",
              "      margin-bottom: 4px;\n",
              "    }\n",
              "\n",
              "    [theme=dark] .colab-df-convert {\n",
              "      background-color: #3B4455;\n",
              "      fill: #D2E3FC;\n",
              "    }\n",
              "\n",
              "    [theme=dark] .colab-df-convert:hover {\n",
              "      background-color: #434B5C;\n",
              "      box-shadow: 0px 1px 3px 1px rgba(0, 0, 0, 0.15);\n",
              "      filter: drop-shadow(0px 1px 2px rgba(0, 0, 0, 0.3));\n",
              "      fill: #FFFFFF;\n",
              "    }\n",
              "  </style>\n",
              "\n",
              "    <script>\n",
              "      const buttonEl =\n",
              "        document.querySelector('#df-ebe4c3e6-8b2a-4eea-b11f-646b1628272e button.colab-df-convert');\n",
              "      buttonEl.style.display =\n",
              "        google.colab.kernel.accessAllowed ? 'block' : 'none';\n",
              "\n",
              "      async function convertToInteractive(key) {\n",
              "        const element = document.querySelector('#df-ebe4c3e6-8b2a-4eea-b11f-646b1628272e');\n",
              "        const dataTable =\n",
              "          await google.colab.kernel.invokeFunction('convertToInteractive',\n",
              "                                                    [key], {});\n",
              "        if (!dataTable) return;\n",
              "\n",
              "        const docLinkHtml = 'Like what you see? Visit the ' +\n",
              "          '<a target=\"_blank\" href=https://colab.research.google.com/notebooks/data_table.ipynb>data table notebook</a>'\n",
              "          + ' to learn more about interactive tables.';\n",
              "        element.innerHTML = '';\n",
              "        dataTable['output_type'] = 'display_data';\n",
              "        await google.colab.output.renderOutput(dataTable, element);\n",
              "        const docLink = document.createElement('div');\n",
              "        docLink.innerHTML = docLinkHtml;\n",
              "        element.appendChild(docLink);\n",
              "      }\n",
              "    </script>\n",
              "  </div>\n",
              "\n",
              "\n",
              "<div id=\"df-de05211e-fdf0-4d26-8931-f8cdefaf3d6d\">\n",
              "  <button class=\"colab-df-quickchart\" onclick=\"quickchart('df-de05211e-fdf0-4d26-8931-f8cdefaf3d6d')\"\n",
              "            title=\"Suggest charts\"\n",
              "            style=\"display:none;\">\n",
              "\n",
              "<svg xmlns=\"http://www.w3.org/2000/svg\" height=\"24px\"viewBox=\"0 0 24 24\"\n",
              "     width=\"24px\">\n",
              "    <g>\n",
              "        <path d=\"M19 3H5c-1.1 0-2 .9-2 2v14c0 1.1.9 2 2 2h14c1.1 0 2-.9 2-2V5c0-1.1-.9-2-2-2zM9 17H7v-7h2v7zm4 0h-2V7h2v10zm4 0h-2v-4h2v4z\"/>\n",
              "    </g>\n",
              "</svg>\n",
              "  </button>\n",
              "\n",
              "<style>\n",
              "  .colab-df-quickchart {\n",
              "      --bg-color: #E8F0FE;\n",
              "      --fill-color: #1967D2;\n",
              "      --hover-bg-color: #E2EBFA;\n",
              "      --hover-fill-color: #174EA6;\n",
              "      --disabled-fill-color: #AAA;\n",
              "      --disabled-bg-color: #DDD;\n",
              "  }\n",
              "\n",
              "  [theme=dark] .colab-df-quickchart {\n",
              "      --bg-color: #3B4455;\n",
              "      --fill-color: #D2E3FC;\n",
              "      --hover-bg-color: #434B5C;\n",
              "      --hover-fill-color: #FFFFFF;\n",
              "      --disabled-bg-color: #3B4455;\n",
              "      --disabled-fill-color: #666;\n",
              "  }\n",
              "\n",
              "  .colab-df-quickchart {\n",
              "    background-color: var(--bg-color);\n",
              "    border: none;\n",
              "    border-radius: 50%;\n",
              "    cursor: pointer;\n",
              "    display: none;\n",
              "    fill: var(--fill-color);\n",
              "    height: 32px;\n",
              "    padding: 0;\n",
              "    width: 32px;\n",
              "  }\n",
              "\n",
              "  .colab-df-quickchart:hover {\n",
              "    background-color: var(--hover-bg-color);\n",
              "    box-shadow: 0 1px 2px rgba(60, 64, 67, 0.3), 0 1px 3px 1px rgba(60, 64, 67, 0.15);\n",
              "    fill: var(--button-hover-fill-color);\n",
              "  }\n",
              "\n",
              "  .colab-df-quickchart-complete:disabled,\n",
              "  .colab-df-quickchart-complete:disabled:hover {\n",
              "    background-color: var(--disabled-bg-color);\n",
              "    fill: var(--disabled-fill-color);\n",
              "    box-shadow: none;\n",
              "  }\n",
              "\n",
              "  .colab-df-spinner {\n",
              "    border: 2px solid var(--fill-color);\n",
              "    border-color: transparent;\n",
              "    border-bottom-color: var(--fill-color);\n",
              "    animation:\n",
              "      spin 1s steps(1) infinite;\n",
              "  }\n",
              "\n",
              "  @keyframes spin {\n",
              "    0% {\n",
              "      border-color: transparent;\n",
              "      border-bottom-color: var(--fill-color);\n",
              "      border-left-color: var(--fill-color);\n",
              "    }\n",
              "    20% {\n",
              "      border-color: transparent;\n",
              "      border-left-color: var(--fill-color);\n",
              "      border-top-color: var(--fill-color);\n",
              "    }\n",
              "    30% {\n",
              "      border-color: transparent;\n",
              "      border-left-color: var(--fill-color);\n",
              "      border-top-color: var(--fill-color);\n",
              "      border-right-color: var(--fill-color);\n",
              "    }\n",
              "    40% {\n",
              "      border-color: transparent;\n",
              "      border-right-color: var(--fill-color);\n",
              "      border-top-color: var(--fill-color);\n",
              "    }\n",
              "    60% {\n",
              "      border-color: transparent;\n",
              "      border-right-color: var(--fill-color);\n",
              "    }\n",
              "    80% {\n",
              "      border-color: transparent;\n",
              "      border-right-color: var(--fill-color);\n",
              "      border-bottom-color: var(--fill-color);\n",
              "    }\n",
              "    90% {\n",
              "      border-color: transparent;\n",
              "      border-bottom-color: var(--fill-color);\n",
              "    }\n",
              "  }\n",
              "</style>\n",
              "\n",
              "  <script>\n",
              "    async function quickchart(key) {\n",
              "      const quickchartButtonEl =\n",
              "        document.querySelector('#' + key + ' button');\n",
              "      quickchartButtonEl.disabled = true;  // To prevent multiple clicks.\n",
              "      quickchartButtonEl.classList.add('colab-df-spinner');\n",
              "      try {\n",
              "        const charts = await google.colab.kernel.invokeFunction(\n",
              "            'suggestCharts', [key], {});\n",
              "      } catch (error) {\n",
              "        console.error('Error during call to suggestCharts:', error);\n",
              "      }\n",
              "      quickchartButtonEl.classList.remove('colab-df-spinner');\n",
              "      quickchartButtonEl.classList.add('colab-df-quickchart-complete');\n",
              "    }\n",
              "    (() => {\n",
              "      let quickchartButtonEl =\n",
              "        document.querySelector('#df-de05211e-fdf0-4d26-8931-f8cdefaf3d6d button');\n",
              "      quickchartButtonEl.style.display =\n",
              "        google.colab.kernel.accessAllowed ? 'block' : 'none';\n",
              "    })();\n",
              "  </script>\n",
              "</div>\n",
              "\n",
              "    </div>\n",
              "  </div>\n"
            ],
            "application/vnd.google.colaboratory.intrinsic+json": {
              "type": "dataframe",
              "variable_name": "resampled_df",
              "summary": "{\n  \"name\": \"resampled_df\",\n  \"rows\": 46725,\n  \"fields\": [\n    {\n      \"column\": \"timestamp\",\n      \"properties\": {\n        \"dtype\": \"date\",\n        \"min\": \"2023-07-03 08:00:14\",\n        \"max\": \"2023-07-03 20:58:58\",\n        \"num_unique_values\": 46725,\n        \"samples\": [\n          \"2023-07-03 19:59:57\",\n          \"2023-07-03 08:41:48\",\n          \"2023-07-03 10:21:34\"\n        ],\n        \"semantic_type\": \"\",\n        \"description\": \"\"\n      }\n    },\n    {\n      \"column\": \"price\",\n      \"properties\": {\n        \"dtype\": \"number\",\n        \"std\": 0.6248834734948194,\n        \"min\": 191.775,\n        \"max\": 194.28,\n        \"num_unique_values\": 3226,\n        \"samples\": [\n          193.02545454545455,\n          193.87,\n          193.00115384615384\n        ],\n        \"semantic_type\": \"\",\n        \"description\": \"\"\n      }\n    },\n    {\n      \"column\": \"Close\",\n      \"properties\": {\n        \"dtype\": \"number\",\n        \"std\": 0.6248834734948194,\n        \"min\": 191.775,\n        \"max\": 194.28,\n        \"num_unique_values\": 3226,\n        \"samples\": [\n          193.02545454545455,\n          193.87,\n          193.00115384615384\n        ],\n        \"semantic_type\": \"\",\n        \"description\": \"\"\n      }\n    },\n    {\n      \"column\": \"Volume\",\n      \"properties\": {\n        \"dtype\": \"number\",\n        \"std\": 4762.300136212342,\n        \"min\": 1.0,\n        \"max\": 198185.91666666666,\n        \"num_unique_values\": 3134,\n        \"samples\": [\n          42.3,\n          45.4,\n          56.875\n        ],\n        \"semantic_type\": \"\",\n        \"description\": \"\"\n      }\n    },\n    {\n      \"column\": \"High\",\n      \"properties\": {\n        \"dtype\": \"number\",\n        \"std\": 0.6291976303634492,\n        \"min\": 191.77875,\n        \"max\": 194.3,\n        \"num_unique_values\": 2932,\n        \"samples\": [\n          192.9745,\n          192.45083333333332,\n          192.38899999999998\n        ],\n        \"semantic_type\": \"\",\n        \"description\": \"\"\n      }\n    },\n    {\n      \"column\": \"Low\",\n      \"properties\": {\n        \"dtype\": \"number\",\n        \"std\": 0.6228676185228046,\n        \"min\": 191.76875,\n        \"max\": 194.22,\n        \"num_unique_values\": 2949,\n        \"samples\": [\n          193.195,\n          193.35750000000002,\n          192.330625\n        ],\n        \"semantic_type\": \"\",\n        \"description\": \"\"\n      }\n    },\n    {\n      \"column\": \"RSI\",\n      \"properties\": {\n        \"dtype\": \"number\",\n        \"std\": 16.38940701515286,\n        \"min\": 0.0035816535501313,\n        \"max\": 99.99569567525975,\n        \"num_unique_values\": 8356,\n        \"samples\": [\n          29.487052732816238,\n          36.150820886175026,\n          13.082492131114455\n        ],\n        \"semantic_type\": \"\",\n        \"description\": \"\"\n      }\n    },\n    {\n      \"column\": \"OBV\",\n      \"properties\": {\n        \"dtype\": \"number\",\n        \"std\": 452638.83095820853,\n        \"min\": -9762.0,\n        \"max\": 918539.0,\n        \"num_unique_values\": 7206,\n        \"samples\": [\n          890259.0,\n          878687.0,\n          916596.0\n        ],\n        \"semantic_type\": \"\",\n        \"description\": \"\"\n      }\n    },\n    {\n      \"column\": \"Upper_BB\",\n      \"properties\": {\n        \"dtype\": \"number\",\n        \"std\": 0.6313435510257065,\n        \"min\": 191.78116043991295,\n        \"max\": 194.32925670112584,\n        \"num_unique_values\": 9072,\n        \"samples\": [\n          193.62123591883525,\n          192.30089125030676,\n          192.22360052249684\n        ],\n        \"semantic_type\": \"\",\n        \"description\": \"\"\n      }\n    },\n    {\n      \"column\": \"ADX\",\n      \"properties\": {\n        \"dtype\": \"number\",\n        \"std\": 14.815328782675111,\n        \"min\": 3.380102511147665,\n        \"max\": 99.96989191527702,\n        \"num_unique_values\": 9349,\n        \"samples\": [\n          32.60577456971613,\n          25.661261257393498,\n          83.27207206087834\n        ],\n        \"semantic_type\": \"\",\n        \"description\": \"\"\n      }\n    },\n    {\n      \"column\": \"DLR\",\n      \"properties\": {\n        \"dtype\": \"number\",\n        \"std\": 8.75933211910938e-05,\n        \"min\": -0.0007807011092132429,\n        \"max\": 0.0012390935552020342,\n        \"num_unique_values\": 5772,\n        \"samples\": [\n          5.815305989974368e-05,\n          1.036349975619202e-05,\n          -5.574042800328792e-06\n        ],\n        \"semantic_type\": \"\",\n        \"description\": \"\"\n      }\n    },\n    {\n      \"column\": \"target\",\n      \"properties\": {\n        \"dtype\": \"number\",\n        \"std\": 0.6236777688083402,\n        \"min\": 191.775,\n        \"max\": 194.28,\n        \"num_unique_values\": 3223,\n        \"samples\": [\n          193.3183333333333,\n          193.35857142857142,\n          193.28875\n        ],\n        \"semantic_type\": \"\",\n        \"description\": \"\"\n      }\n    },\n    {\n      \"column\": \"direction\",\n      \"properties\": {\n        \"dtype\": \"number\",\n        \"std\": 0,\n        \"min\": -1,\n        \"max\": 1,\n        \"num_unique_values\": 2,\n        \"samples\": [\n          -1,\n          1\n        ],\n        \"semantic_type\": \"\",\n        \"description\": \"\"\n      }\n    }\n  ]\n}"
            }
          },
          "metadata": {},
          "execution_count": 10
        }
      ]
    },
    {
      "cell_type": "markdown",
      "source": [
        "Creating custom dataset loader for model"
      ],
      "metadata": {
        "id": "98igiNAWwE56"
      }
    },
    {
      "cell_type": "code",
      "source": [
        "\"\"\"\n",
        "Data parameters\n",
        "\"\"\"\n",
        "input_seq_length = 120\n",
        "target_seq_length = 60\n",
        "batch_size = 32"
      ],
      "metadata": {
        "id": "KGYWU_Kb2TeH"
      },
      "execution_count": 11,
      "outputs": []
    },
    {
      "cell_type": "code",
      "source": [
        "class CustomDataset(Dataset):\n",
        "    def __init__(self, dataframe, seq_length=120, pred_length=60):\n",
        "        self.dataframe = dataframe\n",
        "        self.seq_length = seq_length\n",
        "        self.pred_length = pred_length\n",
        "\n",
        "        # Extract input features and target\n",
        "        self.features = dataframe[[\"price\", \"Close\", \"Volume\", \"High\", \"Low\", 'RSI', 'OBV', 'Upper_BB', 'ADX', 'DLR', 'direction']].values\n",
        "        self.targets = dataframe[[\"target\"]].values\n",
        "\n",
        "        # Length of dataset\n",
        "        self.data_len = len(self.dataframe) - self.seq_length - self.pred_length\n",
        "\n",
        "    def __len__(self):\n",
        "        return self.data_len\n",
        "\n",
        "    def __getitem__(self, index):\n",
        "        # Get a sequence of data points (inputs) and its target (label)\n",
        "        X = self.features[index:index+self.seq_length]\n",
        "        y = self.targets[index+self.seq_length+self.pred_length]\n",
        "\n",
        "        return torch.tensor(X, dtype=torch.float32), torch.tensor(y, dtype=torch.float32)\n"
      ],
      "metadata": {
        "id": "oYZeRNr3vL3V"
      },
      "execution_count": 12,
      "outputs": []
    },
    {
      "cell_type": "code",
      "source": [
        "#test train split\n",
        "train_size = int(0.85 * len(resampled_df))\n",
        "train_df = resampled_df[:train_size]\n",
        "test_df = resampled_df[train_size:]"
      ],
      "metadata": {
        "id": "zjGLr5HH1xCU"
      },
      "execution_count": 13,
      "outputs": []
    },
    {
      "cell_type": "code",
      "source": [
        "train_dataset = CustomDataset(train_df, input_seq_length, target_seq_length)\n",
        "test_dataset = CustomDataset(test_df, input_seq_length, target_seq_length)"
      ],
      "metadata": {
        "id": "efwq1EunxLpn"
      },
      "execution_count": 14,
      "outputs": []
    },
    {
      "cell_type": "code",
      "source": [
        "train_dataloader = DataLoader(train_dataset, batch_size=batch_size, shuffle=True)\n",
        "test_dataloader = DataLoader(test_dataset, batch_size=batch_size, shuffle=True)"
      ],
      "metadata": {
        "id": "0rB8mlw_yu9q"
      },
      "execution_count": 15,
      "outputs": []
    },
    {
      "cell_type": "markdown",
      "source": [
        "Model"
      ],
      "metadata": {
        "id": "UzF97DIMmAP1"
      }
    },
    {
      "cell_type": "code",
      "source": [
        "class TransformerEncoderLayer(nn.Module):\n",
        "    def __init__(self, input_dim, head_size, num_heads, ff_dim, dropout=0.0):\n",
        "        super(TransformerEncoderLayer, self).__init__()\n",
        "        self.layernorm = nn.LayerNorm(input_dim*num_heads, eps=1e-6)\n",
        "        self.multihead_attn = nn.MultiheadAttention(embed_dim=input_dim*num_heads, num_heads=num_heads, dropout=dropout)\n",
        "        self.dropout = nn.Dropout(dropout)\n",
        "        self.fc1 = nn.Linear(input_dim*num_heads, ff_dim)\n",
        "        self.fc2 = nn.Linear(ff_dim, input_dim*num_heads)\n",
        "        self.relu= nn.ReLU()\n",
        "\n",
        "    def forward(self, x):\n",
        "        # Attention and Normalization\n",
        "        x_norm1 = self.layernorm(x)\n",
        "        attn_output, _ = self.multihead_attn(x_norm1, x_norm1, x_norm1)\n",
        "        x = x + self.dropout(attn_output)\n",
        "\n",
        "        # Feed Forward Part\n",
        "        x_norm2 = self.layernorm(x)\n",
        "        y = self.fc1(x_norm2)\n",
        "        y = self.relu(y)\n",
        "        y = self.dropout(y)\n",
        "        y = self.fc2(y)\n",
        "        y = self.dropout(y)\n",
        "        x = x + y\n",
        "\n",
        "        return x\n",
        "\n",
        "class TransformerModel(nn.Module):\n",
        "    def __init__(self, input_dim, head_size, num_heads, ff_dim, num_layers, dropout=0.0):\n",
        "        super(TransformerModel, self).__init__()\n",
        "        self.initial_projection = nn.Linear(input_dim, input_dim * num_heads)\n",
        "        self.encoder_layers = nn.ModuleList(\n",
        "            [TransformerEncoderLayer(input_dim, head_size, num_heads, ff_dim, dropout) for _ in range(num_layers)]\n",
        "        )\n",
        "        self.global_avg_pool = nn.AdaptiveAvgPool1d(1)\n",
        "        self.layernorm = nn.LayerNorm(input_dim*num_heads, eps=1e-6)\n",
        "        self.fc = nn.Linear(input_dim*num_heads, 1)\n",
        "        self.relu= nn.ReLU()\n",
        "\n",
        "    def forward(self, x):\n",
        "        x= self.initial_projection(x)\n",
        "        x = x.permute(1, 0, 2)  # Change to (sequence_length, batch_size, input_dim)\n",
        "        for layer in self.encoder_layers:\n",
        "            x = layer(x)\n",
        "        x = x.permute(1, 2, 0)  # Change to (batch_size, input_dim, sequence_length)\n",
        "        x = self.global_avg_pool(x).squeeze(-1)\n",
        "        x = self.layernorm(x)\n",
        "        x = self.fc(x)\n",
        "        # x= self.relu(x)\n",
        "        return x\n",
        "\n",
        "# Model parameters\n",
        "input_dim = train_df.shape[-1] -1\n",
        "head_size = 256\n",
        "num_heads = 16\n",
        "ff_dim = 1024\n",
        "num_layers = 12\n",
        "dropout = 0.20\n",
        "\n",
        "# Build the model\n",
        "model = TransformerModel(input_dim, head_size, num_heads, ff_dim, num_layers, dropout)"
      ],
      "metadata": {
        "id": "FKPMv3fhz2M5"
      },
      "execution_count": 16,
      "outputs": []
    },
    {
      "cell_type": "code",
      "source": [
        "from torchsummary import summary\n",
        "summary(model.to(\"cuda\"), input_size=(120, 11))"
      ],
      "metadata": {
        "id": "IQ5VTuZBuB0i",
        "colab": {
          "base_uri": "https://localhost:8080/"
        },
        "outputId": "894246da-7a38-4170-e0a7-8a2bbe7d7871"
      },
      "execution_count": 17,
      "outputs": [
        {
          "output_type": "stream",
          "name": "stdout",
          "text": [
            "----------------------------------------------------------------\n",
            "        Layer (type)               Output Shape         Param #\n",
            "================================================================\n",
            "            Linear-1             [-1, 120, 176]           2,112\n",
            "         LayerNorm-2               [-1, 2, 176]             352\n",
            "MultiheadAttention-3  [[-1, 2, 176], [-1, 120, 120]]               0\n",
            "           Dropout-4               [-1, 2, 176]               0\n",
            "         LayerNorm-5               [-1, 2, 176]             352\n",
            "            Linear-6              [-1, 2, 1024]         181,248\n",
            "              ReLU-7              [-1, 2, 1024]               0\n",
            "           Dropout-8              [-1, 2, 1024]               0\n",
            "            Linear-9               [-1, 2, 176]         180,400\n",
            "          Dropout-10               [-1, 2, 176]               0\n",
            "TransformerEncoderLayer-11               [-1, 2, 176]               0\n",
            "        LayerNorm-12               [-1, 2, 176]             352\n",
            "MultiheadAttention-13  [[-1, 2, 176], [-1, 120, 120]]               0\n",
            "          Dropout-14               [-1, 2, 176]               0\n",
            "        LayerNorm-15               [-1, 2, 176]             352\n",
            "           Linear-16              [-1, 2, 1024]         181,248\n",
            "             ReLU-17              [-1, 2, 1024]               0\n",
            "          Dropout-18              [-1, 2, 1024]               0\n",
            "           Linear-19               [-1, 2, 176]         180,400\n",
            "          Dropout-20               [-1, 2, 176]               0\n",
            "TransformerEncoderLayer-21               [-1, 2, 176]               0\n",
            "        LayerNorm-22               [-1, 2, 176]             352\n",
            "MultiheadAttention-23  [[-1, 2, 176], [-1, 120, 120]]               0\n",
            "          Dropout-24               [-1, 2, 176]               0\n",
            "        LayerNorm-25               [-1, 2, 176]             352\n",
            "           Linear-26              [-1, 2, 1024]         181,248\n",
            "             ReLU-27              [-1, 2, 1024]               0\n",
            "          Dropout-28              [-1, 2, 1024]               0\n",
            "           Linear-29               [-1, 2, 176]         180,400\n",
            "          Dropout-30               [-1, 2, 176]               0\n",
            "TransformerEncoderLayer-31               [-1, 2, 176]               0\n",
            "        LayerNorm-32               [-1, 2, 176]             352\n",
            "MultiheadAttention-33  [[-1, 2, 176], [-1, 120, 120]]               0\n",
            "          Dropout-34               [-1, 2, 176]               0\n",
            "        LayerNorm-35               [-1, 2, 176]             352\n",
            "           Linear-36              [-1, 2, 1024]         181,248\n",
            "             ReLU-37              [-1, 2, 1024]               0\n",
            "          Dropout-38              [-1, 2, 1024]               0\n",
            "           Linear-39               [-1, 2, 176]         180,400\n",
            "          Dropout-40               [-1, 2, 176]               0\n",
            "TransformerEncoderLayer-41               [-1, 2, 176]               0\n",
            "        LayerNorm-42               [-1, 2, 176]             352\n",
            "MultiheadAttention-43  [[-1, 2, 176], [-1, 120, 120]]               0\n",
            "          Dropout-44               [-1, 2, 176]               0\n",
            "        LayerNorm-45               [-1, 2, 176]             352\n",
            "           Linear-46              [-1, 2, 1024]         181,248\n",
            "             ReLU-47              [-1, 2, 1024]               0\n",
            "          Dropout-48              [-1, 2, 1024]               0\n",
            "           Linear-49               [-1, 2, 176]         180,400\n",
            "          Dropout-50               [-1, 2, 176]               0\n",
            "TransformerEncoderLayer-51               [-1, 2, 176]               0\n",
            "        LayerNorm-52               [-1, 2, 176]             352\n",
            "MultiheadAttention-53  [[-1, 2, 176], [-1, 120, 120]]               0\n",
            "          Dropout-54               [-1, 2, 176]               0\n",
            "        LayerNorm-55               [-1, 2, 176]             352\n",
            "           Linear-56              [-1, 2, 1024]         181,248\n",
            "             ReLU-57              [-1, 2, 1024]               0\n",
            "          Dropout-58              [-1, 2, 1024]               0\n",
            "           Linear-59               [-1, 2, 176]         180,400\n",
            "          Dropout-60               [-1, 2, 176]               0\n",
            "TransformerEncoderLayer-61               [-1, 2, 176]               0\n",
            "        LayerNorm-62               [-1, 2, 176]             352\n",
            "MultiheadAttention-63  [[-1, 2, 176], [-1, 120, 120]]               0\n",
            "          Dropout-64               [-1, 2, 176]               0\n",
            "        LayerNorm-65               [-1, 2, 176]             352\n",
            "           Linear-66              [-1, 2, 1024]         181,248\n",
            "             ReLU-67              [-1, 2, 1024]               0\n",
            "          Dropout-68              [-1, 2, 1024]               0\n",
            "           Linear-69               [-1, 2, 176]         180,400\n",
            "          Dropout-70               [-1, 2, 176]               0\n",
            "TransformerEncoderLayer-71               [-1, 2, 176]               0\n",
            "        LayerNorm-72               [-1, 2, 176]             352\n",
            "MultiheadAttention-73  [[-1, 2, 176], [-1, 120, 120]]               0\n",
            "          Dropout-74               [-1, 2, 176]               0\n",
            "        LayerNorm-75               [-1, 2, 176]             352\n",
            "           Linear-76              [-1, 2, 1024]         181,248\n",
            "             ReLU-77              [-1, 2, 1024]               0\n",
            "          Dropout-78              [-1, 2, 1024]               0\n",
            "           Linear-79               [-1, 2, 176]         180,400\n",
            "          Dropout-80               [-1, 2, 176]               0\n",
            "TransformerEncoderLayer-81               [-1, 2, 176]               0\n",
            "        LayerNorm-82               [-1, 2, 176]             352\n",
            "MultiheadAttention-83  [[-1, 2, 176], [-1, 120, 120]]               0\n",
            "          Dropout-84               [-1, 2, 176]               0\n",
            "        LayerNorm-85               [-1, 2, 176]             352\n",
            "           Linear-86              [-1, 2, 1024]         181,248\n",
            "             ReLU-87              [-1, 2, 1024]               0\n",
            "          Dropout-88              [-1, 2, 1024]               0\n",
            "           Linear-89               [-1, 2, 176]         180,400\n",
            "          Dropout-90               [-1, 2, 176]               0\n",
            "TransformerEncoderLayer-91               [-1, 2, 176]               0\n",
            "        LayerNorm-92               [-1, 2, 176]             352\n",
            "MultiheadAttention-93  [[-1, 2, 176], [-1, 120, 120]]               0\n",
            "          Dropout-94               [-1, 2, 176]               0\n",
            "        LayerNorm-95               [-1, 2, 176]             352\n",
            "           Linear-96              [-1, 2, 1024]         181,248\n",
            "             ReLU-97              [-1, 2, 1024]               0\n",
            "          Dropout-98              [-1, 2, 1024]               0\n",
            "           Linear-99               [-1, 2, 176]         180,400\n",
            "         Dropout-100               [-1, 2, 176]               0\n",
            "TransformerEncoderLayer-101               [-1, 2, 176]               0\n",
            "       LayerNorm-102               [-1, 2, 176]             352\n",
            "MultiheadAttention-103  [[-1, 2, 176], [-1, 120, 120]]               0\n",
            "         Dropout-104               [-1, 2, 176]               0\n",
            "       LayerNorm-105               [-1, 2, 176]             352\n",
            "          Linear-106              [-1, 2, 1024]         181,248\n",
            "            ReLU-107              [-1, 2, 1024]               0\n",
            "         Dropout-108              [-1, 2, 1024]               0\n",
            "          Linear-109               [-1, 2, 176]         180,400\n",
            "         Dropout-110               [-1, 2, 176]               0\n",
            "TransformerEncoderLayer-111               [-1, 2, 176]               0\n",
            "       LayerNorm-112               [-1, 2, 176]             352\n",
            "MultiheadAttention-113  [[-1, 2, 176], [-1, 120, 120]]               0\n",
            "         Dropout-114               [-1, 2, 176]               0\n",
            "       LayerNorm-115               [-1, 2, 176]             352\n",
            "          Linear-116              [-1, 2, 1024]         181,248\n",
            "            ReLU-117              [-1, 2, 1024]               0\n",
            "         Dropout-118              [-1, 2, 1024]               0\n",
            "          Linear-119               [-1, 2, 176]         180,400\n",
            "         Dropout-120               [-1, 2, 176]               0\n",
            "TransformerEncoderLayer-121               [-1, 2, 176]               0\n",
            "AdaptiveAvgPool1d-122               [-1, 176, 1]               0\n",
            "       LayerNorm-123                  [-1, 176]             352\n",
            "          Linear-124                    [-1, 1]             177\n",
            "================================================================\n",
            "Total params: 4,350,865\n",
            "Trainable params: 4,350,865\n",
            "Non-trainable params: 0\n",
            "----------------------------------------------------------------\n",
            "Input size (MB): 0.01\n",
            "Forward/backward pass size (MB): 463.14\n",
            "Params size (MB): 16.60\n",
            "Estimated Total Size (MB): 479.75\n",
            "----------------------------------------------------------------\n"
          ]
        }
      ]
    },
    {
      "cell_type": "code",
      "source": [
        "model = TransformerModel(input_dim, head_size, num_heads, ff_dim, num_layers, dropout)\n",
        "criterion = nn.L1Loss()  #Loss function MAE\n",
        "optimizer = optim.Adam(model.parameters(), lr=5e-5)\n",
        "\n",
        "# scheduler = torch.optim.lr_scheduler.LinearLR(optimizer, start_factor=1, end_factor=0.001, total_iters=100)\n",
        "scheduler = torch.optim.lr_scheduler.ExponentialLR(optimizer, gamma=0.95)\n",
        "\n",
        "device = torch.device(\"cuda\" if torch.cuda.is_available() else \"cpu\")\n",
        "\n",
        "model.to(device)\n",
        "\n",
        "num_epochs = 30\n",
        "\n",
        "save_dir= \"/content/drive/MyDrive/trade_model/model.pth\" #change path to save model weights\n"
      ],
      "metadata": {
        "id": "07_li0irQQnD"
      },
      "execution_count": 70,
      "outputs": []
    },
    {
      "cell_type": "code",
      "source": [
        "\"\"\"\n",
        "Load pre-trained model weights\n",
        "\"\"\"\n",
        "# checkpoint = torch.load(save_dir)\n",
        "# model.load_state_dict(checkpoint['model_state_dict'])\n",
        "# optimizer.load_state_dict(checkpoint['optimizer_state_dict'])\n"
      ],
      "metadata": {
        "id": "3CN0R2BF4U9M",
        "colab": {
          "base_uri": "https://localhost:8080/",
          "height": 35
        },
        "outputId": "6684eee9-a050-4182-8b2f-0c218add89f4"
      },
      "execution_count": 71,
      "outputs": [
        {
          "output_type": "execute_result",
          "data": {
            "text/plain": [
              "'\\nLoad pre-trained model weights\\n'"
            ],
            "application/vnd.google.colaboratory.intrinsic+json": {
              "type": "string"
            }
          },
          "metadata": {},
          "execution_count": 71
        }
      ]
    },
    {
      "cell_type": "code",
      "source": [
        "\"\"\"\n",
        "Learning rate schedule visualizer\n",
        "\"\"\"\n",
        "lrs = []\n",
        "num_epochs = 100  # Adjust number of epochs as needed\n",
        "for epoch in range(num_epochs):\n",
        "    optimizer.step()  # Dummy step, replace with your training step\n",
        "    scheduler.step()\n",
        "    lrs.append(optimizer.param_groups[0]['lr'])\n",
        "\n",
        "plt.plot(range(num_epochs), lrs)\n",
        "plt.xlabel('Epoch')\n",
        "plt.ylabel('Learning Rate')\n",
        "plt.title('Learning Rate Schedule')\n",
        "plt.grid(True)\n",
        "plt.show()"
      ],
      "metadata": {
        "colab": {
          "base_uri": "https://localhost:8080/",
          "height": 472
        },
        "id": "YmlJ6wLxxvsU",
        "outputId": "e04d86a4-6ff9-4edb-d61c-e79660c81d40"
      },
      "execution_count": 72,
      "outputs": [
        {
          "output_type": "display_data",
          "data": {
            "text/plain": [
              "<Figure size 640x480 with 1 Axes>"
            ],
            "image/png": "[encoded data removed]"
          },
          "metadata": {}
        }
      ]
    },
    {
      "cell_type": "code",
      "source": [
        "# Training loop\n",
        "min_val_loss = float('inf') #check for least validation loss\n",
        "\n",
        "for epoch in range(num_epochs):\n",
        "    model.train()\n",
        "    train_loss = 0.0\n",
        "\n",
        "    with tqdm(total=len(train_dataloader), desc=f'Epoch {epoch + 1}/{num_epochs}', unit='batch') as pbar:\n",
        "      for inputs, targets in train_dataloader:\n",
        "          inputs, targets = inputs.to(device), targets.to(device)\n",
        "\n",
        "          optimizer.zero_grad()\n",
        "\n",
        "          # Forward pass\n",
        "          outputs = model(inputs)\n",
        "          loss = criterion(outputs.to(device), targets[0].to(device))\n",
        "\n",
        "          # Backward pass and optimization\n",
        "          loss.backward()\n",
        "          optimizer.step()\n",
        "\n",
        "          train_loss += loss.item() * inputs.size(0)\n",
        "      scheduler.step() #scheduler step\n",
        "      train_loss /= len(train_dataloader.dataset)\n",
        "\n",
        "      with torch.no_grad():\n",
        "        # Validation loop\n",
        "        model.eval()\n",
        "        val_loss = 0.0\n",
        "        for inputs, targets in test_dataloader:\n",
        "            inputs, targets = inputs.to(device), targets.to(device)\n",
        "\n",
        "            # Forward pass\n",
        "            outputs = model(inputs)\n",
        "            loss = criterion(outputs, targets)\n",
        "\n",
        "            val_loss += loss.item() * inputs.size(0)\n",
        "\n",
        "        val_loss /= len(test_dataloader.dataset)\n",
        "\n",
        "        if val_loss < min_val_loss: #save weight only if validation loss is least\n",
        "          torch.save({\n",
        "          'epoch': epoch,\n",
        "          'model_state_dict': model.state_dict(),\n",
        "          'optimizer_state_dict': optimizer.state_dict(),\n",
        "          }, save_dir)\n",
        "          min_val_loss = val_loss\n",
        "          print(\"Model saved\")\n",
        "\n",
        "        # current_lr = optimizer.param_groups[0]['lr']\n",
        "        if (epoch + 1) % 1 == 0:\n",
        "          print(f'Epoch [{epoch + 1}/{num_epochs}], Train Loss: {train_loss:.4f}, Val Loss: {val_loss:.4f}, Min Val Loss: {min_val_loss:.4f}')\n",
        "\n",
        "      pbar.update(1)\n"
      ],
      "metadata": {
        "colab": {
          "base_uri": "https://localhost:8080/"
        },
        "id": "XwH-K5w4yOUN",
        "outputId": "c3b66a80-825b-43dc-86e6-36233959d846"
      },
      "execution_count": 56,
      "outputs": [
        {
          "output_type": "stream",
          "name": "stderr",
          "text": [
            "Epoch 1/100:   0%|          | 1/1236 [02:20<48:03:28, 140.09s/batch]\n"
          ]
        },
        {
          "output_type": "stream",
          "name": "stdout",
          "text": [
            "Model saved\n",
            "Epoch [1/100], Train Loss: 184.3742, Val Loss: 177.2023, Min Val Loss: 177.2023, Learning Rate: 5e-05\n"
          ]
        },
        {
          "output_type": "stream",
          "name": "stderr",
          "text": [
            "Epoch 2/100:   0%|          | 1/1236 [02:20<48:13:41, 140.58s/batch]\n"
          ]
        },
        {
          "output_type": "stream",
          "name": "stdout",
          "text": [
            "Model saved\n",
            "Epoch [2/100], Train Loss: 163.9384, Val Loss: 153.8868, Min Val Loss: 153.8868, Learning Rate: 5e-05\n"
          ]
        },
        {
          "output_type": "stream",
          "name": "stderr",
          "text": [
            "Epoch 3/100:   0%|          | 1/1236 [02:20<48:04:04, 140.12s/batch]\n"
          ]
        },
        {
          "output_type": "stream",
          "name": "stdout",
          "text": [
            "Model saved\n",
            "Epoch [3/100], Train Loss: 141.1093, Val Loss: 128.5987, Min Val Loss: 128.5987, Learning Rate: 5e-05\n"
          ]
        },
        {
          "output_type": "stream",
          "name": "stderr",
          "text": [
            "Epoch 4/100:   0%|          | 1/1236 [02:20<48:05:09, 140.17s/batch]\n"
          ]
        },
        {
          "output_type": "stream",
          "name": "stdout",
          "text": [
            "Model saved\n",
            "Epoch [4/100], Train Loss: 116.5067, Val Loss: 102.9000, Min Val Loss: 102.9000, Learning Rate: 5e-05\n"
          ]
        },
        {
          "output_type": "stream",
          "name": "stderr",
          "text": [
            "Epoch 5/100:   0%|          | 1/1236 [02:20<48:13:15, 140.56s/batch]\n"
          ]
        },
        {
          "output_type": "stream",
          "name": "stdout",
          "text": [
            "Model saved\n",
            "Epoch [5/100], Train Loss: 89.6821, Val Loss: 74.6617, Min Val Loss: 74.6617, Learning Rate: 5e-05\n"
          ]
        },
        {
          "output_type": "stream",
          "name": "stderr",
          "text": [
            "Epoch 6/100:   0%|          | 1/1236 [02:20<48:12:03, 140.50s/batch]\n"
          ]
        },
        {
          "output_type": "stream",
          "name": "stdout",
          "text": [
            "Model saved\n",
            "Epoch [6/100], Train Loss: 59.9663, Val Loss: 43.5075, Min Val Loss: 43.5075, Learning Rate: 5e-05\n"
          ]
        },
        {
          "output_type": "stream",
          "name": "stderr",
          "text": [
            "Epoch 7/100:   0%|          | 1/1236 [02:20<48:13:04, 140.55s/batch]\n"
          ]
        },
        {
          "output_type": "stream",
          "name": "stdout",
          "text": [
            "Model saved\n",
            "Epoch [7/100], Train Loss: 27.3896, Val Loss: 9.4617, Min Val Loss: 9.4617, Learning Rate: 5e-05\n"
          ]
        },
        {
          "output_type": "stream",
          "name": "stderr",
          "text": [
            "Epoch 8/100:   0%|          | 1/1236 [02:20<48:07:17, 140.27s/batch]\n"
          ]
        },
        {
          "output_type": "stream",
          "name": "stdout",
          "text": [
            "Model saved\n",
            "Epoch [8/100], Train Loss: 1.8767, Val Loss: 0.6626, Min Val Loss: 0.6626, Learning Rate: 5e-05\n"
          ]
        },
        {
          "output_type": "stream",
          "name": "stderr",
          "text": [
            "Epoch 9/100:   0%|          | 1/1236 [02:20<48:11:14, 140.47s/batch]\n"
          ]
        },
        {
          "output_type": "stream",
          "name": "stdout",
          "text": [
            "Epoch [9/100], Train Loss: 0.5672, Val Loss: 0.8654, Min Val Loss: 0.6626, Learning Rate: 5e-05\n"
          ]
        },
        {
          "output_type": "stream",
          "name": "stderr",
          "text": [
            "Epoch 10/100:   0%|          | 1/1236 [02:20<48:05:36, 140.19s/batch]\n"
          ]
        },
        {
          "output_type": "stream",
          "name": "stdout",
          "text": [
            "Epoch [10/100], Train Loss: 0.5809, Val Loss: 1.1092, Min Val Loss: 0.6626, Learning Rate: 5e-05\n"
          ]
        },
        {
          "output_type": "stream",
          "name": "stderr",
          "text": [
            "Epoch 11/100:   0%|          | 1/1236 [02:19<48:00:55, 139.96s/batch]\n"
          ]
        },
        {
          "output_type": "stream",
          "name": "stdout",
          "text": [
            "Epoch [11/100], Train Loss: 0.5694, Val Loss: 1.0223, Min Val Loss: 0.6626, Learning Rate: 5e-05\n"
          ]
        },
        {
          "output_type": "stream",
          "name": "stderr",
          "text": [
            "Epoch 12/100:   0%|          | 1/1236 [02:20<48:03:45, 140.10s/batch]\n"
          ]
        },
        {
          "output_type": "stream",
          "name": "stdout",
          "text": [
            "Epoch [12/100], Train Loss: 0.5624, Val Loss: 0.8289, Min Val Loss: 0.6626, Learning Rate: 5e-05\n"
          ]
        },
        {
          "output_type": "stream",
          "name": "stderr",
          "text": [
            "Epoch 13/100:   0%|          | 1/1236 [02:19<47:59:14, 139.88s/batch]\n"
          ]
        },
        {
          "output_type": "stream",
          "name": "stdout",
          "text": [
            "Epoch [13/100], Train Loss: 0.5632, Val Loss: 0.9259, Min Val Loss: 0.6626, Learning Rate: 5e-05\n"
          ]
        },
        {
          "output_type": "stream",
          "name": "stderr",
          "text": [
            "Epoch 14/100:   0%|          | 1/1236 [02:19<48:00:13, 139.93s/batch]\n"
          ]
        },
        {
          "output_type": "stream",
          "name": "stdout",
          "text": [
            "Epoch [14/100], Train Loss: 0.5662, Val Loss: 0.8691, Min Val Loss: 0.6626, Learning Rate: 5e-05\n"
          ]
        },
        {
          "output_type": "stream",
          "name": "stderr",
          "text": [
            "Epoch 15/100:   0%|          | 1/1236 [02:19<47:59:37, 139.90s/batch]\n"
          ]
        },
        {
          "output_type": "stream",
          "name": "stdout",
          "text": [
            "Epoch [15/100], Train Loss: 0.5841, Val Loss: 0.7983, Min Val Loss: 0.6626, Learning Rate: 5e-05\n"
          ]
        },
        {
          "output_type": "stream",
          "name": "stderr",
          "text": [
            "Epoch 16/100:   0%|          | 1/1236 [02:20<48:02:00, 140.02s/batch]\n"
          ]
        },
        {
          "output_type": "stream",
          "name": "stdout",
          "text": [
            "Epoch [16/100], Train Loss: 0.5622, Val Loss: 0.9579, Min Val Loss: 0.6626, Learning Rate: 5e-05\n"
          ]
        },
        {
          "output_type": "stream",
          "name": "stderr",
          "text": [
            "Epoch 17/100:   0%|          | 1/1236 [02:19<47:59:51, 139.91s/batch]\n"
          ]
        },
        {
          "output_type": "stream",
          "name": "stdout",
          "text": [
            "Epoch [17/100], Train Loss: 0.5822, Val Loss: 0.8931, Min Val Loss: 0.6626, Learning Rate: 5e-05\n"
          ]
        },
        {
          "output_type": "stream",
          "name": "stderr",
          "text": [
            "Epoch 18/100:   0%|          | 1/1236 [02:19<47:59:34, 139.90s/batch]\n"
          ]
        },
        {
          "output_type": "stream",
          "name": "stdout",
          "text": [
            "Epoch [18/100], Train Loss: 0.5836, Val Loss: 0.7714, Min Val Loss: 0.6626, Learning Rate: 5e-05\n"
          ]
        },
        {
          "output_type": "stream",
          "name": "stderr",
          "text": [
            "Epoch 19/100:   0%|          | 1/1236 [02:20<48:03:58, 140.11s/batch]\n"
          ]
        },
        {
          "output_type": "stream",
          "name": "stdout",
          "text": [
            "Model saved\n",
            "Epoch [19/100], Train Loss: 0.5818, Val Loss: 0.4919, Min Val Loss: 0.4919, Learning Rate: 5e-05\n"
          ]
        },
        {
          "output_type": "stream",
          "name": "stderr",
          "text": [
            "Epoch 20/100:   0%|          | 1/1236 [02:20<48:06:02, 140.21s/batch]\n"
          ]
        },
        {
          "output_type": "stream",
          "name": "stdout",
          "text": [
            "Model saved\n",
            "Epoch [20/100], Train Loss: 0.5858, Val Loss: 0.4586, Min Val Loss: 0.4586, Learning Rate: 5e-05\n"
          ]
        },
        {
          "output_type": "stream",
          "name": "stderr",
          "text": [
            "Epoch 21/100:   0%|          | 1/1236 [02:20<48:06:05, 140.22s/batch]\n"
          ]
        },
        {
          "output_type": "stream",
          "name": "stdout",
          "text": [
            "Epoch [21/100], Train Loss: 0.5735, Val Loss: 0.6478, Min Val Loss: 0.4586, Learning Rate: 5e-05\n"
          ]
        },
        {
          "output_type": "stream",
          "name": "stderr",
          "text": [
            "Epoch 22/100:   0%|          | 1/1236 [02:19<48:00:32, 139.95s/batch]\n"
          ]
        },
        {
          "output_type": "stream",
          "name": "stdout",
          "text": [
            "Epoch [22/100], Train Loss: 0.5829, Val Loss: 0.9436, Min Val Loss: 0.4586, Learning Rate: 5e-05\n"
          ]
        },
        {
          "output_type": "stream",
          "name": "stderr",
          "text": [
            "Epoch 23/100:   0%|          | 1/1236 [02:20<48:07:52, 140.30s/batch]\n"
          ]
        },
        {
          "output_type": "stream",
          "name": "stdout",
          "text": [
            "Epoch [23/100], Train Loss: 0.5878, Val Loss: 0.8818, Min Val Loss: 0.4586, Learning Rate: 5e-05\n"
          ]
        },
        {
          "output_type": "stream",
          "name": "stderr",
          "text": [
            "Epoch 24/100:   0%|          | 1/1236 [02:20<48:06:07, 140.22s/batch]\n"
          ]
        },
        {
          "output_type": "stream",
          "name": "stdout",
          "text": [
            "Epoch [24/100], Train Loss: 0.5876, Val Loss: 0.6969, Min Val Loss: 0.4586, Learning Rate: 5e-05\n"
          ]
        },
        {
          "output_type": "stream",
          "name": "stderr",
          "text": [
            "Epoch 25/100:   0%|          | 1/1236 [02:20<48:04:14, 140.13s/batch]\n"
          ]
        },
        {
          "output_type": "stream",
          "name": "stdout",
          "text": [
            "Epoch [25/100], Train Loss: 0.5696, Val Loss: 1.0714, Min Val Loss: 0.4586, Learning Rate: 5e-05\n"
          ]
        },
        {
          "output_type": "stream",
          "name": "stderr",
          "text": [
            "Epoch 26/100:   0%|          | 1/1236 [02:19<48:01:28, 139.99s/batch]\n"
          ]
        },
        {
          "output_type": "stream",
          "name": "stdout",
          "text": [
            "Epoch [26/100], Train Loss: 0.5660, Val Loss: 0.8074, Min Val Loss: 0.4586, Learning Rate: 5e-05\n"
          ]
        },
        {
          "output_type": "stream",
          "name": "stderr",
          "text": [
            "Epoch 27/100:   0%|          | 1/1236 [02:19<48:00:52, 139.96s/batch]\n"
          ]
        },
        {
          "output_type": "stream",
          "name": "stdout",
          "text": [
            "Epoch [27/100], Train Loss: 0.5711, Val Loss: 0.6156, Min Val Loss: 0.4586, Learning Rate: 5e-05\n"
          ]
        },
        {
          "output_type": "stream",
          "name": "stderr",
          "text": [
            "Epoch 28/100:   0%|          | 1/1236 [02:20<48:03:53, 140.11s/batch]\n"
          ]
        },
        {
          "output_type": "stream",
          "name": "stdout",
          "text": [
            "Epoch [28/100], Train Loss: 0.5719, Val Loss: 0.4784, Min Val Loss: 0.4586, Learning Rate: 5e-05\n"
          ]
        },
        {
          "output_type": "stream",
          "name": "stderr",
          "text": [
            "Epoch 29/100:   0%|          | 1/1236 [02:20<48:01:47, 140.01s/batch]\n"
          ]
        },
        {
          "output_type": "stream",
          "name": "stdout",
          "text": [
            "Epoch [29/100], Train Loss: 0.5848, Val Loss: 0.9013, Min Val Loss: 0.4586, Learning Rate: 5e-05\n"
          ]
        },
        {
          "output_type": "stream",
          "name": "stderr",
          "text": [
            "Epoch 30/100:   0%|          | 1/1236 [02:19<48:01:20, 139.98s/batch]\n"
          ]
        },
        {
          "output_type": "stream",
          "name": "stdout",
          "text": [
            "Epoch [30/100], Train Loss: 0.5581, Val Loss: 0.7902, Min Val Loss: 0.4586, Learning Rate: 5e-05\n"
          ]
        },
        {
          "output_type": "stream",
          "name": "stderr",
          "text": [
            "Epoch 31/100:   0%|          | 1/1236 [02:20<48:02:40, 140.05s/batch]\n"
          ]
        },
        {
          "output_type": "stream",
          "name": "stdout",
          "text": [
            "Epoch [31/100], Train Loss: 0.5721, Val Loss: 0.7274, Min Val Loss: 0.4586, Learning Rate: 5e-05\n"
          ]
        },
        {
          "output_type": "stream",
          "name": "stderr",
          "text": [
            "Epoch 32/100:   0%|          | 1/1236 [02:20<48:09:54, 140.40s/batch]\n"
          ]
        },
        {
          "output_type": "stream",
          "name": "stdout",
          "text": [
            "Model saved\n",
            "Epoch [32/100], Train Loss: 0.5958, Val Loss: 0.4387, Min Val Loss: 0.4387, Learning Rate: 5e-05\n"
          ]
        },
        {
          "output_type": "stream",
          "name": "stderr",
          "text": [
            "Epoch 33/100:   0%|          | 1/1236 [02:20<48:03:37, 140.10s/batch]\n"
          ]
        },
        {
          "output_type": "stream",
          "name": "stdout",
          "text": [
            "Epoch [33/100], Train Loss: 0.5775, Val Loss: 0.6353, Min Val Loss: 0.4387, Learning Rate: 5e-05\n"
          ]
        },
        {
          "output_type": "stream",
          "name": "stderr",
          "text": [
            "Epoch 34/100:   0%|          | 1/1236 [02:20<48:03:55, 140.11s/batch]\n"
          ]
        },
        {
          "output_type": "stream",
          "name": "stdout",
          "text": [
            "Epoch [34/100], Train Loss: 0.5884, Val Loss: 0.9569, Min Val Loss: 0.4387, Learning Rate: 5e-05\n"
          ]
        },
        {
          "output_type": "stream",
          "name": "stderr",
          "text": [
            "Epoch 35/100:   0%|          | 1/1236 [02:20<48:03:16, 140.08s/batch]\n"
          ]
        },
        {
          "output_type": "stream",
          "name": "stdout",
          "text": [
            "Epoch [35/100], Train Loss: 0.6001, Val Loss: 0.7919, Min Val Loss: 0.4387, Learning Rate: 5e-05\n"
          ]
        },
        {
          "output_type": "stream",
          "name": "stderr",
          "text": [
            "Epoch 36/100:   0%|          | 1/1236 [02:19<48:00:51, 139.96s/batch]\n"
          ]
        },
        {
          "output_type": "stream",
          "name": "stdout",
          "text": [
            "Epoch [36/100], Train Loss: 0.5876, Val Loss: 0.7302, Min Val Loss: 0.4387, Learning Rate: 5e-05\n"
          ]
        },
        {
          "output_type": "stream",
          "name": "stderr",
          "text": [
            "Epoch 37/100:   0%|          | 1/1236 [02:19<47:57:51, 139.82s/batch]\n"
          ]
        },
        {
          "output_type": "stream",
          "name": "stdout",
          "text": [
            "Epoch [37/100], Train Loss: 0.5814, Val Loss: 0.8141, Min Val Loss: 0.4387, Learning Rate: 5e-05\n"
          ]
        },
        {
          "output_type": "stream",
          "name": "stderr",
          "text": [
            "Epoch 38/100:   0%|          | 1/1236 [02:19<47:58:25, 139.84s/batch]\n"
          ]
        },
        {
          "output_type": "stream",
          "name": "stdout",
          "text": [
            "Epoch [38/100], Train Loss: 0.5829, Val Loss: 0.9619, Min Val Loss: 0.4387, Learning Rate: 5e-05\n"
          ]
        },
        {
          "output_type": "stream",
          "name": "stderr",
          "text": [
            "Epoch 39/100:   0%|          | 1/1236 [02:19<47:59:47, 139.91s/batch]\n"
          ]
        },
        {
          "output_type": "stream",
          "name": "stdout",
          "text": [
            "Epoch [39/100], Train Loss: 0.5706, Val Loss: 0.6054, Min Val Loss: 0.4387, Learning Rate: 5e-05\n"
          ]
        },
        {
          "output_type": "stream",
          "name": "stderr",
          "text": [
            "Epoch 40/100:   0%|          | 1/1236 [02:19<48:01:15, 139.98s/batch]\n"
          ]
        },
        {
          "output_type": "stream",
          "name": "stdout",
          "text": [
            "Epoch [40/100], Train Loss: 0.5816, Val Loss: 1.0019, Min Val Loss: 0.4387, Learning Rate: 5e-05\n"
          ]
        },
        {
          "output_type": "stream",
          "name": "stderr",
          "text": [
            "Epoch 41/100:   0%|          | 1/1236 [02:19<48:00:59, 139.97s/batch]\n"
          ]
        },
        {
          "output_type": "stream",
          "name": "stdout",
          "text": [
            "Epoch [41/100], Train Loss: 0.5921, Val Loss: 0.7675, Min Val Loss: 0.4387, Learning Rate: 5e-05\n"
          ]
        },
        {
          "output_type": "stream",
          "name": "stderr",
          "text": [
            "Epoch 42/100:   0%|          | 1/1236 [02:20<48:04:08, 140.12s/batch]\n"
          ]
        },
        {
          "output_type": "stream",
          "name": "stdout",
          "text": [
            "Epoch [42/100], Train Loss: 0.5702, Val Loss: 0.8586, Min Val Loss: 0.4387, Learning Rate: 5e-05\n"
          ]
        },
        {
          "output_type": "stream",
          "name": "stderr",
          "text": [
            "Epoch 43/100:   0%|          | 1/1236 [02:20<48:01:42, 140.00s/batch]\n"
          ]
        },
        {
          "output_type": "stream",
          "name": "stdout",
          "text": [
            "Epoch [43/100], Train Loss: 0.5644, Val Loss: 0.9952, Min Val Loss: 0.4387, Learning Rate: 5e-05\n"
          ]
        },
        {
          "output_type": "stream",
          "name": "stderr",
          "text": [
            "Epoch 44/100:   0%|          | 1/1236 [02:19<47:58:56, 139.87s/batch]\n"
          ]
        },
        {
          "output_type": "stream",
          "name": "stdout",
          "text": [
            "Epoch [44/100], Train Loss: 0.5696, Val Loss: 0.6157, Min Val Loss: 0.4387, Learning Rate: 5e-05\n"
          ]
        },
        {
          "output_type": "stream",
          "name": "stderr",
          "text": [
            "Epoch 45/100:   0%|          | 1/1236 [02:19<48:00:25, 139.94s/batch]\n"
          ]
        },
        {
          "output_type": "stream",
          "name": "stdout",
          "text": [
            "Epoch [45/100], Train Loss: 0.5677, Val Loss: 0.7043, Min Val Loss: 0.4387, Learning Rate: 5e-05\n"
          ]
        },
        {
          "output_type": "stream",
          "name": "stderr",
          "text": [
            "Epoch 46/100:   0%|          | 1/1236 [02:19<47:59:38, 139.90s/batch]\n"
          ]
        },
        {
          "output_type": "stream",
          "name": "stdout",
          "text": [
            "Epoch [46/100], Train Loss: 0.6084, Val Loss: 0.5833, Min Val Loss: 0.4387, Learning Rate: 5e-05\n"
          ]
        },
        {
          "output_type": "stream",
          "name": "stderr",
          "text": [
            "Epoch 47/100:   0%|          | 1/1236 [02:20<48:04:32, 140.14s/batch]\n"
          ]
        },
        {
          "output_type": "stream",
          "name": "stdout",
          "text": [
            "Epoch [47/100], Train Loss: 0.5629, Val Loss: 0.9082, Min Val Loss: 0.4387, Learning Rate: 5e-05\n"
          ]
        },
        {
          "output_type": "stream",
          "name": "stderr",
          "text": [
            "Epoch 48/100:   0%|          | 1/1236 [02:19<48:00:19, 139.94s/batch]\n"
          ]
        },
        {
          "output_type": "stream",
          "name": "stdout",
          "text": [
            "Epoch [48/100], Train Loss: 0.5843, Val Loss: 0.9924, Min Val Loss: 0.4387, Learning Rate: 5e-05\n"
          ]
        },
        {
          "output_type": "stream",
          "name": "stderr",
          "text": [
            "Epoch 49/100:   0%|          | 1/1236 [02:19<47:55:13, 139.69s/batch]\n"
          ]
        },
        {
          "output_type": "stream",
          "name": "stdout",
          "text": [
            "Epoch [49/100], Train Loss: 0.5713, Val Loss: 0.8497, Min Val Loss: 0.4387, Learning Rate: 5e-05\n"
          ]
        },
        {
          "output_type": "stream",
          "name": "stderr",
          "text": [
            "Epoch 50/100:   0%|          | 1/1236 [02:20<48:02:30, 140.04s/batch]\n"
          ]
        },
        {
          "output_type": "stream",
          "name": "stdout",
          "text": [
            "Epoch [50/100], Train Loss: 0.5770, Val Loss: 0.7992, Min Val Loss: 0.4387, Learning Rate: 5e-05\n"
          ]
        },
        {
          "output_type": "stream",
          "name": "stderr",
          "text": [
            "Epoch 51/100:   0%|          | 1/1236 [02:20<48:02:45, 140.05s/batch]\n"
          ]
        },
        {
          "output_type": "stream",
          "name": "stdout",
          "text": [
            "Epoch [51/100], Train Loss: 0.5861, Val Loss: 0.7950, Min Val Loss: 0.4387, Learning Rate: 5e-05\n"
          ]
        },
        {
          "output_type": "stream",
          "name": "stderr",
          "text": [
            "Epoch 52/100:   0%|          | 1/1236 [02:20<48:03:09, 140.07s/batch]\n"
          ]
        },
        {
          "output_type": "stream",
          "name": "stdout",
          "text": [
            "Epoch [52/100], Train Loss: 0.5613, Val Loss: 0.7678, Min Val Loss: 0.4387, Learning Rate: 5e-05\n"
          ]
        },
        {
          "output_type": "stream",
          "name": "stderr",
          "text": [
            "Epoch 53/100:   0%|          | 1/1236 [02:20<48:03:54, 140.11s/batch]\n"
          ]
        },
        {
          "output_type": "stream",
          "name": "stdout",
          "text": [
            "Epoch [53/100], Train Loss: 0.5868, Val Loss: 0.8797, Min Val Loss: 0.4387, Learning Rate: 5e-05\n"
          ]
        },
        {
          "output_type": "stream",
          "name": "stderr",
          "text": [
            "Epoch 54/100:   0%|          | 1/1236 [02:20<48:03:26, 140.09s/batch]\n"
          ]
        },
        {
          "output_type": "stream",
          "name": "stdout",
          "text": [
            "Epoch [54/100], Train Loss: 0.5534, Val Loss: 0.7407, Min Val Loss: 0.4387, Learning Rate: 5e-05\n"
          ]
        },
        {
          "output_type": "stream",
          "name": "stderr",
          "text": [
            "Epoch 55/100:   0%|          | 1/1236 [02:20<48:04:43, 140.15s/batch]\n"
          ]
        },
        {
          "output_type": "stream",
          "name": "stdout",
          "text": [
            "Epoch [55/100], Train Loss: 0.5867, Val Loss: 0.8190, Min Val Loss: 0.4387, Learning Rate: 5e-05\n"
          ]
        },
        {
          "output_type": "stream",
          "name": "stderr",
          "text": [
            "Epoch 56/100:   0%|          | 1/1236 [02:20<48:02:06, 140.02s/batch]\n"
          ]
        },
        {
          "output_type": "stream",
          "name": "stdout",
          "text": [
            "Epoch [56/100], Train Loss: 0.5884, Val Loss: 0.7410, Min Val Loss: 0.4387, Learning Rate: 5e-05\n"
          ]
        },
        {
          "output_type": "stream",
          "name": "stderr",
          "text": [
            "Epoch 57/100:   0%|          | 1/1236 [02:19<48:01:21, 139.98s/batch]\n"
          ]
        },
        {
          "output_type": "stream",
          "name": "stdout",
          "text": [
            "Epoch [57/100], Train Loss: 0.5661, Val Loss: 0.8754, Min Val Loss: 0.4387, Learning Rate: 5e-05\n"
          ]
        },
        {
          "output_type": "stream",
          "name": "stderr",
          "text": [
            "Epoch 58/100:   0%|          | 1/1236 [02:20<48:02:29, 140.04s/batch]\n"
          ]
        },
        {
          "output_type": "stream",
          "name": "stdout",
          "text": [
            "Epoch [58/100], Train Loss: 0.5633, Val Loss: 0.8874, Min Val Loss: 0.4387, Learning Rate: 5e-05\n"
          ]
        },
        {
          "output_type": "stream",
          "name": "stderr",
          "text": [
            "Epoch 59/100:   0%|          | 1/1236 [02:20<48:02:03, 140.02s/batch]\n"
          ]
        },
        {
          "output_type": "stream",
          "name": "stdout",
          "text": [
            "Epoch [59/100], Train Loss: 0.5734, Val Loss: 0.8698, Min Val Loss: 0.4387, Learning Rate: 5e-05\n"
          ]
        },
        {
          "output_type": "stream",
          "name": "stderr",
          "text": [
            "Epoch 60/100:   0%|          | 1/1236 [02:20<48:01:43, 140.00s/batch]\n"
          ]
        },
        {
          "output_type": "stream",
          "name": "stdout",
          "text": [
            "Epoch [60/100], Train Loss: 0.5762, Val Loss: 1.0197, Min Val Loss: 0.4387, Learning Rate: 5e-05\n"
          ]
        },
        {
          "output_type": "stream",
          "name": "stderr",
          "text": [
            "Epoch 61/100:   0%|          | 1/1236 [02:20<48:02:21, 140.03s/batch]\n"
          ]
        },
        {
          "output_type": "stream",
          "name": "stdout",
          "text": [
            "Epoch [61/100], Train Loss: 0.5789, Val Loss: 0.9241, Min Val Loss: 0.4387, Learning Rate: 5e-05\n"
          ]
        },
        {
          "output_type": "stream",
          "name": "stderr",
          "text": [
            "Epoch 62/100:   0%|          | 1/1236 [02:20<48:01:57, 140.01s/batch]\n"
          ]
        },
        {
          "output_type": "stream",
          "name": "stdout",
          "text": [
            "Epoch [62/100], Train Loss: 0.5807, Val Loss: 0.6052, Min Val Loss: 0.4387, Learning Rate: 5e-05\n"
          ]
        },
        {
          "output_type": "stream",
          "name": "stderr",
          "text": [
            "Epoch 63/100:   0%|          | 1/1236 [02:20<48:03:39, 140.10s/batch]\n"
          ]
        },
        {
          "output_type": "stream",
          "name": "stdout",
          "text": [
            "Epoch [63/100], Train Loss: 0.5973, Val Loss: 0.6750, Min Val Loss: 0.4387, Learning Rate: 5e-05\n"
          ]
        },
        {
          "output_type": "stream",
          "name": "stderr",
          "text": [
            "Epoch 64/100:   0%|          | 1/1236 [02:20<48:04:37, 140.14s/batch]\n"
          ]
        },
        {
          "output_type": "stream",
          "name": "stdout",
          "text": [
            "Epoch [64/100], Train Loss: 0.5819, Val Loss: 0.6940, Min Val Loss: 0.4387, Learning Rate: 5e-05\n"
          ]
        },
        {
          "output_type": "stream",
          "name": "stderr",
          "text": [
            "Epoch 65/100:   0%|          | 1/1236 [02:20<48:06:25, 140.23s/batch]\n"
          ]
        },
        {
          "output_type": "stream",
          "name": "stdout",
          "text": [
            "Epoch [65/100], Train Loss: 0.5805, Val Loss: 0.4637, Min Val Loss: 0.4387, Learning Rate: 5e-05\n"
          ]
        },
        {
          "output_type": "stream",
          "name": "stderr",
          "text": [
            "Epoch 66/100:   0%|          | 1/1236 [02:20<48:05:58, 140.21s/batch]\n"
          ]
        },
        {
          "output_type": "stream",
          "name": "stdout",
          "text": [
            "Epoch [66/100], Train Loss: 0.5735, Val Loss: 0.9268, Min Val Loss: 0.4387, Learning Rate: 5e-05\n"
          ]
        },
        {
          "output_type": "stream",
          "name": "stderr",
          "text": [
            "Epoch 67/100:   0%|          | 1/1236 [02:20<48:05:03, 140.16s/batch]\n"
          ]
        },
        {
          "output_type": "stream",
          "name": "stdout",
          "text": [
            "Epoch [67/100], Train Loss: 0.5646, Val Loss: 0.8425, Min Val Loss: 0.4387, Learning Rate: 5e-05\n"
          ]
        },
        {
          "output_type": "stream",
          "name": "stderr",
          "text": [
            "Epoch 68/100:   0%|          | 1/1236 [02:20<48:06:05, 140.21s/batch]\n"
          ]
        },
        {
          "output_type": "stream",
          "name": "stdout",
          "text": [
            "Epoch [68/100], Train Loss: 0.5714, Val Loss: 0.8469, Min Val Loss: 0.4387, Learning Rate: 5e-05\n"
          ]
        },
        {
          "output_type": "stream",
          "name": "stderr",
          "text": [
            "Epoch 69/100:   0%|          | 1/1236 [02:20<48:03:15, 140.08s/batch]\n"
          ]
        },
        {
          "output_type": "stream",
          "name": "stdout",
          "text": [
            "Epoch [69/100], Train Loss: 0.5587, Val Loss: 0.9492, Min Val Loss: 0.4387, Learning Rate: 5e-05\n"
          ]
        },
        {
          "output_type": "stream",
          "name": "stderr",
          "text": [
            "Epoch 70/100:   0%|          | 1/1236 [02:19<48:00:04, 139.92s/batch]\n"
          ]
        },
        {
          "output_type": "stream",
          "name": "stdout",
          "text": [
            "Epoch [70/100], Train Loss: 0.5704, Val Loss: 0.9814, Min Val Loss: 0.4387, Learning Rate: 5e-05\n"
          ]
        },
        {
          "output_type": "stream",
          "name": "stderr",
          "text": [
            "Epoch 71/100:   0%|          | 1/1236 [02:20<48:02:38, 140.05s/batch]\n"
          ]
        },
        {
          "output_type": "stream",
          "name": "stdout",
          "text": [
            "Epoch [71/100], Train Loss: 0.5792, Val Loss: 0.7471, Min Val Loss: 0.4387, Learning Rate: 5e-05\n"
          ]
        },
        {
          "output_type": "stream",
          "name": "stderr",
          "text": [
            "Epoch 72/100:   0%|          | 1/1236 [02:20<48:04:13, 140.12s/batch]\n"
          ]
        },
        {
          "output_type": "stream",
          "name": "stdout",
          "text": [
            "Epoch [72/100], Train Loss: 0.5894, Val Loss: 0.8118, Min Val Loss: 0.4387, Learning Rate: 5e-05\n"
          ]
        },
        {
          "output_type": "stream",
          "name": "stderr",
          "text": [
            "Epoch 73/100:   0%|          | 1/1236 [02:19<48:00:57, 139.97s/batch]\n"
          ]
        },
        {
          "output_type": "stream",
          "name": "stdout",
          "text": [
            "Epoch [73/100], Train Loss: 0.5801, Val Loss: 0.8063, Min Val Loss: 0.4387, Learning Rate: 5e-05\n"
          ]
        },
        {
          "output_type": "stream",
          "name": "stderr",
          "text": [
            "Epoch 74/100:   0%|          | 1/1236 [02:19<47:58:37, 139.85s/batch]\n"
          ]
        },
        {
          "output_type": "stream",
          "name": "stdout",
          "text": [
            "Epoch [74/100], Train Loss: 0.5889, Val Loss: 0.8376, Min Val Loss: 0.4387, Learning Rate: 5e-05\n"
          ]
        },
        {
          "output_type": "stream",
          "name": "stderr",
          "text": [
            "Epoch 75/100:   0%|          | 1/1236 [02:19<47:59:38, 139.90s/batch]\n"
          ]
        },
        {
          "output_type": "stream",
          "name": "stdout",
          "text": [
            "Epoch [75/100], Train Loss: 0.5884, Val Loss: 0.4414, Min Val Loss: 0.4387, Learning Rate: 5e-05\n"
          ]
        },
        {
          "output_type": "stream",
          "name": "stderr",
          "text": [
            "Epoch 76/100:   0%|          | 1/1236 [02:19<47:59:53, 139.91s/batch]\n"
          ]
        },
        {
          "output_type": "stream",
          "name": "stdout",
          "text": [
            "Epoch [76/100], Train Loss: 0.5934, Val Loss: 0.6046, Min Val Loss: 0.4387, Learning Rate: 5e-05\n"
          ]
        },
        {
          "output_type": "stream",
          "name": "stderr",
          "text": [
            "Epoch 77/100:   0%|          | 1/1236 [02:20<48:03:09, 140.07s/batch]\n"
          ]
        },
        {
          "output_type": "stream",
          "name": "stdout",
          "text": [
            "Epoch [77/100], Train Loss: 0.5559, Val Loss: 0.9149, Min Val Loss: 0.4387, Learning Rate: 5e-05\n"
          ]
        },
        {
          "output_type": "stream",
          "name": "stderr",
          "text": [
            "Epoch 78/100:   0%|          | 1/1236 [02:19<47:59:50, 139.91s/batch]\n"
          ]
        },
        {
          "output_type": "stream",
          "name": "stdout",
          "text": [
            "Epoch [78/100], Train Loss: 0.5834, Val Loss: 0.5681, Min Val Loss: 0.4387, Learning Rate: 5e-05\n"
          ]
        },
        {
          "output_type": "stream",
          "name": "stderr",
          "text": [
            "Epoch 79/100:   0%|          | 1/1236 [02:20<48:01:45, 140.00s/batch]\n"
          ]
        },
        {
          "output_type": "stream",
          "name": "stdout",
          "text": [
            "Epoch [79/100], Train Loss: 0.5868, Val Loss: 0.7225, Min Val Loss: 0.4387, Learning Rate: 5e-05\n"
          ]
        },
        {
          "output_type": "stream",
          "name": "stderr",
          "text": [
            "Epoch 80/100:   0%|          | 1/1236 [02:19<48:00:01, 139.92s/batch]\n"
          ]
        },
        {
          "output_type": "stream",
          "name": "stdout",
          "text": [
            "Epoch [80/100], Train Loss: 0.5945, Val Loss: 0.9181, Min Val Loss: 0.4387, Learning Rate: 5e-05\n"
          ]
        },
        {
          "output_type": "stream",
          "name": "stderr",
          "text": [
            "Epoch 81/100:   0%|          | 1/1236 [02:20<48:03:06, 140.07s/batch]\n"
          ]
        },
        {
          "output_type": "stream",
          "name": "stdout",
          "text": [
            "Epoch [81/100], Train Loss: 0.5799, Val Loss: 0.8537, Min Val Loss: 0.4387, Learning Rate: 5e-05\n"
          ]
        },
        {
          "output_type": "stream",
          "name": "stderr",
          "text": [
            "Epoch 82/100:   0%|          | 1/1236 [02:19<48:00:00, 139.92s/batch]\n"
          ]
        },
        {
          "output_type": "stream",
          "name": "stdout",
          "text": [
            "Epoch [82/100], Train Loss: 0.5801, Val Loss: 0.7061, Min Val Loss: 0.4387, Learning Rate: 5e-05\n"
          ]
        },
        {
          "output_type": "stream",
          "name": "stderr",
          "text": [
            "Epoch 83/100:   0%|          | 1/1236 [02:19<47:58:36, 139.85s/batch]\n"
          ]
        },
        {
          "output_type": "stream",
          "name": "stdout",
          "text": [
            "Epoch [83/100], Train Loss: 0.5588, Val Loss: 1.0205, Min Val Loss: 0.4387, Learning Rate: 5e-05\n"
          ]
        },
        {
          "output_type": "stream",
          "name": "stderr",
          "text": [
            "Epoch 84/100:   0%|          | 1/1236 [02:19<47:58:24, 139.84s/batch]\n"
          ]
        },
        {
          "output_type": "stream",
          "name": "stdout",
          "text": [
            "Epoch [84/100], Train Loss: 0.5842, Val Loss: 0.8691, Min Val Loss: 0.4387, Learning Rate: 5e-05\n"
          ]
        },
        {
          "output_type": "stream",
          "name": "stderr",
          "text": [
            "Epoch 85/100:   0%|          | 1/1236 [02:19<48:00:15, 139.93s/batch]\n"
          ]
        },
        {
          "output_type": "stream",
          "name": "stdout",
          "text": [
            "Epoch [85/100], Train Loss: 0.5792, Val Loss: 0.7689, Min Val Loss: 0.4387, Learning Rate: 5e-05\n"
          ]
        },
        {
          "output_type": "stream",
          "name": "stderr",
          "text": [
            "Epoch 86/100:   0%|          | 1/1236 [02:19<48:01:23, 139.99s/batch]\n"
          ]
        },
        {
          "output_type": "stream",
          "name": "stdout",
          "text": [
            "Epoch [86/100], Train Loss: 0.5836, Val Loss: 0.9016, Min Val Loss: 0.4387, Learning Rate: 5e-05\n"
          ]
        },
        {
          "output_type": "stream",
          "name": "stderr",
          "text": [
            "Epoch 87/100:   0%|          | 1/1236 [02:20<48:04:42, 140.15s/batch]\n"
          ]
        },
        {
          "output_type": "stream",
          "name": "stdout",
          "text": [
            "Epoch [87/100], Train Loss: 0.5776, Val Loss: 0.9389, Min Val Loss: 0.4387, Learning Rate: 5e-05\n"
          ]
        },
        {
          "output_type": "stream",
          "name": "stderr",
          "text": [
            "Epoch 88/100:   0%|          | 1/1236 [02:20<48:02:24, 140.04s/batch]\n"
          ]
        },
        {
          "output_type": "stream",
          "name": "stdout",
          "text": [
            "Epoch [88/100], Train Loss: 0.5846, Val Loss: 0.9065, Min Val Loss: 0.4387, Learning Rate: 5e-05\n"
          ]
        },
        {
          "output_type": "stream",
          "name": "stderr",
          "text": [
            "Epoch 89/100:   0%|          | 1/1236 [02:20<48:01:42, 140.00s/batch]\n"
          ]
        },
        {
          "output_type": "stream",
          "name": "stdout",
          "text": [
            "Epoch [89/100], Train Loss: 0.5785, Val Loss: 0.8261, Min Val Loss: 0.4387, Learning Rate: 5e-05\n"
          ]
        },
        {
          "output_type": "stream",
          "name": "stderr",
          "text": [
            "Epoch 90/100:   0%|          | 1/1236 [02:19<47:59:03, 139.87s/batch]\n"
          ]
        },
        {
          "output_type": "stream",
          "name": "stdout",
          "text": [
            "Epoch [90/100], Train Loss: 0.5778, Val Loss: 0.9695, Min Val Loss: 0.4387, Learning Rate: 5e-05\n"
          ]
        },
        {
          "output_type": "stream",
          "name": "stderr",
          "text": [
            "Epoch 91/100:   0%|          | 1/1236 [02:19<48:00:16, 139.93s/batch]\n"
          ]
        },
        {
          "output_type": "stream",
          "name": "stdout",
          "text": [
            "Epoch [91/100], Train Loss: 0.5733, Val Loss: 0.7347, Min Val Loss: 0.4387, Learning Rate: 5e-05\n"
          ]
        },
        {
          "output_type": "stream",
          "name": "stderr",
          "text": [
            "Epoch 92/100:   0%|          | 1/1236 [02:20<48:02:39, 140.05s/batch]\n"
          ]
        },
        {
          "output_type": "stream",
          "name": "stdout",
          "text": [
            "Epoch [92/100], Train Loss: 0.5726, Val Loss: 0.6430, Min Val Loss: 0.4387, Learning Rate: 5e-05\n"
          ]
        },
        {
          "output_type": "stream",
          "name": "stderr",
          "text": [
            "Epoch 93/100:   0%|          | 1/1236 [02:20<48:05:48, 140.20s/batch]\n"
          ]
        },
        {
          "output_type": "stream",
          "name": "stdout",
          "text": [
            "Epoch [93/100], Train Loss: 0.5748, Val Loss: 0.8950, Min Val Loss: 0.4387, Learning Rate: 5e-05\n"
          ]
        },
        {
          "output_type": "stream",
          "name": "stderr",
          "text": [
            "Epoch 94/100:   0%|          | 1/1236 [02:19<47:59:10, 139.88s/batch]\n"
          ]
        },
        {
          "output_type": "stream",
          "name": "stdout",
          "text": [
            "Epoch [94/100], Train Loss: 0.5852, Val Loss: 0.7495, Min Val Loss: 0.4387, Learning Rate: 5e-05\n"
          ]
        },
        {
          "output_type": "stream",
          "name": "stderr",
          "text": [
            "Epoch 95/100:   0%|          | 1/1236 [02:19<47:57:45, 139.81s/batch]\n"
          ]
        },
        {
          "output_type": "stream",
          "name": "stdout",
          "text": [
            "Epoch [95/100], Train Loss: 0.5635, Val Loss: 0.7075, Min Val Loss: 0.4387, Learning Rate: 5e-05\n"
          ]
        },
        {
          "output_type": "stream",
          "name": "stderr",
          "text": [
            "Epoch 96/100:   0%|          | 1/1236 [02:20<48:02:30, 140.04s/batch]\n"
          ]
        },
        {
          "output_type": "stream",
          "name": "stdout",
          "text": [
            "Epoch [96/100], Train Loss: 0.5908, Val Loss: 0.5887, Min Val Loss: 0.4387, Learning Rate: 5e-05\n"
          ]
        },
        {
          "output_type": "stream",
          "name": "stderr",
          "text": [
            "Epoch 97/100:   0%|          | 1/1236 [02:20<48:05:08, 140.17s/batch]\n"
          ]
        },
        {
          "output_type": "stream",
          "name": "stdout",
          "text": [
            "Epoch [97/100], Train Loss: 0.5827, Val Loss: 0.6626, Min Val Loss: 0.4387, Learning Rate: 5e-05\n"
          ]
        },
        {
          "output_type": "stream",
          "name": "stderr",
          "text": [
            "Epoch 98/100:   0%|          | 1/1236 [02:19<48:01:38, 140.00s/batch]\n"
          ]
        },
        {
          "output_type": "stream",
          "name": "stdout",
          "text": [
            "Epoch [98/100], Train Loss: 0.5991, Val Loss: 0.7946, Min Val Loss: 0.4387, Learning Rate: 5e-05\n"
          ]
        },
        {
          "output_type": "stream",
          "name": "stderr",
          "text": [
            "Epoch 99/100:   0%|          | 1/1236 [02:19<47:55:55, 139.72s/batch]\n"
          ]
        },
        {
          "output_type": "stream",
          "name": "stdout",
          "text": [
            "Epoch [99/100], Train Loss: 0.5929, Val Loss: 0.9279, Min Val Loss: 0.4387, Learning Rate: 5e-05\n"
          ]
        },
        {
          "output_type": "stream",
          "name": "stderr",
          "text": [
            "Epoch 100/100:   0%|          | 1/1236 [02:19<47:56:42, 139.76s/batch]"
          ]
        },
        {
          "output_type": "stream",
          "name": "stdout",
          "text": [
            "Epoch [100/100], Train Loss: 0.5695, Val Loss: 0.9464, Min Val Loss: 0.4387, Learning Rate: 5e-05\n"
          ]
        },
        {
          "output_type": "stream",
          "name": "stderr",
          "text": [
            "\n"
          ]
        }
      ]
    },
    {
      "cell_type": "code",
      "source": [
        "checkpoint = torch.load(save_dir)\n",
        "model.load_state_dict(checkpoint['model_state_dict'])\n",
        "optimizer.load_state_dict(checkpoint['optimizer_state_dict'])"
      ],
      "metadata": {
        "id": "KBQeBVgdLJc6"
      },
      "execution_count": 59,
      "outputs": []
    },
    {
      "cell_type": "code",
      "source": [
        "#Selecting 1 batch of data randomly\n",
        "input, label = next(iter(test_dataloader))\n",
        "input= input.to(device)\n",
        "label=label.to(\"cpu\").numpy()"
      ],
      "metadata": {
        "id": "HYKvxF6Pz2I7"
      },
      "execution_count": 60,
      "outputs": []
    },
    {
      "cell_type": "code",
      "source": [
        "pred=model(input).to(\"cpu\").detach().numpy() #getting model prediction"
      ],
      "metadata": {
        "id": "TzC4MmmtMZUr"
      },
      "execution_count": 61,
      "outputs": []
    },
    {
      "cell_type": "code",
      "source": [
        "\"\"\"\n",
        "Plot results\n",
        "\"\"\"\n",
        "fig, ax1 = plt.subplots(1, 1, figsize=(12, 4))\n",
        "\n",
        "# Plot predictions and actual values with labels\n",
        "ax1.plot(pred, label=\"Prediction\")\n",
        "ax1.plot(label, label=\"Actual\")\n",
        "\n",
        "# Set title and grid\n",
        "plt.title(\"Stock \")\n",
        "plt.grid(which=\"both\")\n",
        "\n",
        "# Show legend\n",
        "plt.legend()\n",
        "\n",
        "# Display the plot\n",
        "plt.show()\n"
      ],
      "metadata": {
        "colab": {
          "base_uri": "https://localhost:8080/",
          "height": 391
        },
        "id": "sRjOzZz2XYRE",
        "outputId": "fdc94123-76e2-41eb-a8d0-0c143dd6c33a"
      },
      "execution_count": 64,
      "outputs": [
        {
          "output_type": "display_data",
          "data": {
            "text/plain": [
              "<Figure size 1200x400 with 1 Axes>"
            ],
            "image/png": "[encoded data removed]"
          },
          "metadata": {}
        }
      ]
    },
    {
      "cell_type": "code",
      "source": [
        "\"\"\"\n",
        "Calculate evaluation metrics value\n",
        "\"\"\"\n",
        "mse = np.mean((label - pred) ** 2)\n",
        "rmse = np.sqrt(mse)\n",
        "mape = np.mean(np.abs((label - pred) / label)) * 100\n",
        "\n",
        "print(f\"MSE: {mse:.4f}\")\n",
        "print(f\"RMSE: {rmse:.4f}\")\n",
        "print(f\"MAPE: {mape:.4f}\")"
      ],
      "metadata": {
        "colab": {
          "base_uri": "https://localhost:8080/"
        },
        "id": "rbAA2O-LXba3",
        "outputId": "7daa9f72-a407-4d54-9bc5-28c4d8b9a13c"
      },
      "execution_count": 69,
      "outputs": [
        {
          "output_type": "stream",
          "name": "stdout",
          "text": [
            "MSE: 0.1893\n",
            "RMSE: 0.4351\n",
            "MAPE: 0.2258\n"
          ]
        }
      ]
    },
    {
      "cell_type": "code",
      "source": [],
      "metadata": {
        "id": "hGYLJ45eOoPF"
      },
      "execution_count": null,
      "outputs": []
    }
  ]
}